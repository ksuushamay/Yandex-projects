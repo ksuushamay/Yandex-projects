{
 "cells": [
  {
   "cell_type": "markdown",
   "metadata": {},
   "source": [
    "# Приоритизация гипотез и анализ А/В-теста"
   ]
  },
  {
   "cell_type": "markdown",
   "metadata": {},
   "source": [
    "**Контекст**\n",
    "\n",
    "Вы — аналитик крупного интернет-магазина. Вместе с отделом маркетинга вы подготовили список гипотез для увеличения выручки.\n",
    "Приоритизируйте гипотезы, запустите A/B-тест и проанализируйте результаты. "
   ]
  },
  {
   "cell_type": "markdown",
   "metadata": {},
   "source": [
    "**Описание данных**\n",
    "\n",
    "*Данные для приоритизации гипотез*\n",
    "\n",
    "Файл /datasets/hypothesis.csv\n",
    "- Hypothesis — краткое описание гипотезы;\n",
    "- Reach — охват пользователей по 10-балльной шкале;\n",
    "- Impact — влияние на пользователей по 10-балльной шкале;\n",
    "- Confidence — уверенность в гипотезе по 10-балльной шкале;\n",
    "- Efforts — затраты ресурсов на проверку гипотезы по 10-балльной шкале. Чем больше значение Efforts, тем дороже проверка гипотезы.\n",
    "\n",
    "*Данные для анализа A/B-теста*\n",
    "\n",
    "Файл /datasets/orders.csv\n",
    "- transactionId — идентификатор заказа;\n",
    "- visitorId — идентификатор пользователя, совершившего заказ;\n",
    "- date — дата, когда был совершён заказ;\n",
    "- revenue — выручка заказа;\n",
    "- group — группа A/B-теста, в которую попал заказ.\n",
    "\n",
    "Файл /datasets/visitors.csv\n",
    "- date — дата;\n",
    "- group — группа A/B-теста;\n",
    "- visitors — количество пользователей в указанную дату в указанной группе A/B-теста"
   ]
  },
  {
   "cell_type": "code",
   "execution_count": 1,
   "metadata": {},
   "outputs": [],
   "source": [
    "import pandas as pd\n",
    "import datetime as dt\n",
    "import numpy as np\n",
    "import matplotlib.pyplot as plt\n",
    "from pandas.plotting import register_matplotlib_converters\n",
    "import warnings\n",
    "import scipy.stats as stats"
   ]
  },
  {
   "cell_type": "markdown",
   "metadata": {},
   "source": [
    "### Приоритизация гипотез"
   ]
  },
  {
   "cell_type": "code",
   "execution_count": 2,
   "metadata": {},
   "outputs": [
    {
     "data": {
      "text/html": [
       "<div>\n",
       "<style scoped>\n",
       "    .dataframe tbody tr th:only-of-type {\n",
       "        vertical-align: middle;\n",
       "    }\n",
       "\n",
       "    .dataframe tbody tr th {\n",
       "        vertical-align: top;\n",
       "    }\n",
       "\n",
       "    .dataframe thead th {\n",
       "        text-align: right;\n",
       "    }\n",
       "</style>\n",
       "<table border=\"1\" class=\"dataframe\">\n",
       "  <thead>\n",
       "    <tr style=\"text-align: right;\">\n",
       "      <th></th>\n",
       "      <th>Hypothesis</th>\n",
       "      <th>Reach</th>\n",
       "      <th>Impact</th>\n",
       "      <th>Confidence</th>\n",
       "      <th>Efforts</th>\n",
       "    </tr>\n",
       "  </thead>\n",
       "  <tbody>\n",
       "    <tr>\n",
       "      <th>0</th>\n",
       "      <td>Добавить два новых канала привлечения трафика, что позволит привлекать на 30% больше пользователей</td>\n",
       "      <td>3</td>\n",
       "      <td>10</td>\n",
       "      <td>8</td>\n",
       "      <td>6</td>\n",
       "    </tr>\n",
       "    <tr>\n",
       "      <th>1</th>\n",
       "      <td>Запустить собственную службу доставки, что сократит срок доставки заказов</td>\n",
       "      <td>2</td>\n",
       "      <td>5</td>\n",
       "      <td>4</td>\n",
       "      <td>10</td>\n",
       "    </tr>\n",
       "    <tr>\n",
       "      <th>2</th>\n",
       "      <td>Добавить блоки рекомендаций товаров на сайт интернет магазина, чтобы повысить конверсию и средний чек заказа</td>\n",
       "      <td>8</td>\n",
       "      <td>3</td>\n",
       "      <td>7</td>\n",
       "      <td>3</td>\n",
       "    </tr>\n",
       "    <tr>\n",
       "      <th>3</th>\n",
       "      <td>Изменить структура категорий, что увеличит конверсию, т.к. пользователи быстрее найдут нужный товар</td>\n",
       "      <td>8</td>\n",
       "      <td>3</td>\n",
       "      <td>3</td>\n",
       "      <td>8</td>\n",
       "    </tr>\n",
       "    <tr>\n",
       "      <th>4</th>\n",
       "      <td>Изменить цвет фона главной страницы, чтобы увеличить вовлеченность пользователей</td>\n",
       "      <td>3</td>\n",
       "      <td>1</td>\n",
       "      <td>1</td>\n",
       "      <td>1</td>\n",
       "    </tr>\n",
       "    <tr>\n",
       "      <th>5</th>\n",
       "      <td>Добавить страницу отзывов клиентов о магазине, что позволит увеличить количество заказов</td>\n",
       "      <td>3</td>\n",
       "      <td>2</td>\n",
       "      <td>2</td>\n",
       "      <td>3</td>\n",
       "    </tr>\n",
       "    <tr>\n",
       "      <th>6</th>\n",
       "      <td>Показать на главной странице баннеры с актуальными акциями и распродажами, чтобы увеличить конверсию</td>\n",
       "      <td>5</td>\n",
       "      <td>3</td>\n",
       "      <td>8</td>\n",
       "      <td>3</td>\n",
       "    </tr>\n",
       "    <tr>\n",
       "      <th>7</th>\n",
       "      <td>Добавить форму подписки на все основные страницы, чтобы собрать базу клиентов для email-рассылок</td>\n",
       "      <td>10</td>\n",
       "      <td>7</td>\n",
       "      <td>8</td>\n",
       "      <td>5</td>\n",
       "    </tr>\n",
       "    <tr>\n",
       "      <th>8</th>\n",
       "      <td>Запустить акцию, дающую скидку на товар в день рождения</td>\n",
       "      <td>1</td>\n",
       "      <td>9</td>\n",
       "      <td>9</td>\n",
       "      <td>5</td>\n",
       "    </tr>\n",
       "  </tbody>\n",
       "</table>\n",
       "</div>"
      ],
      "text/plain": [
       "                                                                                                     Hypothesis  \\\n",
       "0            Добавить два новых канала привлечения трафика, что позволит привлекать на 30% больше пользователей   \n",
       "1                                     Запустить собственную службу доставки, что сократит срок доставки заказов   \n",
       "2  Добавить блоки рекомендаций товаров на сайт интернет магазина, чтобы повысить конверсию и средний чек заказа   \n",
       "3           Изменить структура категорий, что увеличит конверсию, т.к. пользователи быстрее найдут нужный товар   \n",
       "4                              Изменить цвет фона главной страницы, чтобы увеличить вовлеченность пользователей   \n",
       "5                      Добавить страницу отзывов клиентов о магазине, что позволит увеличить количество заказов   \n",
       "6          Показать на главной странице баннеры с актуальными акциями и распродажами, чтобы увеличить конверсию   \n",
       "7              Добавить форму подписки на все основные страницы, чтобы собрать базу клиентов для email-рассылок   \n",
       "8                                                       Запустить акцию, дающую скидку на товар в день рождения   \n",
       "\n",
       "   Reach  Impact  Confidence  Efforts  \n",
       "0      3      10           8        6  \n",
       "1      2       5           4       10  \n",
       "2      8       3           7        3  \n",
       "3      8       3           3        8  \n",
       "4      3       1           1        1  \n",
       "5      3       2           2        3  \n",
       "6      5       3           8        3  \n",
       "7     10       7           8        5  \n",
       "8      1       9           9        5  "
      ]
     },
     "execution_count": 2,
     "metadata": {},
     "output_type": "execute_result"
    }
   ],
   "source": [
    "hypothesis = pd.read_csv('/datasets/hypothesis.csv')\n",
    "pd.options.display.max_colwidth = 130\n",
    "hypothesis"
   ]
  },
  {
   "cell_type": "code",
   "execution_count": 3,
   "metadata": {},
   "outputs": [
    {
     "data": {
      "text/plain": [
       "array(['Добавить два новых канала привлечения трафика, что позволит привлекать на 30% больше пользователей',\n",
       "       'Запустить собственную службу доставки, что сократит срок доставки заказов',\n",
       "       'Добавить блоки рекомендаций товаров на сайт интернет магазина, чтобы повысить конверсию и средний чек заказа',\n",
       "       'Изменить структура категорий, что увеличит конверсию, т.к. пользователи быстрее найдут нужный товар',\n",
       "       'Изменить цвет фона главной страницы, чтобы увеличить вовлеченность пользователей',\n",
       "       'Добавить страницу отзывов клиентов о магазине, что позволит увеличить количество заказов',\n",
       "       'Показать на главной странице баннеры с актуальными акциями и распродажами, чтобы увеличить конверсию',\n",
       "       'Добавить форму подписки на все основные страницы, чтобы собрать базу клиентов для email-рассылок',\n",
       "       'Запустить акцию, дающую скидку на товар в день рождения'],\n",
       "      dtype=object)"
      ]
     },
     "execution_count": 3,
     "metadata": {},
     "output_type": "execute_result"
    }
   ],
   "source": [
    "hypothesis['Hypothesis'].unique()"
   ]
  },
  {
   "cell_type": "code",
   "execution_count": 4,
   "metadata": {},
   "outputs": [
    {
     "name": "stdout",
     "output_type": "stream",
     "text": [
      "<class 'pandas.core.frame.DataFrame'>\n",
      "RangeIndex: 9 entries, 0 to 8\n",
      "Data columns (total 5 columns):\n",
      " #   Column      Non-Null Count  Dtype \n",
      "---  ------      --------------  ----- \n",
      " 0   Hypothesis  9 non-null      object\n",
      " 1   Reach       9 non-null      int64 \n",
      " 2   Impact      9 non-null      int64 \n",
      " 3   Confidence  9 non-null      int64 \n",
      " 4   Efforts     9 non-null      int64 \n",
      "dtypes: int64(4), object(1)\n",
      "memory usage: 488.0+ bytes\n"
     ]
    }
   ],
   "source": [
    "hypothesis.info()"
   ]
  },
  {
   "cell_type": "markdown",
   "metadata": {},
   "source": [
    "Пропусков и дубликатов нет.\n",
    "\n",
    "Поменяем в названиях столбцов верхний на нижний регистр, чтобы в далнейшем было удобно работать с данными."
   ]
  },
  {
   "cell_type": "code",
   "execution_count": 5,
   "metadata": {},
   "outputs": [],
   "source": [
    "hypothesis.columns = hypothesis.columns.str.lower()"
   ]
  },
  {
   "cell_type": "markdown",
   "metadata": {},
   "source": [
    "**Применение фреймворка ICE для приоритизации гипотез**"
   ]
  },
  {
   "cell_type": "code",
   "execution_count": 6,
   "metadata": {},
   "outputs": [],
   "source": [
    "hypothesis['ICE'] = (hypothesis['impact'] * hypothesis['confidence'] / hypothesis['efforts']).round(2)"
   ]
  },
  {
   "cell_type": "code",
   "execution_count": 7,
   "metadata": {},
   "outputs": [
    {
     "data": {
      "text/html": [
       "<div>\n",
       "<style scoped>\n",
       "    .dataframe tbody tr th:only-of-type {\n",
       "        vertical-align: middle;\n",
       "    }\n",
       "\n",
       "    .dataframe tbody tr th {\n",
       "        vertical-align: top;\n",
       "    }\n",
       "\n",
       "    .dataframe thead th {\n",
       "        text-align: right;\n",
       "    }\n",
       "</style>\n",
       "<table border=\"1\" class=\"dataframe\">\n",
       "  <thead>\n",
       "    <tr style=\"text-align: right;\">\n",
       "      <th></th>\n",
       "      <th>hypothesis</th>\n",
       "      <th>ICE</th>\n",
       "    </tr>\n",
       "  </thead>\n",
       "  <tbody>\n",
       "    <tr>\n",
       "      <th>8</th>\n",
       "      <td>Запустить акцию, дающую скидку на товар в день рождения</td>\n",
       "      <td>16.20</td>\n",
       "    </tr>\n",
       "    <tr>\n",
       "      <th>0</th>\n",
       "      <td>Добавить два новых канала привлечения трафика, что позволит привлекать на 30% больше пользователей</td>\n",
       "      <td>13.33</td>\n",
       "    </tr>\n",
       "    <tr>\n",
       "      <th>7</th>\n",
       "      <td>Добавить форму подписки на все основные страницы, чтобы собрать базу клиентов для email-рассылок</td>\n",
       "      <td>11.20</td>\n",
       "    </tr>\n",
       "    <tr>\n",
       "      <th>6</th>\n",
       "      <td>Показать на главной странице баннеры с актуальными акциями и распродажами, чтобы увеличить конверсию</td>\n",
       "      <td>8.00</td>\n",
       "    </tr>\n",
       "    <tr>\n",
       "      <th>2</th>\n",
       "      <td>Добавить блоки рекомендаций товаров на сайт интернет магазина, чтобы повысить конверсию и средний чек заказа</td>\n",
       "      <td>7.00</td>\n",
       "    </tr>\n",
       "    <tr>\n",
       "      <th>1</th>\n",
       "      <td>Запустить собственную службу доставки, что сократит срок доставки заказов</td>\n",
       "      <td>2.00</td>\n",
       "    </tr>\n",
       "    <tr>\n",
       "      <th>5</th>\n",
       "      <td>Добавить страницу отзывов клиентов о магазине, что позволит увеличить количество заказов</td>\n",
       "      <td>1.33</td>\n",
       "    </tr>\n",
       "    <tr>\n",
       "      <th>3</th>\n",
       "      <td>Изменить структура категорий, что увеличит конверсию, т.к. пользователи быстрее найдут нужный товар</td>\n",
       "      <td>1.12</td>\n",
       "    </tr>\n",
       "    <tr>\n",
       "      <th>4</th>\n",
       "      <td>Изменить цвет фона главной страницы, чтобы увеличить вовлеченность пользователей</td>\n",
       "      <td>1.00</td>\n",
       "    </tr>\n",
       "  </tbody>\n",
       "</table>\n",
       "</div>"
      ],
      "text/plain": [
       "                                                                                                     hypothesis  \\\n",
       "8                                                       Запустить акцию, дающую скидку на товар в день рождения   \n",
       "0            Добавить два новых канала привлечения трафика, что позволит привлекать на 30% больше пользователей   \n",
       "7              Добавить форму подписки на все основные страницы, чтобы собрать базу клиентов для email-рассылок   \n",
       "6          Показать на главной странице баннеры с актуальными акциями и распродажами, чтобы увеличить конверсию   \n",
       "2  Добавить блоки рекомендаций товаров на сайт интернет магазина, чтобы повысить конверсию и средний чек заказа   \n",
       "1                                     Запустить собственную службу доставки, что сократит срок доставки заказов   \n",
       "5                      Добавить страницу отзывов клиентов о магазине, что позволит увеличить количество заказов   \n",
       "3           Изменить структура категорий, что увеличит конверсию, т.к. пользователи быстрее найдут нужный товар   \n",
       "4                              Изменить цвет фона главной страницы, чтобы увеличить вовлеченность пользователей   \n",
       "\n",
       "     ICE  \n",
       "8  16.20  \n",
       "0  13.33  \n",
       "7  11.20  \n",
       "6   8.00  \n",
       "2   7.00  \n",
       "1   2.00  \n",
       "5   1.33  \n",
       "3   1.12  \n",
       "4   1.00  "
      ]
     },
     "execution_count": 7,
     "metadata": {},
     "output_type": "execute_result"
    }
   ],
   "source": [
    "hypothesis_ice = hypothesis[['hypothesis', 'ICE']].sort_values(by='ICE', ascending=False)\n",
    "hypothesis_ice"
   ]
  },
  {
   "cell_type": "markdown",
   "metadata": {},
   "source": [
    "**Применение фреймворка RICE для приоритизации гипотез**"
   ]
  },
  {
   "cell_type": "code",
   "execution_count": 8,
   "metadata": {},
   "outputs": [],
   "source": [
    "hypothesis['RICE'] = hypothesis['reach'] * hypothesis['impact'] * hypothesis['confidence'] / hypothesis['efforts']"
   ]
  },
  {
   "cell_type": "code",
   "execution_count": 9,
   "metadata": {},
   "outputs": [
    {
     "data": {
      "text/html": [
       "<div>\n",
       "<style scoped>\n",
       "    .dataframe tbody tr th:only-of-type {\n",
       "        vertical-align: middle;\n",
       "    }\n",
       "\n",
       "    .dataframe tbody tr th {\n",
       "        vertical-align: top;\n",
       "    }\n",
       "\n",
       "    .dataframe thead th {\n",
       "        text-align: right;\n",
       "    }\n",
       "</style>\n",
       "<table border=\"1\" class=\"dataframe\">\n",
       "  <thead>\n",
       "    <tr style=\"text-align: right;\">\n",
       "      <th></th>\n",
       "      <th>hypothesis</th>\n",
       "      <th>RICE</th>\n",
       "    </tr>\n",
       "  </thead>\n",
       "  <tbody>\n",
       "    <tr>\n",
       "      <th>7</th>\n",
       "      <td>Добавить форму подписки на все основные страницы, чтобы собрать базу клиентов для email-рассылок</td>\n",
       "      <td>112.0</td>\n",
       "    </tr>\n",
       "    <tr>\n",
       "      <th>2</th>\n",
       "      <td>Добавить блоки рекомендаций товаров на сайт интернет магазина, чтобы повысить конверсию и средний чек заказа</td>\n",
       "      <td>56.0</td>\n",
       "    </tr>\n",
       "    <tr>\n",
       "      <th>0</th>\n",
       "      <td>Добавить два новых канала привлечения трафика, что позволит привлекать на 30% больше пользователей</td>\n",
       "      <td>40.0</td>\n",
       "    </tr>\n",
       "    <tr>\n",
       "      <th>6</th>\n",
       "      <td>Показать на главной странице баннеры с актуальными акциями и распродажами, чтобы увеличить конверсию</td>\n",
       "      <td>40.0</td>\n",
       "    </tr>\n",
       "    <tr>\n",
       "      <th>8</th>\n",
       "      <td>Запустить акцию, дающую скидку на товар в день рождения</td>\n",
       "      <td>16.2</td>\n",
       "    </tr>\n",
       "    <tr>\n",
       "      <th>3</th>\n",
       "      <td>Изменить структура категорий, что увеличит конверсию, т.к. пользователи быстрее найдут нужный товар</td>\n",
       "      <td>9.0</td>\n",
       "    </tr>\n",
       "    <tr>\n",
       "      <th>1</th>\n",
       "      <td>Запустить собственную службу доставки, что сократит срок доставки заказов</td>\n",
       "      <td>4.0</td>\n",
       "    </tr>\n",
       "    <tr>\n",
       "      <th>5</th>\n",
       "      <td>Добавить страницу отзывов клиентов о магазине, что позволит увеличить количество заказов</td>\n",
       "      <td>4.0</td>\n",
       "    </tr>\n",
       "    <tr>\n",
       "      <th>4</th>\n",
       "      <td>Изменить цвет фона главной страницы, чтобы увеличить вовлеченность пользователей</td>\n",
       "      <td>3.0</td>\n",
       "    </tr>\n",
       "  </tbody>\n",
       "</table>\n",
       "</div>"
      ],
      "text/plain": [
       "                                                                                                     hypothesis  \\\n",
       "7              Добавить форму подписки на все основные страницы, чтобы собрать базу клиентов для email-рассылок   \n",
       "2  Добавить блоки рекомендаций товаров на сайт интернет магазина, чтобы повысить конверсию и средний чек заказа   \n",
       "0            Добавить два новых канала привлечения трафика, что позволит привлекать на 30% больше пользователей   \n",
       "6          Показать на главной странице баннеры с актуальными акциями и распродажами, чтобы увеличить конверсию   \n",
       "8                                                       Запустить акцию, дающую скидку на товар в день рождения   \n",
       "3           Изменить структура категорий, что увеличит конверсию, т.к. пользователи быстрее найдут нужный товар   \n",
       "1                                     Запустить собственную службу доставки, что сократит срок доставки заказов   \n",
       "5                      Добавить страницу отзывов клиентов о магазине, что позволит увеличить количество заказов   \n",
       "4                              Изменить цвет фона главной страницы, чтобы увеличить вовлеченность пользователей   \n",
       "\n",
       "    RICE  \n",
       "7  112.0  \n",
       "2   56.0  \n",
       "0   40.0  \n",
       "6   40.0  \n",
       "8   16.2  \n",
       "3    9.0  \n",
       "1    4.0  \n",
       "5    4.0  \n",
       "4    3.0  "
      ]
     },
     "execution_count": 9,
     "metadata": {},
     "output_type": "execute_result"
    }
   ],
   "source": [
    "hypothesis_rice = hypothesis[['hypothesis', 'RICE']].sort_values(by='RICE', ascending=False)\n",
    "hypothesis_rice"
   ]
  },
  {
   "cell_type": "markdown",
   "metadata": {},
   "source": [
    "Топ-5 гипотез по фреймворку ICE (после топ-5 идет сильный разрыв по показателю):\n",
    "1. Запустить акцию, дающую скидку на товар в день рождения\n",
    "2. Добавить два новых канала привлечения трафика, что позволит привлекать на 30% больше пользователей\n",
    "3. Добавить форму подписки на все основные страницы, чтобы собрать базу клиентов для email-рассылок\n",
    "4. Показать на главной странице баннеры с актуальными акциями и распродажами, чтобы увеличить конверсию\n",
    "5. Добавить блоки рекомендаций товаров на сайт интернет магазина, чтобы повысить конверсию и средний чек заказа\n",
    "\n",
    "Топ-5 гипотез по фреймворку RICE такие же, только в другом порядке, из-за добавления параметра 'Reach'(скольких пользователей затронет изменение, которое вы хотите внести). \n",
    "\n",
    "'Запустить акцию, дающую скидку на товар в день рождения' - Reach = 1 => значение показателя не меняется.\n",
    "\n",
    "'Добавить форму подписки на все основные страницы, чтобы собрать базу клиентов для email-рассылок' - Reach = 10(макс. значение) => становится первой гипотезой по приоретету по фреймворку RICE, так как изменения охватят большинство пользователей."
   ]
  },
  {
   "cell_type": "markdown",
   "metadata": {},
   "source": [
    "### Анализ A/B-теста"
   ]
  },
  {
   "cell_type": "markdown",
   "metadata": {},
   "source": [
    "Проведен A/B-тест и получены результаты, которые описаны в файлах /datasets/orders.csv и /datasets/visitors.csv\n",
    "\n",
    "Для начала изучим данные в этих файлах."
   ]
  },
  {
   "cell_type": "code",
   "execution_count": 10,
   "metadata": {},
   "outputs": [],
   "source": [
    "orders = pd.read_csv('/datasets/orders.csv')\n",
    "visitors = pd.read_csv('/datasets/visitors.csv')"
   ]
  },
  {
   "cell_type": "code",
   "execution_count": 11,
   "metadata": {},
   "outputs": [
    {
     "data": {
      "text/html": [
       "<div>\n",
       "<style scoped>\n",
       "    .dataframe tbody tr th:only-of-type {\n",
       "        vertical-align: middle;\n",
       "    }\n",
       "\n",
       "    .dataframe tbody tr th {\n",
       "        vertical-align: top;\n",
       "    }\n",
       "\n",
       "    .dataframe thead th {\n",
       "        text-align: right;\n",
       "    }\n",
       "</style>\n",
       "<table border=\"1\" class=\"dataframe\">\n",
       "  <thead>\n",
       "    <tr style=\"text-align: right;\">\n",
       "      <th></th>\n",
       "      <th>transactionId</th>\n",
       "      <th>visitorId</th>\n",
       "      <th>date</th>\n",
       "      <th>revenue</th>\n",
       "      <th>group</th>\n",
       "    </tr>\n",
       "  </thead>\n",
       "  <tbody>\n",
       "    <tr>\n",
       "      <th>0</th>\n",
       "      <td>3667963787</td>\n",
       "      <td>3312258926</td>\n",
       "      <td>2019-08-15</td>\n",
       "      <td>1650</td>\n",
       "      <td>B</td>\n",
       "    </tr>\n",
       "    <tr>\n",
       "      <th>1</th>\n",
       "      <td>2804400009</td>\n",
       "      <td>3642806036</td>\n",
       "      <td>2019-08-15</td>\n",
       "      <td>730</td>\n",
       "      <td>B</td>\n",
       "    </tr>\n",
       "    <tr>\n",
       "      <th>2</th>\n",
       "      <td>2961555356</td>\n",
       "      <td>4069496402</td>\n",
       "      <td>2019-08-15</td>\n",
       "      <td>400</td>\n",
       "      <td>A</td>\n",
       "    </tr>\n",
       "    <tr>\n",
       "      <th>3</th>\n",
       "      <td>3797467345</td>\n",
       "      <td>1196621759</td>\n",
       "      <td>2019-08-15</td>\n",
       "      <td>9759</td>\n",
       "      <td>B</td>\n",
       "    </tr>\n",
       "    <tr>\n",
       "      <th>4</th>\n",
       "      <td>2282983706</td>\n",
       "      <td>2322279887</td>\n",
       "      <td>2019-08-15</td>\n",
       "      <td>2308</td>\n",
       "      <td>B</td>\n",
       "    </tr>\n",
       "    <tr>\n",
       "      <th>5</th>\n",
       "      <td>182168103</td>\n",
       "      <td>935554773</td>\n",
       "      <td>2019-08-15</td>\n",
       "      <td>2210</td>\n",
       "      <td>B</td>\n",
       "    </tr>\n",
       "    <tr>\n",
       "      <th>6</th>\n",
       "      <td>398296753</td>\n",
       "      <td>2900797465</td>\n",
       "      <td>2019-08-15</td>\n",
       "      <td>1860</td>\n",
       "      <td>B</td>\n",
       "    </tr>\n",
       "    <tr>\n",
       "      <th>7</th>\n",
       "      <td>2626614568</td>\n",
       "      <td>78758296</td>\n",
       "      <td>2019-08-15</td>\n",
       "      <td>1044</td>\n",
       "      <td>A</td>\n",
       "    </tr>\n",
       "    <tr>\n",
       "      <th>8</th>\n",
       "      <td>1576988021</td>\n",
       "      <td>295230930</td>\n",
       "      <td>2019-08-15</td>\n",
       "      <td>13710</td>\n",
       "      <td>A</td>\n",
       "    </tr>\n",
       "    <tr>\n",
       "      <th>9</th>\n",
       "      <td>1506739906</td>\n",
       "      <td>1882260405</td>\n",
       "      <td>2019-08-15</td>\n",
       "      <td>1855</td>\n",
       "      <td>B</td>\n",
       "    </tr>\n",
       "  </tbody>\n",
       "</table>\n",
       "</div>"
      ],
      "text/plain": [
       "   transactionId   visitorId        date  revenue group\n",
       "0     3667963787  3312258926  2019-08-15     1650     B\n",
       "1     2804400009  3642806036  2019-08-15      730     B\n",
       "2     2961555356  4069496402  2019-08-15      400     A\n",
       "3     3797467345  1196621759  2019-08-15     9759     B\n",
       "4     2282983706  2322279887  2019-08-15     2308     B\n",
       "5      182168103   935554773  2019-08-15     2210     B\n",
       "6      398296753  2900797465  2019-08-15     1860     B\n",
       "7     2626614568    78758296  2019-08-15     1044     A\n",
       "8     1576988021   295230930  2019-08-15    13710     A\n",
       "9     1506739906  1882260405  2019-08-15     1855     B"
      ]
     },
     "execution_count": 11,
     "metadata": {},
     "output_type": "execute_result"
    }
   ],
   "source": [
    "orders.head(10)"
   ]
  },
  {
   "cell_type": "code",
   "execution_count": 12,
   "metadata": {},
   "outputs": [
    {
     "data": {
      "text/html": [
       "<div>\n",
       "<style scoped>\n",
       "    .dataframe tbody tr th:only-of-type {\n",
       "        vertical-align: middle;\n",
       "    }\n",
       "\n",
       "    .dataframe tbody tr th {\n",
       "        vertical-align: top;\n",
       "    }\n",
       "\n",
       "    .dataframe thead th {\n",
       "        text-align: right;\n",
       "    }\n",
       "</style>\n",
       "<table border=\"1\" class=\"dataframe\">\n",
       "  <thead>\n",
       "    <tr style=\"text-align: right;\">\n",
       "      <th></th>\n",
       "      <th>date</th>\n",
       "      <th>group</th>\n",
       "      <th>visitors</th>\n",
       "    </tr>\n",
       "  </thead>\n",
       "  <tbody>\n",
       "    <tr>\n",
       "      <th>0</th>\n",
       "      <td>2019-08-01</td>\n",
       "      <td>A</td>\n",
       "      <td>719</td>\n",
       "    </tr>\n",
       "    <tr>\n",
       "      <th>1</th>\n",
       "      <td>2019-08-02</td>\n",
       "      <td>A</td>\n",
       "      <td>619</td>\n",
       "    </tr>\n",
       "    <tr>\n",
       "      <th>2</th>\n",
       "      <td>2019-08-03</td>\n",
       "      <td>A</td>\n",
       "      <td>507</td>\n",
       "    </tr>\n",
       "    <tr>\n",
       "      <th>3</th>\n",
       "      <td>2019-08-04</td>\n",
       "      <td>A</td>\n",
       "      <td>717</td>\n",
       "    </tr>\n",
       "    <tr>\n",
       "      <th>4</th>\n",
       "      <td>2019-08-05</td>\n",
       "      <td>A</td>\n",
       "      <td>756</td>\n",
       "    </tr>\n",
       "    <tr>\n",
       "      <th>5</th>\n",
       "      <td>2019-08-06</td>\n",
       "      <td>A</td>\n",
       "      <td>667</td>\n",
       "    </tr>\n",
       "    <tr>\n",
       "      <th>6</th>\n",
       "      <td>2019-08-07</td>\n",
       "      <td>A</td>\n",
       "      <td>644</td>\n",
       "    </tr>\n",
       "    <tr>\n",
       "      <th>7</th>\n",
       "      <td>2019-08-08</td>\n",
       "      <td>A</td>\n",
       "      <td>610</td>\n",
       "    </tr>\n",
       "    <tr>\n",
       "      <th>8</th>\n",
       "      <td>2019-08-09</td>\n",
       "      <td>A</td>\n",
       "      <td>617</td>\n",
       "    </tr>\n",
       "    <tr>\n",
       "      <th>9</th>\n",
       "      <td>2019-08-10</td>\n",
       "      <td>A</td>\n",
       "      <td>406</td>\n",
       "    </tr>\n",
       "  </tbody>\n",
       "</table>\n",
       "</div>"
      ],
      "text/plain": [
       "         date group  visitors\n",
       "0  2019-08-01     A       719\n",
       "1  2019-08-02     A       619\n",
       "2  2019-08-03     A       507\n",
       "3  2019-08-04     A       717\n",
       "4  2019-08-05     A       756\n",
       "5  2019-08-06     A       667\n",
       "6  2019-08-07     A       644\n",
       "7  2019-08-08     A       610\n",
       "8  2019-08-09     A       617\n",
       "9  2019-08-10     A       406"
      ]
     },
     "execution_count": 12,
     "metadata": {},
     "output_type": "execute_result"
    }
   ],
   "source": [
    "visitors.head(10)"
   ]
  },
  {
   "cell_type": "code",
   "execution_count": 13,
   "metadata": {},
   "outputs": [
    {
     "name": "stdout",
     "output_type": "stream",
     "text": [
      "<class 'pandas.core.frame.DataFrame'>\n",
      "RangeIndex: 1197 entries, 0 to 1196\n",
      "Data columns (total 5 columns):\n",
      " #   Column         Non-Null Count  Dtype \n",
      "---  ------         --------------  ----- \n",
      " 0   transactionId  1197 non-null   int64 \n",
      " 1   visitorId      1197 non-null   int64 \n",
      " 2   date           1197 non-null   object\n",
      " 3   revenue        1197 non-null   int64 \n",
      " 4   group          1197 non-null   object\n",
      "dtypes: int64(3), object(2)\n",
      "memory usage: 46.9+ KB\n"
     ]
    }
   ],
   "source": [
    "orders.info()"
   ]
  },
  {
   "cell_type": "code",
   "execution_count": 14,
   "metadata": {},
   "outputs": [
    {
     "name": "stdout",
     "output_type": "stream",
     "text": [
      "<class 'pandas.core.frame.DataFrame'>\n",
      "RangeIndex: 62 entries, 0 to 61\n",
      "Data columns (total 3 columns):\n",
      " #   Column    Non-Null Count  Dtype \n",
      "---  ------    --------------  ----- \n",
      " 0   date      62 non-null     object\n",
      " 1   group     62 non-null     object\n",
      " 2   visitors  62 non-null     int64 \n",
      "dtypes: int64(1), object(2)\n",
      "memory usage: 1.6+ KB\n"
     ]
    }
   ],
   "source": [
    "visitors.info()"
   ]
  },
  {
   "cell_type": "markdown",
   "metadata": {},
   "source": [
    "Посмотрим на наличие дубликатов. Спойлер: их нет."
   ]
  },
  {
   "cell_type": "code",
   "execution_count": 15,
   "metadata": {},
   "outputs": [
    {
     "data": {
      "text/plain": [
       "0"
      ]
     },
     "metadata": {},
     "output_type": "display_data"
    },
    {
     "data": {
      "text/plain": [
       "0"
      ]
     },
     "metadata": {},
     "output_type": "display_data"
    }
   ],
   "source": [
    "display(orders.duplicated().sum())\n",
    "display(visitors.duplicated().sum())"
   ]
  },
  {
   "cell_type": "markdown",
   "metadata": {},
   "source": [
    "Теперь посмотрим совпадают ли минимальная и максимальная даты в двух файлах."
   ]
  },
  {
   "cell_type": "code",
   "execution_count": 16,
   "metadata": {},
   "outputs": [
    {
     "data": {
      "text/plain": [
       "'2019-08-01'"
      ]
     },
     "metadata": {},
     "output_type": "display_data"
    },
    {
     "data": {
      "text/plain": [
       "'2019-08-01'"
      ]
     },
     "metadata": {},
     "output_type": "display_data"
    }
   ],
   "source": [
    "#дата начала теста\n",
    "display(orders['date'].min())\n",
    "display(visitors['date'].min())"
   ]
  },
  {
   "cell_type": "code",
   "execution_count": 17,
   "metadata": {},
   "outputs": [
    {
     "data": {
      "text/plain": [
       "'2019-08-31'"
      ]
     },
     "metadata": {},
     "output_type": "display_data"
    },
    {
     "data": {
      "text/plain": [
       "'2019-08-31'"
      ]
     },
     "metadata": {},
     "output_type": "display_data"
    }
   ],
   "source": [
    "#дата окончания теста\n",
    "display(orders['date'].max())\n",
    "display(visitors['date'].max())"
   ]
  },
  {
   "cell_type": "markdown",
   "metadata": {},
   "source": [
    "Даты начала и окончания теста совпадают.\n",
    "\n",
    "Также проверим количество групп. Спойлер: количество групп и их названия совпадают."
   ]
  },
  {
   "cell_type": "code",
   "execution_count": 18,
   "metadata": {},
   "outputs": [
    {
     "data": {
      "text/plain": [
       "array(['B', 'A'], dtype=object)"
      ]
     },
     "metadata": {},
     "output_type": "display_data"
    },
    {
     "data": {
      "text/plain": [
       "array(['A', 'B'], dtype=object)"
      ]
     },
     "metadata": {},
     "output_type": "display_data"
    }
   ],
   "source": [
    "display(orders['group'].unique())\n",
    "display(visitors['group'].unique())"
   ]
  },
  {
   "cell_type": "markdown",
   "metadata": {},
   "source": [
    "Посмотрим на распределение количества уникальных пользователей."
   ]
  },
  {
   "cell_type": "code",
   "execution_count": 19,
   "metadata": {},
   "outputs": [
    {
     "data": {
      "text/html": [
       "<div>\n",
       "<style scoped>\n",
       "    .dataframe tbody tr th:only-of-type {\n",
       "        vertical-align: middle;\n",
       "    }\n",
       "\n",
       "    .dataframe tbody tr th {\n",
       "        vertical-align: top;\n",
       "    }\n",
       "\n",
       "    .dataframe thead th {\n",
       "        text-align: right;\n",
       "    }\n",
       "</style>\n",
       "<table border=\"1\" class=\"dataframe\">\n",
       "  <thead>\n",
       "    <tr style=\"text-align: right;\">\n",
       "      <th></th>\n",
       "      <th>visitorId</th>\n",
       "    </tr>\n",
       "    <tr>\n",
       "      <th>group</th>\n",
       "      <th></th>\n",
       "    </tr>\n",
       "  </thead>\n",
       "  <tbody>\n",
       "    <tr>\n",
       "      <th>A</th>\n",
       "      <td>503</td>\n",
       "    </tr>\n",
       "    <tr>\n",
       "      <th>B</th>\n",
       "      <td>586</td>\n",
       "    </tr>\n",
       "  </tbody>\n",
       "</table>\n",
       "</div>"
      ],
      "text/plain": [
       "       visitorId\n",
       "group           \n",
       "A            503\n",
       "B            586"
      ]
     },
     "metadata": {},
     "output_type": "display_data"
    }
   ],
   "source": [
    "display(orders.groupby('group').agg({'visitorId':'nunique'}))"
   ]
  },
  {
   "cell_type": "markdown",
   "metadata": {},
   "source": [
    "Количество уникальных пользователей по группам различаются. В группе B на 83 пользователя больше. Один из успешных критериев А/А теста - количество пользователей в различных группах различается не более, чем на 1%. В данном случае этот критерий не выполняется.\n",
    "\n",
    "Также стоит проверить, не попадают ли пользователи в обе группы. Для этого создадим таблицу с таблцами 'visitorId' и 'group', удалим дубликаты, и после этого посчитаем сколько осталось дубликатов'visitorId'."
   ]
  },
  {
   "cell_type": "code",
   "execution_count": 20,
   "metadata": {},
   "outputs": [
    {
     "data": {
      "text/html": [
       "<div>\n",
       "<style scoped>\n",
       "    .dataframe tbody tr th:only-of-type {\n",
       "        vertical-align: middle;\n",
       "    }\n",
       "\n",
       "    .dataframe tbody tr th {\n",
       "        vertical-align: top;\n",
       "    }\n",
       "\n",
       "    .dataframe thead th {\n",
       "        text-align: right;\n",
       "    }\n",
       "</style>\n",
       "<table border=\"1\" class=\"dataframe\">\n",
       "  <thead>\n",
       "    <tr style=\"text-align: right;\">\n",
       "      <th></th>\n",
       "      <th>visitorId</th>\n",
       "      <th>group</th>\n",
       "    </tr>\n",
       "  </thead>\n",
       "  <tbody>\n",
       "    <tr>\n",
       "      <th>0</th>\n",
       "      <td>3312258926</td>\n",
       "      <td>B</td>\n",
       "    </tr>\n",
       "    <tr>\n",
       "      <th>1</th>\n",
       "      <td>3642806036</td>\n",
       "      <td>B</td>\n",
       "    </tr>\n",
       "    <tr>\n",
       "      <th>2</th>\n",
       "      <td>4069496402</td>\n",
       "      <td>A</td>\n",
       "    </tr>\n",
       "    <tr>\n",
       "      <th>3</th>\n",
       "      <td>1196621759</td>\n",
       "      <td>B</td>\n",
       "    </tr>\n",
       "    <tr>\n",
       "      <th>4</th>\n",
       "      <td>2322279887</td>\n",
       "      <td>B</td>\n",
       "    </tr>\n",
       "  </tbody>\n",
       "</table>\n",
       "</div>"
      ],
      "text/plain": [
       "    visitorId group\n",
       "0  3312258926     B\n",
       "1  3642806036     B\n",
       "2  4069496402     A\n",
       "3  1196621759     B\n",
       "4  2322279887     B"
      ]
     },
     "execution_count": 20,
     "metadata": {},
     "output_type": "execute_result"
    }
   ],
   "source": [
    "visitors_bothgroups = orders[['visitorId', 'group']].drop_duplicates()\n",
    "visitors_bothgroups.head(5)"
   ]
  },
  {
   "cell_type": "code",
   "execution_count": 21,
   "metadata": {},
   "outputs": [
    {
     "data": {
      "text/plain": [
       "58"
      ]
     },
     "execution_count": 21,
     "metadata": {},
     "output_type": "execute_result"
    }
   ],
   "source": [
    "visitors_bothgroups['visitorId'].duplicated().sum()"
   ]
  },
  {
   "cell_type": "markdown",
   "metadata": {},
   "source": [
    "58 пользователей находятся в обеих группах."
   ]
  },
  {
   "cell_type": "markdown",
   "metadata": {},
   "source": [
    "**График кумулятивной выручки по группам**"
   ]
  },
  {
   "cell_type": "code",
   "execution_count": 22,
   "metadata": {},
   "outputs": [],
   "source": [
    "# конвертеры, которые позволяют использовать типы pandas в matplotlib  \n",
    "register_matplotlib_converters()"
   ]
  },
  {
   "cell_type": "code",
   "execution_count": 23,
   "metadata": {},
   "outputs": [],
   "source": [
    "orders['date'] = orders['date'].map(\n",
    "    lambda x: dt.datetime.strptime(x, '%Y-%m-%d')\n",
    ")\n",
    "\n",
    "visitors['date'] = visitors['date'].map(\n",
    "    lambda x: dt.datetime.strptime(x, '%Y-%m-%d')\n",
    ")\n",
    "\n",
    "# создаем массив уникальных пар значений дат и групп теста\n",
    "datesGroups = orders[['date', 'group']].drop_duplicates()\n",
    "\n",
    "# получаем агрегированные кумулятивные по дням данные о заказах \n",
    "ordersAggregated = datesGroups.apply(\n",
    "    lambda x: orders[\n",
    "        np.logical_and(\n",
    "            orders['date'] <= x['date'], orders['group'] == x['group']\n",
    "        )\n",
    "    ].agg(\n",
    "        {\n",
    "            'date': 'max',\n",
    "            'group': 'max',\n",
    "            'transactionId': 'nunique',\n",
    "            'visitorId': 'nunique',\n",
    "            'revenue': 'sum',\n",
    "        }\n",
    "    ),\n",
    "    axis=1,\n",
    ").sort_values(by=['date', 'group'])\n",
    "\n",
    "# получаем агрегированные кумулятивные по дням данные о посетителях интернет-магазина \n",
    "visitorsAggregated = datesGroups.apply(\n",
    "    lambda x: visitors[\n",
    "        np.logical_and(\n",
    "            visitors['date'] <= x['date'], visitors['group'] == x['group']\n",
    "        )\n",
    "    ].agg({'date': 'max', 'group': 'max', 'visitors': 'sum'}),\n",
    "    axis=1,\n",
    ").sort_values(by=['date', 'group'])\n",
    "\n",
    "# объединяем кумулятивные данные в одной таблице и присваиваем ее столбцам понятные названия\n",
    "cumulativeData = ordersAggregated.merge(\n",
    "    visitorsAggregated, left_on=['date', 'group'], right_on=['date', 'group']\n",
    ")\n",
    "cumulativeData.columns = [\n",
    "    'date',\n",
    "    'group',\n",
    "    'orders',\n",
    "    'buyers',\n",
    "    'revenue',\n",
    "    'visitors',\n",
    "]\n",
    "\n"
   ]
  },
  {
   "cell_type": "code",
   "execution_count": 24,
   "metadata": {},
   "outputs": [
    {
     "data": {
      "image/png": "[encoded data removed]",
      "text/plain": [
       "<Figure size 720x360 with 1 Axes>"
      ]
     },
     "metadata": {
      "needs_background": "light"
     },
     "output_type": "display_data"
    }
   ],
   "source": [
    "plt.figure(figsize =(10,5))\n",
    "plt.title('Кумулятивная выручка по группам')\n",
    "plt.xticks(rotation=45)\n",
    "plt.xlabel('Дата')\n",
    "\n",
    "# датафрейм с кумулятивным количеством заказов и кумулятивной выручкой по дням в группе А\n",
    "cumulativeRevenueA = cumulativeData[cumulativeData['group']=='A'][['date','revenue', 'orders']]\n",
    "\n",
    "# датафрейм с кумулятивным количеством заказов и кумулятивной выручкой по дням в группе B\n",
    "cumulativeRevenueB = cumulativeData[cumulativeData['group']=='B'][['date','revenue', 'orders']]\n",
    "\n",
    "# Строим график выручки группы А\n",
    "plt.plot(cumulativeRevenueA['date'], cumulativeRevenueA['revenue'], label='A')\n",
    "# Строим график выручки группы B\n",
    "plt.plot(cumulativeRevenueB['date'], cumulativeRevenueB['revenue'], label='B')\n",
    "\n",
    "plt.legend()\n",
    "plt.show()"
   ]
  },
  {
   "cell_type": "markdown",
   "metadata": {},
   "source": [
    "Вывод: выручка двух групп почти равномерно увеличивалась до 18 августа 2019, однако после этого выручка группы B резко выросла. Это может сигнализировать о всплесках числа заказов или о появлении очень дорогих заказов в данной группе. "
   ]
  },
  {
   "cell_type": "markdown",
   "metadata": {},
   "source": [
    "**График кумулятивного среднего чека по группам**"
   ]
  },
  {
   "cell_type": "code",
   "execution_count": 25,
   "metadata": {},
   "outputs": [
    {
     "data": {
      "image/png": "[encoded data removed]",
      "text/plain": [
       "<Figure size 720x360 with 1 Axes>"
      ]
     },
     "metadata": {
      "needs_background": "light"
     },
     "output_type": "display_data"
    }
   ],
   "source": [
    "plt.figure(figsize =(10,5))\n",
    "plt.title('Кумулятивный средний чек по группам')\n",
    "plt.xticks(rotation=45)\n",
    "plt.xlabel('Дата')\n",
    "\n",
    "# разделим кумулятивную выручку на кумулятивное число заказов в двух группах\n",
    "plt.plot(cumulativeRevenueA['date'], cumulativeRevenueA['revenue']/cumulativeRevenueA['orders'], label='A')\n",
    "plt.plot(cumulativeRevenueB['date'], cumulativeRevenueB['revenue']/cumulativeRevenueB['orders'], label='B')\n",
    "\n",
    "plt.legend()\n",
    "plt.show()"
   ]
  },
  {
   "cell_type": "markdown",
   "metadata": {},
   "source": [
    "Вывод: на данном графике, как и на прошлом, можно заметить, что 18 августа значение среднего чека сильно выросло в группе B. Возможные причины упоминались ранее: всплеск числа заказов или появление очень дорогих заказов в данной группе.\n",
    "\n",
    "В группе А значение показателя сильно снизилось 6 августа(меньшее количество заказов или \"мелкие\" заказы), а 13 августа достигло своего максимума, обогнав группу B. Позже данный показатель стабилен. "
   ]
  },
  {
   "cell_type": "markdown",
   "metadata": {},
   "source": [
    "**График относительного изменения кумулятивного среднего чека группы B к группе A**"
   ]
  },
  {
   "cell_type": "code",
   "execution_count": 26,
   "metadata": {},
   "outputs": [
    {
     "data": {
      "image/png": "[encoded data removed]",
      "text/plain": [
       "<Figure size 720x360 with 1 Axes>"
      ]
     },
     "metadata": {
      "needs_background": "light"
     },
     "output_type": "display_data"
    }
   ],
   "source": [
    "plt.figure(figsize =(10,5))\n",
    "plt.title('Относительное изменение кумулятивного среднего чека группы B к группе A')\n",
    "plt.xticks(rotation=45)\n",
    "plt.xlabel('Дата')\n",
    "\n",
    "# собираем данные в одном датафрейме\n",
    "mergedCumulativeRevenue = cumulativeRevenueA.merge(cumulativeRevenueB, left_on='date', right_on='date', how='left', suffixes=['A', 'B'])\n",
    "\n",
    "# cтроим отношение средних чеков\n",
    "plt.plot(mergedCumulativeRevenue['date'], (mergedCumulativeRevenue['revenueB']/mergedCumulativeRevenue['ordersB'])/(mergedCumulativeRevenue['revenueA']/mergedCumulativeRevenue['ordersA'])-1)\n",
    "\n",
    "# добавляем ось X\n",
    "plt.axhline(y=0, color='black', linestyle='--') \n",
    "plt.show()"
   ]
  },
  {
   "cell_type": "markdown",
   "metadata": {},
   "source": [
    "Вывод: В период со 2 по 10 августа - первый скачок показателя отношения средних чеков, с 18 августа - второй. Как мы видели ранее, действительно в эти периоды и выручка у группы В превышает выручку группы А."
   ]
  },
  {
   "cell_type": "markdown",
   "metadata": {},
   "source": [
    "**График кумулятивного среднего количества заказов на посетителя по группам**"
   ]
  },
  {
   "cell_type": "code",
   "execution_count": 27,
   "metadata": {},
   "outputs": [
    {
     "data": {
      "image/png": "[encoded data removed]",
      "text/plain": [
       "<Figure size 720x360 with 1 Axes>"
      ]
     },
     "metadata": {
      "needs_background": "light"
     },
     "output_type": "display_data"
    }
   ],
   "source": [
    "plt.figure(figsize =(10,5))\n",
    "plt.title('Кумулятивное среднее количество заказов на посетителя по группам')\n",
    "plt.xticks(rotation=45)\n",
    "plt.xlabel('Дата')\n",
    "\n",
    "# считаем кумулятивную конверсию\n",
    "cumulativeData['conversion'] = cumulativeData['orders']/cumulativeData['visitors']\n",
    "\n",
    "# отделяем данные по группе A\n",
    "cumulativeDataA = cumulativeData[cumulativeData['group']=='A']\n",
    "\n",
    "# отделяем данные по группе B\n",
    "cumulativeDataB = cumulativeData[cumulativeData['group']=='B']\n",
    "\n",
    "# строим графики\n",
    "plt.plot(cumulativeDataA['date'], cumulativeDataA['conversion'], label='A')\n",
    "plt.plot(cumulativeDataB['date'], cumulativeDataB['conversion'], label='B')\n",
    "plt.legend()\n",
    "plt.show()"
   ]
  },
  {
   "cell_type": "markdown",
   "metadata": {},
   "source": [
    "Вывод: До 6 августа значение кумулятивного среднего количества заказов на посетителя у группы B было ниже. 6 августа значения сравнялись, и, после этого, группа В обогнала группу А по данному показателю. С 10 августа у обеих групп показатель стабилизировался."
   ]
  },
  {
   "cell_type": "markdown",
   "metadata": {},
   "source": [
    "**График относительного изменения кумулятивного среднего количества заказов на посетителя группы B к группе A**"
   ]
  },
  {
   "cell_type": "code",
   "execution_count": 28,
   "metadata": {},
   "outputs": [
    {
     "data": {
      "image/png": "[encoded data removed]",
      "text/plain": [
       "<Figure size 720x360 with 1 Axes>"
      ]
     },
     "metadata": {
      "needs_background": "light"
     },
     "output_type": "display_data"
    }
   ],
   "source": [
    "plt.figure(figsize =(10,5))\n",
    "plt.title('Относительное изменение кумулятивного среднего количества заказов на посетителя группы B к группе A')\n",
    "plt.xticks(rotation=45)\n",
    "plt.xlabel('Дата')\n",
    "\n",
    "mergedCumulativeConversions = cumulativeDataA[['date','conversion']].merge(cumulativeDataB[['date','conversion']], left_on='date', right_on='date', how='left', suffixes=['A', 'B'])\n",
    "\n",
    "plt.plot(mergedCumulativeConversions['date'], mergedCumulativeConversions['conversionB']/mergedCumulativeConversions['conversionA']-1)\n",
    "\n",
    "plt.axhline(y=0, color='black', linestyle='--')\n",
    "plt.show()"
   ]
  },
  {
   "cell_type": "markdown",
   "metadata": {},
   "source": [
    "Вывод: Данный график подтверждает, что после 6 августа группа В выигрывает группу А по кумулятивному среднему количеству заказов на одного посетителя. 15 августа разрыв составил больше 20%."
   ]
  },
  {
   "cell_type": "markdown",
   "metadata": {},
   "source": [
    "**Точечный график количества заказов по пользователям**"
   ]
  },
  {
   "cell_type": "markdown",
   "metadata": {},
   "source": [
    "Для начала необходимо посчитать количество заказов по пользователям."
   ]
  },
  {
   "cell_type": "code",
   "execution_count": 29,
   "metadata": {},
   "outputs": [
    {
     "name": "stdout",
     "output_type": "stream",
     "text": [
      "       visitorId  orders\n",
      "1023  4256040402      11\n",
      "591   2458001652      11\n",
      "569   2378935119       9\n",
      "487   2038680547       8\n",
      "44     199603092       5\n",
      "744   3062433592       5\n",
      "55     237748145       5\n",
      "917   3803269165       5\n",
      "299   1230306981       5\n",
      "897   3717692402       5\n"
     ]
    }
   ],
   "source": [
    "ordersByUsers = (\n",
    "    orders.groupby('visitorId', as_index=False)\n",
    "    .agg({'transactionId': 'nunique'})\n",
    ")\n",
    "\n",
    "ordersByUsers.columns = ['visitorId', 'orders']\n",
    "\n",
    "print(ordersByUsers.sort_values(by='orders', ascending=False).head(10)) "
   ]
  },
  {
   "cell_type": "code",
   "execution_count": 30,
   "metadata": {},
   "outputs": [
    {
     "data": {
      "image/png": "[encoded data removed]",
      "text/plain": [
       "<Figure size 720x360 with 1 Axes>"
      ]
     },
     "metadata": {
      "needs_background": "light"
     },
     "output_type": "display_data"
    }
   ],
   "source": [
    "plt.figure(figsize =(10,5))\n",
    "plt.title('Количество заказов по пользователям')\n",
    "plt.xticks(rotation=45)\n",
    "plt.xlabel('Уникальные пользователи')\n",
    "\n",
    "x_values = pd.Series(range(0,len(ordersByUsers)))\n",
    "\n",
    "plt.scatter(x_values, ordersByUsers['orders'])\n",
    "plt.show()"
   ]
  },
  {
   "cell_type": "markdown",
   "metadata": {},
   "source": [
    "Вывод: Можно увидеть, что в основном пользователь оформляет 1 заказ, 2 заказа оформляют горазда реже. \n",
    "\n",
    "Чтобы выяснить, что является аномалией, необходимо посчитать выборочные перцентили количества заказов на одного пользователя."
   ]
  },
  {
   "cell_type": "markdown",
   "metadata": {},
   "source": [
    "**95-й и 99-й перцентили количества заказов на пользователя. Граница для определения аномальных пользователей**"
   ]
  },
  {
   "cell_type": "code",
   "execution_count": 31,
   "metadata": {},
   "outputs": [
    {
     "name": "stdout",
     "output_type": "stream",
     "text": [
      "[2. 4.]\n"
     ]
    }
   ],
   "source": [
    "print(np.percentile(ordersByUsers['orders'], [95, 99]))"
   ]
  },
  {
   "cell_type": "markdown",
   "metadata": {},
   "source": [
    "Вывод: Не более 5% пользователей оформляли больше 2 заказов, и не более 1% - больше 4 заказов. Пусть верхняя граница числа заказов будет 4, а все что больше данного числа станет аномалией."
   ]
  },
  {
   "cell_type": "markdown",
   "metadata": {},
   "source": [
    "**Точечный график стоимостей заказов**"
   ]
  },
  {
   "cell_type": "code",
   "execution_count": 32,
   "metadata": {},
   "outputs": [
    {
     "data": {
      "image/png": "[encoded data removed]",
      "text/plain": [
       "<Figure size 720x360 with 1 Axes>"
      ]
     },
     "metadata": {
      "needs_background": "light"
     },
     "output_type": "display_data"
    }
   ],
   "source": [
    "plt.figure(figsize =(10,5))\n",
    "plt.title('Стоимость заказов')\n",
    "plt.xticks(rotation=45)\n",
    "plt.xlabel('Заказы')\n",
    "\n",
    "x_values = pd.Series(range(0,len(orders['revenue'])))\n",
    "plt.scatter(x_values, orders['revenue'])\n",
    "plt.show()"
   ]
  },
  {
   "cell_type": "markdown",
   "metadata": {},
   "source": [
    "Вывод: На данном графике видно, что в основном стоимость заказа ниже 200000 ден. ед. Все, что выше - аномалии. Чтобы в этом убедиться посчитаем перцентили."
   ]
  },
  {
   "cell_type": "markdown",
   "metadata": {},
   "source": [
    "Для большей наглядности построим точечный график без аномалий, чтобы рассмотреть основную часть заказов"
   ]
  },
  {
   "cell_type": "code",
   "execution_count": 33,
   "metadata": {},
   "outputs": [
    {
     "data": {
      "image/png": "[encoded data removed]",
      "text/plain": [
       "<Figure size 720x360 with 1 Axes>"
      ]
     },
     "metadata": {
      "needs_background": "light"
     },
     "output_type": "display_data"
    }
   ],
   "source": [
    "plt.figure(figsize =(10,5))\n",
    "plt.title('Стоимость заказов')\n",
    "plt.xticks(rotation=45)\n",
    "plt.xlabel('Заказы')\n",
    "\n",
    "x_values = pd.Series(range(0,len(orders[orders['revenue'] < 200000]['revenue'])))\n",
    "plt.scatter(x_values, orders[orders['revenue'] < 200000]['revenue'])\n",
    "plt.show()"
   ]
  },
  {
   "cell_type": "markdown",
   "metadata": {},
   "source": [
    "**95-й и 99-й перцентили стоимости заказов. Граница для определения аномальных заказов**"
   ]
  },
  {
   "cell_type": "code",
   "execution_count": 34,
   "metadata": {},
   "outputs": [
    {
     "name": "stdout",
     "output_type": "stream",
     "text": [
      "[28000.  58233.2]\n"
     ]
    }
   ],
   "source": [
    "print(np.percentile(orders['revenue'], [95, 99])) "
   ]
  },
  {
   "cell_type": "markdown",
   "metadata": {},
   "source": [
    "Вывод: Не более 5% пользователей оформляют заказ больше 28 000 ден. ед. Не более 1 % пользователей - больше 58233,2 ден. ед. Верхняя граница стоимости заказов будет 58233.2 ден. ед, поскольку мы фильтруем данные по двум параметрам."
   ]
  },
  {
   "cell_type": "markdown",
   "metadata": {},
   "source": [
    "**Статистическая значимость различий в среднем количестве заказов на посетителя между группами по «сырым» данным**"
   ]
  },
  {
   "cell_type": "markdown",
   "metadata": {},
   "source": [
    "H0: различий в среднем количестве заказов между группами нет. \n",
    "\n",
    "H1: различия в среднем между группами есть."
   ]
  },
  {
   "cell_type": "markdown",
   "metadata": {},
   "source": [
    "Создадим переменные ordersByUsersA и ordersByUsersB со столбцами ['visitorId', 'transactionId']. В них, для пользователей, которые заказывали хотя бы 1 раз, укажем число совершённых заказов. "
   ]
  },
  {
   "cell_type": "code",
   "execution_count": 35,
   "metadata": {},
   "outputs": [],
   "source": [
    "ordersByUsersA = (\n",
    "    orders[orders['group'] == 'A']\n",
    "    .groupby('visitorId', as_index=False)\n",
    "    .agg({'transactionId': pd.Series.nunique})\n",
    ")\n",
    "ordersByUsersA.columns = ['userId', 'orders'] \n",
    "\n",
    "ordersByUsersB = (\n",
    "    orders[orders['group'] == 'B']\n",
    "    .groupby('visitorId', as_index=False)\n",
    "    .agg({'transactionId': pd.Series.nunique})\n",
    ")\n",
    "ordersByUsersB.columns = ['userId', 'orders'] "
   ]
  },
  {
   "cell_type": "code",
   "execution_count": 36,
   "metadata": {},
   "outputs": [],
   "source": [
    "sampleA = pd.concat([ordersByUsersA['orders'],pd.Series(0, index=np.arange(visitors.groupby('group').agg({'visitors': 'sum'}).visitors[0] - len(ordersByUsersA['orders'])), name='orders')],axis=0)\n",
    "\n",
    "sampleB = pd.concat([ordersByUsersB['orders'],pd.Series(0, index=np.arange(visitors.groupby('group').agg({'visitors': 'sum'}).visitors[1] - len(ordersByUsersB['orders'])), name='orders')],axis=0)"
   ]
  },
  {
   "cell_type": "code",
   "execution_count": 37,
   "metadata": {},
   "outputs": [
    {
     "name": "stdout",
     "output_type": "stream",
     "text": [
      "P-value равен 0.017\n",
      "Различие между группами равняется 0.138\n"
     ]
    }
   ],
   "source": [
    "print('P-value равен',\"{0:.3f}\".format(stats.mannwhitneyu(sampleA, sampleB)[1]))\n",
    "\n",
    "print('Различие между группами равняется',\"{0:.3f}\".format(sampleB.mean() / sampleA.mean() - 1))"
   ]
  },
  {
   "cell_type": "markdown",
   "metadata": {},
   "source": [
    "Вывод: p-value = 0.017 - меньше уровня значимости (0,05),следовательно группы различны. H0 отвергается.\n",
    "\n",
    "Среднее количество заказов на посетителя группы В выше на 13,8% группы А."
   ]
  },
  {
   "cell_type": "markdown",
   "metadata": {},
   "source": [
    "**Статистическая значимость различий в среднем чеке заказа между группами по «сырым» данным**"
   ]
  },
  {
   "cell_type": "markdown",
   "metadata": {},
   "source": [
    "H0: различий в среднем чеке между группами нет. \n",
    "\n",
    "H1: различия в среднем чеке между группами есть. "
   ]
  },
  {
   "cell_type": "code",
   "execution_count": 38,
   "metadata": {},
   "outputs": [
    {
     "name": "stdout",
     "output_type": "stream",
     "text": [
      "P-value равен 0.729\n",
      "Различие между группами равняется 0.259\n"
     ]
    }
   ],
   "source": [
    "print('P-value равен','{0:.3f}'.format(stats.mannwhitneyu(orders[orders['group']=='A']['revenue'], orders[orders['group']=='B']['revenue'])[1]))\n",
    "print('Различие между группами равняется','{0:.3f}'.format(orders[orders['group']=='B']['revenue'].mean()/orders[orders['group']=='A']['revenue'].mean()-1)) "
   ]
  },
  {
   "cell_type": "markdown",
   "metadata": {},
   "source": [
    "Вывод: p-value = 0.729 - больше уровня значимости (0.05),следовательно группы не имеют различия. H0 не отвергается.\n",
    "\n",
    "Средний чек группы В выше на 25,9%. Но поскольку значение p-value такое большое, то наблюдаемое различие между группами не является значимым."
   ]
  },
  {
   "cell_type": "markdown",
   "metadata": {},
   "source": [
    "**Статистическая значимость различий в среднем количестве заказов на посетителя между группами по «очищенным» данным**"
   ]
  },
  {
   "cell_type": "markdown",
   "metadata": {},
   "source": [
    "Для начала узнаем, сколько всего аномальных пользователей. Это те, кто совершил более 2 заказов или заплатил за заказ более 28000 ден.ед."
   ]
  },
  {
   "cell_type": "code",
   "execution_count": 39,
   "metadata": {},
   "outputs": [
    {
     "name": "stdout",
     "output_type": "stream",
     "text": [
      "1099     148427295\n",
      "949      887908475\n",
      "744      888512513\n",
      "1103    1164614297\n",
      "1136    1307669133\n",
      "dtype: int64\n",
      "15\n"
     ]
    }
   ],
   "source": [
    "usersWithManyOrders = pd.concat(\n",
    "    [\n",
    "        ordersByUsersA[ordersByUsersA['orders'] > np.percentile(ordersByUsers['orders'], 99)]['userId'],\n",
    "        ordersByUsersB[ordersByUsersB['orders'] > np.percentile(ordersByUsers['orders'], 99)]['userId'],\n",
    "    ],\n",
    "    axis=0,\n",
    ")\n",
    "usersWithExpensiveOrders = orders[orders['revenue'] > np.percentile(orders['revenue'], 99)]['visitorId']\n",
    "abnormalUsers = (\n",
    "    pd.concat([usersWithManyOrders, usersWithExpensiveOrders], axis=0)\n",
    "    .drop_duplicates()\n",
    "    .sort_values()\n",
    ")\n",
    "print(abnormalUsers.head(5))\n",
    "print(abnormalUsers.shape[0]) "
   ]
  },
  {
   "cell_type": "markdown",
   "metadata": {},
   "source": [
    "15 аномальных пользователей. Узнаем, как их действия повлияли на результаты теста с помощью критерия Манна-Уитни."
   ]
  },
  {
   "cell_type": "code",
   "execution_count": 40,
   "metadata": {},
   "outputs": [
    {
     "name": "stdout",
     "output_type": "stream",
     "text": [
      "P-value равен 0.014\n",
      "Различие между группами равняется 0.153\n"
     ]
    }
   ],
   "source": [
    "sampleAFiltered = pd.concat(\n",
    "    [\n",
    "        ordersByUsersA[\n",
    "            np.logical_not(ordersByUsersA['userId'].isin(abnormalUsers))\n",
    "        ]['orders'],\n",
    "        pd.Series(\n",
    "            0,\n",
    "            index=np.arange(\n",
    "                visitors.groupby('group').agg({'visitors': 'sum'}).visitors[0] - len(ordersByUsersA['orders'])\n",
    "            ),\n",
    "            name='orders',\n",
    "        ),\n",
    "    ],\n",
    "    axis=0,\n",
    ")\n",
    "\n",
    "sampleBFiltered = pd.concat(\n",
    "    [\n",
    "        ordersByUsersB[\n",
    "            np.logical_not(ordersByUsersB['userId'].isin(abnormalUsers))\n",
    "        ]['orders'],\n",
    "        pd.Series(\n",
    "            0,\n",
    "            index=np.arange(\n",
    "            visitors.groupby('group').agg({'visitors': 'sum'}).visitors[1] - len(ordersByUsersB['orders'])\n",
    "            ),\n",
    "            name='orders',\n",
    "        ),\n",
    "    ],\n",
    "    axis=0,\n",
    ") \n",
    "\n",
    "print('P-value равен','{0:.3f}'.format(stats.mannwhitneyu(sampleAFiltered, sampleBFiltered)[1]))\n",
    "print('Различие между группами равняется','{0:.3f}'.format(sampleBFiltered.mean()/sampleAFiltered.mean()-1)) "
   ]
  },
  {
   "cell_type": "markdown",
   "metadata": {},
   "source": [
    "Вывод: p-value = 0.014 - меньше уровня значимости (0.05), следовательно группы различны. H0 отвергается.\n",
    "\n",
    "После очистки данных среднее количество заказов на посетителя группы В выше на 15,3% группы А. Этот показатель выше по сравнению с сырыми данными."
   ]
  },
  {
   "cell_type": "markdown",
   "metadata": {},
   "source": [
    "**Статистическая значимость различий в среднем чеке заказа между группами по «очищенным» данным**"
   ]
  },
  {
   "cell_type": "code",
   "execution_count": 41,
   "metadata": {},
   "outputs": [
    {
     "name": "stdout",
     "output_type": "stream",
     "text": [
      "P-value равен 0.851\n",
      "Различие между группами равняется -0.006\n"
     ]
    }
   ],
   "source": [
    "print(\n",
    "    'P-value равен','{0:.3f}'.format(\n",
    "        stats.mannwhitneyu(\n",
    "            orders[\n",
    "                np.logical_and(\n",
    "                    orders['group'] == 'A',\n",
    "                    np.logical_not(orders['visitorId'].isin(abnormalUsers)),\n",
    "                )\n",
    "            ]['revenue'],\n",
    "            orders[\n",
    "                np.logical_and(\n",
    "                    orders['group'] == 'B',\n",
    "                    np.logical_not(orders['visitorId'].isin(abnormalUsers)),\n",
    "                )\n",
    "            ]['revenue'],\n",
    "        )[1]\n",
    "    )\n",
    ")\n",
    "\n",
    "print(\n",
    "    'Различие между группами равняется',\"{0:.3f}\".format(\n",
    "        orders[\n",
    "            np.logical_and(\n",
    "                orders['group'] == 'B',\n",
    "                np.logical_not(orders['visitorId'].isin(abnormalUsers)),\n",
    "            )\n",
    "        ]['revenue'].mean()\n",
    "        / orders[\n",
    "            np.logical_and(\n",
    "                orders['group'] == 'A',\n",
    "                np.logical_not(orders['visitorId'].isin(abnormalUsers)),\n",
    "            )\n",
    "        ]['revenue'].mean()\n",
    "        - 1\n",
    "    )\n",
    ") "
   ]
  },
  {
   "cell_type": "markdown",
   "metadata": {},
   "source": [
    "Вывод: p-value = 0.851 - больше уровня значимости (0.05), следовательно группы не имеют различий, как и в случае с сырыми данными. H0 не отвергается.\n",
    "\n",
    "Однако в данном случае группа А выигрывает у группы В по среднему чеку на 0,6%. С сырыми данными это значение равнялось 25.9%,  и группа В выиграла. После очистки данных разница в среднем чеке стала минимальной."
   ]
  },
  {
   "cell_type": "markdown",
   "metadata": {},
   "source": [
    "### Вывод"
   ]
  },
  {
   "cell_type": "markdown",
   "metadata": {},
   "source": [
    "**Приоритизация гипотез по ICE, RICE**\n",
    "\n",
    "Топ-5 гипотез по фреймворку ICE (после топ-5 идет сильный разрыв по показателю):\n",
    "\n",
    "- Запустить акцию, дающую скидку на товар в день рождения\n",
    "- Добавить два новых канала привлечения трафика, что позволит привлекать на 30% больше пользователей\n",
    "- Добавить форму подписки на все основные страницы, чтобы собрать базу клиентов для email-рассылок\n",
    "- Показать на главной странице баннеры с актуальными акциями и распродажами, чтобы увеличить конверсию\n",
    "- Добавить блоки рекомендаций товаров на сайт интернет магазина, чтобы повысить конверсию и средний чек заказа\n",
    "\n",
    "Топ-5 гипотез по фреймворку RICE такие же, только в другом порядке, из-за добавления параметра 'Reach'(скольких пользователей затронет изменение, которое вы хотите внести).\n",
    "\n",
    "- Добавить форму подписки на все основные страницы, чтобы собрать базу клиентов для email-рассылок\n",
    "- Добавить блоки рекомендаций товаров на сайт интернет магазина, чтобы повысить конверсию и средний чек заказа\n",
    "- Добавить два новых канала привлечения трафика, что позволит привлекать на 30% больше пользователей\n",
    "- Показать на главной странице баннеры с актуальными акциями и распродажами, чтобы увеличить конверсию\n",
    "- Запустить акцию, дающую скидку на товар в день рождения\n",
    "\n",
    "'Запустить акцию, дающую скидку на товар в день рождения' - Reach = 1 => значение показателя не меняется.\n",
    "\n",
    "'Добавить форму подписки на все основные страницы, чтобы собрать базу клиентов для email-рассылок' - Reach = 10(макс. значение) => становится первой гипотезой по приоретету по фреймворку RICE, так как изменения охватят большинство пользователей."
   ]
  },
  {
   "cell_type": "markdown",
   "metadata": {},
   "source": [
    "**Анализ A/B-теста**\n",
    "\n",
    "Проведен A/B-тест и получены результаты, которые описаны в файлах /datasets/orders.csv и /datasets/visitors.csv:\n",
    "- Дубликатов нет \n",
    "- Даты начала(2019-08-01) и окончания теста(2019-08-31) совпадают\n",
    "- Количество уникальных пользователей по группам различаются. В группе B на 83 пользователя больше. Один из успешных критериев А/А теста - количество пользователей в различных группах различается не более, чем на 1%. В данном случае этот критерий не выполняется\n",
    "- 58 пользователей находятся в обеих группах\n",
    "\n",
    "*График кумулятивной выручки по группам:* выручка двух групп почти равномерно увеличивалась до 18 августа 2019, однако после этого выручка группы B резко выросла. \n",
    "\n",
    "*График кумулятивного среднего чека по группам* также показывает, что 18 августа значение среднего чека сильно выросло в группе B. Это может сигнализировать о всплесках числа заказов или о появлении очень дорогих заказов в данной группе.\n",
    "*График относительного изменения кумулятивного среднего чека группы B к группе A:* В период со 2 по 10 августа - первый скачок показателя отношения средних чеков, с 18 августа - второй(больше, чем первый). В эти периоды и выручка у группы В превышает выручку группы А.\n",
    "\n",
    "*График кумулятивного среднего количества заказов на посетителя по группам:* До 6 августа значение кумулятивного среднего количества заказов на посетителя у группы B было ниже. 6 августа значения сравнялись, и, после этого, группа В обогнала группу А по данному показателю. С 10 августа у обеих групп показатель стабилизировался. Скорее всего группа В совершила такой скачок по показателям из-за резкого увеличения числа заказов. \n",
    "*График относительного изменения кумулятивного среднего количества заказов на посетителя группы B к группе A:* После 6 августа группа В выигрывает группу А по кумулятивному среднему количеству заказов на одного посетителя. 15 августа разрыв составил больше 20%.\n",
    "\n",
    "*Точечный график количества заказов по пользователям:* В основном, пользователь оформляет 1 заказ, 2 заказа оформляют горазда реже.\n",
    "*Точечный график стоимостей заказов:* Стоимость заказа ниже 200000 ден. ед. Все, что выше - аномалии. Чтобы в этом убедиться посчитаем перцентили.\n",
    "\n",
    "После подсчета выборочных перцентилей количества заказов на одного пользователя *определили аномальных пользователей:* те, кто совершил более 2 заказов или заплатил за заказ более 28000 ден.ед. Таких пользователей - 15.\n",
    "\n",
    "*Статистическая значимость различий в среднем количестве заказов на посетителя между группами по «сырым» данным:* После проверки гипотезы выяснилось что группы различны в среднем количестве заказов на посетителя. Среднее количество заказов на посетителя группы В выше на 13,8% группы А.\n",
    "\n",
    "*Статистическая значимость различий в среднем чеке заказа между группами по «сырым» данным:* Группы не имеют различий. Средний чек группы В выше на 25,9%.Но поскольку значение p-value такое большое, то наблюдаемое различие между группами не является значимым.\n",
    "\n",
    "*Статистическая значимость различий в среднем количестве заказов на посетителя между группами по «очищенным» данным:*\n",
    "Группы различны. После очистки данных среднее количество заказов на посетителя группы В выше на 15,3% группы А. Этот показатель выше по сравнению с сырыми данными.\n",
    "\n",
    "*Статистическая значимость различий в среднем чеке заказа между группами по «очищенным» данным:*\n",
    "Группы не имеют различий, как и в случае с сырыми данными. Однако в данном случае группа А выигрывает у группы В по среднему чеку на 0,6%. С сырыми данными это значение равнялось 25.9%, и группа В выиграла. После очистки данных разница в среднем чеке стала минимальной."
   ]
  },
  {
   "cell_type": "markdown",
   "metadata": {},
   "source": [
    "**Решение по результатам теста:**\n",
    "Остановить тест, зафиксировать победу группы В, поскольку и до очистки данных, и после них данная группа выигрывает по показателю в среднем количестве заказов на посетителя между группами. А по показателю \"средний чек заказа между группами\" группы не имеют различий после проверки гипотез.\n"
   ]
  }
 ],
 "metadata": {
  "ExecuteTimeLog": [
   {
    "duration": 396,
    "start_time": "2023-01-10T09:02:35.252Z"
   },
   {
    "duration": 72,
    "start_time": "2023-01-10T09:03:11.354Z"
   },
   {
    "duration": 26,
    "start_time": "2023-01-10T09:03:25.288Z"
   },
   {
    "duration": 14,
    "start_time": "2023-01-10T09:03:38.294Z"
   },
   {
    "duration": 8,
    "start_time": "2023-01-10T09:03:54.945Z"
   },
   {
    "duration": 32,
    "start_time": "2023-01-10T09:04:05.815Z"
   },
   {
    "duration": 11,
    "start_time": "2023-01-10T09:04:42.026Z"
   },
   {
    "duration": 3,
    "start_time": "2023-01-10T09:10:10.554Z"
   },
   {
    "duration": 11,
    "start_time": "2023-01-10T09:10:45.350Z"
   },
   {
    "duration": 6,
    "start_time": "2023-01-10T09:13:44.282Z"
   },
   {
    "duration": 10,
    "start_time": "2023-01-10T09:14:01.103Z"
   },
   {
    "duration": 61,
    "start_time": "2023-01-10T09:15:19.528Z"
   },
   {
    "duration": 9,
    "start_time": "2023-01-10T09:15:28.053Z"
   },
   {
    "duration": 4,
    "start_time": "2023-01-10T09:17:10.582Z"
   },
   {
    "duration": 11,
    "start_time": "2023-01-10T09:17:11.030Z"
   },
   {
    "duration": 47,
    "start_time": "2023-01-10T09:18:44.880Z"
   },
   {
    "duration": 6,
    "start_time": "2023-01-10T09:23:45.144Z"
   },
   {
    "duration": 162,
    "start_time": "2023-01-10T09:47:32.112Z"
   },
   {
    "duration": 13,
    "start_time": "2023-01-10T09:47:37.223Z"
   },
   {
    "duration": 8,
    "start_time": "2023-01-10T09:47:43.900Z"
   },
   {
    "duration": 7,
    "start_time": "2023-01-10T09:47:53.537Z"
   },
   {
    "duration": 10,
    "start_time": "2023-01-10T09:48:12.948Z"
   },
   {
    "duration": 9,
    "start_time": "2023-01-10T09:48:23.253Z"
   },
   {
    "duration": 8,
    "start_time": "2023-01-10T09:49:31.360Z"
   },
   {
    "duration": 6,
    "start_time": "2023-01-10T09:52:57.806Z"
   },
   {
    "duration": 13,
    "start_time": "2023-01-10T09:53:07.797Z"
   },
   {
    "duration": 10,
    "start_time": "2023-01-10T09:53:20.144Z"
   },
   {
    "duration": 465,
    "start_time": "2023-01-10T09:57:48.988Z"
   },
   {
    "duration": 10,
    "start_time": "2023-01-10T09:58:07.287Z"
   },
   {
    "duration": 264,
    "start_time": "2023-01-10T10:02:23.427Z"
   },
   {
    "duration": 599,
    "start_time": "2023-01-10T10:02:52.111Z"
   },
   {
    "duration": 34,
    "start_time": "2023-01-10T10:02:52.712Z"
   },
   {
    "duration": 1085,
    "start_time": "2023-01-10T10:02:52.748Z"
   },
   {
    "duration": 0,
    "start_time": "2023-01-10T10:02:53.835Z"
   },
   {
    "duration": 0,
    "start_time": "2023-01-10T10:02:53.837Z"
   },
   {
    "duration": 0,
    "start_time": "2023-01-10T10:02:53.838Z"
   },
   {
    "duration": 0,
    "start_time": "2023-01-10T10:02:53.840Z"
   },
   {
    "duration": 0,
    "start_time": "2023-01-10T10:02:53.841Z"
   },
   {
    "duration": 0,
    "start_time": "2023-01-10T10:02:53.842Z"
   },
   {
    "duration": 0,
    "start_time": "2023-01-10T10:02:53.843Z"
   },
   {
    "duration": 0,
    "start_time": "2023-01-10T10:02:53.844Z"
   },
   {
    "duration": 0,
    "start_time": "2023-01-10T10:02:53.845Z"
   },
   {
    "duration": 0,
    "start_time": "2023-01-10T10:02:53.847Z"
   },
   {
    "duration": 0,
    "start_time": "2023-01-10T10:02:53.848Z"
   },
   {
    "duration": 0,
    "start_time": "2023-01-10T10:02:53.849Z"
   },
   {
    "duration": 0,
    "start_time": "2023-01-10T10:02:53.851Z"
   },
   {
    "duration": 0,
    "start_time": "2023-01-10T10:02:53.852Z"
   },
   {
    "duration": 0,
    "start_time": "2023-01-10T10:02:53.853Z"
   },
   {
    "duration": 0,
    "start_time": "2023-01-10T10:02:53.855Z"
   },
   {
    "duration": 5,
    "start_time": "2023-01-10T10:03:23.998Z"
   },
   {
    "duration": 10,
    "start_time": "2023-01-10T10:03:25.552Z"
   },
   {
    "duration": 3,
    "start_time": "2023-01-10T10:03:25.870Z"
   },
   {
    "duration": 7,
    "start_time": "2023-01-10T10:03:26.337Z"
   },
   {
    "duration": 13,
    "start_time": "2023-01-10T10:03:26.497Z"
   },
   {
    "duration": 4,
    "start_time": "2023-01-10T10:03:26.989Z"
   },
   {
    "duration": 10,
    "start_time": "2023-01-10T10:03:27.138Z"
   },
   {
    "duration": 62,
    "start_time": "2023-01-10T10:03:28.014Z"
   },
   {
    "duration": 8,
    "start_time": "2023-01-10T10:03:28.194Z"
   },
   {
    "duration": 8,
    "start_time": "2023-01-10T10:03:28.356Z"
   },
   {
    "duration": 11,
    "start_time": "2023-01-10T10:03:28.536Z"
   },
   {
    "duration": 9,
    "start_time": "2023-01-10T10:03:28.708Z"
   },
   {
    "duration": 9,
    "start_time": "2023-01-10T10:03:29.077Z"
   },
   {
    "duration": 3,
    "start_time": "2023-01-10T10:03:29.443Z"
   },
   {
    "duration": 8,
    "start_time": "2023-01-10T10:03:30.158Z"
   },
   {
    "duration": 197,
    "start_time": "2023-01-10T10:03:32.725Z"
   },
   {
    "duration": 223,
    "start_time": "2023-01-10T10:04:20.208Z"
   },
   {
    "duration": 5,
    "start_time": "2023-01-10T10:04:42.334Z"
   },
   {
    "duration": 206,
    "start_time": "2023-01-10T10:04:44.739Z"
   },
   {
    "duration": 2,
    "start_time": "2023-01-10T10:04:57.687Z"
   },
   {
    "duration": 258,
    "start_time": "2023-01-10T10:04:59.209Z"
   },
   {
    "duration": 3,
    "start_time": "2023-01-10T10:05:04.331Z"
   },
   {
    "duration": 31,
    "start_time": "2023-01-10T10:05:04.807Z"
   },
   {
    "duration": 5,
    "start_time": "2023-01-10T10:05:04.978Z"
   },
   {
    "duration": 12,
    "start_time": "2023-01-10T10:05:05.154Z"
   },
   {
    "duration": 3,
    "start_time": "2023-01-10T10:05:05.489Z"
   },
   {
    "duration": 5,
    "start_time": "2023-01-10T10:05:05.957Z"
   },
   {
    "duration": 9,
    "start_time": "2023-01-10T10:05:06.110Z"
   },
   {
    "duration": 4,
    "start_time": "2023-01-10T10:05:06.458Z"
   },
   {
    "duration": 11,
    "start_time": "2023-01-10T10:05:06.630Z"
   },
   {
    "duration": 64,
    "start_time": "2023-01-10T10:05:07.432Z"
   },
   {
    "duration": 8,
    "start_time": "2023-01-10T10:05:07.622Z"
   },
   {
    "duration": 8,
    "start_time": "2023-01-10T10:05:07.793Z"
   },
   {
    "duration": 12,
    "start_time": "2023-01-10T10:05:07.973Z"
   },
   {
    "duration": 10,
    "start_time": "2023-01-10T10:05:08.186Z"
   },
   {
    "duration": 9,
    "start_time": "2023-01-10T10:05:08.548Z"
   },
   {
    "duration": 2,
    "start_time": "2023-01-10T10:05:08.922Z"
   },
   {
    "duration": 3,
    "start_time": "2023-01-10T10:05:10.746Z"
   },
   {
    "duration": 256,
    "start_time": "2023-01-10T10:05:11.503Z"
   },
   {
    "duration": 39,
    "start_time": "2023-01-10T10:05:42.774Z"
   },
   {
    "duration": 207,
    "start_time": "2023-01-10T10:06:31.920Z"
   },
   {
    "duration": 643,
    "start_time": "2023-01-10T10:06:49.422Z"
   },
   {
    "duration": 36,
    "start_time": "2023-01-10T10:06:50.067Z"
   },
   {
    "duration": 4,
    "start_time": "2023-01-10T10:06:50.105Z"
   },
   {
    "duration": 23,
    "start_time": "2023-01-10T10:06:50.111Z"
   },
   {
    "duration": 13,
    "start_time": "2023-01-10T10:06:50.137Z"
   },
   {
    "duration": 17,
    "start_time": "2023-01-10T10:06:50.152Z"
   },
   {
    "duration": 19,
    "start_time": "2023-01-10T10:06:50.172Z"
   },
   {
    "duration": 17,
    "start_time": "2023-01-10T10:06:50.192Z"
   },
   {
    "duration": 32,
    "start_time": "2023-01-10T10:06:50.211Z"
   },
   {
    "duration": 57,
    "start_time": "2023-01-10T10:06:50.245Z"
   },
   {
    "duration": 8,
    "start_time": "2023-01-10T10:06:50.304Z"
   },
   {
    "duration": 13,
    "start_time": "2023-01-10T10:06:50.314Z"
   },
   {
    "duration": 25,
    "start_time": "2023-01-10T10:06:50.329Z"
   },
   {
    "duration": 39,
    "start_time": "2023-01-10T10:06:50.358Z"
   },
   {
    "duration": 29,
    "start_time": "2023-01-10T10:06:50.399Z"
   },
   {
    "duration": 13,
    "start_time": "2023-01-10T10:06:50.429Z"
   },
   {
    "duration": 26,
    "start_time": "2023-01-10T10:06:50.444Z"
   },
   {
    "duration": 303,
    "start_time": "2023-01-10T10:06:50.473Z"
   },
   {
    "duration": 47,
    "start_time": "2023-01-10T10:06:50.777Z"
   },
   {
    "duration": 75,
    "start_time": "2023-01-10T10:07:38.320Z"
   },
   {
    "duration": 267,
    "start_time": "2023-01-10T10:08:27.707Z"
   },
   {
    "duration": 180,
    "start_time": "2023-01-10T10:08:42.274Z"
   },
   {
    "duration": 187,
    "start_time": "2023-01-10T10:09:09.248Z"
   },
   {
    "duration": 273,
    "start_time": "2023-01-10T10:13:49.291Z"
   },
   {
    "duration": 184,
    "start_time": "2023-01-10T10:14:59.571Z"
   },
   {
    "duration": 184,
    "start_time": "2023-01-10T10:16:23.232Z"
   },
   {
    "duration": 166,
    "start_time": "2023-01-10T10:17:45.468Z"
   },
   {
    "duration": 291,
    "start_time": "2023-01-10T10:17:50.982Z"
   },
   {
    "duration": 295,
    "start_time": "2023-01-10T10:18:33.530Z"
   },
   {
    "duration": 297,
    "start_time": "2023-01-10T10:18:40.842Z"
   },
   {
    "duration": 292,
    "start_time": "2023-01-10T10:19:02.903Z"
   },
   {
    "duration": 187,
    "start_time": "2023-01-10T10:28:22.909Z"
   },
   {
    "duration": 241,
    "start_time": "2023-01-10T10:33:31.145Z"
   },
   {
    "duration": 215,
    "start_time": "2023-01-10T10:34:15.854Z"
   },
   {
    "duration": 290,
    "start_time": "2023-01-10T10:34:18.208Z"
   },
   {
    "duration": 170,
    "start_time": "2023-01-10T10:35:29.481Z"
   },
   {
    "duration": 205,
    "start_time": "2023-01-10T10:38:06.375Z"
   },
   {
    "duration": 55,
    "start_time": "2023-01-10T10:40:17.210Z"
   },
   {
    "duration": 275,
    "start_time": "2023-01-10T10:42:31.107Z"
   },
   {
    "duration": 331,
    "start_time": "2023-01-10T10:43:38.783Z"
   },
   {
    "duration": 315,
    "start_time": "2023-01-10T10:47:01.491Z"
   },
   {
    "duration": 307,
    "start_time": "2023-01-10T10:47:27.424Z"
   },
   {
    "duration": 267,
    "start_time": "2023-01-10T10:51:01.650Z"
   },
   {
    "duration": 183,
    "start_time": "2023-01-10T10:54:21.995Z"
   },
   {
    "duration": 177,
    "start_time": "2023-01-10T10:54:37.346Z"
   },
   {
    "duration": 227,
    "start_time": "2023-01-10T10:57:09.369Z"
   },
   {
    "duration": 324,
    "start_time": "2023-01-10T11:00:18.858Z"
   },
   {
    "duration": 237,
    "start_time": "2023-01-10T11:00:26.381Z"
   },
   {
    "duration": 338,
    "start_time": "2023-01-10T11:03:54.466Z"
   },
   {
    "duration": 348,
    "start_time": "2023-01-10T11:07:00.916Z"
   },
   {
    "duration": 319,
    "start_time": "2023-01-10T11:07:58.013Z"
   },
   {
    "duration": 8,
    "start_time": "2023-01-10T11:09:48.655Z"
   },
   {
    "duration": 8,
    "start_time": "2023-01-10T11:10:03.677Z"
   },
   {
    "duration": 129,
    "start_time": "2023-01-10T11:11:06.100Z"
   },
   {
    "duration": 48,
    "start_time": "2023-01-10T11:18:20.711Z"
   },
   {
    "duration": 4,
    "start_time": "2023-01-10T11:20:23.777Z"
   },
   {
    "duration": 44,
    "start_time": "2023-01-10T11:20:31.359Z"
   },
   {
    "duration": 5,
    "start_time": "2023-01-10T11:21:46.853Z"
   },
   {
    "duration": 109,
    "start_time": "2023-01-10T11:24:57.236Z"
   },
   {
    "duration": 140,
    "start_time": "2023-01-10T11:25:20.261Z"
   },
   {
    "duration": 105,
    "start_time": "2023-01-10T11:32:43.394Z"
   },
   {
    "duration": 106,
    "start_time": "2023-01-10T11:35:55.808Z"
   },
   {
    "duration": 97,
    "start_time": "2023-01-10T11:36:16.448Z"
   },
   {
    "duration": 193,
    "start_time": "2023-01-10T11:36:53.065Z"
   },
   {
    "duration": 205,
    "start_time": "2023-01-10T11:37:10.037Z"
   },
   {
    "duration": 146,
    "start_time": "2023-01-10T11:40:15.940Z"
   },
   {
    "duration": 784,
    "start_time": "2023-01-10T11:41:59.328Z"
   },
   {
    "duration": 126,
    "start_time": "2023-01-10T11:43:34.181Z"
   },
   {
    "duration": 11,
    "start_time": "2023-01-10T11:43:34.641Z"
   },
   {
    "duration": 483,
    "start_time": "2023-01-10T11:44:02.713Z"
   },
   {
    "duration": 25,
    "start_time": "2023-01-10T11:44:10.818Z"
   },
   {
    "duration": 1341,
    "start_time": "2023-01-10T15:45:22.539Z"
   },
   {
    "duration": 83,
    "start_time": "2023-01-10T15:45:23.882Z"
   },
   {
    "duration": 5,
    "start_time": "2023-01-10T15:45:23.967Z"
   },
   {
    "duration": 17,
    "start_time": "2023-01-10T15:45:23.974Z"
   },
   {
    "duration": 15,
    "start_time": "2023-01-10T15:45:23.993Z"
   },
   {
    "duration": 24,
    "start_time": "2023-01-10T15:45:24.009Z"
   },
   {
    "duration": 27,
    "start_time": "2023-01-10T15:45:24.035Z"
   },
   {
    "duration": 10,
    "start_time": "2023-01-10T15:45:24.064Z"
   },
   {
    "duration": 18,
    "start_time": "2023-01-10T15:45:24.075Z"
   },
   {
    "duration": 150,
    "start_time": "2023-01-10T15:45:24.094Z"
   },
   {
    "duration": 9,
    "start_time": "2023-01-10T15:45:24.246Z"
   },
   {
    "duration": 10,
    "start_time": "2023-01-10T15:45:24.256Z"
   },
   {
    "duration": 18,
    "start_time": "2023-01-10T15:45:24.268Z"
   },
   {
    "duration": 12,
    "start_time": "2023-01-10T15:45:24.290Z"
   },
   {
    "duration": 13,
    "start_time": "2023-01-10T15:45:24.304Z"
   },
   {
    "duration": 11,
    "start_time": "2023-01-10T15:45:24.318Z"
   },
   {
    "duration": 289,
    "start_time": "2023-01-10T15:45:24.331Z"
   },
   {
    "duration": 320,
    "start_time": "2023-01-10T15:45:24.622Z"
   },
   {
    "duration": 270,
    "start_time": "2023-01-10T15:45:24.944Z"
   },
   {
    "duration": 417,
    "start_time": "2023-01-10T15:45:25.217Z"
   },
   {
    "duration": 222,
    "start_time": "2023-01-10T15:45:25.636Z"
   },
   {
    "duration": 344,
    "start_time": "2023-01-10T15:45:25.859Z"
   },
   {
    "duration": 12,
    "start_time": "2023-01-10T15:45:26.205Z"
   },
   {
    "duration": 181,
    "start_time": "2023-01-10T15:45:26.219Z"
   },
   {
    "duration": 5,
    "start_time": "2023-01-10T15:45:26.401Z"
   },
   {
    "duration": 156,
    "start_time": "2023-01-10T15:45:26.407Z"
   },
   {
    "duration": 12,
    "start_time": "2023-01-10T15:45:26.564Z"
   },
   {
    "duration": 211,
    "start_time": "2023-01-10T15:45:26.578Z"
   },
   {
    "duration": 138,
    "start_time": "2023-01-10T15:45:26.791Z"
   },
   {
    "duration": 26,
    "start_time": "2023-01-10T15:45:26.931Z"
   },
   {
    "duration": 17,
    "start_time": "2023-01-10T15:49:35.606Z"
   },
   {
    "duration": 835,
    "start_time": "2023-01-10T15:52:28.802Z"
   },
   {
    "duration": 1342,
    "start_time": "2023-01-10T15:53:04.607Z"
   },
   {
    "duration": 1066,
    "start_time": "2023-01-10T15:53:29.691Z"
   },
   {
    "duration": 11,
    "start_time": "2023-01-10T15:53:55.438Z"
   },
   {
    "duration": 12,
    "start_time": "2023-01-10T15:55:09.798Z"
   },
   {
    "duration": 43,
    "start_time": "2023-01-10T15:55:26.781Z"
   },
   {
    "duration": 11,
    "start_time": "2023-01-10T15:56:52.128Z"
   },
   {
    "duration": 30,
    "start_time": "2023-01-10T15:56:55.666Z"
   },
   {
    "duration": 10,
    "start_time": "2023-01-10T15:57:38.855Z"
   },
   {
    "duration": 31,
    "start_time": "2023-01-10T15:57:47.791Z"
   },
   {
    "duration": 751,
    "start_time": "2023-01-10T15:58:28.036Z"
   },
   {
    "duration": 15,
    "start_time": "2023-01-10T15:59:05.158Z"
   },
   {
    "duration": 1193,
    "start_time": "2023-01-10T16:08:59.567Z"
   },
   {
    "duration": 4,
    "start_time": "2023-01-10T16:09:10.093Z"
   },
   {
    "duration": 5,
    "start_time": "2023-01-10T16:09:24.735Z"
   },
   {
    "duration": 8,
    "start_time": "2023-01-10T16:10:10.976Z"
   },
   {
    "duration": 7,
    "start_time": "2023-01-10T16:10:34.821Z"
   },
   {
    "duration": 65,
    "start_time": "2023-01-10T16:11:28.007Z"
   },
   {
    "duration": 4,
    "start_time": "2023-01-10T16:12:01.928Z"
   },
   {
    "duration": 6,
    "start_time": "2023-01-10T16:12:19.754Z"
   },
   {
    "duration": 8,
    "start_time": "2023-01-10T16:16:46.409Z"
   },
   {
    "duration": 18,
    "start_time": "2023-01-10T16:17:21.386Z"
   },
   {
    "duration": 24,
    "start_time": "2023-01-10T16:17:25.474Z"
   },
   {
    "duration": 15,
    "start_time": "2023-01-10T16:17:57.414Z"
   },
   {
    "duration": 13,
    "start_time": "2023-01-10T16:19:28.357Z"
   },
   {
    "duration": 16,
    "start_time": "2023-01-10T16:19:36.981Z"
   },
   {
    "duration": 17,
    "start_time": "2023-01-10T16:19:58.433Z"
   },
   {
    "duration": 22,
    "start_time": "2023-01-10T16:28:57.098Z"
   },
   {
    "duration": 9,
    "start_time": "2023-01-10T16:29:48.803Z"
   },
   {
    "duration": 9,
    "start_time": "2023-01-10T16:30:07.660Z"
   },
   {
    "duration": 341,
    "start_time": "2023-01-10T16:39:09.193Z"
   },
   {
    "duration": 340,
    "start_time": "2023-01-10T16:39:27.029Z"
   },
   {
    "duration": 366,
    "start_time": "2023-01-10T16:39:44.307Z"
   },
   {
    "duration": 221,
    "start_time": "2023-01-10T16:40:07.456Z"
   },
   {
    "duration": 291,
    "start_time": "2023-01-10T16:40:19.658Z"
   },
   {
    "duration": 333,
    "start_time": "2023-01-10T16:40:35.518Z"
   },
   {
    "duration": 256,
    "start_time": "2023-01-10T16:40:45.636Z"
   },
   {
    "duration": 187,
    "start_time": "2023-01-10T16:47:07.570Z"
   },
   {
    "duration": 30,
    "start_time": "2023-01-10T17:18:31.930Z"
   },
   {
    "duration": 3,
    "start_time": "2023-01-10T17:19:48.874Z"
   },
   {
    "duration": 32,
    "start_time": "2023-01-10T17:19:49.043Z"
   },
   {
    "duration": 5,
    "start_time": "2023-01-10T17:19:49.220Z"
   },
   {
    "duration": 9,
    "start_time": "2023-01-10T17:19:49.410Z"
   },
   {
    "duration": 3,
    "start_time": "2023-01-10T17:19:49.778Z"
   },
   {
    "duration": 4,
    "start_time": "2023-01-10T17:19:50.310Z"
   },
   {
    "duration": 8,
    "start_time": "2023-01-10T17:19:50.486Z"
   },
   {
    "duration": 4,
    "start_time": "2023-01-10T17:19:50.840Z"
   },
   {
    "duration": 10,
    "start_time": "2023-01-10T17:19:51.029Z"
   },
   {
    "duration": 60,
    "start_time": "2023-01-10T17:19:51.977Z"
   },
   {
    "duration": 8,
    "start_time": "2023-01-10T17:19:52.150Z"
   },
   {
    "duration": 8,
    "start_time": "2023-01-10T17:19:52.331Z"
   },
   {
    "duration": 11,
    "start_time": "2023-01-10T17:19:52.558Z"
   },
   {
    "duration": 10,
    "start_time": "2023-01-10T17:19:52.732Z"
   },
   {
    "duration": 7,
    "start_time": "2023-01-10T17:19:53.118Z"
   },
   {
    "duration": 6,
    "start_time": "2023-01-10T17:19:53.493Z"
   },
   {
    "duration": 7,
    "start_time": "2023-01-10T17:19:53.701Z"
   },
   {
    "duration": 5,
    "start_time": "2023-01-10T17:19:54.086Z"
   },
   {
    "duration": 9,
    "start_time": "2023-01-10T17:19:54.483Z"
   },
   {
    "duration": 3,
    "start_time": "2023-01-10T17:19:55.071Z"
   },
   {
    "duration": 324,
    "start_time": "2023-01-10T17:19:55.266Z"
   },
   {
    "duration": 213,
    "start_time": "2023-01-10T17:19:55.592Z"
   },
   {
    "duration": 199,
    "start_time": "2023-01-10T17:19:56.110Z"
   },
   {
    "duration": 265,
    "start_time": "2023-01-10T17:19:56.719Z"
   },
   {
    "duration": 227,
    "start_time": "2023-01-10T17:19:57.357Z"
   },
   {
    "duration": 320,
    "start_time": "2023-01-10T17:19:58.022Z"
   },
   {
    "duration": 10,
    "start_time": "2023-01-10T17:20:02.858Z"
   },
   {
    "duration": 246,
    "start_time": "2023-01-10T17:20:03.014Z"
   },
   {
    "duration": 5,
    "start_time": "2023-01-10T17:20:03.628Z"
   },
   {
    "duration": 148,
    "start_time": "2023-01-10T17:20:06.536Z"
   },
   {
    "duration": 4,
    "start_time": "2023-01-10T17:20:09.812Z"
   },
   {
    "duration": 170,
    "start_time": "2023-01-10T17:20:15.480Z"
   },
   {
    "duration": 1118,
    "start_time": "2023-01-10T17:20:30.360Z"
   },
   {
    "duration": 36,
    "start_time": "2023-01-10T17:20:31.480Z"
   },
   {
    "duration": 5,
    "start_time": "2023-01-10T17:20:31.518Z"
   },
   {
    "duration": 17,
    "start_time": "2023-01-10T17:20:31.526Z"
   },
   {
    "duration": 10,
    "start_time": "2023-01-10T17:20:31.545Z"
   },
   {
    "duration": 5,
    "start_time": "2023-01-10T17:20:31.834Z"
   },
   {
    "duration": 10,
    "start_time": "2023-01-10T17:20:32.014Z"
   },
   {
    "duration": 4,
    "start_time": "2023-01-10T17:20:32.418Z"
   },
   {
    "duration": 10,
    "start_time": "2023-01-10T17:20:32.580Z"
   },
   {
    "duration": 60,
    "start_time": "2023-01-10T17:20:33.523Z"
   },
   {
    "duration": 8,
    "start_time": "2023-01-10T17:20:33.733Z"
   },
   {
    "duration": 8,
    "start_time": "2023-01-10T17:20:33.894Z"
   },
   {
    "duration": 10,
    "start_time": "2023-01-10T17:20:34.084Z"
   },
   {
    "duration": 11,
    "start_time": "2023-01-10T17:20:34.298Z"
   },
   {
    "duration": 8,
    "start_time": "2023-01-10T17:20:34.696Z"
   },
   {
    "duration": 8,
    "start_time": "2023-01-10T17:20:35.093Z"
   },
   {
    "duration": 7,
    "start_time": "2023-01-10T17:20:35.281Z"
   },
   {
    "duration": 6,
    "start_time": "2023-01-10T17:20:35.694Z"
   },
   {
    "duration": 8,
    "start_time": "2023-01-10T17:20:36.066Z"
   },
   {
    "duration": 8,
    "start_time": "2023-01-10T17:20:36.651Z"
   },
   {
    "duration": 282,
    "start_time": "2023-01-10T17:20:36.842Z"
   },
   {
    "duration": 308,
    "start_time": "2023-01-10T17:20:37.126Z"
   },
   {
    "duration": 180,
    "start_time": "2023-01-10T17:20:40.184Z"
   },
   {
    "duration": 259,
    "start_time": "2023-01-10T17:20:40.724Z"
   },
   {
    "duration": 227,
    "start_time": "2023-01-10T17:20:41.265Z"
   },
   {
    "duration": 315,
    "start_time": "2023-01-10T17:20:41.801Z"
   },
   {
    "duration": 9,
    "start_time": "2023-01-10T17:20:42.384Z"
   },
   {
    "duration": 152,
    "start_time": "2023-01-10T17:20:42.572Z"
   },
   {
    "duration": 4,
    "start_time": "2023-01-10T17:20:43.169Z"
   },
   {
    "duration": 150,
    "start_time": "2023-01-10T17:20:48.052Z"
   },
   {
    "duration": 4,
    "start_time": "2023-01-10T17:20:53.369Z"
   },
   {
    "duration": 152,
    "start_time": "2023-01-10T17:20:57.745Z"
   },
   {
    "duration": 29,
    "start_time": "2023-01-10T17:21:00.522Z"
   },
   {
    "duration": 1011,
    "start_time": "2023-01-10T17:21:33.009Z"
   },
   {
    "duration": 35,
    "start_time": "2023-01-10T17:21:34.022Z"
   },
   {
    "duration": 5,
    "start_time": "2023-01-10T17:21:34.058Z"
   },
   {
    "duration": 12,
    "start_time": "2023-01-10T17:21:34.064Z"
   },
   {
    "duration": 4,
    "start_time": "2023-01-10T17:21:34.078Z"
   },
   {
    "duration": 7,
    "start_time": "2023-01-10T17:21:34.084Z"
   },
   {
    "duration": 13,
    "start_time": "2023-01-10T17:21:34.093Z"
   },
   {
    "duration": 5,
    "start_time": "2023-01-10T17:21:34.107Z"
   },
   {
    "duration": 10,
    "start_time": "2023-01-10T17:21:34.113Z"
   },
   {
    "duration": 50,
    "start_time": "2023-01-10T17:21:34.125Z"
   },
   {
    "duration": 8,
    "start_time": "2023-01-10T17:21:34.176Z"
   },
   {
    "duration": 13,
    "start_time": "2023-01-10T17:21:34.185Z"
   },
   {
    "duration": 13,
    "start_time": "2023-01-10T17:21:34.200Z"
   },
   {
    "duration": 10,
    "start_time": "2023-01-10T17:21:34.215Z"
   },
   {
    "duration": 9,
    "start_time": "2023-01-10T17:21:34.227Z"
   },
   {
    "duration": 5,
    "start_time": "2023-01-10T17:21:34.238Z"
   },
   {
    "duration": 34,
    "start_time": "2023-01-10T17:21:34.244Z"
   },
   {
    "duration": 6,
    "start_time": "2023-01-10T17:21:34.279Z"
   },
   {
    "duration": 11,
    "start_time": "2023-01-10T17:21:34.286Z"
   },
   {
    "duration": 7,
    "start_time": "2023-01-10T17:21:34.299Z"
   },
   {
    "duration": 309,
    "start_time": "2023-01-10T17:21:34.307Z"
   },
   {
    "duration": 350,
    "start_time": "2023-01-10T17:21:34.618Z"
   },
   {
    "duration": 221,
    "start_time": "2023-01-10T17:21:34.970Z"
   },
   {
    "duration": 314,
    "start_time": "2023-01-10T17:21:35.192Z"
   },
   {
    "duration": 244,
    "start_time": "2023-01-10T17:21:35.508Z"
   },
   {
    "duration": 367,
    "start_time": "2023-01-10T17:21:35.755Z"
   },
   {
    "duration": 9,
    "start_time": "2023-01-10T17:21:36.124Z"
   },
   {
    "duration": 144,
    "start_time": "2023-01-10T17:21:36.134Z"
   },
   {
    "duration": 4,
    "start_time": "2023-01-10T17:21:36.279Z"
   },
   {
    "duration": 154,
    "start_time": "2023-01-10T17:21:36.285Z"
   },
   {
    "duration": 4,
    "start_time": "2023-01-10T17:21:36.441Z"
   },
   {
    "duration": 136,
    "start_time": "2023-01-10T17:21:36.446Z"
   },
   {
    "duration": 28,
    "start_time": "2023-01-10T17:21:36.584Z"
   },
   {
    "duration": 11,
    "start_time": "2023-01-10T17:21:36.613Z"
   },
   {
    "duration": 9,
    "start_time": "2023-01-10T17:21:36.625Z"
   },
   {
    "duration": 117,
    "start_time": "2023-01-10T17:21:36.636Z"
   },
   {
    "duration": 0,
    "start_time": "2023-01-10T17:21:36.755Z"
   },
   {
    "duration": 336,
    "start_time": "2023-01-10T17:33:05.314Z"
   },
   {
    "duration": 394,
    "start_time": "2023-01-10T17:33:37.821Z"
   },
   {
    "duration": 324,
    "start_time": "2023-01-10T17:34:09.244Z"
   },
   {
    "duration": 348,
    "start_time": "2023-01-10T17:34:16.775Z"
   },
   {
    "duration": 9,
    "start_time": "2023-01-10T17:50:42.001Z"
   },
   {
    "duration": 127,
    "start_time": "2023-01-10T17:51:26.685Z"
   },
   {
    "duration": 141,
    "start_time": "2023-01-10T17:54:13.373Z"
   },
   {
    "duration": 159,
    "start_time": "2023-01-10T18:01:08.778Z"
   },
   {
    "duration": 47,
    "start_time": "2023-01-11T10:01:18.717Z"
   },
   {
    "duration": 1236,
    "start_time": "2023-01-11T10:01:27.452Z"
   },
   {
    "duration": 79,
    "start_time": "2023-01-11T10:01:28.689Z"
   },
   {
    "duration": 6,
    "start_time": "2023-01-11T10:01:28.769Z"
   },
   {
    "duration": 19,
    "start_time": "2023-01-11T10:01:28.778Z"
   },
   {
    "duration": 22,
    "start_time": "2023-01-11T10:01:28.798Z"
   },
   {
    "duration": 12,
    "start_time": "2023-01-11T10:01:28.821Z"
   },
   {
    "duration": 11,
    "start_time": "2023-01-11T10:01:28.834Z"
   },
   {
    "duration": 6,
    "start_time": "2023-01-11T10:01:28.846Z"
   },
   {
    "duration": 10,
    "start_time": "2023-01-11T10:01:28.853Z"
   },
   {
    "duration": 151,
    "start_time": "2023-01-11T10:01:28.865Z"
   },
   {
    "duration": 8,
    "start_time": "2023-01-11T10:01:29.018Z"
   },
   {
    "duration": 11,
    "start_time": "2023-01-11T10:01:29.027Z"
   },
   {
    "duration": 11,
    "start_time": "2023-01-11T10:01:29.039Z"
   },
   {
    "duration": 20,
    "start_time": "2023-01-11T10:01:29.051Z"
   },
   {
    "duration": 9,
    "start_time": "2023-01-11T10:01:29.073Z"
   },
   {
    "duration": 7,
    "start_time": "2023-01-11T10:01:29.083Z"
   },
   {
    "duration": 10,
    "start_time": "2023-01-11T10:01:29.092Z"
   },
   {
    "duration": 10,
    "start_time": "2023-01-11T10:01:29.104Z"
   },
   {
    "duration": 20,
    "start_time": "2023-01-11T10:01:29.115Z"
   },
   {
    "duration": 8,
    "start_time": "2023-01-11T10:01:29.136Z"
   },
   {
    "duration": 290,
    "start_time": "2023-01-11T10:01:29.145Z"
   },
   {
    "duration": 275,
    "start_time": "2023-01-11T10:01:29.437Z"
   },
   {
    "duration": 192,
    "start_time": "2023-01-11T10:01:29.714Z"
   },
   {
    "duration": 379,
    "start_time": "2023-01-11T10:01:29.908Z"
   },
   {
    "duration": 217,
    "start_time": "2023-01-11T10:01:30.289Z"
   },
   {
    "duration": 329,
    "start_time": "2023-01-11T10:01:30.508Z"
   },
   {
    "duration": 9,
    "start_time": "2023-01-11T10:01:30.839Z"
   },
   {
    "duration": 157,
    "start_time": "2023-01-11T10:01:30.850Z"
   },
   {
    "duration": 4,
    "start_time": "2023-01-11T10:01:31.009Z"
   },
   {
    "duration": 158,
    "start_time": "2023-01-11T10:01:31.015Z"
   },
   {
    "duration": 3,
    "start_time": "2023-01-11T10:01:31.175Z"
   },
   {
    "duration": 130,
    "start_time": "2023-01-11T10:01:31.180Z"
   },
   {
    "duration": 40,
    "start_time": "2023-01-11T10:01:31.312Z"
   },
   {
    "duration": 10,
    "start_time": "2023-01-11T10:01:31.354Z"
   },
   {
    "duration": 19,
    "start_time": "2023-01-11T10:01:31.365Z"
   },
   {
    "duration": 112,
    "start_time": "2023-01-11T10:01:31.385Z"
   },
   {
    "duration": 0,
    "start_time": "2023-01-11T10:01:31.498Z"
   },
   {
    "duration": 9,
    "start_time": "2023-01-11T10:09:44.983Z"
   },
   {
    "duration": 13,
    "start_time": "2023-01-11T10:25:04.773Z"
   },
   {
    "duration": 16,
    "start_time": "2023-01-11T10:25:08.362Z"
   },
   {
    "duration": 1068,
    "start_time": "2023-01-11T10:25:27.490Z"
   },
   {
    "duration": 35,
    "start_time": "2023-01-11T10:25:28.560Z"
   },
   {
    "duration": 5,
    "start_time": "2023-01-11T10:25:28.596Z"
   },
   {
    "duration": 12,
    "start_time": "2023-01-11T10:25:28.603Z"
   },
   {
    "duration": 9,
    "start_time": "2023-01-11T10:25:28.616Z"
   },
   {
    "duration": 16,
    "start_time": "2023-01-11T10:25:28.627Z"
   },
   {
    "duration": 13,
    "start_time": "2023-01-11T10:25:28.645Z"
   },
   {
    "duration": 7,
    "start_time": "2023-01-11T10:25:28.660Z"
   },
   {
    "duration": 12,
    "start_time": "2023-01-11T10:25:28.668Z"
   },
   {
    "duration": 49,
    "start_time": "2023-01-11T10:25:28.683Z"
   },
   {
    "duration": 8,
    "start_time": "2023-01-11T10:25:28.734Z"
   },
   {
    "duration": 15,
    "start_time": "2023-01-11T10:25:28.745Z"
   },
   {
    "duration": 18,
    "start_time": "2023-01-11T10:25:28.762Z"
   },
   {
    "duration": 12,
    "start_time": "2023-01-11T10:25:28.782Z"
   },
   {
    "duration": 10,
    "start_time": "2023-01-11T10:25:28.796Z"
   },
   {
    "duration": 27,
    "start_time": "2023-01-11T10:25:28.808Z"
   },
   {
    "duration": 6,
    "start_time": "2023-01-11T10:25:28.837Z"
   },
   {
    "duration": 11,
    "start_time": "2023-01-11T10:25:28.845Z"
   },
   {
    "duration": 12,
    "start_time": "2023-01-11T10:25:28.858Z"
   },
   {
    "duration": 8,
    "start_time": "2023-01-11T10:25:28.872Z"
   },
   {
    "duration": 316,
    "start_time": "2023-01-11T10:25:28.881Z"
   },
   {
    "duration": 308,
    "start_time": "2023-01-11T10:25:29.199Z"
   },
   {
    "duration": 203,
    "start_time": "2023-01-11T10:25:29.509Z"
   },
   {
    "duration": 353,
    "start_time": "2023-01-11T10:25:29.714Z"
   },
   {
    "duration": 228,
    "start_time": "2023-01-11T10:25:30.068Z"
   },
   {
    "duration": 366,
    "start_time": "2023-01-11T10:25:30.298Z"
   },
   {
    "duration": 10,
    "start_time": "2023-01-11T10:25:30.666Z"
   },
   {
    "duration": 165,
    "start_time": "2023-01-11T10:25:30.679Z"
   },
   {
    "duration": 6,
    "start_time": "2023-01-11T10:25:30.845Z"
   },
   {
    "duration": 198,
    "start_time": "2023-01-11T10:25:30.852Z"
   },
   {
    "duration": 5,
    "start_time": "2023-01-11T10:25:31.051Z"
   },
   {
    "duration": 186,
    "start_time": "2023-01-11T10:25:31.058Z"
   },
   {
    "duration": 35,
    "start_time": "2023-01-11T10:25:31.245Z"
   },
   {
    "duration": 50,
    "start_time": "2023-01-11T10:25:31.282Z"
   },
   {
    "duration": 62,
    "start_time": "2023-01-11T10:25:31.335Z"
   },
   {
    "duration": 172,
    "start_time": "2023-01-11T10:25:31.399Z"
   },
   {
    "duration": 0,
    "start_time": "2023-01-11T10:25:31.572Z"
   },
   {
    "duration": 239,
    "start_time": "2023-01-11T10:30:51.443Z"
   },
   {
    "duration": 153,
    "start_time": "2023-01-11T10:30:52.832Z"
   },
   {
    "duration": 35,
    "start_time": "2023-01-11T10:30:53.564Z"
   },
   {
    "duration": 12,
    "start_time": "2023-01-11T10:31:04.303Z"
   },
   {
    "duration": 11,
    "start_time": "2023-01-11T10:31:07.786Z"
   },
   {
    "duration": 31,
    "start_time": "2023-01-11T10:31:10.063Z"
   },
   {
    "duration": 104,
    "start_time": "2023-01-11T10:38:59.772Z"
   },
   {
    "duration": 15,
    "start_time": "2023-01-11T10:39:11.683Z"
   },
   {
    "duration": 1322,
    "start_time": "2023-01-12T07:48:54.945Z"
   },
   {
    "duration": 86,
    "start_time": "2023-01-12T07:48:56.269Z"
   },
   {
    "duration": 5,
    "start_time": "2023-01-12T07:48:56.357Z"
   },
   {
    "duration": 15,
    "start_time": "2023-01-12T07:48:56.364Z"
   },
   {
    "duration": 6,
    "start_time": "2023-01-12T07:48:56.381Z"
   },
   {
    "duration": 7,
    "start_time": "2023-01-12T07:48:56.389Z"
   },
   {
    "duration": 10,
    "start_time": "2023-01-12T07:48:56.398Z"
   },
   {
    "duration": 6,
    "start_time": "2023-01-12T07:48:56.409Z"
   },
   {
    "duration": 11,
    "start_time": "2023-01-12T07:48:56.417Z"
   },
   {
    "duration": 162,
    "start_time": "2023-01-12T07:48:56.430Z"
   },
   {
    "duration": 9,
    "start_time": "2023-01-12T07:48:56.593Z"
   },
   {
    "duration": 10,
    "start_time": "2023-01-12T07:48:56.603Z"
   },
   {
    "duration": 12,
    "start_time": "2023-01-12T07:48:56.615Z"
   },
   {
    "duration": 14,
    "start_time": "2023-01-12T07:48:56.629Z"
   },
   {
    "duration": 10,
    "start_time": "2023-01-12T07:48:56.645Z"
   },
   {
    "duration": 24,
    "start_time": "2023-01-12T07:48:56.657Z"
   },
   {
    "duration": 10,
    "start_time": "2023-01-12T07:48:56.682Z"
   },
   {
    "duration": 13,
    "start_time": "2023-01-12T07:48:56.694Z"
   },
   {
    "duration": 10,
    "start_time": "2023-01-12T07:48:56.709Z"
   },
   {
    "duration": 9,
    "start_time": "2023-01-12T07:48:56.721Z"
   },
   {
    "duration": 340,
    "start_time": "2023-01-12T07:48:56.732Z"
   },
   {
    "duration": 298,
    "start_time": "2023-01-12T07:48:57.074Z"
   },
   {
    "duration": 214,
    "start_time": "2023-01-12T07:48:57.374Z"
   },
   {
    "duration": 349,
    "start_time": "2023-01-12T07:48:57.590Z"
   },
   {
    "duration": 249,
    "start_time": "2023-01-12T07:48:57.942Z"
   },
   {
    "duration": 326,
    "start_time": "2023-01-12T07:48:58.193Z"
   },
   {
    "duration": 9,
    "start_time": "2023-01-12T07:48:58.521Z"
   },
   {
    "duration": 159,
    "start_time": "2023-01-12T07:48:58.533Z"
   },
   {
    "duration": 5,
    "start_time": "2023-01-12T07:48:58.693Z"
   },
   {
    "duration": 169,
    "start_time": "2023-01-12T07:48:58.699Z"
   },
   {
    "duration": 9,
    "start_time": "2023-01-12T07:48:58.870Z"
   },
   {
    "duration": 271,
    "start_time": "2023-01-12T07:48:58.881Z"
   },
   {
    "duration": 157,
    "start_time": "2023-01-12T07:48:59.153Z"
   },
   {
    "duration": 31,
    "start_time": "2023-01-12T07:48:59.312Z"
   },
   {
    "duration": 11,
    "start_time": "2023-01-12T07:48:59.345Z"
   },
   {
    "duration": 26,
    "start_time": "2023-01-12T07:48:59.358Z"
   },
   {
    "duration": 36,
    "start_time": "2023-01-12T07:48:59.386Z"
   },
   {
    "duration": 15,
    "start_time": "2023-01-12T07:48:59.424Z"
   },
   {
    "duration": 11,
    "start_time": "2023-01-12T07:59:35.071Z"
   },
   {
    "duration": 35,
    "start_time": "2023-01-12T07:59:35.566Z"
   },
   {
    "duration": 16,
    "start_time": "2023-01-12T07:59:54.722Z"
   },
   {
    "duration": 15,
    "start_time": "2023-01-12T08:00:07.103Z"
   },
   {
    "duration": 33,
    "start_time": "2023-01-12T08:03:53.057Z"
   },
   {
    "duration": 1078,
    "start_time": "2023-01-12T08:04:15.814Z"
   },
   {
    "duration": 41,
    "start_time": "2023-01-12T08:04:16.895Z"
   },
   {
    "duration": 6,
    "start_time": "2023-01-12T08:04:16.937Z"
   },
   {
    "duration": 16,
    "start_time": "2023-01-12T08:04:16.945Z"
   },
   {
    "duration": 18,
    "start_time": "2023-01-12T08:04:16.964Z"
   },
   {
    "duration": 9,
    "start_time": "2023-01-12T08:04:16.984Z"
   },
   {
    "duration": 13,
    "start_time": "2023-01-12T08:04:16.994Z"
   },
   {
    "duration": 7,
    "start_time": "2023-01-12T08:04:17.009Z"
   },
   {
    "duration": 17,
    "start_time": "2023-01-12T08:04:17.018Z"
   },
   {
    "duration": 57,
    "start_time": "2023-01-12T08:04:17.037Z"
   },
   {
    "duration": 9,
    "start_time": "2023-01-12T08:04:17.095Z"
   },
   {
    "duration": 10,
    "start_time": "2023-01-12T08:04:17.106Z"
   },
   {
    "duration": 19,
    "start_time": "2023-01-12T08:04:17.117Z"
   },
   {
    "duration": 14,
    "start_time": "2023-01-12T08:04:17.139Z"
   },
   {
    "duration": 10,
    "start_time": "2023-01-12T08:04:17.155Z"
   },
   {
    "duration": 11,
    "start_time": "2023-01-12T08:04:17.167Z"
   },
   {
    "duration": 5,
    "start_time": "2023-01-12T08:04:17.180Z"
   },
   {
    "duration": 10,
    "start_time": "2023-01-12T08:04:17.186Z"
   },
   {
    "duration": 12,
    "start_time": "2023-01-12T08:04:17.198Z"
   },
   {
    "duration": 9,
    "start_time": "2023-01-12T08:04:17.211Z"
   },
   {
    "duration": 322,
    "start_time": "2023-01-12T08:04:17.222Z"
   },
   {
    "duration": 295,
    "start_time": "2023-01-12T08:04:17.546Z"
   },
   {
    "duration": 222,
    "start_time": "2023-01-12T08:04:17.843Z"
   },
   {
    "duration": 359,
    "start_time": "2023-01-12T08:04:18.067Z"
   },
   {
    "duration": 244,
    "start_time": "2023-01-12T08:04:18.429Z"
   },
   {
    "duration": 332,
    "start_time": "2023-01-12T08:04:18.677Z"
   },
   {
    "duration": 13,
    "start_time": "2023-01-12T08:04:19.011Z"
   },
   {
    "duration": 175,
    "start_time": "2023-01-12T08:04:19.025Z"
   },
   {
    "duration": 4,
    "start_time": "2023-01-12T08:04:19.202Z"
   },
   {
    "duration": 174,
    "start_time": "2023-01-12T08:04:19.208Z"
   },
   {
    "duration": 5,
    "start_time": "2023-01-12T08:04:19.383Z"
   },
   {
    "duration": 153,
    "start_time": "2023-01-12T08:04:19.389Z"
   },
   {
    "duration": 12,
    "start_time": "2023-01-12T08:04:19.544Z"
   },
   {
    "duration": 35,
    "start_time": "2023-01-12T08:04:19.558Z"
   },
   {
    "duration": 10,
    "start_time": "2023-01-12T08:04:19.594Z"
   },
   {
    "duration": 8,
    "start_time": "2023-01-12T08:04:19.606Z"
   },
   {
    "duration": 36,
    "start_time": "2023-01-12T08:04:19.616Z"
   },
   {
    "duration": 35,
    "start_time": "2023-01-12T08:04:19.653Z"
   },
   {
    "duration": 9,
    "start_time": "2023-01-12T08:12:18.745Z"
   },
   {
    "duration": 102,
    "start_time": "2023-01-12T08:18:14.716Z"
   },
   {
    "duration": 6,
    "start_time": "2023-01-12T08:18:36.390Z"
   },
   {
    "duration": 9,
    "start_time": "2023-01-12T08:19:01.747Z"
   },
   {
    "duration": 21,
    "start_time": "2023-01-12T08:20:18.236Z"
   },
   {
    "duration": 22,
    "start_time": "2023-01-12T08:22:05.285Z"
   },
   {
    "duration": 45,
    "start_time": "2023-01-12T08:22:22.381Z"
   },
   {
    "duration": 12,
    "start_time": "2023-01-12T08:22:29.650Z"
   },
   {
    "duration": 32,
    "start_time": "2023-01-12T08:22:50.953Z"
   },
   {
    "duration": 11,
    "start_time": "2023-01-12T08:23:00.591Z"
   },
   {
    "duration": 18,
    "start_time": "2023-01-12T08:23:07.081Z"
   },
   {
    "duration": 10,
    "start_time": "2023-01-12T08:23:15.285Z"
   },
   {
    "duration": 7,
    "start_time": "2023-01-12T08:23:54.062Z"
   },
   {
    "duration": 11,
    "start_time": "2023-01-12T08:24:11.687Z"
   },
   {
    "duration": 3,
    "start_time": "2023-01-12T08:29:07.037Z"
   },
   {
    "duration": 4,
    "start_time": "2023-01-12T08:29:14.411Z"
   },
   {
    "duration": 370,
    "start_time": "2023-01-12T08:29:33.684Z"
   },
   {
    "duration": 79,
    "start_time": "2023-01-12T08:30:09.465Z"
   },
   {
    "duration": 7,
    "start_time": "2023-01-12T08:30:14.508Z"
   },
   {
    "duration": 11,
    "start_time": "2023-01-12T08:31:06.578Z"
   },
   {
    "duration": 11,
    "start_time": "2023-01-12T08:34:07.156Z"
   },
   {
    "duration": 12,
    "start_time": "2023-01-12T08:34:23.117Z"
   },
   {
    "duration": 13,
    "start_time": "2023-01-12T08:34:45.821Z"
   },
   {
    "duration": 15,
    "start_time": "2023-01-12T08:35:03.601Z"
   },
   {
    "duration": 8,
    "start_time": "2023-01-12T08:35:49.120Z"
   },
   {
    "duration": 12,
    "start_time": "2023-01-12T08:36:23.497Z"
   },
   {
    "duration": 10,
    "start_time": "2023-01-12T08:37:12.979Z"
   },
   {
    "duration": 6,
    "start_time": "2023-01-12T08:37:13.713Z"
   },
   {
    "duration": 6,
    "start_time": "2023-01-12T08:39:46.222Z"
   },
   {
    "duration": 6,
    "start_time": "2023-01-12T08:40:16.850Z"
   },
   {
    "duration": 1154,
    "start_time": "2023-01-12T08:41:43.389Z"
   },
   {
    "duration": 38,
    "start_time": "2023-01-12T08:41:44.546Z"
   },
   {
    "duration": 5,
    "start_time": "2023-01-12T08:41:44.586Z"
   },
   {
    "duration": 13,
    "start_time": "2023-01-12T08:41:44.593Z"
   },
   {
    "duration": 9,
    "start_time": "2023-01-12T08:41:44.608Z"
   },
   {
    "duration": 8,
    "start_time": "2023-01-12T08:41:44.619Z"
   },
   {
    "duration": 14,
    "start_time": "2023-01-12T08:41:44.630Z"
   },
   {
    "duration": 5,
    "start_time": "2023-01-12T08:41:44.646Z"
   },
   {
    "duration": 36,
    "start_time": "2023-01-12T08:41:44.653Z"
   },
   {
    "duration": 58,
    "start_time": "2023-01-12T08:41:44.692Z"
   },
   {
    "duration": 9,
    "start_time": "2023-01-12T08:41:44.752Z"
   },
   {
    "duration": 11,
    "start_time": "2023-01-12T08:41:44.763Z"
   },
   {
    "duration": 16,
    "start_time": "2023-01-12T08:41:44.776Z"
   },
   {
    "duration": 15,
    "start_time": "2023-01-12T08:41:44.794Z"
   },
   {
    "duration": 13,
    "start_time": "2023-01-12T08:41:44.811Z"
   },
   {
    "duration": 6,
    "start_time": "2023-01-12T08:41:44.825Z"
   },
   {
    "duration": 9,
    "start_time": "2023-01-12T08:41:44.833Z"
   },
   {
    "duration": 6,
    "start_time": "2023-01-12T08:41:44.844Z"
   },
   {
    "duration": 31,
    "start_time": "2023-01-12T08:41:44.852Z"
   },
   {
    "duration": 10,
    "start_time": "2023-01-12T08:41:44.885Z"
   },
   {
    "duration": 6,
    "start_time": "2023-01-12T08:41:44.896Z"
   },
   {
    "duration": 13,
    "start_time": "2023-01-12T08:41:44.903Z"
   },
   {
    "duration": 339,
    "start_time": "2023-01-12T08:41:44.918Z"
   },
   {
    "duration": 312,
    "start_time": "2023-01-12T08:41:45.258Z"
   },
   {
    "duration": 226,
    "start_time": "2023-01-12T08:41:45.577Z"
   },
   {
    "duration": 316,
    "start_time": "2023-01-12T08:41:45.805Z"
   },
   {
    "duration": 247,
    "start_time": "2023-01-12T08:41:46.123Z"
   },
   {
    "duration": 323,
    "start_time": "2023-01-12T08:41:46.379Z"
   },
   {
    "duration": 10,
    "start_time": "2023-01-12T08:41:46.704Z"
   },
   {
    "duration": 168,
    "start_time": "2023-01-12T08:41:46.715Z"
   },
   {
    "duration": 4,
    "start_time": "2023-01-12T08:41:46.885Z"
   },
   {
    "duration": 182,
    "start_time": "2023-01-12T08:41:46.891Z"
   },
   {
    "duration": 7,
    "start_time": "2023-01-12T08:41:47.074Z"
   },
   {
    "duration": 176,
    "start_time": "2023-01-12T08:41:47.083Z"
   },
   {
    "duration": 24,
    "start_time": "2023-01-12T08:41:47.261Z"
   },
   {
    "duration": 31,
    "start_time": "2023-01-12T08:41:47.288Z"
   },
   {
    "duration": 12,
    "start_time": "2023-01-12T08:41:47.321Z"
   },
   {
    "duration": 10,
    "start_time": "2023-01-12T08:41:47.335Z"
   },
   {
    "duration": 57,
    "start_time": "2023-01-12T08:41:47.347Z"
   },
   {
    "duration": 15,
    "start_time": "2023-01-12T08:41:47.406Z"
   },
   {
    "duration": 227,
    "start_time": "2023-01-12T09:41:18.762Z"
   },
   {
    "duration": 244,
    "start_time": "2023-01-12T09:45:00.436Z"
   },
   {
    "duration": 139,
    "start_time": "2023-01-12T09:46:27.125Z"
   },
   {
    "duration": 163,
    "start_time": "2023-01-12T09:47:00.659Z"
   },
   {
    "duration": 1162,
    "start_time": "2023-01-12T09:47:35.609Z"
   },
   {
    "duration": 38,
    "start_time": "2023-01-12T09:47:36.773Z"
   },
   {
    "duration": 5,
    "start_time": "2023-01-12T09:47:36.813Z"
   },
   {
    "duration": 22,
    "start_time": "2023-01-12T09:47:36.819Z"
   },
   {
    "duration": 6,
    "start_time": "2023-01-12T09:47:36.843Z"
   },
   {
    "duration": 15,
    "start_time": "2023-01-12T09:47:36.851Z"
   },
   {
    "duration": 22,
    "start_time": "2023-01-12T09:47:36.867Z"
   },
   {
    "duration": 7,
    "start_time": "2023-01-12T09:47:36.891Z"
   },
   {
    "duration": 14,
    "start_time": "2023-01-12T09:47:36.900Z"
   },
   {
    "duration": 56,
    "start_time": "2023-01-12T09:47:36.916Z"
   },
   {
    "duration": 9,
    "start_time": "2023-01-12T09:47:36.974Z"
   },
   {
    "duration": 11,
    "start_time": "2023-01-12T09:47:36.984Z"
   },
   {
    "duration": 17,
    "start_time": "2023-01-12T09:47:36.996Z"
   },
   {
    "duration": 10,
    "start_time": "2023-01-12T09:47:37.016Z"
   },
   {
    "duration": 13,
    "start_time": "2023-01-12T09:47:37.028Z"
   },
   {
    "duration": 10,
    "start_time": "2023-01-12T09:47:37.043Z"
   },
   {
    "duration": 27,
    "start_time": "2023-01-12T09:47:37.054Z"
   },
   {
    "duration": 6,
    "start_time": "2023-01-12T09:47:37.083Z"
   },
   {
    "duration": 13,
    "start_time": "2023-01-12T09:47:37.090Z"
   },
   {
    "duration": 11,
    "start_time": "2023-01-12T09:47:37.104Z"
   },
   {
    "duration": 5,
    "start_time": "2023-01-12T09:47:37.116Z"
   },
   {
    "duration": 12,
    "start_time": "2023-01-12T09:47:37.122Z"
   },
   {
    "duration": 350,
    "start_time": "2023-01-12T09:47:37.136Z"
   },
   {
    "duration": 293,
    "start_time": "2023-01-12T09:47:37.488Z"
   },
   {
    "duration": 223,
    "start_time": "2023-01-12T09:47:37.783Z"
   },
   {
    "duration": 335,
    "start_time": "2023-01-12T09:47:38.008Z"
   },
   {
    "duration": 272,
    "start_time": "2023-01-12T09:47:38.346Z"
   },
   {
    "duration": 310,
    "start_time": "2023-01-12T09:47:38.621Z"
   },
   {
    "duration": 10,
    "start_time": "2023-01-12T09:47:38.933Z"
   },
   {
    "duration": 170,
    "start_time": "2023-01-12T09:47:38.945Z"
   },
   {
    "duration": 4,
    "start_time": "2023-01-12T09:47:39.117Z"
   },
   {
    "duration": 171,
    "start_time": "2023-01-12T09:47:39.123Z"
   },
   {
    "duration": 5,
    "start_time": "2023-01-12T09:47:39.295Z"
   },
   {
    "duration": 195,
    "start_time": "2023-01-12T09:47:39.302Z"
   },
   {
    "duration": 11,
    "start_time": "2023-01-12T09:47:39.499Z"
   },
   {
    "duration": 25,
    "start_time": "2023-01-12T09:47:39.512Z"
   },
   {
    "duration": 11,
    "start_time": "2023-01-12T09:47:39.538Z"
   },
   {
    "duration": 35,
    "start_time": "2023-01-12T09:47:39.551Z"
   },
   {
    "duration": 64,
    "start_time": "2023-01-12T09:47:39.588Z"
   },
   {
    "duration": 14,
    "start_time": "2023-01-12T09:47:39.654Z"
   },
   {
    "duration": 1140,
    "start_time": "2023-01-12T10:02:22.211Z"
   },
   {
    "duration": 39,
    "start_time": "2023-01-12T10:02:23.353Z"
   },
   {
    "duration": 5,
    "start_time": "2023-01-12T10:02:23.394Z"
   },
   {
    "duration": 40,
    "start_time": "2023-01-12T10:02:23.401Z"
   },
   {
    "duration": 25,
    "start_time": "2023-01-12T10:02:23.444Z"
   },
   {
    "duration": 29,
    "start_time": "2023-01-12T10:02:23.471Z"
   },
   {
    "duration": 31,
    "start_time": "2023-01-12T10:02:23.502Z"
   },
   {
    "duration": 23,
    "start_time": "2023-01-12T10:02:23.534Z"
   },
   {
    "duration": 48,
    "start_time": "2023-01-12T10:02:23.559Z"
   },
   {
    "duration": 76,
    "start_time": "2023-01-12T10:02:23.609Z"
   },
   {
    "duration": 9,
    "start_time": "2023-01-12T10:02:23.686Z"
   },
   {
    "duration": 32,
    "start_time": "2023-01-12T10:02:23.697Z"
   },
   {
    "duration": 28,
    "start_time": "2023-01-12T10:02:23.731Z"
   },
   {
    "duration": 41,
    "start_time": "2023-01-12T10:02:23.762Z"
   },
   {
    "duration": 28,
    "start_time": "2023-01-12T10:02:23.804Z"
   },
   {
    "duration": 36,
    "start_time": "2023-01-12T10:02:23.834Z"
   },
   {
    "duration": 32,
    "start_time": "2023-01-12T10:02:23.872Z"
   },
   {
    "duration": 30,
    "start_time": "2023-01-12T10:02:23.906Z"
   },
   {
    "duration": 27,
    "start_time": "2023-01-12T10:02:23.938Z"
   },
   {
    "duration": 48,
    "start_time": "2023-01-12T10:02:23.967Z"
   },
   {
    "duration": 29,
    "start_time": "2023-01-12T10:02:24.017Z"
   },
   {
    "duration": 31,
    "start_time": "2023-01-12T10:02:24.047Z"
   },
   {
    "duration": 314,
    "start_time": "2023-01-12T10:02:24.080Z"
   },
   {
    "duration": 298,
    "start_time": "2023-01-12T10:02:24.396Z"
   },
   {
    "duration": 219,
    "start_time": "2023-01-12T10:02:24.695Z"
   },
   {
    "duration": 306,
    "start_time": "2023-01-12T10:02:24.916Z"
   },
   {
    "duration": 248,
    "start_time": "2023-01-12T10:02:25.224Z"
   },
   {
    "duration": 325,
    "start_time": "2023-01-12T10:02:25.474Z"
   },
   {
    "duration": 9,
    "start_time": "2023-01-12T10:02:25.801Z"
   },
   {
    "duration": 175,
    "start_time": "2023-01-12T10:02:25.812Z"
   },
   {
    "duration": 5,
    "start_time": "2023-01-12T10:02:25.988Z"
   },
   {
    "duration": 186,
    "start_time": "2023-01-12T10:02:25.995Z"
   },
   {
    "duration": 5,
    "start_time": "2023-01-12T10:02:26.183Z"
   },
   {
    "duration": 159,
    "start_time": "2023-01-12T10:02:26.190Z"
   },
   {
    "duration": 10,
    "start_time": "2023-01-12T10:02:26.351Z"
   },
   {
    "duration": 35,
    "start_time": "2023-01-12T10:02:26.363Z"
   },
   {
    "duration": 11,
    "start_time": "2023-01-12T10:02:26.399Z"
   },
   {
    "duration": 16,
    "start_time": "2023-01-12T10:02:26.412Z"
   },
   {
    "duration": 50,
    "start_time": "2023-01-12T10:02:26.430Z"
   },
   {
    "duration": 19,
    "start_time": "2023-01-12T10:02:26.482Z"
   },
   {
    "duration": 49,
    "start_time": "2023-01-12T20:02:15.086Z"
   },
   {
    "duration": 1359,
    "start_time": "2023-01-12T20:02:51.504Z"
   },
   {
    "duration": 81,
    "start_time": "2023-01-12T20:02:52.865Z"
   },
   {
    "duration": 8,
    "start_time": "2023-01-12T20:02:52.948Z"
   },
   {
    "duration": 13,
    "start_time": "2023-01-12T20:02:52.959Z"
   },
   {
    "duration": 6,
    "start_time": "2023-01-12T20:02:52.974Z"
   },
   {
    "duration": 8,
    "start_time": "2023-01-12T20:02:52.981Z"
   },
   {
    "duration": 12,
    "start_time": "2023-01-12T20:02:52.990Z"
   },
   {
    "duration": 5,
    "start_time": "2023-01-12T20:02:53.003Z"
   },
   {
    "duration": 28,
    "start_time": "2023-01-12T20:02:53.010Z"
   },
   {
    "duration": 161,
    "start_time": "2023-01-12T20:02:53.042Z"
   },
   {
    "duration": 9,
    "start_time": "2023-01-12T20:02:53.205Z"
   },
   {
    "duration": 22,
    "start_time": "2023-01-12T20:02:53.215Z"
   },
   {
    "duration": 16,
    "start_time": "2023-01-12T20:02:53.239Z"
   },
   {
    "duration": 12,
    "start_time": "2023-01-12T20:02:53.256Z"
   },
   {
    "duration": 10,
    "start_time": "2023-01-12T20:02:53.269Z"
   },
   {
    "duration": 8,
    "start_time": "2023-01-12T20:02:53.281Z"
   },
   {
    "duration": 9,
    "start_time": "2023-01-12T20:02:53.291Z"
   },
   {
    "duration": 12,
    "start_time": "2023-01-12T20:02:53.301Z"
   },
   {
    "duration": 29,
    "start_time": "2023-01-12T20:02:53.314Z"
   },
   {
    "duration": 14,
    "start_time": "2023-01-12T20:02:53.344Z"
   },
   {
    "duration": 4,
    "start_time": "2023-01-12T20:02:53.360Z"
   },
   {
    "duration": 11,
    "start_time": "2023-01-12T20:02:53.365Z"
   },
   {
    "duration": 279,
    "start_time": "2023-01-12T20:02:53.377Z"
   },
   {
    "duration": 290,
    "start_time": "2023-01-12T20:02:53.657Z"
   },
   {
    "duration": 235,
    "start_time": "2023-01-12T20:02:53.948Z"
   },
   {
    "duration": 367,
    "start_time": "2023-01-12T20:02:54.185Z"
   },
   {
    "duration": 222,
    "start_time": "2023-01-12T20:02:54.554Z"
   },
   {
    "duration": 339,
    "start_time": "2023-01-12T20:02:54.779Z"
   },
   {
    "duration": 22,
    "start_time": "2023-01-12T20:02:55.121Z"
   },
   {
    "duration": 144,
    "start_time": "2023-01-12T20:02:55.144Z"
   },
   {
    "duration": 4,
    "start_time": "2023-01-12T20:02:55.290Z"
   },
   {
    "duration": 160,
    "start_time": "2023-01-12T20:02:55.296Z"
   },
   {
    "duration": 6,
    "start_time": "2023-01-12T20:02:55.458Z"
   },
   {
    "duration": 147,
    "start_time": "2023-01-12T20:02:55.466Z"
   },
   {
    "duration": 16,
    "start_time": "2023-01-12T20:02:55.614Z"
   },
   {
    "duration": 33,
    "start_time": "2023-01-12T20:02:55.632Z"
   },
   {
    "duration": 10,
    "start_time": "2023-01-12T20:02:55.666Z"
   },
   {
    "duration": 9,
    "start_time": "2023-01-12T20:02:55.677Z"
   },
   {
    "duration": 36,
    "start_time": "2023-01-12T20:02:55.688Z"
   },
   {
    "duration": 15,
    "start_time": "2023-01-12T20:02:55.728Z"
   },
   {
    "duration": 33,
    "start_time": "2023-01-12T20:03:19.813Z"
   },
   {
    "duration": 1294,
    "start_time": "2023-01-12T20:03:50.906Z"
   },
   {
    "duration": 12,
    "start_time": "2023-01-12T20:08:18.478Z"
   },
   {
    "duration": 1270,
    "start_time": "2023-01-12T20:08:48.679Z"
   },
   {
    "duration": 3,
    "start_time": "2023-01-12T20:08:58.135Z"
   },
   {
    "duration": 32,
    "start_time": "2023-01-12T20:08:58.649Z"
   },
   {
    "duration": 5,
    "start_time": "2023-01-12T20:08:59.861Z"
   },
   {
    "duration": 10,
    "start_time": "2023-01-12T20:09:00.545Z"
   },
   {
    "duration": 3,
    "start_time": "2023-01-12T20:09:03.485Z"
   },
   {
    "duration": 5,
    "start_time": "2023-01-12T20:09:04.611Z"
   },
   {
    "duration": 9,
    "start_time": "2023-01-12T20:09:08.644Z"
   },
   {
    "duration": 3,
    "start_time": "2023-01-12T20:09:16.054Z"
   },
   {
    "duration": 10,
    "start_time": "2023-01-12T20:09:18.175Z"
   },
   {
    "duration": 74,
    "start_time": "2023-01-12T20:09:52.488Z"
   },
   {
    "duration": 9,
    "start_time": "2023-01-12T20:09:53.311Z"
   },
   {
    "duration": 8,
    "start_time": "2023-01-12T20:09:55.036Z"
   },
   {
    "duration": 12,
    "start_time": "2023-01-12T20:09:56.454Z"
   },
   {
    "duration": 10,
    "start_time": "2023-01-12T20:09:56.610Z"
   },
   {
    "duration": 10,
    "start_time": "2023-01-12T20:09:58.120Z"
   },
   {
    "duration": 6,
    "start_time": "2023-01-12T20:09:58.470Z"
   },
   {
    "duration": 7,
    "start_time": "2023-01-12T20:09:59.852Z"
   },
   {
    "duration": 6,
    "start_time": "2023-01-12T20:10:00.203Z"
   },
   {
    "duration": 10,
    "start_time": "2023-01-12T20:10:02.032Z"
   },
   {
    "duration": 10,
    "start_time": "2023-01-12T20:10:02.364Z"
   },
   {
    "duration": 5,
    "start_time": "2023-01-12T20:10:02.552Z"
   },
   {
    "duration": 3,
    "start_time": "2023-01-12T20:10:11.864Z"
   },
   {
    "duration": 282,
    "start_time": "2023-01-12T20:10:12.233Z"
   },
   {
    "duration": 195,
    "start_time": "2023-01-12T20:10:32.435Z"
   },
   {
    "duration": 311,
    "start_time": "2023-01-12T20:10:37.565Z"
   },
   {
    "duration": 197,
    "start_time": "2023-01-12T20:10:49.434Z"
   },
   {
    "duration": 321,
    "start_time": "2023-01-12T20:11:04.042Z"
   },
   {
    "duration": 210,
    "start_time": "2023-01-12T20:11:17.948Z"
   },
   {
    "duration": 275,
    "start_time": "2023-01-12T20:11:28.958Z"
   },
   {
    "duration": 137,
    "start_time": "2023-01-12T20:11:45.865Z"
   },
   {
    "duration": 144,
    "start_time": "2023-01-12T20:11:57.432Z"
   },
   {
    "duration": 163,
    "start_time": "2023-01-12T20:12:52.159Z"
   },
   {
    "duration": 143,
    "start_time": "2023-01-12T20:13:09.411Z"
   },
   {
    "duration": 116,
    "start_time": "2023-01-12T20:13:20.032Z"
   },
   {
    "duration": 132,
    "start_time": "2023-01-12T20:13:32.782Z"
   },
   {
    "duration": 129,
    "start_time": "2023-01-12T20:13:41.072Z"
   },
   {
    "duration": 146,
    "start_time": "2023-01-12T20:16:18.741Z"
   },
   {
    "duration": 261,
    "start_time": "2023-01-12T20:17:34.020Z"
   },
   {
    "duration": 131,
    "start_time": "2023-01-12T20:18:02.638Z"
   },
   {
    "duration": 122,
    "start_time": "2023-01-12T20:22:06.269Z"
   },
   {
    "duration": 139,
    "start_time": "2023-01-12T20:22:29.344Z"
   },
   {
    "duration": 138,
    "start_time": "2023-01-12T20:24:02.446Z"
   },
   {
    "duration": 88,
    "start_time": "2023-01-12T20:24:21.558Z"
   },
   {
    "duration": 138,
    "start_time": "2023-01-12T20:24:22.231Z"
   },
   {
    "duration": 19,
    "start_time": "2023-01-12T20:31:45.598Z"
   },
   {
    "duration": 20,
    "start_time": "2023-01-12T20:32:39.873Z"
   },
   {
    "duration": 13,
    "start_time": "2023-01-12T20:33:30.263Z"
   },
   {
    "duration": 5,
    "start_time": "2023-01-12T20:37:56.072Z"
   },
   {
    "duration": 4,
    "start_time": "2023-01-12T20:38:04.596Z"
   },
   {
    "duration": 4,
    "start_time": "2023-01-12T20:39:00.004Z"
   },
   {
    "duration": 9,
    "start_time": "2023-01-12T20:39:42.883Z"
   },
   {
    "duration": 9,
    "start_time": "2023-01-12T20:40:46.964Z"
   },
   {
    "duration": 36,
    "start_time": "2023-01-12T20:41:15.844Z"
   },
   {
    "duration": 13,
    "start_time": "2023-01-12T20:42:03.943Z"
   },
   {
    "duration": 1040,
    "start_time": "2023-01-12T20:45:00.225Z"
   },
   {
    "duration": 38,
    "start_time": "2023-01-12T20:45:01.267Z"
   },
   {
    "duration": 6,
    "start_time": "2023-01-12T20:45:01.306Z"
   },
   {
    "duration": 28,
    "start_time": "2023-01-12T20:45:01.313Z"
   },
   {
    "duration": 50,
    "start_time": "2023-01-12T20:45:01.343Z"
   },
   {
    "duration": 20,
    "start_time": "2023-01-12T20:45:01.395Z"
   },
   {
    "duration": 45,
    "start_time": "2023-01-12T20:45:01.417Z"
   },
   {
    "duration": 42,
    "start_time": "2023-01-12T20:45:01.464Z"
   },
   {
    "duration": 21,
    "start_time": "2023-01-12T20:45:01.508Z"
   },
   {
    "duration": 71,
    "start_time": "2023-01-12T20:45:01.532Z"
   },
   {
    "duration": 10,
    "start_time": "2023-01-12T20:45:01.605Z"
   },
   {
    "duration": 57,
    "start_time": "2023-01-12T20:45:01.616Z"
   },
   {
    "duration": 33,
    "start_time": "2023-01-12T20:45:01.675Z"
   },
   {
    "duration": 36,
    "start_time": "2023-01-12T20:45:01.710Z"
   },
   {
    "duration": 30,
    "start_time": "2023-01-12T20:45:01.747Z"
   },
   {
    "duration": 26,
    "start_time": "2023-01-12T20:45:01.779Z"
   },
   {
    "duration": 18,
    "start_time": "2023-01-12T20:45:01.806Z"
   },
   {
    "duration": 35,
    "start_time": "2023-01-12T20:45:01.826Z"
   },
   {
    "duration": 33,
    "start_time": "2023-01-12T20:45:01.863Z"
   },
   {
    "duration": 64,
    "start_time": "2023-01-12T20:45:01.897Z"
   },
   {
    "duration": 31,
    "start_time": "2023-01-12T20:45:01.962Z"
   },
   {
    "duration": 38,
    "start_time": "2023-01-12T20:45:01.994Z"
   },
   {
    "duration": 284,
    "start_time": "2023-01-12T20:45:02.033Z"
   },
   {
    "duration": 277,
    "start_time": "2023-01-12T20:45:02.319Z"
   },
   {
    "duration": 188,
    "start_time": "2023-01-12T20:45:02.597Z"
   },
   {
    "duration": 326,
    "start_time": "2023-01-12T20:45:02.787Z"
   },
   {
    "duration": 208,
    "start_time": "2023-01-12T20:45:03.121Z"
   },
   {
    "duration": 299,
    "start_time": "2023-01-12T20:45:03.332Z"
   },
   {
    "duration": 8,
    "start_time": "2023-01-12T20:45:03.633Z"
   },
   {
    "duration": 136,
    "start_time": "2023-01-12T20:45:03.642Z"
   },
   {
    "duration": 4,
    "start_time": "2023-01-12T20:45:03.780Z"
   },
   {
    "duration": 141,
    "start_time": "2023-01-12T20:45:03.785Z"
   },
   {
    "duration": 152,
    "start_time": "2023-01-12T20:45:03.928Z"
   },
   {
    "duration": 6,
    "start_time": "2023-01-12T20:45:04.082Z"
   },
   {
    "duration": 213,
    "start_time": "2023-01-12T20:45:04.090Z"
   },
   {
    "duration": 23,
    "start_time": "2023-01-12T20:45:04.304Z"
   },
   {
    "duration": 20,
    "start_time": "2023-01-12T20:45:04.329Z"
   },
   {
    "duration": 95,
    "start_time": "2023-01-12T20:45:04.350Z"
   },
   {
    "duration": 9,
    "start_time": "2023-01-12T20:45:04.447Z"
   },
   {
    "duration": 29,
    "start_time": "2023-01-12T20:45:04.457Z"
   },
   {
    "duration": 14,
    "start_time": "2023-01-12T20:45:04.487Z"
   },
   {
    "duration": 1273,
    "start_time": "2023-04-12T10:31:03.358Z"
   },
   {
    "duration": 98,
    "start_time": "2023-04-12T10:31:04.633Z"
   },
   {
    "duration": 6,
    "start_time": "2023-04-12T10:31:04.734Z"
   },
   {
    "duration": 17,
    "start_time": "2023-04-12T10:31:04.742Z"
   },
   {
    "duration": 7,
    "start_time": "2023-04-12T10:31:04.762Z"
   },
   {
    "duration": 18,
    "start_time": "2023-04-12T10:31:04.771Z"
   },
   {
    "duration": 27,
    "start_time": "2023-04-12T10:31:04.797Z"
   },
   {
    "duration": 6,
    "start_time": "2023-04-12T10:31:04.826Z"
   },
   {
    "duration": 16,
    "start_time": "2023-04-12T10:31:04.834Z"
   },
   {
    "duration": 193,
    "start_time": "2023-04-12T10:31:04.853Z"
   },
   {
    "duration": 8,
    "start_time": "2023-04-12T10:31:05.048Z"
   },
   {
    "duration": 9,
    "start_time": "2023-04-12T10:31:05.058Z"
   },
   {
    "duration": 21,
    "start_time": "2023-04-12T10:31:05.069Z"
   },
   {
    "duration": 30,
    "start_time": "2023-04-12T10:31:05.094Z"
   },
   {
    "duration": 15,
    "start_time": "2023-04-12T10:31:05.127Z"
   },
   {
    "duration": 6,
    "start_time": "2023-04-12T10:31:05.144Z"
   },
   {
    "duration": 34,
    "start_time": "2023-04-12T10:31:05.152Z"
   },
   {
    "duration": 39,
    "start_time": "2023-04-12T10:31:05.188Z"
   },
   {
    "duration": 27,
    "start_time": "2023-04-12T10:31:05.229Z"
   },
   {
    "duration": 65,
    "start_time": "2023-04-12T10:31:05.258Z"
   },
   {
    "duration": 41,
    "start_time": "2023-04-12T10:31:05.326Z"
   },
   {
    "duration": 60,
    "start_time": "2023-04-12T10:31:05.369Z"
   },
   {
    "duration": 422,
    "start_time": "2023-04-12T10:31:05.432Z"
   },
   {
    "duration": 410,
    "start_time": "2023-04-12T10:31:05.856Z"
   },
   {
    "duration": 251,
    "start_time": "2023-04-12T10:31:06.267Z"
   },
   {
    "duration": 314,
    "start_time": "2023-04-12T10:31:06.521Z"
   },
   {
    "duration": 261,
    "start_time": "2023-04-12T10:31:06.837Z"
   },
   {
    "duration": 336,
    "start_time": "2023-04-12T10:31:07.100Z"
   },
   {
    "duration": 11,
    "start_time": "2023-04-12T10:31:07.438Z"
   },
   {
    "duration": 227,
    "start_time": "2023-04-12T10:31:07.452Z"
   },
   {
    "duration": 10,
    "start_time": "2023-04-12T10:31:07.681Z"
   },
   {
    "duration": 180,
    "start_time": "2023-04-12T10:31:07.693Z"
   },
   {
    "duration": 178,
    "start_time": "2023-04-12T10:31:07.875Z"
   },
   {
    "duration": 5,
    "start_time": "2023-04-12T10:31:08.055Z"
   },
   {
    "duration": 248,
    "start_time": "2023-04-12T10:31:08.063Z"
   },
   {
    "duration": 12,
    "start_time": "2023-04-12T10:31:08.313Z"
   },
   {
    "duration": 43,
    "start_time": "2023-04-12T10:31:08.326Z"
   },
   {
    "duration": 110,
    "start_time": "2023-04-12T10:31:08.386Z"
   },
   {
    "duration": 23,
    "start_time": "2023-04-12T10:31:08.498Z"
   },
   {
    "duration": 38,
    "start_time": "2023-04-12T10:31:08.523Z"
   },
   {
    "duration": 17,
    "start_time": "2023-04-12T10:31:08.565Z"
   }
  ],
  "kernelspec": {
   "display_name": "Python 3 (ipykernel)",
   "language": "python",
   "name": "python3"
  },
  "language_info": {
   "codemirror_mode": {
    "name": "ipython",
    "version": 3
   },
   "file_extension": ".py",
   "mimetype": "text/x-python",
   "name": "python",
   "nbconvert_exporter": "python",
   "pygments_lexer": "ipython3",
   "version": "3.9.5"
  },
  "toc": {
   "base_numbering": 1,
   "nav_menu": {},
   "number_sections": true,
   "sideBar": true,
   "skip_h1_title": true,
   "title_cell": "Table of Contents",
   "title_sidebar": "Contents",
   "toc_cell": false,
   "toc_position": {},
   "toc_section_display": true,
   "toc_window_display": false
  }
 },
 "nbformat": 4,
 "nbformat_minor": 2
}
