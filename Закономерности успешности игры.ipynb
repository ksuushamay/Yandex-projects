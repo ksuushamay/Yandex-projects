{
 "cells": [
  {
   "cell_type": "markdown",
   "metadata": {},
   "source": [
    "# Сборный проект-1"
   ]
  },
  {
   "cell_type": "markdown",
   "metadata": {},
   "source": [
    "**Описание проекта**"
   ]
  },
  {
   "cell_type": "markdown",
   "metadata": {},
   "source": [
    "Вы работаете в интернет-магазине «Стримчик», который продаёт по всему миру компьютерные игры. Из открытых источников доступны исторические данные о продажах игр, оценки пользователей и экспертов, жанры и платформы (например, Xbox или PlayStation). Вам нужно выявить определяющие успешность игры закономерности. Это позволит сделать ставку на потенциально популярный продукт и спланировать рекламные кампании.\n",
    "\n",
    "Перед вами данные до 2016 года. Представим, что сейчас декабрь 2016 г., и вы планируете кампанию на 2017-й. Нужно отработать принцип работы с данными. Неважно, прогнозируете ли вы продажи на 2017 год по данным 2016-го или же 2027-й — по данным 2026 года.\n",
    "\n",
    "В наборе данных попадается аббревиатура ESRB (Entertainment Software Rating Board) — это ассоциация, определяющая возрастной рейтинг компьютерных игр. ESRB оценивает игровой контент и присваивает ему подходящую возрастную категорию, например, «Для взрослых», «Для детей младшего возраста» или «Для подростков»."
   ]
  },
  {
   "cell_type": "code",
   "execution_count": 1,
   "metadata": {},
   "outputs": [],
   "source": [
    "import pandas as pd\n",
    "import matplotlib.pyplot as plt\n",
    "import seaborn as sns\n",
    "from scipy import stats as st"
   ]
  },
  {
   "cell_type": "markdown",
   "metadata": {},
   "source": [
    "## Изучение общей информации файла"
   ]
  },
  {
   "cell_type": "code",
   "execution_count": 2,
   "metadata": {},
   "outputs": [],
   "source": [
    "data = pd.read_csv('/datasets/games.csv')"
   ]
  },
  {
   "cell_type": "code",
   "execution_count": 3,
   "metadata": {},
   "outputs": [
    {
     "data": {
      "text/html": [
       "<div>\n",
       "<style scoped>\n",
       "    .dataframe tbody tr th:only-of-type {\n",
       "        vertical-align: middle;\n",
       "    }\n",
       "\n",
       "    .dataframe tbody tr th {\n",
       "        vertical-align: top;\n",
       "    }\n",
       "\n",
       "    .dataframe thead th {\n",
       "        text-align: right;\n",
       "    }\n",
       "</style>\n",
       "<table border=\"1\" class=\"dataframe\">\n",
       "  <thead>\n",
       "    <tr style=\"text-align: right;\">\n",
       "      <th></th>\n",
       "      <th>Name</th>\n",
       "      <th>Platform</th>\n",
       "      <th>Year_of_Release</th>\n",
       "      <th>Genre</th>\n",
       "      <th>NA_sales</th>\n",
       "      <th>EU_sales</th>\n",
       "      <th>JP_sales</th>\n",
       "      <th>Other_sales</th>\n",
       "      <th>Critic_Score</th>\n",
       "      <th>User_Score</th>\n",
       "      <th>Rating</th>\n",
       "    </tr>\n",
       "  </thead>\n",
       "  <tbody>\n",
       "    <tr>\n",
       "      <th>0</th>\n",
       "      <td>Wii Sports</td>\n",
       "      <td>Wii</td>\n",
       "      <td>2006.0</td>\n",
       "      <td>Sports</td>\n",
       "      <td>41.36</td>\n",
       "      <td>28.96</td>\n",
       "      <td>3.77</td>\n",
       "      <td>8.45</td>\n",
       "      <td>76.0</td>\n",
       "      <td>8</td>\n",
       "      <td>E</td>\n",
       "    </tr>\n",
       "    <tr>\n",
       "      <th>1</th>\n",
       "      <td>Super Mario Bros.</td>\n",
       "      <td>NES</td>\n",
       "      <td>1985.0</td>\n",
       "      <td>Platform</td>\n",
       "      <td>29.08</td>\n",
       "      <td>3.58</td>\n",
       "      <td>6.81</td>\n",
       "      <td>0.77</td>\n",
       "      <td>NaN</td>\n",
       "      <td>NaN</td>\n",
       "      <td>NaN</td>\n",
       "    </tr>\n",
       "    <tr>\n",
       "      <th>2</th>\n",
       "      <td>Mario Kart Wii</td>\n",
       "      <td>Wii</td>\n",
       "      <td>2008.0</td>\n",
       "      <td>Racing</td>\n",
       "      <td>15.68</td>\n",
       "      <td>12.76</td>\n",
       "      <td>3.79</td>\n",
       "      <td>3.29</td>\n",
       "      <td>82.0</td>\n",
       "      <td>8.3</td>\n",
       "      <td>E</td>\n",
       "    </tr>\n",
       "    <tr>\n",
       "      <th>3</th>\n",
       "      <td>Wii Sports Resort</td>\n",
       "      <td>Wii</td>\n",
       "      <td>2009.0</td>\n",
       "      <td>Sports</td>\n",
       "      <td>15.61</td>\n",
       "      <td>10.93</td>\n",
       "      <td>3.28</td>\n",
       "      <td>2.95</td>\n",
       "      <td>80.0</td>\n",
       "      <td>8</td>\n",
       "      <td>E</td>\n",
       "    </tr>\n",
       "    <tr>\n",
       "      <th>4</th>\n",
       "      <td>Pokemon Red/Pokemon Blue</td>\n",
       "      <td>GB</td>\n",
       "      <td>1996.0</td>\n",
       "      <td>Role-Playing</td>\n",
       "      <td>11.27</td>\n",
       "      <td>8.89</td>\n",
       "      <td>10.22</td>\n",
       "      <td>1.00</td>\n",
       "      <td>NaN</td>\n",
       "      <td>NaN</td>\n",
       "      <td>NaN</td>\n",
       "    </tr>\n",
       "  </tbody>\n",
       "</table>\n",
       "</div>"
      ],
      "text/plain": [
       "                       Name Platform  Year_of_Release         Genre  NA_sales  \\\n",
       "0                Wii Sports      Wii           2006.0        Sports     41.36   \n",
       "1         Super Mario Bros.      NES           1985.0      Platform     29.08   \n",
       "2            Mario Kart Wii      Wii           2008.0        Racing     15.68   \n",
       "3         Wii Sports Resort      Wii           2009.0        Sports     15.61   \n",
       "4  Pokemon Red/Pokemon Blue       GB           1996.0  Role-Playing     11.27   \n",
       "\n",
       "   EU_sales  JP_sales  Other_sales  Critic_Score User_Score Rating  \n",
       "0     28.96      3.77         8.45          76.0          8      E  \n",
       "1      3.58      6.81         0.77           NaN        NaN    NaN  \n",
       "2     12.76      3.79         3.29          82.0        8.3      E  \n",
       "3     10.93      3.28         2.95          80.0          8      E  \n",
       "4      8.89     10.22         1.00           NaN        NaN    NaN  "
      ]
     },
     "execution_count": 3,
     "metadata": {},
     "output_type": "execute_result"
    }
   ],
   "source": [
    "data.head()"
   ]
  },
  {
   "cell_type": "code",
   "execution_count": 4,
   "metadata": {},
   "outputs": [
    {
     "name": "stdout",
     "output_type": "stream",
     "text": [
      "<class 'pandas.core.frame.DataFrame'>\n",
      "RangeIndex: 16715 entries, 0 to 16714\n",
      "Data columns (total 11 columns):\n",
      " #   Column           Non-Null Count  Dtype  \n",
      "---  ------           --------------  -----  \n",
      " 0   Name             16713 non-null  object \n",
      " 1   Platform         16715 non-null  object \n",
      " 2   Year_of_Release  16446 non-null  float64\n",
      " 3   Genre            16713 non-null  object \n",
      " 4   NA_sales         16715 non-null  float64\n",
      " 5   EU_sales         16715 non-null  float64\n",
      " 6   JP_sales         16715 non-null  float64\n",
      " 7   Other_sales      16715 non-null  float64\n",
      " 8   Critic_Score     8137 non-null   float64\n",
      " 9   User_Score       10014 non-null  object \n",
      " 10  Rating           9949 non-null   object \n",
      "dtypes: float64(6), object(5)\n",
      "memory usage: 1.4+ MB\n"
     ]
    }
   ],
   "source": [
    "data.info()"
   ]
  },
  {
   "cell_type": "markdown",
   "metadata": {},
   "source": [
    "## Подготовка данных"
   ]
  },
  {
   "cell_type": "code",
   "execution_count": 5,
   "metadata": {},
   "outputs": [],
   "source": [
    "data.columns = data.columns.str.lower()"
   ]
  },
  {
   "cell_type": "code",
   "execution_count": 6,
   "metadata": {},
   "outputs": [
    {
     "data": {
      "text/plain": [
       "Index(['name', 'platform', 'year_of_release', 'genre', 'na_sales', 'eu_sales',\n",
       "       'jp_sales', 'other_sales', 'critic_score', 'user_score', 'rating'],\n",
       "      dtype='object')"
      ]
     },
     "execution_count": 6,
     "metadata": {},
     "output_type": "execute_result"
    }
   ],
   "source": [
    "data.columns"
   ]
  },
  {
   "cell_type": "markdown",
   "metadata": {},
   "source": [
    "Изменение типа данных: изменим столбец 'year_of_release' в формат int."
   ]
  },
  {
   "cell_type": "code",
   "execution_count": 7,
   "metadata": {},
   "outputs": [],
   "source": [
    "data['year_of_release'] = data['year_of_release'].astype('int', errors='ignore')"
   ]
  },
  {
   "cell_type": "code",
   "execution_count": 8,
   "metadata": {},
   "outputs": [
    {
     "data": {
      "text/plain": [
       "name                  2\n",
       "platform              0\n",
       "year_of_release     269\n",
       "genre                 2\n",
       "na_sales              0\n",
       "eu_sales              0\n",
       "jp_sales              0\n",
       "other_sales           0\n",
       "critic_score       8578\n",
       "user_score         6701\n",
       "rating             6766\n",
       "dtype: int64"
      ]
     },
     "execution_count": 8,
     "metadata": {},
     "output_type": "execute_result"
    }
   ],
   "source": [
    "data.isna().sum()"
   ]
  },
  {
   "cell_type": "markdown",
   "metadata": {},
   "source": [
    "Предобработка данных: удалим строчки с пропуском в столбце 'name'. После удаления строк с пропусками в столбце 'name', также удалятся пропуски в 'genre'. Данные две строчки были не информативны."
   ]
  },
  {
   "cell_type": "code",
   "execution_count": 9,
   "metadata": {},
   "outputs": [],
   "source": [
    "data = data.dropna(subset=['name'])\n",
    "#data.isna().sum()"
   ]
  },
  {
   "cell_type": "code",
   "execution_count": 10,
   "metadata": {},
   "outputs": [
    {
     "data": {
      "text/plain": [
       "array([2006., 1985., 2008., 2009., 1996., 1989., 1984., 2005., 1999.,\n",
       "       2007., 2010., 2013., 2004., 1990., 1988., 2002., 2001., 2011.,\n",
       "       1998., 2015., 2012., 2014., 1992., 1997., 1993., 1994., 1982.,\n",
       "       2016., 2003., 1986., 2000.,   nan, 1995., 1991., 1981., 1987.,\n",
       "       1980., 1983.])"
      ]
     },
     "execution_count": 10,
     "metadata": {},
     "output_type": "execute_result"
    }
   ],
   "source": [
    "data['year_of_release'].unique()"
   ]
  },
  {
   "cell_type": "code",
   "execution_count": 11,
   "metadata": {},
   "outputs": [
    {
     "data": {
      "text/plain": [
       "0.016095255190570215"
      ]
     },
     "execution_count": 11,
     "metadata": {},
     "output_type": "execute_result"
    }
   ],
   "source": [
    "data['year_of_release'].isna().sum() / data.shape[0]"
   ]
  },
  {
   "cell_type": "markdown",
   "metadata": {},
   "source": [
    "Видно, что процент пропусков в 'year_of_release' небольшой, поэтому удалим такие строки."
   ]
  },
  {
   "cell_type": "code",
   "execution_count": 12,
   "metadata": {},
   "outputs": [],
   "source": [
    "data = data.dropna(subset=['year_of_release'])"
   ]
  },
  {
   "cell_type": "markdown",
   "metadata": {},
   "source": [
    "Пропуски в столбце 'rating' возникли из-за того, что организация ESRB не выставила данным играм рейтинг. Заполним такие пропуски текстом no rating."
   ]
  },
  {
   "cell_type": "code",
   "execution_count": 13,
   "metadata": {},
   "outputs": [],
   "source": [
    "data['rating'] = data['rating'].fillna('no_rating')"
   ]
  },
  {
   "cell_type": "code",
   "execution_count": 14,
   "metadata": {},
   "outputs": [
    {
     "data": {
      "text/plain": [
       "array(['E', 'no_rating', 'M', 'T', 'E10+', 'K-A', 'AO', 'EC', 'RP'],\n",
       "      dtype=object)"
      ]
     },
     "execution_count": 14,
     "metadata": {},
     "output_type": "execute_result"
    }
   ],
   "source": [
    "data['rating'].unique()"
   ]
  },
  {
   "cell_type": "code",
   "execution_count": 15,
   "metadata": {},
   "outputs": [
    {
     "data": {
      "text/plain": [
       "array(['8', nan, '8.3', '8.5', '6.6', '8.4', '8.6', '7.7', '6.3', '7.4',\n",
       "       '8.2', '9', '7.9', '8.1', '8.7', '7.1', '3.4', '5.3', '4.8', '3.2',\n",
       "       '8.9', '6.4', '7.8', '7.5', '2.6', '7.2', '9.2', '7', '7.3', '4.3',\n",
       "       '7.6', '5.7', '5', '9.1', '6.5', 'tbd', '8.8', '6.9', '9.4', '6.8',\n",
       "       '6.1', '6.7', '5.4', '4', '4.9', '4.5', '9.3', '6.2', '4.2', '6',\n",
       "       '3.7', '4.1', '5.8', '5.6', '5.5', '4.4', '4.6', '5.9', '3.9',\n",
       "       '3.1', '2.9', '5.2', '3.3', '4.7', '5.1', '3.5', '2.5', '1.9', '3',\n",
       "       '2.7', '2.2', '2', '9.5', '2.1', '3.6', '2.8', '1.8', '3.8', '0',\n",
       "       '1.6', '9.6', '2.4', '1.7', '1.1', '0.3', '1.5', '0.7', '1.2',\n",
       "       '2.3', '0.5', '1.3', '0.2', '0.6', '1.4', '0.9', '1', '9.7'],\n",
       "      dtype=object)"
      ]
     },
     "execution_count": 15,
     "metadata": {},
     "output_type": "execute_result"
    }
   ],
   "source": [
    "data['user_score'].unique()"
   ]
  },
  {
   "cell_type": "markdown",
   "metadata": {},
   "source": [
    "Заметим, что столбец содежрит уникальное значение - 'tbd'. Tbd - to be decided. Используется, если какая-то информация еще не определена или решение по вопросу не принято. Акроним служит для отметки неясностей или пропусков, которые надо заполнить. С помощью errors='coerce' такие значение заменим на nan.\n",
    "\n",
    "Пропуски в 'critic_score' и 'user_score' не трогаем."
   ]
  },
  {
   "cell_type": "code",
   "execution_count": 16,
   "metadata": {},
   "outputs": [],
   "source": [
    "data['user_score'] = pd.to_numeric(data['user_score'], errors='coerce')"
   ]
  },
  {
   "cell_type": "code",
   "execution_count": 17,
   "metadata": {},
   "outputs": [
    {
     "name": "stdout",
     "output_type": "stream",
     "text": [
      "<class 'pandas.core.frame.DataFrame'>\n",
      "Int64Index: 16444 entries, 0 to 16714\n",
      "Data columns (total 11 columns):\n",
      " #   Column           Non-Null Count  Dtype  \n",
      "---  ------           --------------  -----  \n",
      " 0   name             16444 non-null  object \n",
      " 1   platform         16444 non-null  object \n",
      " 2   year_of_release  16444 non-null  float64\n",
      " 3   genre            16444 non-null  object \n",
      " 4   na_sales         16444 non-null  float64\n",
      " 5   eu_sales         16444 non-null  float64\n",
      " 6   jp_sales         16444 non-null  float64\n",
      " 7   other_sales      16444 non-null  float64\n",
      " 8   critic_score     7983 non-null   float64\n",
      " 9   user_score       7463 non-null   float64\n",
      " 10  rating           16444 non-null  object \n",
      "dtypes: float64(7), object(4)\n",
      "memory usage: 1.5+ MB\n"
     ]
    }
   ],
   "source": [
    "data.info()"
   ]
  },
  {
   "cell_type": "code",
   "execution_count": 18,
   "metadata": {},
   "outputs": [
    {
     "data": {
      "text/plain": [
       "name                  0\n",
       "platform              0\n",
       "year_of_release       0\n",
       "genre                 0\n",
       "na_sales              0\n",
       "eu_sales              0\n",
       "jp_sales              0\n",
       "other_sales           0\n",
       "critic_score       8461\n",
       "user_score         8981\n",
       "rating                0\n",
       "dtype: int64"
      ]
     },
     "execution_count": 18,
     "metadata": {},
     "output_type": "execute_result"
    }
   ],
   "source": [
    "data.isna().sum()"
   ]
  },
  {
   "cell_type": "markdown",
   "metadata": {},
   "source": [
    "Также проверим таблицу на дубликаты."
   ]
  },
  {
   "cell_type": "code",
   "execution_count": 19,
   "metadata": {},
   "outputs": [
    {
     "data": {
      "text/plain": [
       "0"
      ]
     },
     "execution_count": 19,
     "metadata": {},
     "output_type": "execute_result"
    }
   ],
   "source": [
    "data.duplicated().sum()"
   ]
  },
  {
   "cell_type": "markdown",
   "metadata": {},
   "source": [
    "Посмотрим количество строк с одинаковыми значениями в 'name','platform','year_of_release'. Вряд ли за год могут выпустить несколько версий одной игры на одной платформе. Такие дубликаты удалим."
   ]
  },
  {
   "cell_type": "code",
   "execution_count": 20,
   "metadata": {},
   "outputs": [
    {
     "name": "stdout",
     "output_type": "stream",
     "text": [
      "2\n"
     ]
    }
   ],
   "source": [
    "duplicates = data.duplicated(subset=['name','platform', 'year_of_release'], keep=False).sum()\n",
    "print(duplicates)"
   ]
  },
  {
   "cell_type": "code",
   "execution_count": 21,
   "metadata": {},
   "outputs": [],
   "source": [
    "data = data.drop_duplicates(subset=['name','platform', 'year_of_release'])"
   ]
  },
  {
   "cell_type": "code",
   "execution_count": 22,
   "metadata": {},
   "outputs": [
    {
     "data": {
      "text/plain": [
       "0.9837271911456775"
      ]
     },
     "execution_count": 22,
     "metadata": {},
     "output_type": "execute_result"
    }
   ],
   "source": [
    "data.shape[0] / 16715"
   ]
  },
  {
   "cell_type": "markdown",
   "metadata": {},
   "source": [
    "Удалили меньше 2% данных."
   ]
  },
  {
   "cell_type": "markdown",
   "metadata": {},
   "source": [
    "Посчитаем суммарные продажи во всех регионах и запишим их в отдельный столбец."
   ]
  },
  {
   "cell_type": "code",
   "execution_count": 23,
   "metadata": {},
   "outputs": [],
   "source": [
    "data['world_sales'] = data[['na_sales','eu_sales','jp_sales', 'other_sales']].sum(axis = 1)"
   ]
  },
  {
   "cell_type": "markdown",
   "metadata": {},
   "source": [
    "##  Исследование анализа данных"
   ]
  },
  {
   "cell_type": "markdown",
   "metadata": {},
   "source": [
    "**Сколько игр выпускалось в разные годы? Важны ли данные за все периоды?**"
   ]
  },
  {
   "cell_type": "code",
   "execution_count": 24,
   "metadata": {},
   "outputs": [
    {
     "data": {
      "text/plain": [
       "<AxesSubplot:xlabel='year_of_release'>"
      ]
     },
     "execution_count": 24,
     "metadata": {},
     "output_type": "execute_result"
    },
    {
     "data": {
      "image/png": "[encoded data removed]",
      "text/plain": [
       "<Figure size 720x432 with 1 Axes>"
      ]
     },
     "metadata": {
      "needs_background": "light"
     },
     "output_type": "display_data"
    }
   ],
   "source": [
    "games_in_years = data.pivot_table(index='year_of_release', values='name', aggfunc='count')\n",
    "games_in_years.plot(kind='line', figsize=(10,6),  style = 'o-')"
   ]
  },
  {
   "cell_type": "markdown",
   "metadata": {},
   "source": [
    "По графику видно, что продажи сильно начали увеличиваться с 1995, что объяснимо. С конца 90х происходит активное развитие компьютерной техники, в том числе и компьютерных игр. Важны ли данные за все периоды? Думаю, что для определения успешности игры данные можно изучать с 1995 года. Все, что было придумано ранее, скорее всего, либо сильно устарело к 2016 году, либо было использованно в более современных версиях.  "
   ]
  },
  {
   "cell_type": "markdown",
   "metadata": {},
   "source": [
    "**Как менялись продажи по платформам? Анализ платформ с наибольшими суммарными продажами по годам. За какой характерный срок появляются новые и исчезают старые платформы?**"
   ]
  },
  {
   "cell_type": "code",
   "execution_count": 25,
   "metadata": {},
   "outputs": [
    {
     "data": {
      "text/plain": [
       "platform\n",
       "PS2     1233.56\n",
       "X360     961.24\n",
       "PS3      931.33\n",
       "Wii      891.18\n",
       "DS       802.78\n",
       "PS       727.58\n",
       "PS4      314.14\n",
       "GBA      312.88\n",
       "PSP      289.53\n",
       "3DS      257.81\n",
       "Name: world_sales, dtype: float64"
      ]
     },
     "execution_count": 25,
     "metadata": {},
     "output_type": "execute_result"
    }
   ],
   "source": [
    "top10_platforms = data.groupby('platform')['world_sales'].sum().sort_values(ascending=False).head(10)\n",
    "top10_platforms"
   ]
  },
  {
   "cell_type": "code",
   "execution_count": 26,
   "metadata": {},
   "outputs": [],
   "source": [
    "top10_platforms = data[data['platform'].isin(top10_platforms.index)]"
   ]
  },
  {
   "cell_type": "code",
   "execution_count": 27,
   "metadata": {},
   "outputs": [],
   "source": [
    "top10_platforms = top10_platforms.query('year_of_release >= 1994')"
   ]
  },
  {
   "cell_type": "code",
   "execution_count": 28,
   "metadata": {},
   "outputs": [
    {
     "data": {
      "image/png": "[encoded data removed]",
      "text/plain": [
       "<Figure size 864x360 with 1 Axes>"
      ]
     },
     "metadata": {
      "needs_background": "light"
     },
     "output_type": "display_data"
    }
   ],
   "source": [
    "top10_platforms_in_years = top10_platforms.pivot_table(index='year_of_release', values='world_sales', columns='platform', aggfunc='sum')\n",
    "top10_platforms_in_years.plot(kind='line', figsize=(12,5),  style = 'o-')\n",
    "plt.title('Сумма продаж по топ-10 платформам по годам')\n",
    "plt.xlabel('год')\n",
    "plt.ylabel('продажи')\n",
    "plt.show()"
   ]
  },
  {
   "cell_type": "markdown",
   "metadata": {},
   "source": [
    "По графику видно, что большинство платформ появилось в периоде с 2000 по 2007 год. Платформа в течении первых 5 лет активно развивается на рынке, достигает пика продаж, а затем идет на спад. На спаде одной платформы появляются другие новые платформы. Можно также заметить, что ближе к 2016 продажи на всех платформах падают. Возможно и популярность компьютерных игр также падает."
   ]
  },
  {
   "cell_type": "markdown",
   "metadata": {},
   "source": [
    "**Какие платформы лидируют по продажам, растут или падают? Несколько потенциально прибыльных платформ.**"
   ]
  },
  {
   "cell_type": "code",
   "execution_count": 29,
   "metadata": {},
   "outputs": [],
   "source": [
    "data_actual = data.query('year_of_release >= 2012')"
   ]
  },
  {
   "cell_type": "code",
   "execution_count": 30,
   "metadata": {},
   "outputs": [
    {
     "data": {
      "text/plain": [
       "platform\n",
       "PS4     314.14\n",
       "PS3     288.78\n",
       "X360    236.54\n",
       "3DS     194.61\n",
       "XOne    159.32\n",
       "WiiU     82.19\n",
       "PC       62.65\n",
       "PSV      49.18\n",
       "Wii      35.37\n",
       "DS       12.55\n",
       "Name: world_sales, dtype: float64"
      ]
     },
     "execution_count": 30,
     "metadata": {},
     "output_type": "execute_result"
    }
   ],
   "source": [
    "top10_platforms = data_actual.groupby('platform')['world_sales'].sum().sort_values(ascending=False).head(10)\n",
    "top10_platforms"
   ]
  },
  {
   "cell_type": "code",
   "execution_count": 31,
   "metadata": {},
   "outputs": [],
   "source": [
    "top10_platforms = data_actual[data_actual['platform'].isin(top10_platforms.index)]"
   ]
  },
  {
   "cell_type": "code",
   "execution_count": 32,
   "metadata": {},
   "outputs": [
    {
     "data": {
      "image/png": "[encoded data removed]",
      "text/plain": [
       "<Figure size 1080x432 with 1 Axes>"
      ]
     },
     "metadata": {
      "needs_background": "light"
     },
     "output_type": "display_data"
    }
   ],
   "source": [
    "top10_platforms_in_years = top10_platforms.pivot_table(index='year_of_release', values='world_sales', columns='platform', aggfunc='sum')\n",
    "top10_platforms_in_years.plot(kind='line', figsize=(15,6),  style = 'o-')\n",
    "plt.title('Сумма продаж по топ-10 платформам по актуальному периоду')\n",
    "plt.xlabel('год')\n",
    "plt.ylabel('продажи')\n",
    "plt.show()"
   ]
  },
  {
   "cell_type": "markdown",
   "metadata": {},
   "source": [
    "На графике видно, что платформы, созданные в 2013, прошли пик продаж(2015 год), и в 2015-2016 годах продажи уже снижаются. Ожидается, что в 2017 продажи продолжат снижаться на всех представленных на графике платформах. Из всех платформ самые высокие продажи у PS4 и XOne. Они самые прибыльные. Возможно в 2017 поднимятся немного продажи PC."
   ]
  },
  {
   "cell_type": "markdown",
   "metadata": {},
   "source": [
    "**График «ящик с усами» по глобальным продажам игр в разбивке по платформам**"
   ]
  },
  {
   "cell_type": "code",
   "execution_count": 33,
   "metadata": {},
   "outputs": [],
   "source": [
    "platforms_actual = data_actual.query('[\"PS4\", \"XOne\", \"3DS\", \"PC\"] in platform')"
   ]
  },
  {
   "cell_type": "code",
   "execution_count": 34,
   "metadata": {},
   "outputs": [
    {
     "data": {
      "text/plain": [
       "Text(0.5, 0.98, 'Глобальные продажи игр по платформам')"
      ]
     },
     "execution_count": 34,
     "metadata": {},
     "output_type": "execute_result"
    },
    {
     "data": {
      "image/png": "[encoded data removed]",
      "text/plain": [
       "<Figure size 576x288 with 1 Axes>"
      ]
     },
     "metadata": {
      "needs_background": "light"
     },
     "output_type": "display_data"
    }
   ],
   "source": [
    "g = sns.catplot(y='platform', x='world_sales', kind=\"box\", data=platforms_actual, height=4, aspect=2)\n",
    "g.fig.suptitle('Глобальные продажи игр по платформам')"
   ]
  },
  {
   "cell_type": "markdown",
   "metadata": {},
   "source": [
    "На этом графике показаны глобальные продажи по платформам с 2012 года. По ним видно, что самые высокие продажи у PS4 и XOne, как и на предыдущем графике."
   ]
  },
  {
   "cell_type": "markdown",
   "metadata": {},
   "source": [
    "Для того, чтобы увидеть точные границы квантилей, построим \"ящик с усами\" с помощью библиотеки matplotlob."
   ]
  },
  {
   "cell_type": "code",
   "execution_count": 35,
   "metadata": {},
   "outputs": [
    {
     "data": {
      "text/plain": [
       "(0.0, 3.0)"
      ]
     },
     "execution_count": 35,
     "metadata": {},
     "output_type": "execute_result"
    },
    {
     "data": {
      "image/png": "[encoded data removed]",
      "text/plain": [
       "<Figure size 720x432 with 1 Axes>"
      ]
     },
     "metadata": {
      "needs_background": "light"
     },
     "output_type": "display_data"
    }
   ],
   "source": [
    "platforms_actual.boxplot(column='world_sales', by='platform', figsize=(10,6))\n",
    "plt.ylim(0, 3)"
   ]
  },
  {
   "cell_type": "markdown",
   "metadata": {},
   "source": [
    "Верхний квантиль у PS4 больше, чем у XOne. Это значит, что на платформе PS4 больше запущено игр и больше продаж. После XOne по убыванию количества продаж идет 3DS, а потом и PC."
   ]
  },
  {
   "cell_type": "markdown",
   "metadata": {},
   "source": [
    "**Как влияют на продажи внутри одной популярной платформы отзывы пользователей и критиков? Диаграмма рассеяния и корреляция между отзывами и продажами**"
   ]
  },
  {
   "cell_type": "markdown",
   "metadata": {},
   "source": [
    "Для исследования возьмем самую популярную платформу - PS4."
   ]
  },
  {
   "cell_type": "code",
   "execution_count": 36,
   "metadata": {},
   "outputs": [],
   "source": [
    "ps4 = data_actual.query('platform == \"PS4\"')"
   ]
  },
  {
   "cell_type": "code",
   "execution_count": 37,
   "metadata": {},
   "outputs": [
    {
     "data": {
      "text/plain": [
       "Text(0.5, 1.0, 'График корреляции отзывов пользователей и глобальных продаж PS4')"
      ]
     },
     "execution_count": 37,
     "metadata": {},
     "output_type": "execute_result"
    },
    {
     "data": {
      "image/png": "[encoded data removed]",
      "text/plain": [
       "<Figure size 432x288 with 1 Axes>"
      ]
     },
     "metadata": {
      "needs_background": "light"
     },
     "output_type": "display_data"
    }
   ],
   "source": [
    "ps4.plot(kind='scatter', x='user_score', y='world_sales')\n",
    "plt.title('График корреляции отзывов пользователей и глобальных продаж PS4')"
   ]
  },
  {
   "cell_type": "code",
   "execution_count": 38,
   "metadata": {},
   "outputs": [
    {
     "data": {
      "text/plain": [
       "Text(0.5, 1.0, 'График корреляции отзывов критиков и глобальных продаж PS4')"
      ]
     },
     "execution_count": 38,
     "metadata": {},
     "output_type": "execute_result"
    },
    {
     "data": {
      "image/png": "[encoded data removed]",
      "text/plain": [
       "<Figure size 432x288 with 1 Axes>"
      ]
     },
     "metadata": {
      "needs_background": "light"
     },
     "output_type": "display_data"
    }
   ],
   "source": [
    "ps4.plot(kind='scatter', x='critic_score', y='world_sales')\n",
    "plt.title('График корреляции отзывов критиков и глобальных продаж PS4')"
   ]
  },
  {
   "cell_type": "markdown",
   "metadata": {},
   "source": [
    "Если посмотреть на графики корреляции, то можно увидеть, что чем выше оценка критиков, тем выше продажи. Корреляция между оценкой пользователей и продажами менее сильняя."
   ]
  },
  {
   "cell_type": "code",
   "execution_count": 39,
   "metadata": {},
   "outputs": [
    {
     "data": {
      "text/plain": [
       "-0.031957110204556376"
      ]
     },
     "execution_count": 39,
     "metadata": {},
     "output_type": "execute_result"
    }
   ],
   "source": [
    "ps4['user_score'].corr(ps4['world_sales'])"
   ]
  },
  {
   "cell_type": "code",
   "execution_count": 40,
   "metadata": {},
   "outputs": [
    {
     "data": {
      "text/plain": [
       "0.40656790206178095"
      ]
     },
     "execution_count": 40,
     "metadata": {},
     "output_type": "execute_result"
    }
   ],
   "source": [
    "ps4['critic_score'].corr(ps4['world_sales'])"
   ]
  },
  {
   "cell_type": "markdown",
   "metadata": {},
   "source": [
    "После подсчета корреляции связь между оценкой критиков и количеством продаж слабая. Связи между оценкой пользователей и количеством продаж практически нет, есть некая обратная зависимость."
   ]
  },
  {
   "cell_type": "markdown",
   "metadata": {},
   "source": [
    "**Соотнесение выводов с продажами игр на других платформах**"
   ]
  },
  {
   "cell_type": "markdown",
   "metadata": {},
   "source": [
    "Для этого возьмем XOne, PC, 3DS и построим для них корреляцию между продажами и отзывами."
   ]
  },
  {
   "cell_type": "code",
   "execution_count": 41,
   "metadata": {},
   "outputs": [],
   "source": [
    "xone = data_actual.query('platform == \"XOne\"')\n",
    "pc = data_actual.query('platform == \"PC\"')\n",
    "trids = data_actual.query('platform == \"3DS\"')"
   ]
  },
  {
   "cell_type": "code",
   "execution_count": 42,
   "metadata": {},
   "outputs": [
    {
     "data": {
      "text/html": [
       "<div>\n",
       "<style scoped>\n",
       "    .dataframe tbody tr th:only-of-type {\n",
       "        vertical-align: middle;\n",
       "    }\n",
       "\n",
       "    .dataframe tbody tr th {\n",
       "        vertical-align: top;\n",
       "    }\n",
       "\n",
       "    .dataframe thead th {\n",
       "        text-align: right;\n",
       "    }\n",
       "</style>\n",
       "<table border=\"1\" class=\"dataframe\">\n",
       "  <thead>\n",
       "    <tr style=\"text-align: right;\">\n",
       "      <th></th>\n",
       "      <th>critic_score</th>\n",
       "      <th>user_score</th>\n",
       "      <th>world_sales</th>\n",
       "    </tr>\n",
       "  </thead>\n",
       "  <tbody>\n",
       "    <tr>\n",
       "      <th>critic_score</th>\n",
       "      <td>1.000000</td>\n",
       "      <td>0.472462</td>\n",
       "      <td>0.416998</td>\n",
       "    </tr>\n",
       "    <tr>\n",
       "      <th>user_score</th>\n",
       "      <td>0.472462</td>\n",
       "      <td>1.000000</td>\n",
       "      <td>-0.068925</td>\n",
       "    </tr>\n",
       "    <tr>\n",
       "      <th>world_sales</th>\n",
       "      <td>0.416998</td>\n",
       "      <td>-0.068925</td>\n",
       "      <td>1.000000</td>\n",
       "    </tr>\n",
       "  </tbody>\n",
       "</table>\n",
       "</div>"
      ],
      "text/plain": [
       "              critic_score  user_score  world_sales\n",
       "critic_score      1.000000    0.472462     0.416998\n",
       "user_score        0.472462    1.000000    -0.068925\n",
       "world_sales       0.416998   -0.068925     1.000000"
      ]
     },
     "execution_count": 42,
     "metadata": {},
     "output_type": "execute_result"
    }
   ],
   "source": [
    "xone[['critic_score', 'user_score', 'world_sales']].corr()"
   ]
  },
  {
   "cell_type": "markdown",
   "metadata": {},
   "source": [
    "Очень слабая обратная зависимость между user_score и world_sales. Слабая связь между critic_score и world_sales."
   ]
  },
  {
   "cell_type": "code",
   "execution_count": 43,
   "metadata": {},
   "outputs": [
    {
     "data": {
      "text/html": [
       "<div>\n",
       "<style scoped>\n",
       "    .dataframe tbody tr th:only-of-type {\n",
       "        vertical-align: middle;\n",
       "    }\n",
       "\n",
       "    .dataframe tbody tr th {\n",
       "        vertical-align: top;\n",
       "    }\n",
       "\n",
       "    .dataframe thead th {\n",
       "        text-align: right;\n",
       "    }\n",
       "</style>\n",
       "<table border=\"1\" class=\"dataframe\">\n",
       "  <thead>\n",
       "    <tr style=\"text-align: right;\">\n",
       "      <th></th>\n",
       "      <th>critic_score</th>\n",
       "      <th>user_score</th>\n",
       "      <th>world_sales</th>\n",
       "    </tr>\n",
       "  </thead>\n",
       "  <tbody>\n",
       "    <tr>\n",
       "      <th>critic_score</th>\n",
       "      <td>1.000000</td>\n",
       "      <td>0.432587</td>\n",
       "      <td>0.237243</td>\n",
       "    </tr>\n",
       "    <tr>\n",
       "      <th>user_score</th>\n",
       "      <td>0.432587</td>\n",
       "      <td>1.000000</td>\n",
       "      <td>-0.121867</td>\n",
       "    </tr>\n",
       "    <tr>\n",
       "      <th>world_sales</th>\n",
       "      <td>0.237243</td>\n",
       "      <td>-0.121867</td>\n",
       "      <td>1.000000</td>\n",
       "    </tr>\n",
       "  </tbody>\n",
       "</table>\n",
       "</div>"
      ],
      "text/plain": [
       "              critic_score  user_score  world_sales\n",
       "critic_score      1.000000    0.432587     0.237243\n",
       "user_score        0.432587    1.000000    -0.121867\n",
       "world_sales       0.237243   -0.121867     1.000000"
      ]
     },
     "execution_count": 43,
     "metadata": {},
     "output_type": "execute_result"
    }
   ],
   "source": [
    "pc[['critic_score', 'user_score', 'world_sales']].corr()"
   ]
  },
  {
   "cell_type": "markdown",
   "metadata": {},
   "source": [
    "Слабая обратная зависимость между user_score и world_sales. Слабая связь между critic_score и world_sales(слабее, чем у xone и ps4)"
   ]
  },
  {
   "cell_type": "code",
   "execution_count": 44,
   "metadata": {},
   "outputs": [
    {
     "data": {
      "text/html": [
       "<div>\n",
       "<style scoped>\n",
       "    .dataframe tbody tr th:only-of-type {\n",
       "        vertical-align: middle;\n",
       "    }\n",
       "\n",
       "    .dataframe tbody tr th {\n",
       "        vertical-align: top;\n",
       "    }\n",
       "\n",
       "    .dataframe thead th {\n",
       "        text-align: right;\n",
       "    }\n",
       "</style>\n",
       "<table border=\"1\" class=\"dataframe\">\n",
       "  <thead>\n",
       "    <tr style=\"text-align: right;\">\n",
       "      <th></th>\n",
       "      <th>critic_score</th>\n",
       "      <th>user_score</th>\n",
       "      <th>world_sales</th>\n",
       "    </tr>\n",
       "  </thead>\n",
       "  <tbody>\n",
       "    <tr>\n",
       "      <th>critic_score</th>\n",
       "      <td>1.000000</td>\n",
       "      <td>0.722762</td>\n",
       "      <td>0.320803</td>\n",
       "    </tr>\n",
       "    <tr>\n",
       "      <th>user_score</th>\n",
       "      <td>0.722762</td>\n",
       "      <td>1.000000</td>\n",
       "      <td>0.197583</td>\n",
       "    </tr>\n",
       "    <tr>\n",
       "      <th>world_sales</th>\n",
       "      <td>0.320803</td>\n",
       "      <td>0.197583</td>\n",
       "      <td>1.000000</td>\n",
       "    </tr>\n",
       "  </tbody>\n",
       "</table>\n",
       "</div>"
      ],
      "text/plain": [
       "              critic_score  user_score  world_sales\n",
       "critic_score      1.000000    0.722762     0.320803\n",
       "user_score        0.722762    1.000000     0.197583\n",
       "world_sales       0.320803    0.197583     1.000000"
      ]
     },
     "execution_count": 44,
     "metadata": {},
     "output_type": "execute_result"
    }
   ],
   "source": [
    "trids[['critic_score', 'user_score', 'world_sales']].corr()"
   ]
  },
  {
   "cell_type": "markdown",
   "metadata": {},
   "source": [
    "Слабая положительная связь между user_score и world_sales. Связь между critic_score и world_sales также слабая."
   ]
  },
  {
   "cell_type": "markdown",
   "metadata": {},
   "source": [
    "Таким образом, корреляция между critic_score, user_score и world_sales на всех платформах слабая или очень слабая."
   ]
  },
  {
   "cell_type": "markdown",
   "metadata": {},
   "source": [
    "**Общее распределение игр по жанрам. Что можно сказать о самых прибыльных жанрах? Выделяются ли жанры с высокими и низкими продажами?**"
   ]
  },
  {
   "cell_type": "code",
   "execution_count": 45,
   "metadata": {},
   "outputs": [
    {
     "data": {
      "text/plain": [
       "Text(0.5, 1.0, 'Распределение игр по жанрам')"
      ]
     },
     "execution_count": 45,
     "metadata": {},
     "output_type": "execute_result"
    },
    {
     "data": {
      "image/png": "[encoded data removed]",
      "text/plain": [
       "<Figure size 720x432 with 1 Axes>"
      ]
     },
     "metadata": {},
     "output_type": "display_data"
    }
   ],
   "source": [
    "genre = data_actual.groupby('genre')['genre'].count()\n",
    "genre.plot(kind='pie', autopct=\"%.2f\", startangle=100, figsize=(10, 6))\n",
    "plt.title('Распределение игр по жанрам')"
   ]
  },
  {
   "cell_type": "code",
   "execution_count": 46,
   "metadata": {},
   "outputs": [],
   "source": [
    "sales_by_genre = data_actual.groupby('genre')['world_sales'].median()"
   ]
  },
  {
   "cell_type": "code",
   "execution_count": 47,
   "metadata": {},
   "outputs": [
    {
     "data": {
      "text/plain": [
       "Text(0.5, 1.0, 'Медианы продаж по жанрам')"
      ]
     },
     "execution_count": 47,
     "metadata": {},
     "output_type": "execute_result"
    },
    {
     "data": {
      "image/png": "[encoded data removed]",
      "text/plain": [
       "<Figure size 432x288 with 1 Axes>"
      ]
     },
     "metadata": {
      "needs_background": "light"
     },
     "output_type": "display_data"
    }
   ],
   "source": [
    "sales_by_genre.plot(kind='bar')\n",
    "plt.title('Медианы продаж по жанрам')"
   ]
  },
  {
   "cell_type": "markdown",
   "metadata": {},
   "source": [
    "По круговой диаграмме видно, что больше всего игр жанров action, role-playing и adventure. Однако больше всего продаж у жанров - shooter, sports и platform. Это самые прибыльные жанры. Что интересно, 35,7% занимают игры жанра action, 12,8% - role-playing, но продаж у этих жанров по сравнению с другими не так много. Возможно количество игр жанров action и role-playing со временем сократится. А количество игр жанра shooter, sports увеличится.\n",
    "\n",
    "Меньше всего игр жанров puzzle, simulation и strategy. Среди них выше всего продажи у simulation, остальные - ниже."
   ]
  },
  {
   "cell_type": "markdown",
   "metadata": {},
   "source": [
    "## Портрет пользователя каждого региона"
   ]
  },
  {
   "cell_type": "markdown",
   "metadata": {},
   "source": [
    "**Самые популярные платформы (топ-5) по регионам**"
   ]
  },
  {
   "cell_type": "code",
   "execution_count": 48,
   "metadata": {},
   "outputs": [],
   "source": [
    "na_platforms = data_actual.groupby('platform')['na_sales'].sum().sort_values(ascending=False).head()\n",
    "na_platforms = data_actual[data_actual['platform'].isin(na_platforms.index)]"
   ]
  },
  {
   "cell_type": "code",
   "execution_count": 49,
   "metadata": {},
   "outputs": [
    {
     "data": {
      "text/plain": [
       "Text(0.5, 1.0, 'Топ-5 платформ в Северной Америке по годам')"
      ]
     },
     "execution_count": 49,
     "metadata": {},
     "output_type": "execute_result"
    },
    {
     "data": {
      "image/png": "[encoded data removed]",
      "text/plain": [
       "<Figure size 576x288 with 1 Axes>"
      ]
     },
     "metadata": {
      "needs_background": "light"
     },
     "output_type": "display_data"
    }
   ],
   "source": [
    "na_platforms_in_years = na_platforms.pivot_table(index='year_of_release', values='na_sales', columns='platform', aggfunc='sum')\n",
    "na_platforms_in_years.plot(kind='bar', figsize=(8,4))\n",
    "plt.title('Топ-5 платформ в Северной Америке по годам')"
   ]
  },
  {
   "cell_type": "markdown",
   "metadata": {},
   "source": [
    "В Северной Америке в 2014-2016 из топ-5 больше всего пользовались PS4 и XOne, у них пик продаж был в 2015 году. К 2016 продажи игр на всех топ-5 платформах снижаются. В более раннем периоде 2012-2013 были популярны X360 и PS3, но в 2014 продажи у этих платформ резко снизились."
   ]
  },
  {
   "cell_type": "code",
   "execution_count": 50,
   "metadata": {},
   "outputs": [],
   "source": [
    "eu_platforms = data_actual.groupby('platform')['eu_sales'].sum().sort_values(ascending=False).head()\n",
    "eu_platforms = data_actual[data_actual['platform'].isin(eu_platforms.index)]"
   ]
  },
  {
   "cell_type": "code",
   "execution_count": 51,
   "metadata": {},
   "outputs": [
    {
     "data": {
      "text/plain": [
       "Text(0.5, 1.0, 'Топ-5 платформ в Европе по годам')"
      ]
     },
     "execution_count": 51,
     "metadata": {},
     "output_type": "execute_result"
    },
    {
     "data": {
      "image/png": "[encoded data removed]",
      "text/plain": [
       "<Figure size 576x288 with 1 Axes>"
      ]
     },
     "metadata": {
      "needs_background": "light"
     },
     "output_type": "display_data"
    }
   ],
   "source": [
    "eu_platforms_in_years = eu_platforms.pivot_table(index='year_of_release', values='eu_sales', columns='platform', aggfunc='sum')\n",
    "eu_platforms_in_years.plot(kind='bar', figsize=(8,4))\n",
    "plt.title('Топ-5 платформ в Европе по годам')"
   ]
  },
  {
   "cell_type": "markdown",
   "metadata": {},
   "source": [
    "В Европе в 2014-2016 из топ-5 лидером продаж является PS4. Продаж у XOne заметно меньше по сравнению с Северной Америкой. Пик продаж у PS4 также приходится на 2015 год. К 2016 продажи игр на всех топ-5 платформах снижаются. В более раннем периоде 2012-2013 были популярны X360 и PS3(как и в Северной Америке), но в 2014 продажи у этих платформ резко снизились."
   ]
  },
  {
   "cell_type": "code",
   "execution_count": 52,
   "metadata": {},
   "outputs": [],
   "source": [
    "jp_platforms = data_actual.groupby('platform')['jp_sales'].sum().sort_values(ascending=False).head()\n",
    "jp_platforms = data_actual[data_actual['platform'].isin(jp_platforms.index)]"
   ]
  },
  {
   "cell_type": "code",
   "execution_count": 53,
   "metadata": {},
   "outputs": [
    {
     "data": {
      "text/plain": [
       "Text(0.5, 1.0, 'Топ-5 платформ в Японии по годам')"
      ]
     },
     "execution_count": 53,
     "metadata": {},
     "output_type": "execute_result"
    },
    {
     "data": {
      "image/png": "[encoded data removed]",
      "text/plain": [
       "<Figure size 576x288 with 1 Axes>"
      ]
     },
     "metadata": {
      "needs_background": "light"
     },
     "output_type": "display_data"
    }
   ],
   "source": [
    "jp_platforms_in_years = jp_platforms.pivot_table(index='year_of_release', values='jp_sales', columns='platform', aggfunc='sum')\n",
    "jp_platforms_in_years.plot(kind='bar', figsize=(8,4))\n",
    "plt.title('Топ-5 платформ в Японии по годам')"
   ]
  },
  {
   "cell_type": "markdown",
   "metadata": {},
   "source": [
    "В Японии на прортяжении всего изучаемого периода лидером продаж является 3DS. Продажи остальных платформ гораздо меньше. Как и в других регионах, к 2016 продажи у  платформ снижаются. 3DS на рынок вышла в 2011 году, поэтому в 2012-2013 можно увидеть, что в это время были также высокие продажи у PS3. \n",
    "\n",
    "(Производителями всех платформ является Япония) "
   ]
  },
  {
   "cell_type": "code",
   "execution_count": 54,
   "metadata": {},
   "outputs": [],
   "source": [
    "other_platforms = data_actual.groupby('platform')['other_sales'].sum().sort_values(ascending=False).head()\n",
    "other_platforms = data_actual[data_actual['platform'].isin(other_platforms.index)]"
   ]
  },
  {
   "cell_type": "code",
   "execution_count": 55,
   "metadata": {},
   "outputs": [
    {
     "data": {
      "text/plain": [
       "Text(0.5, 1.0, 'Топ-5 платформ в других регионах по годам')"
      ]
     },
     "execution_count": 55,
     "metadata": {},
     "output_type": "execute_result"
    },
    {
     "data": {
      "image/png": "[encoded data removed]",
      "text/plain": [
       "<Figure size 576x288 with 1 Axes>"
      ]
     },
     "metadata": {
      "needs_background": "light"
     },
     "output_type": "display_data"
    }
   ],
   "source": [
    "other_platforms_in_years = other_platforms.pivot_table(index='year_of_release', values='other_sales', columns='platform', aggfunc='sum')\n",
    "other_platforms_in_years.plot(kind='bar', figsize=(8,4))\n",
    "plt.title('Топ-5 платформ в других регионах по годам')"
   ]
  },
  {
   "cell_type": "markdown",
   "metadata": {},
   "source": [
    "В остальных регионах в 2012-2013 годах преобладает PS3, в 2014-2015- PS4. Продажи к 2016 также снижаются. В Европе эти платформы также преобладают."
   ]
  },
  {
   "cell_type": "markdown",
   "metadata": {},
   "source": [
    "**Самые популярные жанры (топ-5)**"
   ]
  },
  {
   "cell_type": "code",
   "execution_count": 56,
   "metadata": {},
   "outputs": [],
   "source": [
    "na_genres = data_actual.groupby('genre')['na_sales'].sum().sort_values(ascending=False).head()\n",
    "na_genres = data_actual[data_actual['genre'].isin(na_genres.index)]"
   ]
  },
  {
   "cell_type": "code",
   "execution_count": 57,
   "metadata": {},
   "outputs": [
    {
     "data": {
      "text/plain": [
       "Text(0.5, 1.0, 'Топ-5 жанров в Северной Америке по годам')"
      ]
     },
     "execution_count": 57,
     "metadata": {},
     "output_type": "execute_result"
    },
    {
     "data": {
      "image/png": "[encoded data removed]",
      "text/plain": [
       "<Figure size 576x288 with 1 Axes>"
      ]
     },
     "metadata": {
      "needs_background": "light"
     },
     "output_type": "display_data"
    }
   ],
   "source": [
    "na_genres_in_years = na_genres.pivot_table(index='year_of_release', values='na_sales', columns='genre', aggfunc='sum')\n",
    "na_genres_in_years.plot(kind='bar', figsize=(8,4))\n",
    "plt.title('Топ-5 жанров в Северной Америке по годам')"
   ]
  },
  {
   "cell_type": "code",
   "execution_count": 58,
   "metadata": {},
   "outputs": [],
   "source": [
    "eu_genres = data_actual.groupby('genre')['eu_sales'].sum().sort_values(ascending=False).head()\n",
    "eu_genres = data_actual[data_actual['genre'].isin(eu_genres.index)]"
   ]
  },
  {
   "cell_type": "code",
   "execution_count": 59,
   "metadata": {},
   "outputs": [
    {
     "data": {
      "text/plain": [
       "Text(0.5, 1.0, 'Топ-5 жанров в Европе по годам')"
      ]
     },
     "execution_count": 59,
     "metadata": {},
     "output_type": "execute_result"
    },
    {
     "data": {
      "image/png": "[encoded data removed]",
      "text/plain": [
       "<Figure size 576x288 with 1 Axes>"
      ]
     },
     "metadata": {
      "needs_background": "light"
     },
     "output_type": "display_data"
    }
   ],
   "source": [
    "eu_genres_in_years = eu_genres.pivot_table(index='year_of_release', values='eu_sales', columns='genre', aggfunc='sum')\n",
    "eu_genres_in_years.plot(kind='bar', figsize=(8,4))\n",
    "plt.title('Топ-5 жанров в Европе по годам')"
   ]
  },
  {
   "cell_type": "code",
   "execution_count": 60,
   "metadata": {},
   "outputs": [],
   "source": [
    "jp_genres = data_actual.groupby('genre')['jp_sales'].sum().sort_values(ascending=False).head()\n",
    "jp_genres = data_actual[data_actual['genre'].isin(jp_genres.index)]"
   ]
  },
  {
   "cell_type": "code",
   "execution_count": 61,
   "metadata": {},
   "outputs": [
    {
     "data": {
      "text/plain": [
       "Text(0.5, 1.0, 'Топ-5 жанров в Японии по годам')"
      ]
     },
     "execution_count": 61,
     "metadata": {},
     "output_type": "execute_result"
    },
    {
     "data": {
      "image/png": "[encoded data removed]",
      "text/plain": [
       "<Figure size 576x288 with 1 Axes>"
      ]
     },
     "metadata": {
      "needs_background": "light"
     },
     "output_type": "display_data"
    }
   ],
   "source": [
    "jp_genres_in_years = jp_genres.pivot_table(index='year_of_release', values='jp_sales', columns='genre', aggfunc='sum')\n",
    "jp_genres_in_years.plot(kind='bar', figsize=(8,4))\n",
    "plt.title('Топ-5 жанров в Японии по годам')"
   ]
  },
  {
   "cell_type": "code",
   "execution_count": 62,
   "metadata": {},
   "outputs": [],
   "source": [
    "other_genres = data_actual.groupby('genre')['other_sales'].sum().sort_values(ascending=False).head()\n",
    "other_genres = data_actual[data_actual['genre'].isin(other_genres.index)]"
   ]
  },
  {
   "cell_type": "code",
   "execution_count": 63,
   "metadata": {},
   "outputs": [
    {
     "data": {
      "text/plain": [
       "Text(0.5, 1.0, 'Топ-5 жанров в других регионах по годам')"
      ]
     },
     "execution_count": 63,
     "metadata": {},
     "output_type": "execute_result"
    },
    {
     "data": {
      "image/png": "[encoded data removed]",
      "text/plain": [
       "<Figure size 576x288 with 1 Axes>"
      ]
     },
     "metadata": {
      "needs_background": "light"
     },
     "output_type": "display_data"
    }
   ],
   "source": [
    "other_genres_in_years = other_genres.pivot_table(index='year_of_release', values='other_sales', columns='genre', aggfunc='sum')\n",
    "other_genres_in_years.plot(kind='bar', figsize=(8,4))\n",
    "plt.title('Топ-5 жанров в других регионах по годам')"
   ]
  },
  {
   "cell_type": "markdown",
   "metadata": {},
   "source": [
    "Во всех регионах кроме Японии преобладают action и shooter. В Японии shooter не входит в топ-5, там популярны action и role-playing. Опять, во всех регионах кроме Японии в 2012-2014 action - самый популярный, а в 2015-2016 - shooter. В Японии в 2012-2014 - role-playing, в 2015-2016 - action."
   ]
  },
  {
   "cell_type": "markdown",
   "metadata": {},
   "source": [
    "**Влияет ли рейтинг ESRB на продажи в отдельном регионе?**"
   ]
  },
  {
   "cell_type": "code",
   "execution_count": 64,
   "metadata": {},
   "outputs": [
    {
     "data": {
      "text/plain": [
       "array(['E', 'no_rating', 'M', 'T', 'E10+', 'K-A', 'AO', 'EC', 'RP'],\n",
       "      dtype=object)"
      ]
     },
     "execution_count": 64,
     "metadata": {},
     "output_type": "execute_result"
    }
   ],
   "source": [
    "data['rating'].unique()"
   ]
  },
  {
   "cell_type": "code",
   "execution_count": 65,
   "metadata": {},
   "outputs": [],
   "source": [
    "na_rating = data_actual.groupby('rating')['na_sales'].sum().sort_values(ascending=False)\n",
    "na_rating = data_actual[data_actual['rating'].isin(na_rating.index)]"
   ]
  },
  {
   "cell_type": "code",
   "execution_count": 66,
   "metadata": {},
   "outputs": [
    {
     "data": {
      "text/plain": [
       "Text(0.5, 1.0, 'Рейтинг ESRB в Северной Америке по годам')"
      ]
     },
     "execution_count": 66,
     "metadata": {},
     "output_type": "execute_result"
    },
    {
     "data": {
      "image/png": "[encoded data removed]",
      "text/plain": [
       "<Figure size 576x288 with 1 Axes>"
      ]
     },
     "metadata": {
      "needs_background": "light"
     },
     "output_type": "display_data"
    }
   ],
   "source": [
    "na_rating_in_years = na_rating.pivot_table(index='year_of_release', values='na_sales', columns='rating', aggfunc='sum')\n",
    "na_rating_in_years.plot(kind='bar', figsize=(8,4))\n",
    "plt.title('Рейтинг ESRB в Северной Америке по годам')"
   ]
  },
  {
   "cell_type": "markdown",
   "metadata": {},
   "source": [
    "В Северной Америке преобладают продажи с рейтингом M (подходит для лиц старше 17 лет), особенно в 2012-2014 годах. В 2015 году продажи с этим рейтингом практически сравнялись с продажами без рейтинга. Таким образом, к 2016 году рейтинг не так сильно влияет на количество продаж, как раньше."
   ]
  },
  {
   "cell_type": "code",
   "execution_count": 67,
   "metadata": {},
   "outputs": [],
   "source": [
    "eu_rating = data_actual.groupby('rating')['eu_sales'].sum().sort_values(ascending=False)\n",
    "eu_rating = data_actual[data_actual['rating'].isin(eu_rating.index)]"
   ]
  },
  {
   "cell_type": "code",
   "execution_count": 68,
   "metadata": {},
   "outputs": [
    {
     "data": {
      "text/plain": [
       "Text(0.5, 1.0, 'Рейтинг ESRB в Европе по годам')"
      ]
     },
     "execution_count": 68,
     "metadata": {},
     "output_type": "execute_result"
    },
    {
     "data": {
      "image/png": "[encoded data removed]",
      "text/plain": [
       "<Figure size 576x288 with 1 Axes>"
      ]
     },
     "metadata": {
      "needs_background": "light"
     },
     "output_type": "display_data"
    }
   ],
   "source": [
    "eu_rating_in_years = eu_rating.pivot_table(index='year_of_release', values='eu_sales', columns='rating', aggfunc='sum')\n",
    "eu_rating_in_years.plot(kind='bar', figsize=(8,4))\n",
    "plt.title('Рейтинг ESRB в Европе по годам')"
   ]
  },
  {
   "cell_type": "markdown",
   "metadata": {},
   "source": [
    "В Европе аналогичная ситуация с Северной Америкой."
   ]
  },
  {
   "cell_type": "code",
   "execution_count": 69,
   "metadata": {},
   "outputs": [],
   "source": [
    "jp_rating = data_actual.groupby('rating')['jp_sales'].sum().sort_values(ascending=False)\n",
    "jp_rating = data_actual[data_actual['rating'].isin(jp_rating.index)]"
   ]
  },
  {
   "cell_type": "code",
   "execution_count": 70,
   "metadata": {},
   "outputs": [
    {
     "data": {
      "text/plain": [
       "Text(0.5, 1.0, 'Рейтинг ESRB в Японии по годам')"
      ]
     },
     "execution_count": 70,
     "metadata": {},
     "output_type": "execute_result"
    },
    {
     "data": {
      "image/png": "[encoded data removed]",
      "text/plain": [
       "<Figure size 576x288 with 1 Axes>"
      ]
     },
     "metadata": {
      "needs_background": "light"
     },
     "output_type": "display_data"
    }
   ],
   "source": [
    "jp_rating_in_years = jp_rating.pivot_table(index='year_of_release', values='jp_sales', columns='rating', aggfunc='sum')\n",
    "jp_rating_in_years.plot(kind='bar', figsize=(8,4))\n",
    "plt.title('Рейтинг ESRB в Японии по годам')"
   ]
  },
  {
   "cell_type": "markdown",
   "metadata": {},
   "source": [
    "В Японии рейтинг не влияет на количество продаж на протяжении всего изучаемого периода."
   ]
  },
  {
   "cell_type": "code",
   "execution_count": 71,
   "metadata": {},
   "outputs": [],
   "source": [
    "other_rating = data_actual.groupby('rating')['other_sales'].sum().sort_values(ascending=False)\n",
    "other_rating = data_actual[data_actual['rating'].isin(other_rating.index)]"
   ]
  },
  {
   "cell_type": "code",
   "execution_count": 72,
   "metadata": {},
   "outputs": [
    {
     "data": {
      "text/plain": [
       "Text(0.5, 1.0, 'Рейтинг ESRB в других регионах по годам')"
      ]
     },
     "execution_count": 72,
     "metadata": {},
     "output_type": "execute_result"
    },
    {
     "data": {
      "image/png": "[encoded data removed]",
      "text/plain": [
       "<Figure size 576x288 with 1 Axes>"
      ]
     },
     "metadata": {
      "needs_background": "light"
     },
     "output_type": "display_data"
    }
   ],
   "source": [
    "other_rating_in_years = other_rating.pivot_table(index='year_of_release', values='other_sales', columns='rating', aggfunc='sum')\n",
    "other_rating_in_years.plot(kind='bar', figsize=(8,4))\n",
    "plt.title('Рейтинг ESRB в других регионах по годам')"
   ]
  },
  {
   "cell_type": "markdown",
   "metadata": {},
   "source": [
    "В других регионах аналогичная ситуация с Северной Америкой и Европой."
   ]
  },
  {
   "cell_type": "markdown",
   "metadata": {},
   "source": [
    "## Проверка гипотез"
   ]
  },
  {
   "cell_type": "markdown",
   "metadata": {},
   "source": [
    "**Средние пользовательские рейтинги платформ Xbox One и PC одинаковые**"
   ]
  },
  {
   "cell_type": "markdown",
   "metadata": {},
   "source": [
    "Для проверки гипотезы:\n",
    "- H0 - средние пользовательские рейтинги платформ Xbox One и PC равны\n",
    "- H1 - средние пользовательские рейтинги платформ Xbox One и PC не равны\n",
    "- Используем t-тест, потому что сравниваем две независимые выборки.\n",
    "- Уровень значимости - 0.05"
   ]
  },
  {
   "cell_type": "code",
   "execution_count": 73,
   "metadata": {},
   "outputs": [
    {
     "name": "stdout",
     "output_type": "stream",
     "text": [
      "p-значение: 0.5489537965134912\n",
      "Не получилось отвергнуть нулевую гипотезу\n"
     ]
    }
   ],
   "source": [
    "xone_user_score = xone['user_score'].dropna() #убираем значения nan\n",
    "pc_user_score = pc['user_score'].dropna()\n",
    "\n",
    "alpha = 0.05\n",
    "\n",
    "results = st.ttest_ind(xone_user_score, pc_user_score, equal_var = False)\n",
    "\n",
    "print('p-значение:', results.pvalue)\n",
    "\n",
    "if results.pvalue < alpha:\n",
    "    print(\"Отвергаем нулевую гипотезу\")\n",
    "else:\n",
    "    print(\"Не получилось отвергнуть нулевую гипотезу\")"
   ]
  },
  {
   "cell_type": "markdown",
   "metadata": {},
   "source": [
    "Получается, что гипотеза не отвергнута. Средние пользовательские рейтинги платформ Xbox One и PC одинаковые."
   ]
  },
  {
   "cell_type": "markdown",
   "metadata": {},
   "source": [
    "**Средние пользовательские рейтинги жанров Action и Sports разные**"
   ]
  },
  {
   "cell_type": "markdown",
   "metadata": {},
   "source": [
    "Для проверки гипотезы:\n",
    "- H0 - средние пользовательские рейтинги жанров Action и Sports равны\n",
    "- H1 - средние пользовательские рейтинги жанров Action и Sports не равны\n",
    "- Используем t-тест, потому что сравниваем две независимые выборки.\n",
    "- Уровень значимости - 0.05"
   ]
  },
  {
   "cell_type": "code",
   "execution_count": 74,
   "metadata": {},
   "outputs": [
    {
     "name": "stdout",
     "output_type": "stream",
     "text": [
      "p-значение: 5.989458066467418e-20\n",
      "Отвергаем нулевую гипотезу\n"
     ]
    }
   ],
   "source": [
    "act_genre = data_actual.query('genre == \"Action\"')\n",
    "sport_genre = data_actual.query('genre == \"Sports\"')\n",
    "act_genre_user_score = act_genre['user_score'].dropna()\n",
    "sport_genre_user_score = sport_genre['user_score'].dropna()\n",
    "\n",
    "alpha = 0.05\n",
    "\n",
    "results = st.ttest_ind(act_genre_user_score, sport_genre_user_score, equal_var = False)\n",
    "\n",
    "print('p-значение:', results.pvalue)\n",
    "\n",
    "if results.pvalue < alpha:\n",
    "    print(\"Отвергаем нулевую гипотезу\")\n",
    "else:\n",
    "    print(\"Не получилось отвергнуть нулевую гипотезу\")"
   ]
  },
  {
   "cell_type": "markdown",
   "metadata": {},
   "source": [
    "Таким образом, мы отвергаем гипотезу о том, что средние пользовательские рейтинги жанров Action и Sports равны. Следовательно, cредние пользовательские рейтинги жанров Action и Sports разные."
   ]
  },
  {
   "cell_type": "markdown",
   "metadata": {},
   "source": [
    "## Общий вывод"
   ]
  },
  {
   "cell_type": "markdown",
   "metadata": {},
   "source": [
    "Что было сделано?\n",
    "- Изучена общая информация данных\n",
    "- Проведена подготовка данных к исследованию (изменение типа данных, удаление строк с пропусками в столбцах с именем и категорией жанра, исследование остальных столбцов с пропусками, удаление дубликатов, создание нового столбца с суммой всех продаж по регионам)\n",
    "- Изучено количество мировых продаж по годам и определен актуальный период времени(2012-2016)\n",
    "- Изучен график \"Сумма продаж по топ-10 платформам по актуальному периоду\" (**Выводы:** Платформы, созданные в 2013, прошли пик продаж(2015 год), и в 2015-2016 годах продажи уже снижаются. Ожидается, что в 2017 продажи продолжат снижаться на всех представленных на графике платформах. Из всех платформ самые высокие продажи у PS4 и XOne. Они самые прибыльные. Возможно в 2017 поднимятся немного продажи PC.)\n",
    "- Построен график «ящик с усами» по глобальным продажам игр в разбивке по платформам, который доказал, что самые высокие продажи по медиане -  у PS4 И XOne\n",
    "- Изучено, как влияют на продажи внутри одной популярной платформы отзывы пользователей и критиков(**Выводы:** PS4 - Связь между оценкой критиков и количеством продаж слабая. Связи между оценкой пользователей и количеством продаж практически нет, есть некая обратная зависимость. На остальных платформах корреляция между critic_score, user_score и world_sales слабая или очень слабая.)\n",
    "- Изучено распределение игр по жанрам и найдены медианы продаж по жанрам (**Выводы:** больше всего игр жанров action, role-playing и adventure. Однако больше всего продаж у жанров - shooter, sports и platform. Это самые прибыльные жанры. Что интересно, 35,7% занимают игры жанра action, 12,8% - role-playing, но продаж у этих жанров по сравнению с другими не так много. Возможно количество игр жанров action и role-playing со временем сократится. А количество игр жанра shooter, sports увеличится. Меньше всего игр жанров puzzle, simulation и strategy. Среди них выше всего продажи у simulation, остальные - ниже.)\n",
    "- Определен портрет пользователя каждого региона:\n",
    "    - Северная Америка: Топ-2 платформы по продажам - PS4 и PS3. Топ-2 жанра по продажам- action, shooter. В 2016 году рейтинг ESRB не так сильно влияет на количество продаж, как раньше (раньше преобладал рейтинг M)\n",
    "    - Европа: Лидер по продажам среди платформ - PS4. Топ-2 жанра по продажам- action, shooter. В 2016 году рейтинг ESRB не так сильно влияет на количество продаж, как раньше (раньше преобладал рейтинг M)\n",
    "    - Япония: Производитель всех изучаемых платформ. На прортяжении всего изучаемого периода лидером продаж по платформам является 3DS. Топ-2 жанра - action и role-playing. Рейтинг ESRB не влияет на количество продаж на протяжении всего изучаемого периода.\n",
    "    - Остальные регионы: в 2012-2013 годах преобладает PS3, в 2014-2015- PS4, как и в Европе. Топ-2 жанра - action, shooter. В 2016 году рейтинг ESRB не так сильно влияет на количество продаж, как раньше (раньше преобладал рейтинг M)\n",
    "- Проверены две гипотезы: \n",
    "    - Средние пользовательские рейтинги платформ Xbox One и PC одинаковые. Гипотеза не отвергнута\n",
    "    - Средние пользовательские рейтинги жанров Action (англ. «действие», экшен-игры) и Sports (англ. «спортивные соревнования») разные. Гипотеза не отвергнута."
   ]
  }
 ],
 "metadata": {
  "ExecuteTimeLog": [
   {
    "duration": 395,
    "start_time": "2022-10-26T11:31:44.045Z"
   },
   {
    "duration": 185,
    "start_time": "2022-10-26T11:31:44.958Z"
   },
   {
    "duration": 41,
    "start_time": "2022-10-26T11:31:57.485Z"
   },
   {
    "duration": 14,
    "start_time": "2022-10-26T11:32:07.016Z"
   },
   {
    "duration": 58,
    "start_time": "2022-10-26T11:33:46.113Z"
   },
   {
    "duration": 3,
    "start_time": "2022-10-26T11:34:03.617Z"
   },
   {
    "duration": 7,
    "start_time": "2022-10-26T11:34:12.193Z"
   },
   {
    "duration": 8,
    "start_time": "2022-10-26T11:34:25.661Z"
   },
   {
    "duration": 6,
    "start_time": "2022-10-26T11:34:47.398Z"
   },
   {
    "duration": 3,
    "start_time": "2022-10-26T11:34:54.948Z"
   },
   {
    "duration": 50,
    "start_time": "2022-10-26T11:34:55.296Z"
   },
   {
    "duration": 30,
    "start_time": "2022-10-26T11:34:55.480Z"
   },
   {
    "duration": 12,
    "start_time": "2022-10-26T11:34:55.632Z"
   },
   {
    "duration": 4,
    "start_time": "2022-10-26T11:34:56.390Z"
   },
   {
    "duration": 3,
    "start_time": "2022-10-26T11:34:58.974Z"
   },
   {
    "duration": 12,
    "start_time": "2022-10-26T11:34:59.989Z"
   },
   {
    "duration": 4,
    "start_time": "2022-10-26T11:35:15.560Z"
   },
   {
    "duration": 6,
    "start_time": "2022-10-26T11:38:01.497Z"
   },
   {
    "duration": 17,
    "start_time": "2022-10-26T11:39:49.272Z"
   },
   {
    "duration": 15,
    "start_time": "2022-10-26T11:40:01.730Z"
   },
   {
    "duration": 4,
    "start_time": "2022-10-26T11:45:31.461Z"
   },
   {
    "duration": 5,
    "start_time": "2022-10-26T11:45:40.939Z"
   },
   {
    "duration": 3,
    "start_time": "2022-10-26T11:47:55.763Z"
   },
   {
    "duration": 15,
    "start_time": "2022-10-26T11:48:03.729Z"
   },
   {
    "duration": 7,
    "start_time": "2022-10-26T11:49:27.550Z"
   },
   {
    "duration": 6,
    "start_time": "2022-10-26T11:50:43.240Z"
   },
   {
    "duration": 19,
    "start_time": "2022-10-26T11:51:12.679Z"
   },
   {
    "duration": 44,
    "start_time": "2022-10-26T11:51:25.406Z"
   },
   {
    "duration": 4,
    "start_time": "2022-10-26T11:51:25.828Z"
   },
   {
    "duration": 5,
    "start_time": "2022-10-26T11:51:26.494Z"
   },
   {
    "duration": 13,
    "start_time": "2022-10-26T11:51:27.095Z"
   },
   {
    "duration": 8,
    "start_time": "2022-10-26T11:54:12.923Z"
   },
   {
    "duration": 8,
    "start_time": "2022-10-26T11:55:53.433Z"
   },
   {
    "duration": 10,
    "start_time": "2022-10-26T11:56:01.109Z"
   },
   {
    "duration": 5,
    "start_time": "2022-10-26T11:59:13.362Z"
   },
   {
    "duration": 18,
    "start_time": "2022-10-26T11:59:47.486Z"
   },
   {
    "duration": 8,
    "start_time": "2022-10-26T12:00:09.650Z"
   },
   {
    "duration": 8,
    "start_time": "2022-10-26T12:00:11.161Z"
   },
   {
    "duration": 5,
    "start_time": "2022-10-26T12:00:11.718Z"
   },
   {
    "duration": 8,
    "start_time": "2022-10-26T12:01:00.808Z"
   },
   {
    "duration": 9,
    "start_time": "2022-10-26T12:01:03.162Z"
   },
   {
    "duration": 9,
    "start_time": "2022-10-26T12:01:05.160Z"
   },
   {
    "duration": 11,
    "start_time": "2022-10-26T12:01:05.576Z"
   },
   {
    "duration": 5,
    "start_time": "2022-10-26T12:01:15.628Z"
   },
   {
    "duration": 13,
    "start_time": "2022-10-26T12:01:32.993Z"
   },
   {
    "duration": 6,
    "start_time": "2022-10-26T12:01:47.662Z"
   },
   {
    "duration": 71,
    "start_time": "2022-10-26T12:01:47.976Z"
   },
   {
    "duration": 25,
    "start_time": "2022-10-26T12:01:48.147Z"
   },
   {
    "duration": 20,
    "start_time": "2022-10-26T12:01:48.471Z"
   },
   {
    "duration": 3,
    "start_time": "2022-10-26T12:01:48.796Z"
   },
   {
    "duration": 4,
    "start_time": "2022-10-26T12:01:50.129Z"
   },
   {
    "duration": 6,
    "start_time": "2022-10-26T12:02:06.939Z"
   },
   {
    "duration": 2,
    "start_time": "2022-10-26T12:02:13.018Z"
   },
   {
    "duration": 64,
    "start_time": "2022-10-26T12:02:13.022Z"
   },
   {
    "duration": 27,
    "start_time": "2022-10-26T12:02:13.088Z"
   },
   {
    "duration": 16,
    "start_time": "2022-10-26T12:02:13.117Z"
   },
   {
    "duration": 3,
    "start_time": "2022-10-26T12:02:13.134Z"
   },
   {
    "duration": 7,
    "start_time": "2022-10-26T12:02:13.138Z"
   },
   {
    "duration": 4,
    "start_time": "2022-10-26T12:02:15.642Z"
   },
   {
    "duration": 9,
    "start_time": "2022-10-26T12:02:40.530Z"
   },
   {
    "duration": 12,
    "start_time": "2022-10-26T12:02:42.414Z"
   },
   {
    "duration": 10,
    "start_time": "2022-10-26T12:02:46.430Z"
   },
   {
    "duration": 1356,
    "start_time": "2022-10-26T12:02:47.600Z"
   },
   {
    "duration": 6,
    "start_time": "2022-10-26T12:02:55.999Z"
   },
   {
    "duration": 6,
    "start_time": "2022-10-26T12:05:20.286Z"
   },
   {
    "duration": 3,
    "start_time": "2022-10-26T12:06:25.830Z"
   },
   {
    "duration": 60,
    "start_time": "2022-10-26T12:06:26.181Z"
   },
   {
    "duration": 21,
    "start_time": "2022-10-26T12:06:26.320Z"
   },
   {
    "duration": 12,
    "start_time": "2022-10-26T12:06:26.496Z"
   },
   {
    "duration": 3,
    "start_time": "2022-10-26T12:06:26.816Z"
   },
   {
    "duration": 4,
    "start_time": "2022-10-26T12:06:27.204Z"
   },
   {
    "duration": 3,
    "start_time": "2022-10-26T12:06:29.152Z"
   },
   {
    "duration": 22,
    "start_time": "2022-10-26T12:06:30.572Z"
   },
   {
    "duration": 9,
    "start_time": "2022-10-26T12:06:36.015Z"
   },
   {
    "duration": 9,
    "start_time": "2022-10-26T12:06:36.491Z"
   },
   {
    "duration": 5,
    "start_time": "2022-10-26T12:06:42.324Z"
   },
   {
    "duration": 22,
    "start_time": "2022-10-26T12:06:47.898Z"
   },
   {
    "duration": 4,
    "start_time": "2022-10-26T12:07:02.433Z"
   },
   {
    "duration": 10,
    "start_time": "2022-10-26T12:07:14.400Z"
   },
   {
    "duration": 10,
    "start_time": "2022-10-26T12:07:14.802Z"
   },
   {
    "duration": 5,
    "start_time": "2022-10-26T12:07:14.994Z"
   },
   {
    "duration": 5,
    "start_time": "2022-10-26T12:07:15.159Z"
   },
   {
    "duration": 12,
    "start_time": "2022-10-26T12:07:15.347Z"
   },
   {
    "duration": 4,
    "start_time": "2022-10-26T12:07:26.521Z"
   },
   {
    "duration": 8,
    "start_time": "2022-10-26T12:07:29.099Z"
   },
   {
    "duration": 4,
    "start_time": "2022-10-26T12:07:46.696Z"
   },
   {
    "duration": 8,
    "start_time": "2022-10-26T12:09:59.862Z"
   },
   {
    "duration": 17,
    "start_time": "2022-10-26T12:10:01.856Z"
   },
   {
    "duration": 5,
    "start_time": "2022-10-26T12:12:40.447Z"
   },
   {
    "duration": 6,
    "start_time": "2022-10-26T12:19:23.966Z"
   },
   {
    "duration": 5,
    "start_time": "2022-10-26T12:21:00.247Z"
   },
   {
    "duration": 12,
    "start_time": "2022-10-26T12:21:10.040Z"
   },
   {
    "duration": 10,
    "start_time": "2022-10-26T12:21:58.457Z"
   },
   {
    "duration": 12,
    "start_time": "2022-10-26T12:21:58.955Z"
   },
   {
    "duration": 8,
    "start_time": "2022-10-26T13:04:51.985Z"
   },
   {
    "duration": 3,
    "start_time": "2022-10-26T13:05:20.468Z"
   },
   {
    "duration": 78,
    "start_time": "2022-10-26T13:05:20.473Z"
   },
   {
    "duration": 36,
    "start_time": "2022-10-26T13:05:20.553Z"
   },
   {
    "duration": 17,
    "start_time": "2022-10-26T13:05:20.596Z"
   },
   {
    "duration": 2,
    "start_time": "2022-10-26T13:05:20.616Z"
   },
   {
    "duration": 8,
    "start_time": "2022-10-26T13:05:20.620Z"
   },
   {
    "duration": 8,
    "start_time": "2022-10-26T13:05:20.630Z"
   },
   {
    "duration": 14,
    "start_time": "2022-10-26T13:05:20.640Z"
   },
   {
    "duration": 34,
    "start_time": "2022-10-26T13:05:20.656Z"
   },
   {
    "duration": 15,
    "start_time": "2022-10-26T13:05:20.692Z"
   },
   {
    "duration": 8,
    "start_time": "2022-10-26T13:05:20.708Z"
   },
   {
    "duration": 12,
    "start_time": "2022-10-26T13:05:20.718Z"
   },
   {
    "duration": 7,
    "start_time": "2022-10-26T13:05:20.732Z"
   },
   {
    "duration": 7,
    "start_time": "2022-10-26T13:05:20.742Z"
   },
   {
    "duration": 16,
    "start_time": "2022-10-26T13:05:20.752Z"
   },
   {
    "duration": 35,
    "start_time": "2022-10-26T13:05:20.769Z"
   },
   {
    "duration": 11,
    "start_time": "2022-10-26T13:05:20.806Z"
   },
   {
    "duration": 4,
    "start_time": "2022-10-26T13:05:31.830Z"
   },
   {
    "duration": 48,
    "start_time": "2022-10-26T13:05:32.191Z"
   },
   {
    "duration": 19,
    "start_time": "2022-10-26T13:05:32.358Z"
   },
   {
    "duration": 14,
    "start_time": "2022-10-26T13:05:32.523Z"
   },
   {
    "duration": 3,
    "start_time": "2022-10-26T13:05:33.032Z"
   },
   {
    "duration": 4,
    "start_time": "2022-10-26T13:05:33.206Z"
   },
   {
    "duration": 3,
    "start_time": "2022-10-26T13:05:35.152Z"
   },
   {
    "duration": 9,
    "start_time": "2022-10-26T13:05:35.321Z"
   },
   {
    "duration": 9,
    "start_time": "2022-10-26T13:05:36.986Z"
   },
   {
    "duration": 5,
    "start_time": "2022-10-26T13:05:37.530Z"
   },
   {
    "duration": 4,
    "start_time": "2022-10-26T13:05:38.119Z"
   },
   {
    "duration": 8,
    "start_time": "2022-10-26T13:05:39.861Z"
   },
   {
    "duration": 6,
    "start_time": "2022-10-26T13:05:41.624Z"
   },
   {
    "duration": 5,
    "start_time": "2022-10-26T13:06:23.371Z"
   },
   {
    "duration": 5,
    "start_time": "2022-10-26T13:06:38.525Z"
   },
   {
    "duration": 366,
    "start_time": "2022-10-26T13:10:50.072Z"
   },
   {
    "duration": 55,
    "start_time": "2022-10-26T13:10:50.440Z"
   },
   {
    "duration": 38,
    "start_time": "2022-10-26T13:10:50.589Z"
   },
   {
    "duration": 24,
    "start_time": "2022-10-26T13:10:50.768Z"
   },
   {
    "duration": 4,
    "start_time": "2022-10-26T13:10:51.097Z"
   },
   {
    "duration": 4,
    "start_time": "2022-10-26T13:10:52.346Z"
   },
   {
    "duration": 4,
    "start_time": "2022-10-26T13:10:52.695Z"
   },
   {
    "duration": 14,
    "start_time": "2022-10-26T13:10:52.843Z"
   },
   {
    "duration": 9,
    "start_time": "2022-10-26T13:11:02.716Z"
   },
   {
    "duration": 5,
    "start_time": "2022-10-26T13:11:03.770Z"
   },
   {
    "duration": 5,
    "start_time": "2022-10-26T13:11:04.118Z"
   },
   {
    "duration": 6,
    "start_time": "2022-10-26T13:11:07.167Z"
   },
   {
    "duration": 4,
    "start_time": "2022-10-26T13:11:11.918Z"
   },
   {
    "duration": 12,
    "start_time": "2022-10-26T13:11:12.576Z"
   },
   {
    "duration": 5,
    "start_time": "2022-10-26T13:11:13.770Z"
   },
   {
    "duration": 8,
    "start_time": "2022-10-26T13:11:28.625Z"
   },
   {
    "duration": 5,
    "start_time": "2022-10-26T13:11:29.233Z"
   },
   {
    "duration": 9,
    "start_time": "2022-10-26T13:15:36.680Z"
   },
   {
    "duration": 6,
    "start_time": "2022-10-26T13:15:39.193Z"
   },
   {
    "duration": 12,
    "start_time": "2022-10-26T13:16:08.178Z"
   },
   {
    "duration": 8,
    "start_time": "2022-10-26T13:16:16.400Z"
   },
   {
    "duration": 78,
    "start_time": "2022-10-26T13:18:31.663Z"
   },
   {
    "duration": 5,
    "start_time": "2022-10-26T13:18:37.329Z"
   },
   {
    "duration": 387,
    "start_time": "2022-10-26T13:23:09.252Z"
   },
   {
    "duration": 25,
    "start_time": "2022-10-26T13:28:39.208Z"
   },
   {
    "duration": 81,
    "start_time": "2022-10-26T13:29:30.064Z"
   },
   {
    "duration": 49,
    "start_time": "2022-10-26T13:29:48.459Z"
   },
   {
    "duration": 22,
    "start_time": "2022-10-26T13:30:26.050Z"
   },
   {
    "duration": 15,
    "start_time": "2022-10-26T13:30:51.112Z"
   },
   {
    "duration": 167,
    "start_time": "2022-10-26T13:31:59.299Z"
   },
   {
    "duration": 178,
    "start_time": "2022-10-26T13:32:42.322Z"
   },
   {
    "duration": 180,
    "start_time": "2022-10-26T13:32:57.963Z"
   },
   {
    "duration": 23,
    "start_time": "2022-10-26T13:33:16.899Z"
   },
   {
    "duration": 209,
    "start_time": "2022-10-26T13:43:25.341Z"
   },
   {
    "duration": 184,
    "start_time": "2022-10-26T13:43:39.789Z"
   },
   {
    "duration": 22,
    "start_time": "2022-10-26T13:44:00.066Z"
   },
   {
    "duration": 160,
    "start_time": "2022-10-26T13:44:58.692Z"
   },
   {
    "duration": 17,
    "start_time": "2022-10-26T13:45:41.633Z"
   },
   {
    "duration": 8,
    "start_time": "2022-10-26T13:48:37.535Z"
   },
   {
    "duration": 8,
    "start_time": "2022-10-26T13:50:25.905Z"
   },
   {
    "duration": 8,
    "start_time": "2022-10-26T13:50:54.502Z"
   },
   {
    "duration": 76,
    "start_time": "2022-10-26T13:53:23.916Z"
   },
   {
    "duration": 12,
    "start_time": "2022-10-26T13:53:30.490Z"
   },
   {
    "duration": 9,
    "start_time": "2022-10-26T13:55:08.311Z"
   },
   {
    "duration": 8,
    "start_time": "2022-10-26T13:55:48.397Z"
   },
   {
    "duration": 7,
    "start_time": "2022-10-26T13:56:02.292Z"
   },
   {
    "duration": 10,
    "start_time": "2022-10-26T13:56:06.085Z"
   },
   {
    "duration": 17,
    "start_time": "2022-10-26T13:56:14.967Z"
   },
   {
    "duration": 55,
    "start_time": "2022-10-26T13:56:56.151Z"
   },
   {
    "duration": 8,
    "start_time": "2022-10-26T13:57:11.409Z"
   },
   {
    "duration": 17,
    "start_time": "2022-10-26T13:59:09.251Z"
   },
   {
    "duration": 12,
    "start_time": "2022-10-26T13:59:33.901Z"
   },
   {
    "duration": 16,
    "start_time": "2022-10-26T13:59:45.787Z"
   },
   {
    "duration": 17,
    "start_time": "2022-10-26T13:59:55.968Z"
   },
   {
    "duration": 11,
    "start_time": "2022-10-26T14:01:42.518Z"
   },
   {
    "duration": 15,
    "start_time": "2022-10-26T14:02:32.716Z"
   },
   {
    "duration": 21,
    "start_time": "2022-10-26T14:04:02.505Z"
   },
   {
    "duration": 15,
    "start_time": "2022-10-26T14:04:25.987Z"
   },
   {
    "duration": 32,
    "start_time": "2022-10-26T14:04:57.569Z"
   },
   {
    "duration": 72,
    "start_time": "2022-10-26T14:05:14.588Z"
   },
   {
    "duration": 18,
    "start_time": "2022-10-26T14:05:21.309Z"
   },
   {
    "duration": 15,
    "start_time": "2022-10-26T14:05:36.905Z"
   },
   {
    "duration": 10,
    "start_time": "2022-10-26T14:07:46.881Z"
   },
   {
    "duration": 10,
    "start_time": "2022-10-26T14:07:53.442Z"
   },
   {
    "duration": 8,
    "start_time": "2022-10-26T14:08:55.379Z"
   },
   {
    "duration": 14,
    "start_time": "2022-10-26T14:08:59.955Z"
   },
   {
    "duration": 15,
    "start_time": "2022-10-26T14:09:19.987Z"
   },
   {
    "duration": 9,
    "start_time": "2022-10-26T14:15:32.128Z"
   },
   {
    "duration": 8,
    "start_time": "2022-10-26T14:15:42.616Z"
   },
   {
    "duration": 10,
    "start_time": "2022-10-26T14:15:45.236Z"
   },
   {
    "duration": 8,
    "start_time": "2022-10-26T14:16:37.311Z"
   },
   {
    "duration": 11,
    "start_time": "2022-10-26T14:16:37.845Z"
   },
   {
    "duration": 5,
    "start_time": "2022-10-26T14:16:51.801Z"
   },
   {
    "duration": 413,
    "start_time": "2022-10-26T14:16:52.323Z"
   },
   {
    "duration": 386,
    "start_time": "2022-10-26T14:18:39.427Z"
   },
   {
    "duration": 13,
    "start_time": "2022-10-26T14:19:22.156Z"
   },
   {
    "duration": 17,
    "start_time": "2022-10-26T14:23:59.673Z"
   },
   {
    "duration": 3,
    "start_time": "2022-10-26T14:27:21.295Z"
   },
   {
    "duration": 48,
    "start_time": "2022-10-26T14:27:21.631Z"
   },
   {
    "duration": 21,
    "start_time": "2022-10-26T14:27:21.829Z"
   },
   {
    "duration": 12,
    "start_time": "2022-10-26T14:27:21.925Z"
   },
   {
    "duration": 3,
    "start_time": "2022-10-26T14:27:22.439Z"
   },
   {
    "duration": 4,
    "start_time": "2022-10-26T14:27:22.620Z"
   },
   {
    "duration": 4,
    "start_time": "2022-10-26T14:27:23.213Z"
   },
   {
    "duration": 12,
    "start_time": "2022-10-26T14:27:23.392Z"
   },
   {
    "duration": 6,
    "start_time": "2022-10-26T14:27:23.757Z"
   },
   {
    "duration": 6,
    "start_time": "2022-10-26T14:27:23.955Z"
   },
   {
    "duration": 5,
    "start_time": "2022-10-26T14:27:24.123Z"
   },
   {
    "duration": 6,
    "start_time": "2022-10-26T14:27:24.524Z"
   },
   {
    "duration": 4,
    "start_time": "2022-10-26T14:27:24.892Z"
   },
   {
    "duration": 5,
    "start_time": "2022-10-26T14:27:25.090Z"
   },
   {
    "duration": 7,
    "start_time": "2022-10-26T14:27:25.265Z"
   },
   {
    "duration": 11,
    "start_time": "2022-10-26T14:27:25.661Z"
   },
   {
    "duration": 9,
    "start_time": "2022-10-26T14:27:25.890Z"
   },
   {
    "duration": 6,
    "start_time": "2022-10-26T14:27:27.843Z"
   },
   {
    "duration": 170,
    "start_time": "2022-10-26T14:27:29.377Z"
   },
   {
    "duration": 7,
    "start_time": "2022-10-26T14:27:31.296Z"
   },
   {
    "duration": 3,
    "start_time": "2022-10-26T14:27:33.281Z"
   },
   {
    "duration": 18,
    "start_time": "2022-10-26T14:27:34.251Z"
   },
   {
    "duration": 24,
    "start_time": "2022-10-26T14:27:53.844Z"
   },
   {
    "duration": 15,
    "start_time": "2022-10-26T14:29:44.856Z"
   },
   {
    "duration": 6,
    "start_time": "2022-10-26T14:36:36.931Z"
   },
   {
    "duration": 2,
    "start_time": "2022-10-26T14:37:03.208Z"
   },
   {
    "duration": 53,
    "start_time": "2022-10-26T14:37:03.570Z"
   },
   {
    "duration": 21,
    "start_time": "2022-10-26T14:37:03.754Z"
   },
   {
    "duration": 13,
    "start_time": "2022-10-26T14:37:03.900Z"
   },
   {
    "duration": 2,
    "start_time": "2022-10-26T14:37:04.228Z"
   },
   {
    "duration": 5,
    "start_time": "2022-10-26T14:37:04.407Z"
   },
   {
    "duration": 4,
    "start_time": "2022-10-26T14:37:04.941Z"
   },
   {
    "duration": 8,
    "start_time": "2022-10-26T14:37:05.092Z"
   },
   {
    "duration": 12,
    "start_time": "2022-10-26T14:37:07.882Z"
   },
   {
    "duration": 5,
    "start_time": "2022-10-26T14:37:08.138Z"
   },
   {
    "duration": 5,
    "start_time": "2022-10-26T14:37:08.392Z"
   },
   {
    "duration": 8,
    "start_time": "2022-10-26T14:37:12.910Z"
   },
   {
    "duration": 5,
    "start_time": "2022-10-26T14:37:13.332Z"
   },
   {
    "duration": 17,
    "start_time": "2022-10-26T14:37:15.274Z"
   },
   {
    "duration": 5,
    "start_time": "2022-10-26T14:37:18.340Z"
   },
   {
    "duration": 9,
    "start_time": "2022-10-26T14:37:20.690Z"
   },
   {
    "duration": 10,
    "start_time": "2022-10-26T14:37:20.860Z"
   },
   {
    "duration": 20,
    "start_time": "2022-10-26T14:37:21.792Z"
   },
   {
    "duration": 5,
    "start_time": "2022-10-26T14:37:23.252Z"
   },
   {
    "duration": 7,
    "start_time": "2022-10-26T14:37:55.716Z"
   },
   {
    "duration": 7,
    "start_time": "2022-10-26T14:38:08.353Z"
   },
   {
    "duration": 6,
    "start_time": "2022-10-26T14:38:19.557Z"
   },
   {
    "duration": 6,
    "start_time": "2022-10-26T14:38:22.621Z"
   },
   {
    "duration": 11,
    "start_time": "2022-10-26T14:39:07.834Z"
   },
   {
    "duration": 8,
    "start_time": "2022-10-26T14:39:47.097Z"
   },
   {
    "duration": 19,
    "start_time": "2022-10-26T14:42:33.263Z"
   },
   {
    "duration": 16,
    "start_time": "2022-10-26T14:42:51.040Z"
   },
   {
    "duration": 19,
    "start_time": "2022-10-26T14:42:58.892Z"
   },
   {
    "duration": 18,
    "start_time": "2022-10-26T14:43:07.144Z"
   },
   {
    "duration": 16,
    "start_time": "2022-10-26T14:43:14.226Z"
   },
   {
    "duration": 21,
    "start_time": "2022-10-26T14:43:18.266Z"
   },
   {
    "duration": 13,
    "start_time": "2022-10-26T14:59:28.033Z"
   },
   {
    "duration": 10,
    "start_time": "2022-10-26T15:00:50.314Z"
   },
   {
    "duration": 8,
    "start_time": "2022-10-26T15:01:07.622Z"
   },
   {
    "duration": 9,
    "start_time": "2022-10-26T15:01:16.186Z"
   },
   {
    "duration": 8,
    "start_time": "2022-10-26T15:01:38.760Z"
   },
   {
    "duration": 9,
    "start_time": "2022-10-26T15:01:41.142Z"
   },
   {
    "duration": 11,
    "start_time": "2022-10-26T15:04:01.092Z"
   },
   {
    "duration": 8,
    "start_time": "2022-10-26T15:08:12.952Z"
   },
   {
    "duration": 9,
    "start_time": "2022-10-26T15:09:21.827Z"
   },
   {
    "duration": 8,
    "start_time": "2022-10-26T15:13:33.507Z"
   },
   {
    "duration": 12,
    "start_time": "2022-10-26T15:14:03.448Z"
   },
   {
    "duration": 16,
    "start_time": "2022-10-26T15:14:12.759Z"
   },
   {
    "duration": 8,
    "start_time": "2022-10-26T15:14:21.640Z"
   },
   {
    "duration": 3,
    "start_time": "2022-10-26T15:14:30.670Z"
   },
   {
    "duration": 48,
    "start_time": "2022-10-26T15:14:31.001Z"
   },
   {
    "duration": 17,
    "start_time": "2022-10-26T15:14:31.343Z"
   },
   {
    "duration": 13,
    "start_time": "2022-10-26T15:14:31.906Z"
   },
   {
    "duration": 38,
    "start_time": "2022-10-26T15:14:31.921Z"
   },
   {
    "duration": 4,
    "start_time": "2022-10-26T15:14:32.196Z"
   },
   {
    "duration": 5,
    "start_time": "2022-10-26T15:14:32.578Z"
   },
   {
    "duration": 10,
    "start_time": "2022-10-26T15:14:32.759Z"
   },
   {
    "duration": 8,
    "start_time": "2022-10-26T15:14:33.111Z"
   },
   {
    "duration": 5,
    "start_time": "2022-10-26T15:14:33.303Z"
   },
   {
    "duration": 5,
    "start_time": "2022-10-26T15:14:33.473Z"
   },
   {
    "duration": 8,
    "start_time": "2022-10-26T15:14:33.994Z"
   },
   {
    "duration": 4,
    "start_time": "2022-10-26T15:14:34.370Z"
   },
   {
    "duration": 6,
    "start_time": "2022-10-26T15:14:34.569Z"
   },
   {
    "duration": 6,
    "start_time": "2022-10-26T15:14:34.770Z"
   },
   {
    "duration": 9,
    "start_time": "2022-10-26T15:14:35.100Z"
   },
   {
    "duration": 16,
    "start_time": "2022-10-26T15:14:35.283Z"
   },
   {
    "duration": 18,
    "start_time": "2022-10-26T15:14:35.843Z"
   },
   {
    "duration": 8,
    "start_time": "2022-10-26T15:14:36.231Z"
   },
   {
    "duration": 9,
    "start_time": "2022-10-26T15:14:36.753Z"
   },
   {
    "duration": 77,
    "start_time": "2022-10-26T15:14:38.331Z"
   },
   {
    "duration": 8,
    "start_time": "2022-10-26T15:14:38.813Z"
   },
   {
    "duration": 9,
    "start_time": "2022-10-26T15:14:43.321Z"
   },
   {
    "duration": 9,
    "start_time": "2022-10-26T15:15:26.894Z"
   },
   {
    "duration": 9,
    "start_time": "2022-10-26T15:15:31.742Z"
   },
   {
    "duration": 598,
    "start_time": "2022-10-26T15:15:50.872Z"
   },
   {
    "duration": 53,
    "start_time": "2022-10-26T15:15:51.472Z"
   },
   {
    "duration": 22,
    "start_time": "2022-10-26T15:15:51.526Z"
   },
   {
    "duration": 12,
    "start_time": "2022-10-26T15:15:51.550Z"
   },
   {
    "duration": 3,
    "start_time": "2022-10-26T15:15:52.009Z"
   },
   {
    "duration": 4,
    "start_time": "2022-10-26T15:15:52.194Z"
   },
   {
    "duration": 3,
    "start_time": "2022-10-26T15:15:52.515Z"
   },
   {
    "duration": 9,
    "start_time": "2022-10-26T15:15:52.697Z"
   },
   {
    "duration": 7,
    "start_time": "2022-10-26T15:15:53.043Z"
   },
   {
    "duration": 5,
    "start_time": "2022-10-26T15:15:53.211Z"
   },
   {
    "duration": 4,
    "start_time": "2022-10-26T15:15:53.397Z"
   },
   {
    "duration": 8,
    "start_time": "2022-10-26T15:15:53.787Z"
   },
   {
    "duration": 5,
    "start_time": "2022-10-26T15:15:54.138Z"
   },
   {
    "duration": 4,
    "start_time": "2022-10-26T15:15:54.329Z"
   },
   {
    "duration": 5,
    "start_time": "2022-10-26T15:15:56.529Z"
   },
   {
    "duration": 8,
    "start_time": "2022-10-26T15:15:56.855Z"
   },
   {
    "duration": 8,
    "start_time": "2022-10-26T15:15:57.001Z"
   },
   {
    "duration": 22,
    "start_time": "2022-10-26T15:15:58.877Z"
   },
   {
    "duration": 8,
    "start_time": "2022-10-26T15:16:00.253Z"
   },
   {
    "duration": 10,
    "start_time": "2022-10-26T15:16:00.709Z"
   },
   {
    "duration": 9,
    "start_time": "2022-10-26T15:16:01.847Z"
   },
   {
    "duration": 78,
    "start_time": "2022-10-26T15:16:02.429Z"
   },
   {
    "duration": 5,
    "start_time": "2022-10-26T15:16:12.193Z"
   },
   {
    "duration": 8,
    "start_time": "2022-10-26T15:16:26.260Z"
   },
   {
    "duration": 12,
    "start_time": "2022-10-26T15:17:03.176Z"
   },
   {
    "duration": 12,
    "start_time": "2022-10-26T15:17:03.736Z"
   },
   {
    "duration": 2,
    "start_time": "2022-10-26T15:17:10.053Z"
   },
   {
    "duration": 52,
    "start_time": "2022-10-26T15:17:10.408Z"
   },
   {
    "duration": 32,
    "start_time": "2022-10-26T15:17:10.592Z"
   },
   {
    "duration": 15,
    "start_time": "2022-10-26T15:17:10.736Z"
   },
   {
    "duration": 3,
    "start_time": "2022-10-26T15:17:11.368Z"
   },
   {
    "duration": 4,
    "start_time": "2022-10-26T15:17:11.563Z"
   },
   {
    "duration": 4,
    "start_time": "2022-10-26T15:17:12.020Z"
   },
   {
    "duration": 8,
    "start_time": "2022-10-26T15:17:12.231Z"
   },
   {
    "duration": 8,
    "start_time": "2022-10-26T15:17:12.757Z"
   },
   {
    "duration": 6,
    "start_time": "2022-10-26T15:17:12.932Z"
   },
   {
    "duration": 4,
    "start_time": "2022-10-26T15:17:13.102Z"
   },
   {
    "duration": 6,
    "start_time": "2022-10-26T15:17:13.516Z"
   },
   {
    "duration": 4,
    "start_time": "2022-10-26T15:17:13.897Z"
   },
   {
    "duration": 6,
    "start_time": "2022-10-26T15:17:14.096Z"
   },
   {
    "duration": 5,
    "start_time": "2022-10-26T15:17:14.271Z"
   },
   {
    "duration": 8,
    "start_time": "2022-10-26T15:17:14.646Z"
   },
   {
    "duration": 9,
    "start_time": "2022-10-26T15:17:14.848Z"
   },
   {
    "duration": 15,
    "start_time": "2022-10-26T15:17:15.252Z"
   },
   {
    "duration": 8,
    "start_time": "2022-10-26T15:17:15.627Z"
   },
   {
    "duration": 12,
    "start_time": "2022-10-26T15:17:15.842Z"
   },
   {
    "duration": 5,
    "start_time": "2022-10-26T15:17:16.214Z"
   },
   {
    "duration": 178,
    "start_time": "2022-10-26T15:17:20.791Z"
   },
   {
    "duration": 6,
    "start_time": "2022-10-26T15:17:23.151Z"
   },
   {
    "duration": 8,
    "start_time": "2022-10-26T15:17:35.418Z"
   },
   {
    "duration": 6,
    "start_time": "2022-10-26T15:17:48.313Z"
   },
   {
    "duration": 20,
    "start_time": "2022-10-26T15:17:53.603Z"
   },
   {
    "duration": 417,
    "start_time": "2022-10-26T15:18:45.470Z"
   },
   {
    "duration": 262,
    "start_time": "2022-10-26T15:22:11.497Z"
   },
   {
    "duration": 281,
    "start_time": "2022-10-26T15:22:46.228Z"
   },
   {
    "duration": 246,
    "start_time": "2022-10-26T15:23:10.911Z"
   },
   {
    "duration": 228,
    "start_time": "2022-10-26T15:23:16.929Z"
   },
   {
    "duration": 236,
    "start_time": "2022-10-26T15:23:23.759Z"
   },
   {
    "duration": 225,
    "start_time": "2022-10-26T15:23:29.513Z"
   },
   {
    "duration": 262,
    "start_time": "2022-10-26T15:25:37.242Z"
   },
   {
    "duration": 6,
    "start_time": "2022-10-26T15:31:36.841Z"
   },
   {
    "duration": 11,
    "start_time": "2022-10-26T15:31:37.745Z"
   },
   {
    "duration": 6,
    "start_time": "2022-10-26T15:31:37.941Z"
   },
   {
    "duration": 250,
    "start_time": "2022-10-26T15:31:38.125Z"
   },
   {
    "duration": 593,
    "start_time": "2022-10-26T15:48:41.539Z"
   },
   {
    "duration": 54,
    "start_time": "2022-10-26T15:48:42.134Z"
   },
   {
    "duration": 24,
    "start_time": "2022-10-26T15:48:42.192Z"
   },
   {
    "duration": 13,
    "start_time": "2022-10-26T15:48:42.218Z"
   },
   {
    "duration": 3,
    "start_time": "2022-10-26T15:48:42.232Z"
   },
   {
    "duration": 7,
    "start_time": "2022-10-26T15:48:42.237Z"
   },
   {
    "duration": 5,
    "start_time": "2022-10-26T15:48:42.245Z"
   },
   {
    "duration": 32,
    "start_time": "2022-10-26T15:48:42.252Z"
   },
   {
    "duration": 11,
    "start_time": "2022-10-26T15:48:42.285Z"
   },
   {
    "duration": 6,
    "start_time": "2022-10-26T15:48:42.299Z"
   },
   {
    "duration": 7,
    "start_time": "2022-10-26T15:48:42.306Z"
   },
   {
    "duration": 10,
    "start_time": "2022-10-26T15:48:42.314Z"
   },
   {
    "duration": 8,
    "start_time": "2022-10-26T15:48:42.326Z"
   },
   {
    "duration": 8,
    "start_time": "2022-10-26T15:48:42.335Z"
   },
   {
    "duration": 8,
    "start_time": "2022-10-26T15:48:42.345Z"
   },
   {
    "duration": 11,
    "start_time": "2022-10-26T15:48:42.354Z"
   },
   {
    "duration": 21,
    "start_time": "2022-10-26T15:48:42.367Z"
   },
   {
    "duration": 24,
    "start_time": "2022-10-26T15:48:42.389Z"
   },
   {
    "duration": 6,
    "start_time": "2022-10-26T15:48:42.415Z"
   },
   {
    "duration": 8,
    "start_time": "2022-10-26T15:48:42.422Z"
   },
   {
    "duration": 5,
    "start_time": "2022-10-26T15:48:42.432Z"
   },
   {
    "duration": 194,
    "start_time": "2022-10-26T15:48:42.439Z"
   },
   {
    "duration": 7,
    "start_time": "2022-10-26T15:48:42.634Z"
   },
   {
    "duration": 5,
    "start_time": "2022-10-26T15:48:42.643Z"
   },
   {
    "duration": 317,
    "start_time": "2022-10-26T15:48:42.650Z"
   },
   {
    "duration": 6,
    "start_time": "2022-10-26T15:48:42.969Z"
   },
   {
    "duration": 5,
    "start_time": "2022-10-26T15:49:32.910Z"
   },
   {
    "duration": 10,
    "start_time": "2022-10-26T16:55:21.650Z"
   },
   {
    "duration": 18,
    "start_time": "2022-10-26T16:55:51.875Z"
   },
   {
    "duration": 268,
    "start_time": "2022-10-26T16:56:13.249Z"
   },
   {
    "duration": 5,
    "start_time": "2022-10-26T16:56:41.134Z"
   },
   {
    "duration": 10,
    "start_time": "2022-10-26T16:56:41.465Z"
   },
   {
    "duration": 4,
    "start_time": "2022-10-26T16:56:42.992Z"
   },
   {
    "duration": 259,
    "start_time": "2022-10-26T16:56:43.244Z"
   },
   {
    "duration": 6,
    "start_time": "2022-10-26T16:56:54.108Z"
   },
   {
    "duration": 7,
    "start_time": "2022-10-26T16:56:54.464Z"
   },
   {
    "duration": 5,
    "start_time": "2022-10-26T16:56:55.657Z"
   },
   {
    "duration": 320,
    "start_time": "2022-10-26T16:56:56.210Z"
   },
   {
    "duration": 286,
    "start_time": "2022-10-26T16:57:38.216Z"
   },
   {
    "duration": 328,
    "start_time": "2022-10-26T16:57:54.961Z"
   },
   {
    "duration": 88,
    "start_time": "2022-10-26T17:03:20.894Z"
   },
   {
    "duration": 306,
    "start_time": "2022-10-26T17:04:26.623Z"
   },
   {
    "duration": 394,
    "start_time": "2022-10-26T17:04:37.809Z"
   },
   {
    "duration": 302,
    "start_time": "2022-10-26T17:04:47.451Z"
   },
   {
    "duration": 44,
    "start_time": "2022-10-27T08:36:15.175Z"
   },
   {
    "duration": 687,
    "start_time": "2022-10-27T08:36:26.959Z"
   },
   {
    "duration": 186,
    "start_time": "2022-10-27T08:36:27.648Z"
   },
   {
    "duration": 24,
    "start_time": "2022-10-27T08:36:27.835Z"
   },
   {
    "duration": 15,
    "start_time": "2022-10-27T08:36:27.860Z"
   },
   {
    "duration": 2,
    "start_time": "2022-10-27T08:36:27.877Z"
   },
   {
    "duration": 13,
    "start_time": "2022-10-27T08:36:27.881Z"
   },
   {
    "duration": 12,
    "start_time": "2022-10-27T08:36:27.895Z"
   },
   {
    "duration": 11,
    "start_time": "2022-10-27T08:36:27.909Z"
   },
   {
    "duration": 7,
    "start_time": "2022-10-27T08:36:27.921Z"
   },
   {
    "duration": 5,
    "start_time": "2022-10-27T08:36:27.929Z"
   },
   {
    "duration": 5,
    "start_time": "2022-10-27T08:36:27.935Z"
   },
   {
    "duration": 7,
    "start_time": "2022-10-27T08:36:27.941Z"
   },
   {
    "duration": 4,
    "start_time": "2022-10-27T08:36:27.949Z"
   },
   {
    "duration": 6,
    "start_time": "2022-10-27T08:36:27.956Z"
   },
   {
    "duration": 9,
    "start_time": "2022-10-27T08:36:27.963Z"
   },
   {
    "duration": 9,
    "start_time": "2022-10-27T08:36:27.973Z"
   },
   {
    "duration": 39,
    "start_time": "2022-10-27T08:36:27.983Z"
   },
   {
    "duration": 16,
    "start_time": "2022-10-27T08:36:28.023Z"
   },
   {
    "duration": 7,
    "start_time": "2022-10-27T08:36:28.041Z"
   },
   {
    "duration": 9,
    "start_time": "2022-10-27T08:36:28.049Z"
   },
   {
    "duration": 4,
    "start_time": "2022-10-27T08:36:28.059Z"
   },
   {
    "duration": 190,
    "start_time": "2022-10-27T08:36:28.064Z"
   },
   {
    "duration": 7,
    "start_time": "2022-10-27T08:36:28.256Z"
   },
   {
    "duration": 7,
    "start_time": "2022-10-27T08:36:28.265Z"
   },
   {
    "duration": 275,
    "start_time": "2022-10-27T08:36:28.273Z"
   },
   {
    "duration": 6,
    "start_time": "2022-10-27T08:36:28.550Z"
   },
   {
    "duration": 12,
    "start_time": "2022-10-27T08:36:28.557Z"
   },
   {
    "duration": 4,
    "start_time": "2022-10-27T08:36:28.570Z"
   },
   {
    "duration": 278,
    "start_time": "2022-10-27T08:36:28.575Z"
   },
   {
    "duration": 47,
    "start_time": "2022-10-27T08:36:28.855Z"
   },
   {
    "duration": 4,
    "start_time": "2022-10-27T08:36:40.881Z"
   },
   {
    "duration": 217,
    "start_time": "2022-10-27T08:39:52.106Z"
   },
   {
    "duration": 22,
    "start_time": "2022-10-27T08:40:25.492Z"
   },
   {
    "duration": 5,
    "start_time": "2022-10-27T08:40:33.981Z"
   },
   {
    "duration": 117,
    "start_time": "2022-10-27T08:40:59.183Z"
   },
   {
    "duration": 103,
    "start_time": "2022-10-27T08:41:02.631Z"
   },
   {
    "duration": 107,
    "start_time": "2022-10-27T08:41:13.418Z"
   },
   {
    "duration": 558,
    "start_time": "2022-10-27T08:45:01.082Z"
   },
   {
    "duration": 127,
    "start_time": "2022-10-27T08:45:06.745Z"
   },
   {
    "duration": 14,
    "start_time": "2022-10-27T08:56:56.706Z"
   },
   {
    "duration": 11,
    "start_time": "2022-10-27T08:57:09.394Z"
   },
   {
    "duration": 12,
    "start_time": "2022-10-27T08:57:17.764Z"
   },
   {
    "duration": 99,
    "start_time": "2022-10-27T09:05:40.947Z"
   },
   {
    "duration": 101,
    "start_time": "2022-10-27T09:09:27.021Z"
   },
   {
    "duration": 107,
    "start_time": "2022-10-27T09:09:45.366Z"
   },
   {
    "duration": 359,
    "start_time": "2022-10-27T09:10:42.297Z"
   },
   {
    "duration": 328,
    "start_time": "2022-10-27T09:11:31.629Z"
   },
   {
    "duration": 12,
    "start_time": "2022-10-27T09:12:04.364Z"
   },
   {
    "duration": 320,
    "start_time": "2022-10-27T09:12:43.719Z"
   },
   {
    "duration": 282,
    "start_time": "2022-10-27T09:13:18.439Z"
   },
   {
    "duration": 289,
    "start_time": "2022-10-27T09:14:09.674Z"
   },
   {
    "duration": 273,
    "start_time": "2022-10-27T09:15:18.369Z"
   },
   {
    "duration": 250,
    "start_time": "2022-10-27T09:15:24.022Z"
   },
   {
    "duration": 424,
    "start_time": "2022-10-27T09:15:28.828Z"
   },
   {
    "duration": 358,
    "start_time": "2022-10-27T09:15:35.997Z"
   },
   {
    "duration": 264,
    "start_time": "2022-10-27T09:16:04.106Z"
   },
   {
    "duration": 207,
    "start_time": "2022-10-27T09:16:09.142Z"
   },
   {
    "duration": 199,
    "start_time": "2022-10-27T09:16:13.852Z"
   },
   {
    "duration": 194,
    "start_time": "2022-10-27T09:16:42.575Z"
   },
   {
    "duration": 96,
    "start_time": "2022-10-27T09:16:54.589Z"
   },
   {
    "duration": 282,
    "start_time": "2022-10-27T09:16:59.669Z"
   },
   {
    "duration": 304,
    "start_time": "2022-10-27T09:17:16.686Z"
   },
   {
    "duration": 311,
    "start_time": "2022-10-27T09:17:27.785Z"
   },
   {
    "duration": 288,
    "start_time": "2022-10-27T09:17:33.916Z"
   },
   {
    "duration": 390,
    "start_time": "2022-10-27T09:18:00.670Z"
   },
   {
    "duration": 411,
    "start_time": "2022-10-27T09:18:06.831Z"
   },
   {
    "duration": 312,
    "start_time": "2022-10-27T09:18:19.775Z"
   },
   {
    "duration": 8,
    "start_time": "2022-10-27T09:19:04.602Z"
   },
   {
    "duration": 2,
    "start_time": "2022-10-27T09:19:14.318Z"
   },
   {
    "duration": 289,
    "start_time": "2022-10-27T09:19:36.276Z"
   },
   {
    "duration": 293,
    "start_time": "2022-10-27T09:21:16.864Z"
   },
   {
    "duration": 294,
    "start_time": "2022-10-27T09:24:21.233Z"
   },
   {
    "duration": 311,
    "start_time": "2022-10-27T09:24:25.942Z"
   },
   {
    "duration": 323,
    "start_time": "2022-10-27T09:24:32.671Z"
   },
   {
    "duration": 309,
    "start_time": "2022-10-27T09:28:15.315Z"
   },
   {
    "duration": 68,
    "start_time": "2022-10-27T09:33:21.938Z"
   },
   {
    "duration": 5,
    "start_time": "2022-10-27T09:34:40.098Z"
   },
   {
    "duration": 148,
    "start_time": "2022-10-27T09:37:37.935Z"
   },
   {
    "duration": 6,
    "start_time": "2022-10-27T09:41:23.951Z"
   },
   {
    "duration": 654,
    "start_time": "2022-10-27T09:41:48.360Z"
   },
   {
    "duration": 4,
    "start_time": "2022-10-27T09:42:59.120Z"
   },
   {
    "duration": 715,
    "start_time": "2022-10-27T09:42:59.916Z"
   },
   {
    "duration": 135,
    "start_time": "2022-10-27T09:43:14.745Z"
   },
   {
    "duration": 129,
    "start_time": "2022-10-27T09:43:23.865Z"
   },
   {
    "duration": 134,
    "start_time": "2022-10-27T09:43:38.754Z"
   },
   {
    "duration": 633,
    "start_time": "2022-10-27T09:44:03.520Z"
   },
   {
    "duration": 4,
    "start_time": "2022-10-27T09:48:10.303Z"
   },
   {
    "duration": 764,
    "start_time": "2022-10-27T09:48:11.811Z"
   },
   {
    "duration": 14,
    "start_time": "2022-10-27T09:48:32.055Z"
   },
   {
    "duration": 15,
    "start_time": "2022-10-27T09:49:41.699Z"
   },
   {
    "duration": 633,
    "start_time": "2022-10-27T09:49:42.069Z"
   },
   {
    "duration": 13,
    "start_time": "2022-10-27T09:49:44.543Z"
   },
   {
    "duration": 5,
    "start_time": "2022-10-27T09:50:13.516Z"
   },
   {
    "duration": 651,
    "start_time": "2022-10-27T09:50:16.275Z"
   },
   {
    "duration": 12,
    "start_time": "2022-10-27T09:50:16.928Z"
   },
   {
    "duration": 1093,
    "start_time": "2022-10-27T09:51:26.415Z"
   },
   {
    "duration": 49,
    "start_time": "2022-10-27T09:51:27.510Z"
   },
   {
    "duration": 23,
    "start_time": "2022-10-27T09:51:27.561Z"
   },
   {
    "duration": 13,
    "start_time": "2022-10-27T09:51:27.586Z"
   },
   {
    "duration": 3,
    "start_time": "2022-10-27T09:51:29.206Z"
   },
   {
    "duration": 5,
    "start_time": "2022-10-27T09:51:29.365Z"
   },
   {
    "duration": 4,
    "start_time": "2022-10-27T09:51:31.290Z"
   },
   {
    "duration": 9,
    "start_time": "2022-10-27T09:51:31.471Z"
   },
   {
    "duration": 3,
    "start_time": "2022-10-27T09:51:33.656Z"
   },
   {
    "duration": 8,
    "start_time": "2022-10-27T09:51:37.149Z"
   },
   {
    "duration": 8,
    "start_time": "2022-10-27T09:51:39.902Z"
   },
   {
    "duration": 5,
    "start_time": "2022-10-27T09:51:40.602Z"
   },
   {
    "duration": 5,
    "start_time": "2022-10-27T09:51:42.203Z"
   },
   {
    "duration": 6,
    "start_time": "2022-10-27T09:51:43.760Z"
   },
   {
    "duration": 9,
    "start_time": "2022-10-27T09:51:45.317Z"
   },
   {
    "duration": 5,
    "start_time": "2022-10-27T09:51:45.812Z"
   },
   {
    "duration": 5,
    "start_time": "2022-10-27T09:51:46.249Z"
   },
   {
    "duration": 12,
    "start_time": "2022-10-27T09:51:49.102Z"
   },
   {
    "duration": 10,
    "start_time": "2022-10-27T09:51:54.548Z"
   },
   {
    "duration": 16,
    "start_time": "2022-10-27T09:51:55.732Z"
   },
   {
    "duration": 9,
    "start_time": "2022-10-27T09:51:58.006Z"
   },
   {
    "duration": 9,
    "start_time": "2022-10-27T09:51:58.504Z"
   },
   {
    "duration": 5,
    "start_time": "2022-10-27T09:51:59.364Z"
   },
   {
    "duration": 163,
    "start_time": "2022-10-27T09:52:00.474Z"
   },
   {
    "duration": 8,
    "start_time": "2022-10-27T09:52:04.610Z"
   },
   {
    "duration": 5,
    "start_time": "2022-10-27T09:52:04.891Z"
   },
   {
    "duration": 254,
    "start_time": "2022-10-27T09:52:05.086Z"
   },
   {
    "duration": 245,
    "start_time": "2022-10-27T09:52:19.192Z"
   },
   {
    "duration": 218,
    "start_time": "2022-10-27T09:52:26.998Z"
   },
   {
    "duration": 6,
    "start_time": "2022-10-27T09:52:35.291Z"
   },
   {
    "duration": 9,
    "start_time": "2022-10-27T09:52:35.694Z"
   },
   {
    "duration": 4,
    "start_time": "2022-10-27T09:52:37.895Z"
   },
   {
    "duration": 268,
    "start_time": "2022-10-27T09:52:38.327Z"
   },
   {
    "duration": 5,
    "start_time": "2022-10-27T09:52:44.847Z"
   },
   {
    "duration": 340,
    "start_time": "2022-10-27T09:52:45.183Z"
   },
   {
    "duration": 6,
    "start_time": "2022-10-27T09:52:51.417Z"
   },
   {
    "duration": 127,
    "start_time": "2022-10-27T09:52:51.881Z"
   },
   {
    "duration": 147,
    "start_time": "2022-10-27T09:53:08.301Z"
   },
   {
    "duration": 210,
    "start_time": "2022-10-27T09:54:34.620Z"
   },
   {
    "duration": 155,
    "start_time": "2022-10-27T09:55:20.075Z"
   },
   {
    "duration": 97,
    "start_time": "2022-10-27T10:05:37.755Z"
   },
   {
    "duration": 9,
    "start_time": "2022-10-27T10:06:31.041Z"
   },
   {
    "duration": 148,
    "start_time": "2022-10-27T10:06:31.733Z"
   },
   {
    "duration": 129,
    "start_time": "2022-10-27T10:06:36.774Z"
   },
   {
    "duration": 148,
    "start_time": "2022-10-27T10:07:26.494Z"
   },
   {
    "duration": 11,
    "start_time": "2022-10-27T10:07:56.817Z"
   },
   {
    "duration": 5,
    "start_time": "2022-10-27T10:08:15.333Z"
   },
   {
    "duration": 2,
    "start_time": "2022-10-27T10:08:53.672Z"
   },
   {
    "duration": 53,
    "start_time": "2022-10-27T10:08:54.014Z"
   },
   {
    "duration": 19,
    "start_time": "2022-10-27T10:08:54.180Z"
   },
   {
    "duration": 13,
    "start_time": "2022-10-27T10:08:54.333Z"
   },
   {
    "duration": 3,
    "start_time": "2022-10-27T10:08:54.866Z"
   },
   {
    "duration": 4,
    "start_time": "2022-10-27T10:08:55.036Z"
   },
   {
    "duration": 4,
    "start_time": "2022-10-27T10:08:56.872Z"
   },
   {
    "duration": 9,
    "start_time": "2022-10-27T10:08:57.252Z"
   },
   {
    "duration": 5,
    "start_time": "2022-10-27T10:08:57.604Z"
   },
   {
    "duration": 4,
    "start_time": "2022-10-27T10:09:07.710Z"
   },
   {
    "duration": 5,
    "start_time": "2022-10-27T10:09:08.148Z"
   },
   {
    "duration": 3,
    "start_time": "2022-10-27T10:09:45.317Z"
   },
   {
    "duration": 47,
    "start_time": "2022-10-27T10:09:45.663Z"
   },
   {
    "duration": 18,
    "start_time": "2022-10-27T10:09:45.787Z"
   },
   {
    "duration": 17,
    "start_time": "2022-10-27T10:09:45.917Z"
   },
   {
    "duration": 3,
    "start_time": "2022-10-27T10:09:46.433Z"
   },
   {
    "duration": 5,
    "start_time": "2022-10-27T10:09:47.949Z"
   },
   {
    "duration": 4,
    "start_time": "2022-10-27T10:09:48.660Z"
   },
   {
    "duration": 5,
    "start_time": "2022-10-27T10:09:48.983Z"
   },
   {
    "duration": 8,
    "start_time": "2022-10-27T10:09:50.442Z"
   },
   {
    "duration": 5,
    "start_time": "2022-10-27T10:09:50.847Z"
   },
   {
    "duration": 5,
    "start_time": "2022-10-27T10:10:39.644Z"
   },
   {
    "duration": 4,
    "start_time": "2022-10-27T10:10:40.596Z"
   },
   {
    "duration": 5,
    "start_time": "2022-10-27T10:10:41.340Z"
   },
   {
    "duration": 8,
    "start_time": "2022-10-27T10:11:07.128Z"
   },
   {
    "duration": 3,
    "start_time": "2022-10-27T10:11:10.756Z"
   },
   {
    "duration": 54,
    "start_time": "2022-10-27T10:11:11.094Z"
   },
   {
    "duration": 19,
    "start_time": "2022-10-27T10:11:11.242Z"
   },
   {
    "duration": 12,
    "start_time": "2022-10-27T10:11:11.384Z"
   },
   {
    "duration": 3,
    "start_time": "2022-10-27T10:11:11.716Z"
   },
   {
    "duration": 4,
    "start_time": "2022-10-27T10:11:11.870Z"
   },
   {
    "duration": 4,
    "start_time": "2022-10-27T10:11:12.356Z"
   },
   {
    "duration": 7,
    "start_time": "2022-10-27T10:11:12.548Z"
   },
   {
    "duration": 5,
    "start_time": "2022-10-27T10:11:13.082Z"
   },
   {
    "duration": 3,
    "start_time": "2022-10-27T10:11:14.777Z"
   },
   {
    "duration": 5,
    "start_time": "2022-10-27T10:11:15.278Z"
   },
   {
    "duration": 1080,
    "start_time": "2022-10-27T10:12:27.345Z"
   },
   {
    "duration": 51,
    "start_time": "2022-10-27T10:12:28.427Z"
   },
   {
    "duration": 22,
    "start_time": "2022-10-27T10:12:28.480Z"
   },
   {
    "duration": 13,
    "start_time": "2022-10-27T10:12:28.504Z"
   },
   {
    "duration": 11,
    "start_time": "2022-10-27T10:12:28.519Z"
   },
   {
    "duration": 9,
    "start_time": "2022-10-27T10:12:28.532Z"
   },
   {
    "duration": 5,
    "start_time": "2022-10-27T10:12:28.542Z"
   },
   {
    "duration": 12,
    "start_time": "2022-10-27T10:12:28.548Z"
   },
   {
    "duration": 11,
    "start_time": "2022-10-27T10:12:28.561Z"
   },
   {
    "duration": 11,
    "start_time": "2022-10-27T10:12:28.574Z"
   },
   {
    "duration": 9,
    "start_time": "2022-10-27T10:12:28.586Z"
   },
   {
    "duration": 9,
    "start_time": "2022-10-27T10:12:28.596Z"
   },
   {
    "duration": 18,
    "start_time": "2022-10-27T10:12:28.606Z"
   },
   {
    "duration": 16,
    "start_time": "2022-10-27T10:12:28.630Z"
   },
   {
    "duration": 8,
    "start_time": "2022-10-27T10:12:28.647Z"
   },
   {
    "duration": 5,
    "start_time": "2022-10-27T10:12:28.657Z"
   },
   {
    "duration": 10,
    "start_time": "2022-10-27T10:12:28.664Z"
   },
   {
    "duration": 9,
    "start_time": "2022-10-27T10:12:28.675Z"
   },
   {
    "duration": 16,
    "start_time": "2022-10-27T10:12:28.686Z"
   },
   {
    "duration": 34,
    "start_time": "2022-10-27T10:12:28.704Z"
   },
   {
    "duration": 10,
    "start_time": "2022-10-27T10:12:28.740Z"
   },
   {
    "duration": 5,
    "start_time": "2022-10-27T10:12:28.751Z"
   },
   {
    "duration": 194,
    "start_time": "2022-10-27T10:12:28.758Z"
   },
   {
    "duration": 8,
    "start_time": "2022-10-27T10:12:28.953Z"
   },
   {
    "duration": 5,
    "start_time": "2022-10-27T10:12:28.963Z"
   },
   {
    "duration": 294,
    "start_time": "2022-10-27T10:12:28.970Z"
   },
   {
    "duration": 8,
    "start_time": "2022-10-27T10:12:29.266Z"
   },
   {
    "duration": 9,
    "start_time": "2022-10-27T10:12:29.276Z"
   },
   {
    "duration": 9,
    "start_time": "2022-10-27T10:12:29.287Z"
   },
   {
    "duration": 319,
    "start_time": "2022-10-27T10:12:29.297Z"
   },
   {
    "duration": 13,
    "start_time": "2022-10-27T10:12:29.618Z"
   },
   {
    "duration": 311,
    "start_time": "2022-10-27T10:12:29.634Z"
   },
   {
    "duration": 9,
    "start_time": "2022-10-27T10:12:29.947Z"
   },
   {
    "duration": 168,
    "start_time": "2022-10-27T10:12:29.958Z"
   },
   {
    "duration": 176,
    "start_time": "2022-10-27T10:12:30.127Z"
   },
   {
    "duration": 6,
    "start_time": "2022-10-27T10:12:30.304Z"
   },
   {
    "duration": 141,
    "start_time": "2022-10-27T10:12:43.142Z"
   },
   {
    "duration": 315,
    "start_time": "2022-10-27T10:31:34.215Z"
   },
   {
    "duration": 15,
    "start_time": "2022-10-27T10:33:48.291Z"
   },
   {
    "duration": 240,
    "start_time": "2022-10-27T10:34:19.374Z"
   },
   {
    "duration": 242,
    "start_time": "2022-10-27T10:34:49.831Z"
   },
   {
    "duration": 15,
    "start_time": "2022-10-27T10:35:30.077Z"
   },
   {
    "duration": 2,
    "start_time": "2022-10-27T10:35:38.166Z"
   },
   {
    "duration": 75,
    "start_time": "2022-10-27T10:35:38.496Z"
   },
   {
    "duration": 22,
    "start_time": "2022-10-27T10:35:38.676Z"
   },
   {
    "duration": 12,
    "start_time": "2022-10-27T10:35:38.974Z"
   },
   {
    "duration": 3,
    "start_time": "2022-10-27T10:35:39.958Z"
   },
   {
    "duration": 3,
    "start_time": "2022-10-27T10:35:40.272Z"
   },
   {
    "duration": 4,
    "start_time": "2022-10-27T10:35:42.284Z"
   },
   {
    "duration": 8,
    "start_time": "2022-10-27T10:35:42.589Z"
   },
   {
    "duration": 8,
    "start_time": "2022-10-27T10:35:43.975Z"
   },
   {
    "duration": 7,
    "start_time": "2022-10-27T10:35:46.001Z"
   },
   {
    "duration": 5,
    "start_time": "2022-10-27T10:35:46.189Z"
   },
   {
    "duration": 5,
    "start_time": "2022-10-27T10:35:46.359Z"
   },
   {
    "duration": 7,
    "start_time": "2022-10-27T10:35:46.691Z"
   },
   {
    "duration": 4,
    "start_time": "2022-10-27T10:35:48.362Z"
   },
   {
    "duration": 5,
    "start_time": "2022-10-27T10:35:48.560Z"
   },
   {
    "duration": 6,
    "start_time": "2022-10-27T10:35:49.756Z"
   },
   {
    "duration": 9,
    "start_time": "2022-10-27T10:35:51.657Z"
   },
   {
    "duration": 11,
    "start_time": "2022-10-27T10:35:53.252Z"
   },
   {
    "duration": 16,
    "start_time": "2022-10-27T10:35:53.954Z"
   },
   {
    "duration": 9,
    "start_time": "2022-10-27T10:35:54.916Z"
   },
   {
    "duration": 11,
    "start_time": "2022-10-27T10:35:55.349Z"
   },
   {
    "duration": 5,
    "start_time": "2022-10-27T10:35:56.304Z"
   },
   {
    "duration": 13,
    "start_time": "2022-10-27T10:36:04.404Z"
   },
   {
    "duration": 14,
    "start_time": "2022-10-27T10:36:24.562Z"
   },
   {
    "duration": 3,
    "start_time": "2022-10-27T10:36:29.571Z"
   },
   {
    "duration": 54,
    "start_time": "2022-10-27T10:36:29.860Z"
   },
   {
    "duration": 26,
    "start_time": "2022-10-27T10:36:30.040Z"
   },
   {
    "duration": 17,
    "start_time": "2022-10-27T10:36:30.213Z"
   },
   {
    "duration": 3,
    "start_time": "2022-10-27T10:36:30.699Z"
   },
   {
    "duration": 4,
    "start_time": "2022-10-27T10:36:30.903Z"
   },
   {
    "duration": 13,
    "start_time": "2022-10-27T10:36:31.061Z"
   },
   {
    "duration": 4,
    "start_time": "2022-10-27T10:36:31.433Z"
   },
   {
    "duration": 9,
    "start_time": "2022-10-27T10:36:31.637Z"
   },
   {
    "duration": 11,
    "start_time": "2022-10-27T10:36:31.827Z"
   },
   {
    "duration": 7,
    "start_time": "2022-10-27T10:36:35.579Z"
   },
   {
    "duration": 5,
    "start_time": "2022-10-27T10:36:35.733Z"
   },
   {
    "duration": 5,
    "start_time": "2022-10-27T10:36:35.943Z"
   },
   {
    "duration": 8,
    "start_time": "2022-10-27T10:36:36.727Z"
   },
   {
    "duration": 5,
    "start_time": "2022-10-27T10:36:37.162Z"
   },
   {
    "duration": 13,
    "start_time": "2022-10-27T10:37:06.455Z"
   },
   {
    "duration": 6,
    "start_time": "2022-10-27T10:37:11.604Z"
   },
   {
    "duration": 5,
    "start_time": "2022-10-27T10:37:12.278Z"
   },
   {
    "duration": 9,
    "start_time": "2022-10-27T10:37:14.977Z"
   },
   {
    "duration": 14,
    "start_time": "2022-10-27T10:37:22.864Z"
   },
   {
    "duration": 9,
    "start_time": "2022-10-27T10:37:57.986Z"
   },
   {
    "duration": 12,
    "start_time": "2022-10-27T10:38:00.174Z"
   },
   {
    "duration": 9,
    "start_time": "2022-10-27T10:38:46.409Z"
   },
   {
    "duration": 12,
    "start_time": "2022-10-27T10:38:46.938Z"
   },
   {
    "duration": 3,
    "start_time": "2022-10-27T10:39:33.738Z"
   },
   {
    "duration": 58,
    "start_time": "2022-10-27T10:39:34.097Z"
   },
   {
    "duration": 34,
    "start_time": "2022-10-27T10:39:34.212Z"
   },
   {
    "duration": 14,
    "start_time": "2022-10-27T10:39:34.512Z"
   },
   {
    "duration": 3,
    "start_time": "2022-10-27T10:39:34.857Z"
   },
   {
    "duration": 4,
    "start_time": "2022-10-27T10:39:34.999Z"
   },
   {
    "duration": 4,
    "start_time": "2022-10-27T10:39:35.457Z"
   },
   {
    "duration": 10,
    "start_time": "2022-10-27T10:39:35.780Z"
   },
   {
    "duration": 9,
    "start_time": "2022-10-27T10:39:36.133Z"
   },
   {
    "duration": 6,
    "start_time": "2022-10-27T10:39:36.342Z"
   },
   {
    "duration": 4,
    "start_time": "2022-10-27T10:39:36.490Z"
   },
   {
    "duration": 7,
    "start_time": "2022-10-27T10:39:36.849Z"
   },
   {
    "duration": 7,
    "start_time": "2022-10-27T10:39:37.220Z"
   },
   {
    "duration": 7,
    "start_time": "2022-10-27T10:39:37.388Z"
   },
   {
    "duration": 7,
    "start_time": "2022-10-27T10:39:37.576Z"
   },
   {
    "duration": 9,
    "start_time": "2022-10-27T10:39:37.956Z"
   },
   {
    "duration": 17,
    "start_time": "2022-10-27T10:39:38.159Z"
   },
   {
    "duration": 14,
    "start_time": "2022-10-27T10:39:38.367Z"
   },
   {
    "duration": 3,
    "start_time": "2022-10-27T10:39:58.683Z"
   },
   {
    "duration": 8,
    "start_time": "2022-10-27T10:39:59.150Z"
   },
   {
    "duration": 7,
    "start_time": "2022-10-27T10:39:59.476Z"
   },
   {
    "duration": 5,
    "start_time": "2022-10-27T10:39:59.636Z"
   },
   {
    "duration": 5,
    "start_time": "2022-10-27T10:39:59.808Z"
   },
   {
    "duration": 6,
    "start_time": "2022-10-27T10:40:00.151Z"
   },
   {
    "duration": 4,
    "start_time": "2022-10-27T10:40:00.504Z"
   },
   {
    "duration": 5,
    "start_time": "2022-10-27T10:40:00.672Z"
   },
   {
    "duration": 5,
    "start_time": "2022-10-27T10:40:00.853Z"
   },
   {
    "duration": 10,
    "start_time": "2022-10-27T10:40:01.221Z"
   },
   {
    "duration": 17,
    "start_time": "2022-10-27T10:40:01.380Z"
   },
   {
    "duration": 13,
    "start_time": "2022-10-27T10:40:01.558Z"
   },
   {
    "duration": 9,
    "start_time": "2022-10-27T10:40:01.766Z"
   },
   {
    "duration": 4,
    "start_time": "2022-10-27T10:40:23.355Z"
   },
   {
    "duration": 3,
    "start_time": "2022-10-27T10:40:26.815Z"
   },
   {
    "duration": 52,
    "start_time": "2022-10-27T10:40:27.159Z"
   },
   {
    "duration": 23,
    "start_time": "2022-10-27T10:40:27.343Z"
   },
   {
    "duration": 14,
    "start_time": "2022-10-27T10:40:27.505Z"
   },
   {
    "duration": 4,
    "start_time": "2022-10-27T10:40:27.843Z"
   },
   {
    "duration": 4,
    "start_time": "2022-10-27T10:40:28.015Z"
   },
   {
    "duration": 4,
    "start_time": "2022-10-27T10:40:28.487Z"
   },
   {
    "duration": 10,
    "start_time": "2022-10-27T10:40:28.647Z"
   },
   {
    "duration": 7,
    "start_time": "2022-10-27T10:40:29.007Z"
   },
   {
    "duration": 5,
    "start_time": "2022-10-27T10:40:29.219Z"
   },
   {
    "duration": 5,
    "start_time": "2022-10-27T10:40:29.359Z"
   },
   {
    "duration": 7,
    "start_time": "2022-10-27T10:40:29.715Z"
   },
   {
    "duration": 5,
    "start_time": "2022-10-27T10:40:30.049Z"
   },
   {
    "duration": 5,
    "start_time": "2022-10-27T10:40:30.223Z"
   },
   {
    "duration": 6,
    "start_time": "2022-10-27T10:40:30.398Z"
   },
   {
    "duration": 10,
    "start_time": "2022-10-27T10:40:31.085Z"
   },
   {
    "duration": 17,
    "start_time": "2022-10-27T10:40:31.271Z"
   },
   {
    "duration": 13,
    "start_time": "2022-10-27T10:40:31.467Z"
   },
   {
    "duration": 8,
    "start_time": "2022-10-27T10:40:31.665Z"
   },
   {
    "duration": 14,
    "start_time": "2022-10-27T10:40:32.032Z"
   },
   {
    "duration": 4,
    "start_time": "2022-10-27T10:41:10.517Z"
   },
   {
    "duration": 13,
    "start_time": "2022-10-27T10:41:10.921Z"
   },
   {
    "duration": 9,
    "start_time": "2022-10-27T10:41:13.657Z"
   },
   {
    "duration": 2,
    "start_time": "2022-10-27T10:41:18.172Z"
   },
   {
    "duration": 49,
    "start_time": "2022-10-27T10:41:18.520Z"
   },
   {
    "duration": 20,
    "start_time": "2022-10-27T10:41:18.665Z"
   },
   {
    "duration": 14,
    "start_time": "2022-10-27T10:41:18.854Z"
   },
   {
    "duration": 4,
    "start_time": "2022-10-27T10:41:19.201Z"
   },
   {
    "duration": 4,
    "start_time": "2022-10-27T10:41:19.681Z"
   },
   {
    "duration": 4,
    "start_time": "2022-10-27T10:41:20.036Z"
   },
   {
    "duration": 8,
    "start_time": "2022-10-27T10:41:20.206Z"
   },
   {
    "duration": 7,
    "start_time": "2022-10-27T10:41:20.597Z"
   },
   {
    "duration": 5,
    "start_time": "2022-10-27T10:41:20.767Z"
   },
   {
    "duration": 5,
    "start_time": "2022-10-27T10:41:20.938Z"
   },
   {
    "duration": 8,
    "start_time": "2022-10-27T10:41:21.308Z"
   },
   {
    "duration": 4,
    "start_time": "2022-10-27T10:41:21.664Z"
   },
   {
    "duration": 4,
    "start_time": "2022-10-27T10:41:21.858Z"
   },
   {
    "duration": 4,
    "start_time": "2022-10-27T10:41:22.045Z"
   },
   {
    "duration": 9,
    "start_time": "2022-10-27T10:41:22.448Z"
   },
   {
    "duration": 5,
    "start_time": "2022-10-27T10:41:22.653Z"
   },
   {
    "duration": 15,
    "start_time": "2022-10-27T10:41:22.852Z"
   },
   {
    "duration": 9,
    "start_time": "2022-10-27T10:41:28.456Z"
   },
   {
    "duration": 1044,
    "start_time": "2022-10-27T10:42:52.470Z"
   },
   {
    "duration": 52,
    "start_time": "2022-10-27T10:42:53.515Z"
   },
   {
    "duration": 24,
    "start_time": "2022-10-27T10:42:53.569Z"
   },
   {
    "duration": 13,
    "start_time": "2022-10-27T10:42:53.595Z"
   },
   {
    "duration": 3,
    "start_time": "2022-10-27T10:42:53.762Z"
   },
   {
    "duration": 5,
    "start_time": "2022-10-27T10:42:53.942Z"
   },
   {
    "duration": 3,
    "start_time": "2022-10-27T10:42:54.307Z"
   },
   {
    "duration": 9,
    "start_time": "2022-10-27T10:42:54.502Z"
   },
   {
    "duration": 8,
    "start_time": "2022-10-27T10:42:54.878Z"
   },
   {
    "duration": 5,
    "start_time": "2022-10-27T10:42:55.036Z"
   },
   {
    "duration": 5,
    "start_time": "2022-10-27T10:42:55.212Z"
   },
   {
    "duration": 7,
    "start_time": "2022-10-27T10:42:55.551Z"
   },
   {
    "duration": 4,
    "start_time": "2022-10-27T10:42:55.906Z"
   },
   {
    "duration": 5,
    "start_time": "2022-10-27T10:42:56.072Z"
   },
   {
    "duration": 5,
    "start_time": "2022-10-27T10:42:56.258Z"
   },
   {
    "duration": 8,
    "start_time": "2022-10-27T10:42:56.642Z"
   },
   {
    "duration": 16,
    "start_time": "2022-10-27T10:42:56.846Z"
   },
   {
    "duration": 13,
    "start_time": "2022-10-27T10:42:57.025Z"
   },
   {
    "duration": 9,
    "start_time": "2022-10-27T10:42:57.226Z"
   },
   {
    "duration": 4,
    "start_time": "2022-10-27T10:42:57.432Z"
   },
   {
    "duration": 5,
    "start_time": "2022-10-27T10:43:01.577Z"
   },
   {
    "duration": 2,
    "start_time": "2022-10-27T10:43:44.605Z"
   },
   {
    "duration": 50,
    "start_time": "2022-10-27T10:43:44.936Z"
   },
   {
    "duration": 18,
    "start_time": "2022-10-27T10:43:45.103Z"
   },
   {
    "duration": 13,
    "start_time": "2022-10-27T10:43:45.290Z"
   },
   {
    "duration": 3,
    "start_time": "2022-10-27T10:43:45.628Z"
   },
   {
    "duration": 4,
    "start_time": "2022-10-27T10:43:45.804Z"
   },
   {
    "duration": 4,
    "start_time": "2022-10-27T10:43:46.153Z"
   },
   {
    "duration": 8,
    "start_time": "2022-10-27T10:43:46.491Z"
   },
   {
    "duration": 8,
    "start_time": "2022-10-27T10:43:47.016Z"
   },
   {
    "duration": 5,
    "start_time": "2022-10-27T10:43:47.231Z"
   },
   {
    "duration": 5,
    "start_time": "2022-10-27T10:43:47.444Z"
   },
   {
    "duration": 8,
    "start_time": "2022-10-27T10:43:47.832Z"
   },
   {
    "duration": 5,
    "start_time": "2022-10-27T10:43:48.461Z"
   },
   {
    "duration": 5,
    "start_time": "2022-10-27T10:43:48.675Z"
   },
   {
    "duration": 6,
    "start_time": "2022-10-27T10:43:49.255Z"
   },
   {
    "duration": 2,
    "start_time": "2022-10-27T10:43:51.703Z"
   },
   {
    "duration": 7,
    "start_time": "2022-10-27T10:43:52.883Z"
   },
   {
    "duration": 12,
    "start_time": "2022-10-27T10:43:55.745Z"
   },
   {
    "duration": 3,
    "start_time": "2022-10-27T10:44:16.040Z"
   },
   {
    "duration": 51,
    "start_time": "2022-10-27T10:44:16.407Z"
   },
   {
    "duration": 19,
    "start_time": "2022-10-27T10:44:16.546Z"
   },
   {
    "duration": 12,
    "start_time": "2022-10-27T10:44:16.712Z"
   },
   {
    "duration": 4,
    "start_time": "2022-10-27T10:44:17.059Z"
   },
   {
    "duration": 5,
    "start_time": "2022-10-27T10:44:17.345Z"
   },
   {
    "duration": 4,
    "start_time": "2022-10-27T10:44:17.683Z"
   },
   {
    "duration": 9,
    "start_time": "2022-10-27T10:44:17.865Z"
   },
   {
    "duration": 7,
    "start_time": "2022-10-27T10:44:18.235Z"
   },
   {
    "duration": 5,
    "start_time": "2022-10-27T10:44:18.393Z"
   },
   {
    "duration": 5,
    "start_time": "2022-10-27T10:44:18.581Z"
   },
   {
    "duration": 7,
    "start_time": "2022-10-27T10:44:18.977Z"
   },
   {
    "duration": 11,
    "start_time": "2022-10-27T10:44:19.365Z"
   },
   {
    "duration": 6,
    "start_time": "2022-10-27T10:44:19.597Z"
   },
   {
    "duration": 5,
    "start_time": "2022-10-27T10:44:19.769Z"
   },
   {
    "duration": 2,
    "start_time": "2022-10-27T10:44:20.137Z"
   },
   {
    "duration": 7,
    "start_time": "2022-10-27T10:44:20.325Z"
   },
   {
    "duration": 13,
    "start_time": "2022-10-27T10:44:20.515Z"
   },
   {
    "duration": 8,
    "start_time": "2022-10-27T10:44:20.699Z"
   },
   {
    "duration": 5,
    "start_time": "2022-10-27T10:44:24.876Z"
   },
   {
    "duration": 5,
    "start_time": "2022-10-27T10:44:25.887Z"
   },
   {
    "duration": 4,
    "start_time": "2022-10-27T10:48:33.599Z"
   },
   {
    "duration": 12,
    "start_time": "2022-10-27T10:48:35.439Z"
   },
   {
    "duration": 8,
    "start_time": "2022-10-27T10:48:38.557Z"
   },
   {
    "duration": 5,
    "start_time": "2022-10-27T10:48:44.276Z"
   },
   {
    "duration": 5,
    "start_time": "2022-10-27T10:48:44.946Z"
   },
   {
    "duration": 16,
    "start_time": "2022-10-27T10:48:56.744Z"
   },
   {
    "duration": 8,
    "start_time": "2022-10-27T10:48:57.702Z"
   },
   {
    "duration": 10,
    "start_time": "2022-10-27T10:48:58.220Z"
   },
   {
    "duration": 5,
    "start_time": "2022-10-27T10:48:59.078Z"
   },
   {
    "duration": 173,
    "start_time": "2022-10-27T10:49:01.380Z"
   },
   {
    "duration": 8,
    "start_time": "2022-10-27T10:49:03.636Z"
   },
   {
    "duration": 5,
    "start_time": "2022-10-27T10:49:04.346Z"
   },
   {
    "duration": 254,
    "start_time": "2022-10-27T10:49:04.670Z"
   },
   {
    "duration": 7,
    "start_time": "2022-10-27T10:49:09.706Z"
   },
   {
    "duration": 8,
    "start_time": "2022-10-27T10:49:10.182Z"
   },
   {
    "duration": 5,
    "start_time": "2022-10-27T10:49:11.868Z"
   },
   {
    "duration": 273,
    "start_time": "2022-10-27T10:49:12.036Z"
   },
   {
    "duration": 6,
    "start_time": "2022-10-27T10:49:24.678Z"
   },
   {
    "duration": 321,
    "start_time": "2022-10-27T10:49:25.483Z"
   },
   {
    "duration": 9,
    "start_time": "2022-10-27T10:49:28.531Z"
   },
   {
    "duration": 155,
    "start_time": "2022-10-27T10:49:28.795Z"
   },
   {
    "duration": 151,
    "start_time": "2022-10-27T10:49:29.044Z"
   },
   {
    "duration": 5,
    "start_time": "2022-10-27T10:49:35.883Z"
   },
   {
    "duration": 5,
    "start_time": "2022-10-27T10:50:01.103Z"
   },
   {
    "duration": 4,
    "start_time": "2022-10-27T10:50:43.184Z"
   },
   {
    "duration": 78,
    "start_time": "2022-10-27T10:58:02.283Z"
   },
   {
    "duration": 6,
    "start_time": "2022-10-27T10:58:42.692Z"
   },
   {
    "duration": 131,
    "start_time": "2022-10-27T10:58:43.382Z"
   },
   {
    "duration": 132,
    "start_time": "2022-10-27T10:58:47.450Z"
   },
   {
    "duration": 6,
    "start_time": "2022-10-27T10:58:50.600Z"
   },
   {
    "duration": 6,
    "start_time": "2022-10-27T10:58:51.090Z"
   },
   {
    "duration": 6,
    "start_time": "2022-10-27T10:59:27.841Z"
   },
   {
    "duration": 209,
    "start_time": "2022-10-27T10:59:28.369Z"
   },
   {
    "duration": 168,
    "start_time": "2022-10-27T10:59:36.059Z"
   },
   {
    "duration": 138,
    "start_time": "2022-10-27T10:59:42.345Z"
   },
   {
    "duration": 7,
    "start_time": "2022-10-27T10:59:51.059Z"
   },
   {
    "duration": 5,
    "start_time": "2022-10-27T10:59:51.549Z"
   },
   {
    "duration": 8,
    "start_time": "2022-10-27T11:00:43.634Z"
   },
   {
    "duration": 8,
    "start_time": "2022-10-27T11:01:34.031Z"
   },
   {
    "duration": 91,
    "start_time": "2022-10-27T11:02:18.682Z"
   },
   {
    "duration": 9,
    "start_time": "2022-10-27T11:03:20.093Z"
   },
   {
    "duration": 9,
    "start_time": "2022-10-27T11:03:35.973Z"
   },
   {
    "duration": 8,
    "start_time": "2022-10-27T11:03:49.608Z"
   },
   {
    "duration": 11,
    "start_time": "2022-10-27T11:16:32.561Z"
   },
   {
    "duration": 310,
    "start_time": "2022-10-27T11:16:33.099Z"
   },
   {
    "duration": 5,
    "start_time": "2022-10-27T11:17:15.769Z"
   },
   {
    "duration": 130,
    "start_time": "2022-10-27T11:17:16.237Z"
   },
   {
    "duration": 151,
    "start_time": "2022-10-27T11:17:17.889Z"
   },
   {
    "duration": 5,
    "start_time": "2022-10-27T11:17:20.467Z"
   },
   {
    "duration": 4,
    "start_time": "2022-10-27T11:17:20.966Z"
   },
   {
    "duration": 8,
    "start_time": "2022-10-27T11:18:23.247Z"
   },
   {
    "duration": 9,
    "start_time": "2022-10-27T11:18:25.413Z"
   },
   {
    "duration": 10,
    "start_time": "2022-10-27T11:18:27.194Z"
   },
   {
    "duration": 8,
    "start_time": "2022-10-27T11:18:34.961Z"
   },
   {
    "duration": 68,
    "start_time": "2022-10-27T11:23:37.008Z"
   },
   {
    "duration": 126,
    "start_time": "2022-10-27T12:43:05.797Z"
   },
   {
    "duration": 141,
    "start_time": "2022-10-27T12:45:29.156Z"
   },
   {
    "duration": 127,
    "start_time": "2022-10-27T12:45:52.933Z"
   },
   {
    "duration": 132,
    "start_time": "2022-10-27T12:45:57.997Z"
   },
   {
    "duration": 133,
    "start_time": "2022-10-27T12:48:00.081Z"
   },
   {
    "duration": 131,
    "start_time": "2022-10-27T12:48:08.396Z"
   },
   {
    "duration": 180,
    "start_time": "2022-10-27T12:49:36.233Z"
   },
   {
    "duration": 474,
    "start_time": "2022-10-27T12:50:00.297Z"
   },
   {
    "duration": 3,
    "start_time": "2022-10-27T12:50:36.601Z"
   },
   {
    "duration": 132,
    "start_time": "2022-10-27T12:50:49.865Z"
   },
   {
    "duration": 121,
    "start_time": "2022-10-27T12:50:59.056Z"
   },
   {
    "duration": 150,
    "start_time": "2022-10-27T12:52:08.914Z"
   },
   {
    "duration": 146,
    "start_time": "2022-10-27T12:52:34.473Z"
   },
   {
    "duration": 147,
    "start_time": "2022-10-27T12:52:41.295Z"
   },
   {
    "duration": 151,
    "start_time": "2022-10-27T12:53:03.849Z"
   },
   {
    "duration": 151,
    "start_time": "2022-10-27T12:53:10.893Z"
   },
   {
    "duration": 175,
    "start_time": "2022-10-27T12:53:31.552Z"
   },
   {
    "duration": 162,
    "start_time": "2022-10-27T12:53:43.636Z"
   },
   {
    "duration": 158,
    "start_time": "2022-10-27T12:53:53.602Z"
   },
   {
    "duration": 153,
    "start_time": "2022-10-27T12:54:02.244Z"
   },
   {
    "duration": 265,
    "start_time": "2022-10-27T12:55:08.443Z"
   },
   {
    "duration": 148,
    "start_time": "2022-10-27T12:55:13.679Z"
   },
   {
    "duration": 146,
    "start_time": "2022-10-27T12:55:18.037Z"
   },
   {
    "duration": 204,
    "start_time": "2022-10-27T12:55:26.022Z"
   },
   {
    "duration": 161,
    "start_time": "2022-10-27T12:55:49.808Z"
   },
   {
    "duration": 145,
    "start_time": "2022-10-27T12:55:57.023Z"
   },
   {
    "duration": 141,
    "start_time": "2022-10-27T12:56:20.475Z"
   },
   {
    "duration": 166,
    "start_time": "2022-10-27T12:57:29.356Z"
   },
   {
    "duration": 158,
    "start_time": "2022-10-27T12:57:41.458Z"
   },
   {
    "duration": 169,
    "start_time": "2022-10-27T12:58:08.211Z"
   },
   {
    "duration": 152,
    "start_time": "2022-10-27T12:58:17.564Z"
   },
   {
    "duration": 4,
    "start_time": "2022-10-27T12:59:39.030Z"
   },
   {
    "duration": 8,
    "start_time": "2022-10-27T12:59:49.082Z"
   },
   {
    "duration": 6,
    "start_time": "2022-10-27T13:01:36.652Z"
   },
   {
    "duration": 6,
    "start_time": "2022-10-27T13:01:57.293Z"
   },
   {
    "duration": 143,
    "start_time": "2022-10-27T13:02:46.973Z"
   },
   {
    "duration": 5,
    "start_time": "2022-10-27T13:04:12.669Z"
   },
   {
    "duration": 132,
    "start_time": "2022-10-27T13:04:14.943Z"
   },
   {
    "duration": 143,
    "start_time": "2022-10-27T13:12:43.505Z"
   },
   {
    "duration": 8,
    "start_time": "2022-10-27T13:29:33.526Z"
   },
   {
    "duration": 6,
    "start_time": "2022-10-27T13:29:42.585Z"
   },
   {
    "duration": 4,
    "start_time": "2022-10-27T13:30:58.802Z"
   },
   {
    "duration": 7,
    "start_time": "2022-10-27T13:32:27.199Z"
   },
   {
    "duration": 8,
    "start_time": "2022-10-27T13:32:48.546Z"
   },
   {
    "duration": 7,
    "start_time": "2022-10-27T13:33:30.451Z"
   },
   {
    "duration": 4,
    "start_time": "2022-10-27T13:35:36.677Z"
   },
   {
    "duration": 211,
    "start_time": "2022-10-27T13:37:56.971Z"
   },
   {
    "duration": 8,
    "start_time": "2022-10-27T13:38:26.224Z"
   },
   {
    "duration": 11,
    "start_time": "2022-10-27T13:38:26.758Z"
   },
   {
    "duration": 4,
    "start_time": "2022-10-27T13:38:31.318Z"
   },
   {
    "duration": 384,
    "start_time": "2022-10-27T13:38:31.802Z"
   },
   {
    "duration": 21,
    "start_time": "2022-10-27T13:38:58.048Z"
   },
   {
    "duration": 22,
    "start_time": "2022-10-27T13:39:21.387Z"
   },
   {
    "duration": 3,
    "start_time": "2022-10-27T13:39:23.657Z"
   },
   {
    "duration": 21,
    "start_time": "2022-10-27T13:39:24.340Z"
   },
   {
    "duration": 3,
    "start_time": "2022-10-27T13:39:26.631Z"
   },
   {
    "duration": 22,
    "start_time": "2022-10-27T13:39:27.007Z"
   },
   {
    "duration": 1032,
    "start_time": "2022-10-27T13:39:37.975Z"
   },
   {
    "duration": 51,
    "start_time": "2022-10-27T13:39:39.009Z"
   },
   {
    "duration": 22,
    "start_time": "2022-10-27T13:39:39.061Z"
   },
   {
    "duration": 12,
    "start_time": "2022-10-27T13:39:39.085Z"
   },
   {
    "duration": 25,
    "start_time": "2022-10-27T13:39:39.099Z"
   },
   {
    "duration": 9,
    "start_time": "2022-10-27T13:39:39.126Z"
   },
   {
    "duration": 12,
    "start_time": "2022-10-27T13:39:39.137Z"
   },
   {
    "duration": 14,
    "start_time": "2022-10-27T13:39:39.151Z"
   },
   {
    "duration": 19,
    "start_time": "2022-10-27T13:39:39.166Z"
   },
   {
    "duration": 6,
    "start_time": "2022-10-27T13:39:39.186Z"
   },
   {
    "duration": 6,
    "start_time": "2022-10-27T13:39:39.193Z"
   },
   {
    "duration": 8,
    "start_time": "2022-10-27T13:39:39.201Z"
   },
   {
    "duration": 6,
    "start_time": "2022-10-27T13:39:39.210Z"
   },
   {
    "duration": 6,
    "start_time": "2022-10-27T13:39:39.221Z"
   },
   {
    "duration": 7,
    "start_time": "2022-10-27T13:39:39.228Z"
   },
   {
    "duration": 10,
    "start_time": "2022-10-27T13:39:39.236Z"
   },
   {
    "duration": 13,
    "start_time": "2022-10-27T13:39:39.248Z"
   },
   {
    "duration": 7,
    "start_time": "2022-10-27T13:39:39.263Z"
   },
   {
    "duration": 16,
    "start_time": "2022-10-27T13:39:39.271Z"
   },
   {
    "duration": 34,
    "start_time": "2022-10-27T13:39:39.289Z"
   },
   {
    "duration": 13,
    "start_time": "2022-10-27T13:39:39.325Z"
   },
   {
    "duration": 6,
    "start_time": "2022-10-27T13:39:39.340Z"
   },
   {
    "duration": 7,
    "start_time": "2022-10-27T13:39:39.347Z"
   },
   {
    "duration": 201,
    "start_time": "2022-10-27T13:39:39.356Z"
   },
   {
    "duration": 8,
    "start_time": "2022-10-27T13:39:39.558Z"
   },
   {
    "duration": 7,
    "start_time": "2022-10-27T13:39:39.567Z"
   },
   {
    "duration": 265,
    "start_time": "2022-10-27T13:39:39.575Z"
   },
   {
    "duration": 7,
    "start_time": "2022-10-27T13:39:39.841Z"
   },
   {
    "duration": 12,
    "start_time": "2022-10-27T13:39:39.850Z"
   },
   {
    "duration": 17,
    "start_time": "2022-10-27T13:39:39.864Z"
   },
   {
    "duration": 298,
    "start_time": "2022-10-27T13:39:39.883Z"
   },
   {
    "duration": 6,
    "start_time": "2022-10-27T13:39:40.182Z"
   },
   {
    "duration": 335,
    "start_time": "2022-10-27T13:39:40.189Z"
   },
   {
    "duration": 5,
    "start_time": "2022-10-27T13:39:40.526Z"
   },
   {
    "duration": 153,
    "start_time": "2022-10-27T13:39:40.532Z"
   },
   {
    "duration": 151,
    "start_time": "2022-10-27T13:39:40.687Z"
   },
   {
    "duration": 96,
    "start_time": "2022-10-27T13:39:40.840Z"
   },
   {
    "duration": 0,
    "start_time": "2022-10-27T13:39:40.938Z"
   },
   {
    "duration": 0,
    "start_time": "2022-10-27T13:39:40.939Z"
   },
   {
    "duration": 0,
    "start_time": "2022-10-27T13:39:40.941Z"
   },
   {
    "duration": 0,
    "start_time": "2022-10-27T13:39:40.942Z"
   },
   {
    "duration": 0,
    "start_time": "2022-10-27T13:39:40.944Z"
   },
   {
    "duration": 0,
    "start_time": "2022-10-27T13:39:40.945Z"
   },
   {
    "duration": 0,
    "start_time": "2022-10-27T13:39:40.947Z"
   },
   {
    "duration": 0,
    "start_time": "2022-10-27T13:39:40.948Z"
   },
   {
    "duration": 0,
    "start_time": "2022-10-27T13:39:40.950Z"
   },
   {
    "duration": 0,
    "start_time": "2022-10-27T13:39:40.952Z"
   },
   {
    "duration": 0,
    "start_time": "2022-10-27T13:39:40.953Z"
   },
   {
    "duration": 0,
    "start_time": "2022-10-27T13:39:40.955Z"
   },
   {
    "duration": 0,
    "start_time": "2022-10-27T13:39:40.956Z"
   },
   {
    "duration": 0,
    "start_time": "2022-10-27T13:39:40.957Z"
   },
   {
    "duration": 3,
    "start_time": "2022-10-27T13:39:51.444Z"
   },
   {
    "duration": 57,
    "start_time": "2022-10-27T13:39:51.449Z"
   },
   {
    "duration": 21,
    "start_time": "2022-10-27T13:39:51.507Z"
   },
   {
    "duration": 19,
    "start_time": "2022-10-27T13:39:51.529Z"
   },
   {
    "duration": 3,
    "start_time": "2022-10-27T13:39:51.550Z"
   },
   {
    "duration": 6,
    "start_time": "2022-10-27T13:39:51.555Z"
   },
   {
    "duration": 6,
    "start_time": "2022-10-27T13:39:51.563Z"
   },
   {
    "duration": 14,
    "start_time": "2022-10-27T13:39:51.570Z"
   },
   {
    "duration": 9,
    "start_time": "2022-10-27T13:39:51.585Z"
   },
   {
    "duration": 10,
    "start_time": "2022-10-27T13:39:51.595Z"
   },
   {
    "duration": 19,
    "start_time": "2022-10-27T13:39:51.606Z"
   },
   {
    "duration": 12,
    "start_time": "2022-10-27T13:39:51.627Z"
   },
   {
    "duration": 4,
    "start_time": "2022-10-27T13:39:51.640Z"
   },
   {
    "duration": 7,
    "start_time": "2022-10-27T13:39:51.647Z"
   },
   {
    "duration": 14,
    "start_time": "2022-10-27T13:39:51.656Z"
   },
   {
    "duration": 16,
    "start_time": "2022-10-27T13:39:51.672Z"
   },
   {
    "duration": 16,
    "start_time": "2022-10-27T13:39:51.690Z"
   },
   {
    "duration": 15,
    "start_time": "2022-10-27T13:39:51.707Z"
   },
   {
    "duration": 12,
    "start_time": "2022-10-27T13:39:51.724Z"
   },
   {
    "duration": 7,
    "start_time": "2022-10-27T13:39:51.738Z"
   },
   {
    "duration": 9,
    "start_time": "2022-10-27T13:39:51.747Z"
   },
   {
    "duration": 4,
    "start_time": "2022-10-27T13:39:51.758Z"
   },
   {
    "duration": 20,
    "start_time": "2022-10-27T13:39:51.763Z"
   },
   {
    "duration": 168,
    "start_time": "2022-10-27T13:39:51.784Z"
   },
   {
    "duration": 8,
    "start_time": "2022-10-27T13:39:51.954Z"
   },
   {
    "duration": 12,
    "start_time": "2022-10-27T13:39:51.963Z"
   },
   {
    "duration": 241,
    "start_time": "2022-10-27T13:39:51.976Z"
   },
   {
    "duration": 6,
    "start_time": "2022-10-27T13:39:52.221Z"
   },
   {
    "duration": 25,
    "start_time": "2022-10-27T13:39:52.228Z"
   },
   {
    "duration": 16,
    "start_time": "2022-10-27T13:39:52.254Z"
   },
   {
    "duration": 354,
    "start_time": "2022-10-27T13:39:52.272Z"
   },
   {
    "duration": 5,
    "start_time": "2022-10-27T13:39:52.628Z"
   },
   {
    "duration": 294,
    "start_time": "2022-10-27T13:39:52.634Z"
   },
   {
    "duration": 5,
    "start_time": "2022-10-27T13:39:52.929Z"
   },
   {
    "duration": 147,
    "start_time": "2022-10-27T13:39:52.936Z"
   },
   {
    "duration": 145,
    "start_time": "2022-10-27T13:39:53.085Z"
   },
   {
    "duration": 9,
    "start_time": "2022-10-27T13:39:53.232Z"
   },
   {
    "duration": 0,
    "start_time": "2022-10-27T13:39:53.243Z"
   },
   {
    "duration": 0,
    "start_time": "2022-10-27T13:39:53.244Z"
   },
   {
    "duration": 0,
    "start_time": "2022-10-27T13:39:53.245Z"
   },
   {
    "duration": 0,
    "start_time": "2022-10-27T13:39:53.246Z"
   },
   {
    "duration": 0,
    "start_time": "2022-10-27T13:39:53.247Z"
   },
   {
    "duration": 0,
    "start_time": "2022-10-27T13:39:53.248Z"
   },
   {
    "duration": 0,
    "start_time": "2022-10-27T13:39:53.249Z"
   },
   {
    "duration": 0,
    "start_time": "2022-10-27T13:39:53.249Z"
   },
   {
    "duration": 0,
    "start_time": "2022-10-27T13:39:53.251Z"
   },
   {
    "duration": 0,
    "start_time": "2022-10-27T13:39:53.252Z"
   },
   {
    "duration": 0,
    "start_time": "2022-10-27T13:39:53.253Z"
   },
   {
    "duration": 0,
    "start_time": "2022-10-27T13:39:53.255Z"
   },
   {
    "duration": 0,
    "start_time": "2022-10-27T13:39:53.256Z"
   },
   {
    "duration": 0,
    "start_time": "2022-10-27T13:39:53.256Z"
   },
   {
    "duration": 5,
    "start_time": "2022-10-27T13:40:20.456Z"
   },
   {
    "duration": 5,
    "start_time": "2022-10-27T13:40:21.282Z"
   },
   {
    "duration": 8,
    "start_time": "2022-10-27T13:40:24.220Z"
   },
   {
    "duration": 9,
    "start_time": "2022-10-27T13:40:24.456Z"
   },
   {
    "duration": 9,
    "start_time": "2022-10-27T13:40:24.794Z"
   },
   {
    "duration": 9,
    "start_time": "2022-10-27T13:40:25.108Z"
   },
   {
    "duration": 202,
    "start_time": "2022-10-27T13:40:26.038Z"
   },
   {
    "duration": 4,
    "start_time": "2022-10-27T13:40:26.241Z"
   },
   {
    "duration": 137,
    "start_time": "2022-10-27T13:40:26.400Z"
   },
   {
    "duration": 8,
    "start_time": "2022-10-27T13:41:20.117Z"
   },
   {
    "duration": 4,
    "start_time": "2022-10-27T13:41:20.489Z"
   },
   {
    "duration": 215,
    "start_time": "2022-10-27T13:41:21.197Z"
   },
   {
    "duration": 8,
    "start_time": "2022-10-27T13:41:32.331Z"
   },
   {
    "duration": 4,
    "start_time": "2022-10-27T13:41:51.248Z"
   },
   {
    "duration": 218,
    "start_time": "2022-10-27T13:42:13.248Z"
   },
   {
    "duration": 189,
    "start_time": "2022-10-27T13:42:26.730Z"
   },
   {
    "duration": 189,
    "start_time": "2022-10-27T13:42:32.874Z"
   },
   {
    "duration": 198,
    "start_time": "2022-10-27T13:43:47.862Z"
   },
   {
    "duration": 300,
    "start_time": "2022-10-27T13:44:15.042Z"
   },
   {
    "duration": 9,
    "start_time": "2022-10-27T13:45:14.701Z"
   },
   {
    "duration": 9,
    "start_time": "2022-10-27T13:45:19.095Z"
   },
   {
    "duration": 5,
    "start_time": "2022-10-27T13:45:19.595Z"
   },
   {
    "duration": 218,
    "start_time": "2022-10-27T13:45:20.091Z"
   },
   {
    "duration": 225,
    "start_time": "2022-10-27T13:46:58.579Z"
   },
   {
    "duration": 206,
    "start_time": "2022-10-27T13:47:08.867Z"
   },
   {
    "duration": 196,
    "start_time": "2022-10-27T13:47:18.063Z"
   },
   {
    "duration": 9,
    "start_time": "2022-10-27T13:48:16.534Z"
   },
   {
    "duration": 7,
    "start_time": "2022-10-27T13:48:23.494Z"
   },
   {
    "duration": 4,
    "start_time": "2022-10-27T13:48:23.712Z"
   },
   {
    "duration": 22,
    "start_time": "2022-10-27T13:48:23.902Z"
   },
   {
    "duration": 20,
    "start_time": "2022-10-27T13:49:19.573Z"
   },
   {
    "duration": 4,
    "start_time": "2022-10-27T13:49:58.166Z"
   },
   {
    "duration": 24,
    "start_time": "2022-10-27T13:49:58.812Z"
   },
   {
    "duration": 1119,
    "start_time": "2022-10-27T13:50:07.690Z"
   },
   {
    "duration": 51,
    "start_time": "2022-10-27T13:50:08.810Z"
   },
   {
    "duration": 22,
    "start_time": "2022-10-27T13:50:08.862Z"
   },
   {
    "duration": 13,
    "start_time": "2022-10-27T13:50:08.885Z"
   },
   {
    "duration": 16,
    "start_time": "2022-10-27T13:50:08.899Z"
   },
   {
    "duration": 35,
    "start_time": "2022-10-27T13:50:08.916Z"
   },
   {
    "duration": 17,
    "start_time": "2022-10-27T13:50:08.952Z"
   },
   {
    "duration": 21,
    "start_time": "2022-10-27T13:50:08.971Z"
   },
   {
    "duration": 29,
    "start_time": "2022-10-27T13:50:08.993Z"
   },
   {
    "duration": 23,
    "start_time": "2022-10-27T13:50:09.024Z"
   },
   {
    "duration": 14,
    "start_time": "2022-10-27T13:50:09.048Z"
   },
   {
    "duration": 33,
    "start_time": "2022-10-27T13:50:09.063Z"
   },
   {
    "duration": 28,
    "start_time": "2022-10-27T13:50:09.097Z"
   },
   {
    "duration": 41,
    "start_time": "2022-10-27T13:50:09.128Z"
   },
   {
    "duration": 13,
    "start_time": "2022-10-27T13:50:09.171Z"
   },
   {
    "duration": 16,
    "start_time": "2022-10-27T13:50:09.185Z"
   },
   {
    "duration": 26,
    "start_time": "2022-10-27T13:50:09.202Z"
   },
   {
    "duration": 17,
    "start_time": "2022-10-27T13:50:09.230Z"
   },
   {
    "duration": 38,
    "start_time": "2022-10-27T13:50:09.248Z"
   },
   {
    "duration": 13,
    "start_time": "2022-10-27T13:50:09.287Z"
   },
   {
    "duration": 15,
    "start_time": "2022-10-27T13:50:09.302Z"
   },
   {
    "duration": 8,
    "start_time": "2022-10-27T13:50:09.319Z"
   },
   {
    "duration": 25,
    "start_time": "2022-10-27T13:50:09.328Z"
   },
   {
    "duration": 175,
    "start_time": "2022-10-27T13:50:09.354Z"
   },
   {
    "duration": 8,
    "start_time": "2022-10-27T13:50:09.530Z"
   },
   {
    "duration": 6,
    "start_time": "2022-10-27T13:50:09.540Z"
   },
   {
    "duration": 269,
    "start_time": "2022-10-27T13:50:09.547Z"
   },
   {
    "duration": 7,
    "start_time": "2022-10-27T13:50:09.818Z"
   },
   {
    "duration": 16,
    "start_time": "2022-10-27T13:50:09.827Z"
   },
   {
    "duration": 5,
    "start_time": "2022-10-27T13:50:09.845Z"
   },
   {
    "duration": 331,
    "start_time": "2022-10-27T13:50:09.852Z"
   },
   {
    "duration": 7,
    "start_time": "2022-10-27T13:50:10.185Z"
   },
   {
    "duration": 317,
    "start_time": "2022-10-27T13:50:10.193Z"
   },
   {
    "duration": 13,
    "start_time": "2022-10-27T13:50:10.512Z"
   },
   {
    "duration": 151,
    "start_time": "2022-10-27T13:50:10.527Z"
   },
   {
    "duration": 141,
    "start_time": "2022-10-27T13:50:10.680Z"
   },
   {
    "duration": 5,
    "start_time": "2022-10-27T13:50:10.823Z"
   },
   {
    "duration": 9,
    "start_time": "2022-10-27T13:50:10.830Z"
   },
   {
    "duration": 9,
    "start_time": "2022-10-27T13:50:10.841Z"
   },
   {
    "duration": 9,
    "start_time": "2022-10-27T13:50:10.852Z"
   },
   {
    "duration": 11,
    "start_time": "2022-10-27T13:50:10.864Z"
   },
   {
    "duration": 10,
    "start_time": "2022-10-27T13:50:10.876Z"
   },
   {
    "duration": 190,
    "start_time": "2022-10-27T13:50:10.887Z"
   },
   {
    "duration": 4,
    "start_time": "2022-10-27T13:50:11.079Z"
   },
   {
    "duration": 152,
    "start_time": "2022-10-27T13:50:11.085Z"
   },
   {
    "duration": 7,
    "start_time": "2022-10-27T13:50:11.238Z"
   },
   {
    "duration": 9,
    "start_time": "2022-10-27T13:50:11.246Z"
   },
   {
    "duration": 287,
    "start_time": "2022-10-27T13:50:11.256Z"
   },
   {
    "duration": 7,
    "start_time": "2022-10-27T13:50:11.545Z"
   },
   {
    "duration": 6,
    "start_time": "2022-10-27T13:50:11.555Z"
   },
   {
    "duration": 229,
    "start_time": "2022-10-27T13:50:11.563Z"
   },
   {
    "duration": 8,
    "start_time": "2022-10-27T13:50:11.793Z"
   },
   {
    "duration": 22,
    "start_time": "2022-10-27T13:50:11.802Z"
   },
   {
    "duration": 199,
    "start_time": "2022-10-27T13:50:11.826Z"
   },
   {
    "duration": 7,
    "start_time": "2022-10-27T13:50:12.027Z"
   },
   {
    "duration": 11,
    "start_time": "2022-10-27T13:50:12.036Z"
   },
   {
    "duration": 213,
    "start_time": "2022-10-27T13:50:12.048Z"
   },
   {
    "duration": 9,
    "start_time": "2022-10-27T13:54:21.831Z"
   },
   {
    "duration": 6,
    "start_time": "2022-10-27T13:54:36.578Z"
   },
   {
    "duration": 6,
    "start_time": "2022-10-27T13:54:37.292Z"
   },
   {
    "duration": 98,
    "start_time": "2022-10-27T13:55:31.395Z"
   },
   {
    "duration": 8,
    "start_time": "2022-10-27T13:55:39.001Z"
   },
   {
    "duration": 7,
    "start_time": "2022-10-27T13:55:39.191Z"
   },
   {
    "duration": 6,
    "start_time": "2022-10-27T13:55:39.375Z"
   },
   {
    "duration": 238,
    "start_time": "2022-10-27T13:55:39.873Z"
   },
   {
    "duration": 12,
    "start_time": "2022-10-27T13:58:09.685Z"
   },
   {
    "duration": 5,
    "start_time": "2022-10-27T13:58:41.381Z"
   },
   {
    "duration": 215,
    "start_time": "2022-10-27T13:58:47.872Z"
   },
   {
    "duration": 19,
    "start_time": "2022-10-27T13:59:01.942Z"
   },
   {
    "duration": 14,
    "start_time": "2022-10-27T13:59:14.370Z"
   },
   {
    "duration": 326,
    "start_time": "2022-10-27T13:59:49.617Z"
   },
   {
    "duration": 323,
    "start_time": "2022-10-27T13:59:57.482Z"
   },
   {
    "duration": 215,
    "start_time": "2022-10-27T14:00:25.040Z"
   },
   {
    "duration": 200,
    "start_time": "2022-10-27T14:01:18.421Z"
   },
   {
    "duration": 99,
    "start_time": "2022-10-27T14:01:21.775Z"
   },
   {
    "duration": 100,
    "start_time": "2022-10-27T14:01:32.761Z"
   },
   {
    "duration": 226,
    "start_time": "2022-10-27T14:02:31.326Z"
   },
   {
    "duration": 6,
    "start_time": "2022-10-27T14:04:42.188Z"
   },
   {
    "duration": 24,
    "start_time": "2022-10-27T14:04:43.338Z"
   },
   {
    "duration": 1079,
    "start_time": "2022-10-27T14:04:52.751Z"
   },
   {
    "duration": 51,
    "start_time": "2022-10-27T14:04:53.832Z"
   },
   {
    "duration": 21,
    "start_time": "2022-10-27T14:04:53.884Z"
   },
   {
    "duration": 13,
    "start_time": "2022-10-27T14:04:53.907Z"
   },
   {
    "duration": 11,
    "start_time": "2022-10-27T14:04:53.921Z"
   },
   {
    "duration": 9,
    "start_time": "2022-10-27T14:04:53.934Z"
   },
   {
    "duration": 26,
    "start_time": "2022-10-27T14:04:53.944Z"
   },
   {
    "duration": 14,
    "start_time": "2022-10-27T14:04:53.971Z"
   },
   {
    "duration": 19,
    "start_time": "2022-10-27T14:04:53.986Z"
   },
   {
    "duration": 12,
    "start_time": "2022-10-27T14:04:54.008Z"
   },
   {
    "duration": 17,
    "start_time": "2022-10-27T14:04:54.022Z"
   },
   {
    "duration": 14,
    "start_time": "2022-10-27T14:04:54.041Z"
   },
   {
    "duration": 28,
    "start_time": "2022-10-27T14:04:54.057Z"
   },
   {
    "duration": 10,
    "start_time": "2022-10-27T14:04:54.086Z"
   },
   {
    "duration": 10,
    "start_time": "2022-10-27T14:04:54.097Z"
   },
   {
    "duration": 26,
    "start_time": "2022-10-27T14:04:54.109Z"
   },
   {
    "duration": 114,
    "start_time": "2022-10-27T14:04:54.137Z"
   },
   {
    "duration": 29,
    "start_time": "2022-10-27T14:04:54.253Z"
   },
   {
    "duration": 28,
    "start_time": "2022-10-27T14:04:54.283Z"
   },
   {
    "duration": 7,
    "start_time": "2022-10-27T14:04:54.313Z"
   },
   {
    "duration": 10,
    "start_time": "2022-10-27T14:04:54.321Z"
   },
   {
    "duration": 4,
    "start_time": "2022-10-27T14:04:54.332Z"
   },
   {
    "duration": 22,
    "start_time": "2022-10-27T14:04:54.337Z"
   },
   {
    "duration": 164,
    "start_time": "2022-10-27T14:04:54.360Z"
   },
   {
    "duration": 8,
    "start_time": "2022-10-27T14:04:54.525Z"
   },
   {
    "duration": 9,
    "start_time": "2022-10-27T14:04:54.534Z"
   },
   {
    "duration": 268,
    "start_time": "2022-10-27T14:04:54.544Z"
   },
   {
    "duration": 6,
    "start_time": "2022-10-27T14:04:54.815Z"
   },
   {
    "duration": 15,
    "start_time": "2022-10-27T14:04:54.823Z"
   },
   {
    "duration": 10,
    "start_time": "2022-10-27T14:04:54.839Z"
   },
   {
    "duration": 283,
    "start_time": "2022-10-27T14:04:54.850Z"
   },
   {
    "duration": 7,
    "start_time": "2022-10-27T14:04:55.134Z"
   },
   {
    "duration": 337,
    "start_time": "2022-10-27T14:04:55.143Z"
   },
   {
    "duration": 5,
    "start_time": "2022-10-27T14:04:55.482Z"
   },
   {
    "duration": 141,
    "start_time": "2022-10-27T14:04:55.488Z"
   },
   {
    "duration": 152,
    "start_time": "2022-10-27T14:04:55.631Z"
   },
   {
    "duration": 4,
    "start_time": "2022-10-27T14:04:55.785Z"
   },
   {
    "duration": 7,
    "start_time": "2022-10-27T14:04:55.790Z"
   },
   {
    "duration": 10,
    "start_time": "2022-10-27T14:04:55.798Z"
   },
   {
    "duration": 21,
    "start_time": "2022-10-27T14:04:55.809Z"
   },
   {
    "duration": 9,
    "start_time": "2022-10-27T14:04:55.831Z"
   },
   {
    "duration": 14,
    "start_time": "2022-10-27T14:04:55.841Z"
   },
   {
    "duration": 186,
    "start_time": "2022-10-27T14:04:55.857Z"
   },
   {
    "duration": 5,
    "start_time": "2022-10-27T14:04:56.045Z"
   },
   {
    "duration": 182,
    "start_time": "2022-10-27T14:04:56.052Z"
   },
   {
    "duration": 6,
    "start_time": "2022-10-27T14:04:56.236Z"
   },
   {
    "duration": 13,
    "start_time": "2022-10-27T14:04:56.243Z"
   },
   {
    "duration": 15,
    "start_time": "2022-10-27T14:04:56.257Z"
   },
   {
    "duration": 284,
    "start_time": "2022-10-27T14:04:56.273Z"
   },
   {
    "duration": 203,
    "start_time": "2022-10-27T14:04:56.559Z"
   },
   {
    "duration": 104,
    "start_time": "2022-10-27T14:04:56.764Z"
   },
   {
    "duration": 0,
    "start_time": "2022-10-27T14:04:56.869Z"
   },
   {
    "duration": 0,
    "start_time": "2022-10-27T14:04:56.870Z"
   },
   {
    "duration": 0,
    "start_time": "2022-10-27T14:04:56.872Z"
   },
   {
    "duration": 0,
    "start_time": "2022-10-27T14:04:56.873Z"
   },
   {
    "duration": 0,
    "start_time": "2022-10-27T14:04:56.874Z"
   },
   {
    "duration": 0,
    "start_time": "2022-10-27T14:04:56.874Z"
   },
   {
    "duration": 0,
    "start_time": "2022-10-27T14:04:56.876Z"
   },
   {
    "duration": 0,
    "start_time": "2022-10-27T14:04:56.877Z"
   },
   {
    "duration": 0,
    "start_time": "2022-10-27T14:04:56.877Z"
   },
   {
    "duration": 222,
    "start_time": "2022-10-27T14:05:48.454Z"
   },
   {
    "duration": 1418,
    "start_time": "2022-10-27T14:06:05.341Z"
   },
   {
    "duration": 140,
    "start_time": "2022-10-27T14:07:20.370Z"
   },
   {
    "duration": 17,
    "start_time": "2022-10-27T14:07:55.767Z"
   },
   {
    "duration": 1386,
    "start_time": "2022-10-27T14:08:04.396Z"
   },
   {
    "duration": 8,
    "start_time": "2022-10-27T14:11:17.368Z"
   },
   {
    "duration": 4,
    "start_time": "2022-10-27T14:11:17.538Z"
   },
   {
    "duration": 20,
    "start_time": "2022-10-27T14:11:17.724Z"
   },
   {
    "duration": 134,
    "start_time": "2022-10-27T14:11:18.222Z"
   },
   {
    "duration": 8,
    "start_time": "2022-10-27T15:42:13.587Z"
   },
   {
    "duration": 4,
    "start_time": "2022-10-27T15:42:14.001Z"
   },
   {
    "duration": 184,
    "start_time": "2022-10-27T15:42:14.453Z"
   },
   {
    "duration": 7,
    "start_time": "2022-10-27T15:42:22.277Z"
   },
   {
    "duration": 5,
    "start_time": "2022-10-27T15:42:22.877Z"
   },
   {
    "duration": 230,
    "start_time": "2022-10-27T15:42:26.015Z"
   },
   {
    "duration": 7,
    "start_time": "2022-10-27T15:42:26.507Z"
   },
   {
    "duration": 4,
    "start_time": "2022-10-27T15:42:28.097Z"
   },
   {
    "duration": 4,
    "start_time": "2022-10-27T15:42:33.049Z"
   },
   {
    "duration": 21,
    "start_time": "2022-10-27T15:42:33.383Z"
   },
   {
    "duration": 1058,
    "start_time": "2022-10-27T15:42:47.755Z"
   },
   {
    "duration": 52,
    "start_time": "2022-10-27T15:42:48.815Z"
   },
   {
    "duration": 26,
    "start_time": "2022-10-27T15:42:48.869Z"
   },
   {
    "duration": 14,
    "start_time": "2022-10-27T15:42:48.897Z"
   },
   {
    "duration": 2,
    "start_time": "2022-10-27T15:42:48.913Z"
   },
   {
    "duration": 7,
    "start_time": "2022-10-27T15:42:48.917Z"
   },
   {
    "duration": 5,
    "start_time": "2022-10-27T15:42:48.926Z"
   },
   {
    "duration": 13,
    "start_time": "2022-10-27T15:42:48.933Z"
   },
   {
    "duration": 7,
    "start_time": "2022-10-27T15:42:48.948Z"
   },
   {
    "duration": 5,
    "start_time": "2022-10-27T15:42:48.957Z"
   },
   {
    "duration": 7,
    "start_time": "2022-10-27T15:42:48.963Z"
   },
   {
    "duration": 7,
    "start_time": "2022-10-27T15:42:48.971Z"
   },
   {
    "duration": 9,
    "start_time": "2022-10-27T15:42:48.980Z"
   },
   {
    "duration": 8,
    "start_time": "2022-10-27T15:42:48.990Z"
   },
   {
    "duration": 23,
    "start_time": "2022-10-27T15:42:48.999Z"
   },
   {
    "duration": 7,
    "start_time": "2022-10-27T15:42:49.024Z"
   },
   {
    "duration": 18,
    "start_time": "2022-10-27T15:42:49.032Z"
   },
   {
    "duration": 7,
    "start_time": "2022-10-27T15:42:49.051Z"
   },
   {
    "duration": 17,
    "start_time": "2022-10-27T15:42:49.060Z"
   },
   {
    "duration": 8,
    "start_time": "2022-10-27T15:42:49.078Z"
   },
   {
    "duration": 35,
    "start_time": "2022-10-27T15:42:49.087Z"
   },
   {
    "duration": 4,
    "start_time": "2022-10-27T15:42:49.123Z"
   },
   {
    "duration": 10,
    "start_time": "2022-10-27T15:42:49.128Z"
   },
   {
    "duration": 185,
    "start_time": "2022-10-27T15:42:49.139Z"
   },
   {
    "duration": 8,
    "start_time": "2022-10-27T15:42:49.325Z"
   },
   {
    "duration": 8,
    "start_time": "2022-10-27T15:42:49.335Z"
   },
   {
    "duration": 306,
    "start_time": "2022-10-27T15:42:49.344Z"
   },
   {
    "duration": 7,
    "start_time": "2022-10-27T15:42:49.653Z"
   },
   {
    "duration": 10,
    "start_time": "2022-10-27T15:42:49.661Z"
   },
   {
    "duration": 9,
    "start_time": "2022-10-27T15:42:49.673Z"
   },
   {
    "duration": 287,
    "start_time": "2022-10-27T15:42:49.683Z"
   },
   {
    "duration": 5,
    "start_time": "2022-10-27T15:42:49.972Z"
   },
   {
    "duration": 333,
    "start_time": "2022-10-27T15:42:49.979Z"
   },
   {
    "duration": 11,
    "start_time": "2022-10-27T15:42:50.314Z"
   },
   {
    "duration": 173,
    "start_time": "2022-10-27T15:42:50.327Z"
   },
   {
    "duration": 174,
    "start_time": "2022-10-27T15:42:50.502Z"
   },
   {
    "duration": 6,
    "start_time": "2022-10-27T15:42:50.678Z"
   },
   {
    "duration": 21,
    "start_time": "2022-10-27T15:42:50.685Z"
   },
   {
    "duration": 20,
    "start_time": "2022-10-27T15:42:50.708Z"
   },
   {
    "duration": 30,
    "start_time": "2022-10-27T15:42:50.729Z"
   },
   {
    "duration": 33,
    "start_time": "2022-10-27T15:42:50.760Z"
   },
   {
    "duration": 13,
    "start_time": "2022-10-27T15:42:50.794Z"
   },
   {
    "duration": 178,
    "start_time": "2022-10-27T15:42:50.808Z"
   },
   {
    "duration": 4,
    "start_time": "2022-10-27T15:42:50.988Z"
   },
   {
    "duration": 167,
    "start_time": "2022-10-27T15:42:50.994Z"
   },
   {
    "duration": 7,
    "start_time": "2022-10-27T15:42:51.162Z"
   },
   {
    "duration": 5,
    "start_time": "2022-10-27T15:42:51.171Z"
   },
   {
    "duration": 271,
    "start_time": "2022-10-27T15:42:51.178Z"
   },
   {
    "duration": 6,
    "start_time": "2022-10-27T15:42:51.451Z"
   },
   {
    "duration": 6,
    "start_time": "2022-10-27T15:42:51.459Z"
   },
   {
    "duration": 203,
    "start_time": "2022-10-27T15:42:51.466Z"
   },
   {
    "duration": 6,
    "start_time": "2022-10-27T15:42:51.670Z"
   },
   {
    "duration": 7,
    "start_time": "2022-10-27T15:42:51.677Z"
   },
   {
    "duration": 192,
    "start_time": "2022-10-27T15:42:51.685Z"
   },
   {
    "duration": 6,
    "start_time": "2022-10-27T15:42:51.878Z"
   },
   {
    "duration": 9,
    "start_time": "2022-10-27T15:42:51.886Z"
   },
   {
    "duration": 212,
    "start_time": "2022-10-27T15:42:51.896Z"
   },
   {
    "duration": 5,
    "start_time": "2022-10-27T15:43:21.648Z"
   },
   {
    "duration": 4,
    "start_time": "2022-10-27T15:43:22.348Z"
   },
   {
    "duration": 190,
    "start_time": "2022-10-27T15:43:24.898Z"
   },
   {
    "duration": 5,
    "start_time": "2022-10-27T15:43:31.642Z"
   },
   {
    "duration": 5,
    "start_time": "2022-10-27T15:43:32.199Z"
   },
   {
    "duration": 188,
    "start_time": "2022-10-27T15:43:32.920Z"
   },
   {
    "duration": 5,
    "start_time": "2022-10-27T15:43:40.508Z"
   },
   {
    "duration": 4,
    "start_time": "2022-10-27T15:43:41.124Z"
   },
   {
    "duration": 213,
    "start_time": "2022-10-27T15:43:41.664Z"
   },
   {
    "duration": 5,
    "start_time": "2022-10-27T15:43:49.983Z"
   },
   {
    "duration": 4,
    "start_time": "2022-10-27T15:43:50.381Z"
   },
   {
    "duration": 224,
    "start_time": "2022-10-27T15:43:50.787Z"
   },
   {
    "duration": 5,
    "start_time": "2022-10-27T16:12:13.270Z"
   },
   {
    "duration": 4,
    "start_time": "2022-10-27T16:12:13.510Z"
   },
   {
    "duration": 196,
    "start_time": "2022-10-27T16:12:13.803Z"
   },
   {
    "duration": 5,
    "start_time": "2022-10-27T16:17:30.358Z"
   },
   {
    "duration": 5,
    "start_time": "2022-10-27T16:17:30.818Z"
   },
   {
    "duration": 224,
    "start_time": "2022-10-27T16:17:31.576Z"
   },
   {
    "duration": 194,
    "start_time": "2022-10-27T16:18:13.355Z"
   },
   {
    "duration": 5,
    "start_time": "2022-10-27T16:19:11.720Z"
   },
   {
    "duration": 3,
    "start_time": "2022-10-27T16:19:12.162Z"
   },
   {
    "duration": 291,
    "start_time": "2022-10-27T16:19:12.751Z"
   },
   {
    "duration": 213,
    "start_time": "2022-10-27T16:19:29.382Z"
   },
   {
    "duration": 5,
    "start_time": "2022-10-27T16:20:24.173Z"
   },
   {
    "duration": 213,
    "start_time": "2022-10-27T16:22:29.233Z"
   },
   {
    "duration": 6,
    "start_time": "2022-10-27T16:23:36.104Z"
   },
   {
    "duration": 183,
    "start_time": "2022-10-27T16:23:54.334Z"
   },
   {
    "duration": 189,
    "start_time": "2022-10-27T16:25:13.502Z"
   },
   {
    "duration": 6,
    "start_time": "2022-10-27T16:26:57.278Z"
   },
   {
    "duration": 204,
    "start_time": "2022-10-27T16:26:57.476Z"
   },
   {
    "duration": 1019,
    "start_time": "2022-10-27T16:27:07.371Z"
   },
   {
    "duration": 50,
    "start_time": "2022-10-27T16:27:08.392Z"
   },
   {
    "duration": 22,
    "start_time": "2022-10-27T16:27:08.444Z"
   },
   {
    "duration": 11,
    "start_time": "2022-10-27T16:27:08.468Z"
   },
   {
    "duration": 3,
    "start_time": "2022-10-27T16:27:08.481Z"
   },
   {
    "duration": 6,
    "start_time": "2022-10-27T16:27:08.485Z"
   },
   {
    "duration": 5,
    "start_time": "2022-10-27T16:27:08.492Z"
   },
   {
    "duration": 28,
    "start_time": "2022-10-27T16:27:08.498Z"
   },
   {
    "duration": 7,
    "start_time": "2022-10-27T16:27:08.528Z"
   },
   {
    "duration": 9,
    "start_time": "2022-10-27T16:27:08.536Z"
   },
   {
    "duration": 15,
    "start_time": "2022-10-27T16:27:08.547Z"
   },
   {
    "duration": 8,
    "start_time": "2022-10-27T16:27:08.564Z"
   },
   {
    "duration": 6,
    "start_time": "2022-10-27T16:27:08.574Z"
   },
   {
    "duration": 8,
    "start_time": "2022-10-27T16:27:08.582Z"
   },
   {
    "duration": 5,
    "start_time": "2022-10-27T16:27:08.591Z"
   },
   {
    "duration": 9,
    "start_time": "2022-10-27T16:27:08.597Z"
   },
   {
    "duration": 20,
    "start_time": "2022-10-27T16:27:08.608Z"
   },
   {
    "duration": 7,
    "start_time": "2022-10-27T16:27:08.629Z"
   },
   {
    "duration": 13,
    "start_time": "2022-10-27T16:27:08.637Z"
   },
   {
    "duration": 8,
    "start_time": "2022-10-27T16:27:08.652Z"
   },
   {
    "duration": 18,
    "start_time": "2022-10-27T16:27:08.661Z"
   },
   {
    "duration": 4,
    "start_time": "2022-10-27T16:27:08.681Z"
   },
   {
    "duration": 35,
    "start_time": "2022-10-27T16:27:08.687Z"
   },
   {
    "duration": 173,
    "start_time": "2022-10-27T16:27:08.724Z"
   },
   {
    "duration": 7,
    "start_time": "2022-10-27T16:27:08.899Z"
   },
   {
    "duration": 16,
    "start_time": "2022-10-27T16:27:08.908Z"
   },
   {
    "duration": 259,
    "start_time": "2022-10-27T16:27:08.925Z"
   },
   {
    "duration": 6,
    "start_time": "2022-10-27T16:27:09.185Z"
   },
   {
    "duration": 11,
    "start_time": "2022-10-27T16:27:09.192Z"
   },
   {
    "duration": 6,
    "start_time": "2022-10-27T16:27:09.204Z"
   },
   {
    "duration": 264,
    "start_time": "2022-10-27T16:27:09.212Z"
   },
   {
    "duration": 5,
    "start_time": "2022-10-27T16:27:09.478Z"
   },
   {
    "duration": 329,
    "start_time": "2022-10-27T16:27:09.485Z"
   },
   {
    "duration": 5,
    "start_time": "2022-10-27T16:27:09.822Z"
   },
   {
    "duration": 153,
    "start_time": "2022-10-27T16:27:09.828Z"
   },
   {
    "duration": 154,
    "start_time": "2022-10-27T16:27:09.983Z"
   },
   {
    "duration": 5,
    "start_time": "2022-10-27T16:27:10.139Z"
   },
   {
    "duration": 7,
    "start_time": "2022-10-27T16:27:10.145Z"
   },
   {
    "duration": 9,
    "start_time": "2022-10-27T16:27:10.154Z"
   },
   {
    "duration": 14,
    "start_time": "2022-10-27T16:27:10.165Z"
   },
   {
    "duration": 10,
    "start_time": "2022-10-27T16:27:10.182Z"
   },
   {
    "duration": 28,
    "start_time": "2022-10-27T16:27:10.194Z"
   },
   {
    "duration": 177,
    "start_time": "2022-10-27T16:27:10.224Z"
   },
   {
    "duration": 3,
    "start_time": "2022-10-27T16:27:10.403Z"
   },
   {
    "duration": 150,
    "start_time": "2022-10-27T16:27:10.408Z"
   },
   {
    "duration": 6,
    "start_time": "2022-10-27T16:27:10.559Z"
   },
   {
    "duration": 279,
    "start_time": "2022-10-27T16:27:10.566Z"
   },
   {
    "duration": 6,
    "start_time": "2022-10-27T16:27:10.847Z"
   },
   {
    "duration": 199,
    "start_time": "2022-10-27T16:27:10.854Z"
   },
   {
    "duration": 5,
    "start_time": "2022-10-27T16:27:11.055Z"
   },
   {
    "duration": 187,
    "start_time": "2022-10-27T16:27:11.062Z"
   },
   {
    "duration": 6,
    "start_time": "2022-10-27T16:27:11.250Z"
   },
   {
    "duration": 224,
    "start_time": "2022-10-27T16:27:11.257Z"
   },
   {
    "duration": 5,
    "start_time": "2022-10-27T16:27:11.483Z"
   },
   {
    "duration": 217,
    "start_time": "2022-10-27T16:27:11.490Z"
   },
   {
    "duration": 15,
    "start_time": "2022-10-27T16:27:11.709Z"
   },
   {
    "duration": 187,
    "start_time": "2022-10-27T16:27:11.726Z"
   },
   {
    "duration": 9,
    "start_time": "2022-10-27T16:27:11.915Z"
   },
   {
    "duration": 205,
    "start_time": "2022-10-27T16:27:11.926Z"
   },
   {
    "duration": 5,
    "start_time": "2022-10-27T16:27:12.133Z"
   },
   {
    "duration": 198,
    "start_time": "2022-10-27T16:27:12.139Z"
   },
   {
    "duration": 5,
    "start_time": "2022-10-27T16:34:55.362Z"
   },
   {
    "duration": 6,
    "start_time": "2022-10-27T18:27:22.177Z"
   },
   {
    "duration": 196,
    "start_time": "2022-10-27T18:28:21.243Z"
   },
   {
    "duration": 5,
    "start_time": "2022-10-27T18:28:44.966Z"
   },
   {
    "duration": 196,
    "start_time": "2022-10-27T18:28:45.505Z"
   },
   {
    "duration": 6,
    "start_time": "2022-10-27T18:28:54.270Z"
   },
   {
    "duration": 186,
    "start_time": "2022-10-27T18:28:54.763Z"
   },
   {
    "duration": 196,
    "start_time": "2022-10-27T18:29:55.800Z"
   },
   {
    "duration": 6,
    "start_time": "2022-10-27T18:30:25.235Z"
   },
   {
    "duration": 189,
    "start_time": "2022-10-27T18:31:06.922Z"
   },
   {
    "duration": 1281,
    "start_time": "2022-10-28T08:54:57.235Z"
   },
   {
    "duration": 189,
    "start_time": "2022-10-28T08:54:58.518Z"
   },
   {
    "duration": 21,
    "start_time": "2022-10-28T08:54:58.708Z"
   },
   {
    "duration": 12,
    "start_time": "2022-10-28T08:54:58.730Z"
   },
   {
    "duration": 4,
    "start_time": "2022-10-28T08:54:58.744Z"
   },
   {
    "duration": 8,
    "start_time": "2022-10-28T08:54:58.749Z"
   },
   {
    "duration": 5,
    "start_time": "2022-10-28T08:54:58.758Z"
   },
   {
    "duration": 13,
    "start_time": "2022-10-28T08:54:58.764Z"
   },
   {
    "duration": 8,
    "start_time": "2022-10-28T08:54:58.778Z"
   },
   {
    "duration": 10,
    "start_time": "2022-10-28T08:54:58.787Z"
   },
   {
    "duration": 19,
    "start_time": "2022-10-28T08:54:58.798Z"
   },
   {
    "duration": 10,
    "start_time": "2022-10-28T08:54:58.819Z"
   },
   {
    "duration": 7,
    "start_time": "2022-10-28T08:54:58.831Z"
   },
   {
    "duration": 7,
    "start_time": "2022-10-28T08:54:58.841Z"
   },
   {
    "duration": 6,
    "start_time": "2022-10-28T08:54:58.849Z"
   },
   {
    "duration": 8,
    "start_time": "2022-10-28T08:54:58.857Z"
   },
   {
    "duration": 13,
    "start_time": "2022-10-28T08:54:58.867Z"
   },
   {
    "duration": 8,
    "start_time": "2022-10-28T08:54:58.882Z"
   },
   {
    "duration": 37,
    "start_time": "2022-10-28T08:54:58.891Z"
   },
   {
    "duration": 7,
    "start_time": "2022-10-28T08:54:58.930Z"
   },
   {
    "duration": 8,
    "start_time": "2022-10-28T08:54:58.939Z"
   },
   {
    "duration": 4,
    "start_time": "2022-10-28T08:54:58.949Z"
   },
   {
    "duration": 7,
    "start_time": "2022-10-28T08:54:58.954Z"
   },
   {
    "duration": 192,
    "start_time": "2022-10-28T08:54:58.962Z"
   },
   {
    "duration": 7,
    "start_time": "2022-10-28T08:54:59.156Z"
   },
   {
    "duration": 7,
    "start_time": "2022-10-28T08:54:59.164Z"
   },
   {
    "duration": 280,
    "start_time": "2022-10-28T08:54:59.173Z"
   },
   {
    "duration": 6,
    "start_time": "2022-10-28T08:54:59.454Z"
   },
   {
    "duration": 13,
    "start_time": "2022-10-28T08:54:59.461Z"
   },
   {
    "duration": 7,
    "start_time": "2022-10-28T08:54:59.475Z"
   },
   {
    "duration": 283,
    "start_time": "2022-10-28T08:54:59.483Z"
   },
   {
    "duration": 5,
    "start_time": "2022-10-28T08:54:59.767Z"
   },
   {
    "duration": 387,
    "start_time": "2022-10-28T08:54:59.774Z"
   },
   {
    "duration": 5,
    "start_time": "2022-10-28T08:55:00.162Z"
   },
   {
    "duration": 149,
    "start_time": "2022-10-28T08:55:00.168Z"
   },
   {
    "duration": 172,
    "start_time": "2022-10-28T08:55:00.318Z"
   },
   {
    "duration": 5,
    "start_time": "2022-10-28T08:55:00.492Z"
   },
   {
    "duration": 20,
    "start_time": "2022-10-28T08:55:00.498Z"
   },
   {
    "duration": 19,
    "start_time": "2022-10-28T08:55:00.519Z"
   },
   {
    "duration": 23,
    "start_time": "2022-10-28T08:55:00.539Z"
   },
   {
    "duration": 24,
    "start_time": "2022-10-28T08:55:00.565Z"
   },
   {
    "duration": 32,
    "start_time": "2022-10-28T08:55:00.591Z"
   },
   {
    "duration": 206,
    "start_time": "2022-10-28T08:55:00.625Z"
   },
   {
    "duration": 4,
    "start_time": "2022-10-28T08:55:00.832Z"
   },
   {
    "duration": 160,
    "start_time": "2022-10-28T08:55:00.838Z"
   },
   {
    "duration": 6,
    "start_time": "2022-10-28T08:55:01.000Z"
   },
   {
    "duration": 286,
    "start_time": "2022-10-28T08:55:01.008Z"
   },
   {
    "duration": 6,
    "start_time": "2022-10-28T08:55:01.295Z"
   },
   {
    "duration": 246,
    "start_time": "2022-10-28T08:55:01.303Z"
   },
   {
    "duration": 6,
    "start_time": "2022-10-28T08:55:01.550Z"
   },
   {
    "duration": 203,
    "start_time": "2022-10-28T08:55:01.557Z"
   },
   {
    "duration": 5,
    "start_time": "2022-10-28T08:55:01.762Z"
   },
   {
    "duration": 205,
    "start_time": "2022-10-28T08:55:01.769Z"
   },
   {
    "duration": 5,
    "start_time": "2022-10-28T08:55:01.975Z"
   },
   {
    "duration": 202,
    "start_time": "2022-10-28T08:55:01.982Z"
   },
   {
    "duration": 5,
    "start_time": "2022-10-28T08:55:02.186Z"
   },
   {
    "duration": 200,
    "start_time": "2022-10-28T08:55:02.192Z"
   },
   {
    "duration": 5,
    "start_time": "2022-10-28T08:55:02.393Z"
   },
   {
    "duration": 277,
    "start_time": "2022-10-28T08:55:02.400Z"
   },
   {
    "duration": 5,
    "start_time": "2022-10-28T08:55:02.679Z"
   },
   {
    "duration": 201,
    "start_time": "2022-10-28T08:55:02.685Z"
   },
   {
    "duration": 4,
    "start_time": "2022-10-28T08:55:02.888Z"
   },
   {
    "duration": 11,
    "start_time": "2022-10-28T08:55:02.893Z"
   },
   {
    "duration": 191,
    "start_time": "2022-10-28T08:55:02.905Z"
   },
   {
    "duration": 5,
    "start_time": "2022-10-28T08:55:03.098Z"
   },
   {
    "duration": 193,
    "start_time": "2022-10-28T08:55:03.104Z"
   },
   {
    "duration": 5,
    "start_time": "2022-10-28T08:55:03.299Z"
   },
   {
    "duration": 126,
    "start_time": "2022-10-28T08:55:03.305Z"
   },
   {
    "duration": 0,
    "start_time": "2022-10-28T08:55:03.432Z"
   },
   {
    "duration": 0,
    "start_time": "2022-10-28T08:55:03.434Z"
   },
   {
    "duration": 6,
    "start_time": "2022-10-28T08:55:28.543Z"
   },
   {
    "duration": 191,
    "start_time": "2022-10-28T08:55:29.030Z"
   },
   {
    "duration": 12,
    "start_time": "2022-10-28T08:56:29.207Z"
   },
   {
    "duration": 1057,
    "start_time": "2022-10-28T08:56:43.038Z"
   },
   {
    "duration": 49,
    "start_time": "2022-10-28T08:56:44.097Z"
   },
   {
    "duration": 21,
    "start_time": "2022-10-28T08:56:44.147Z"
   },
   {
    "duration": 26,
    "start_time": "2022-10-28T08:56:44.169Z"
   },
   {
    "duration": 2,
    "start_time": "2022-10-28T08:56:44.197Z"
   },
   {
    "duration": 25,
    "start_time": "2022-10-28T08:56:44.200Z"
   },
   {
    "duration": 9,
    "start_time": "2022-10-28T08:56:44.227Z"
   },
   {
    "duration": 30,
    "start_time": "2022-10-28T08:56:44.237Z"
   },
   {
    "duration": 20,
    "start_time": "2022-10-28T08:56:44.269Z"
   },
   {
    "duration": 15,
    "start_time": "2022-10-28T08:56:44.290Z"
   },
   {
    "duration": 15,
    "start_time": "2022-10-28T08:56:44.306Z"
   },
   {
    "duration": 9,
    "start_time": "2022-10-28T08:56:44.322Z"
   },
   {
    "duration": 5,
    "start_time": "2022-10-28T08:56:44.333Z"
   },
   {
    "duration": 8,
    "start_time": "2022-10-28T08:56:44.341Z"
   },
   {
    "duration": 5,
    "start_time": "2022-10-28T08:56:44.351Z"
   },
   {
    "duration": 23,
    "start_time": "2022-10-28T08:56:44.357Z"
   },
   {
    "duration": 16,
    "start_time": "2022-10-28T08:56:44.381Z"
   },
   {
    "duration": 7,
    "start_time": "2022-10-28T08:56:44.398Z"
   },
   {
    "duration": 16,
    "start_time": "2022-10-28T08:56:44.406Z"
   },
   {
    "duration": 7,
    "start_time": "2022-10-28T08:56:44.424Z"
   },
   {
    "duration": 12,
    "start_time": "2022-10-28T08:56:44.433Z"
   },
   {
    "duration": 4,
    "start_time": "2022-10-28T08:56:44.446Z"
   },
   {
    "duration": 6,
    "start_time": "2022-10-28T08:56:44.451Z"
   },
   {
    "duration": 177,
    "start_time": "2022-10-28T08:56:44.458Z"
   },
   {
    "duration": 7,
    "start_time": "2022-10-28T08:56:44.637Z"
   },
   {
    "duration": 10,
    "start_time": "2022-10-28T08:56:44.645Z"
   },
   {
    "duration": 259,
    "start_time": "2022-10-28T08:56:44.657Z"
   },
   {
    "duration": 5,
    "start_time": "2022-10-28T08:56:44.918Z"
   },
   {
    "duration": 11,
    "start_time": "2022-10-28T08:56:44.925Z"
   },
   {
    "duration": 5,
    "start_time": "2022-10-28T08:56:44.937Z"
   },
   {
    "duration": 260,
    "start_time": "2022-10-28T08:56:44.943Z"
   },
   {
    "duration": 5,
    "start_time": "2022-10-28T08:56:45.204Z"
   },
   {
    "duration": 291,
    "start_time": "2022-10-28T08:56:45.221Z"
   },
   {
    "duration": 5,
    "start_time": "2022-10-28T08:56:45.522Z"
   },
   {
    "duration": 149,
    "start_time": "2022-10-28T08:56:45.529Z"
   },
   {
    "duration": 144,
    "start_time": "2022-10-28T08:56:45.680Z"
   },
   {
    "duration": 5,
    "start_time": "2022-10-28T08:56:45.826Z"
   },
   {
    "duration": 9,
    "start_time": "2022-10-28T08:56:45.832Z"
   },
   {
    "duration": 11,
    "start_time": "2022-10-28T08:56:45.842Z"
   },
   {
    "duration": 10,
    "start_time": "2022-10-28T08:56:45.854Z"
   },
   {
    "duration": 8,
    "start_time": "2022-10-28T08:56:45.868Z"
   },
   {
    "duration": 7,
    "start_time": "2022-10-28T08:56:45.878Z"
   },
   {
    "duration": 212,
    "start_time": "2022-10-28T08:56:45.887Z"
   },
   {
    "duration": 6,
    "start_time": "2022-10-28T08:56:46.101Z"
   },
   {
    "duration": 167,
    "start_time": "2022-10-28T08:56:46.109Z"
   },
   {
    "duration": 5,
    "start_time": "2022-10-28T08:56:46.278Z"
   },
   {
    "duration": 253,
    "start_time": "2022-10-28T08:56:46.285Z"
   },
   {
    "duration": 6,
    "start_time": "2022-10-28T08:56:46.540Z"
   },
   {
    "duration": 210,
    "start_time": "2022-10-28T08:56:46.547Z"
   },
   {
    "duration": 6,
    "start_time": "2022-10-28T08:56:46.759Z"
   },
   {
    "duration": 186,
    "start_time": "2022-10-28T08:56:46.766Z"
   },
   {
    "duration": 5,
    "start_time": "2022-10-28T08:56:46.953Z"
   },
   {
    "duration": 198,
    "start_time": "2022-10-28T08:56:46.960Z"
   },
   {
    "duration": 5,
    "start_time": "2022-10-28T08:56:47.160Z"
   },
   {
    "duration": 203,
    "start_time": "2022-10-28T08:56:47.166Z"
   },
   {
    "duration": 6,
    "start_time": "2022-10-28T08:56:47.371Z"
   },
   {
    "duration": 199,
    "start_time": "2022-10-28T08:56:47.378Z"
   },
   {
    "duration": 5,
    "start_time": "2022-10-28T08:56:47.579Z"
   },
   {
    "duration": 207,
    "start_time": "2022-10-28T08:56:47.585Z"
   },
   {
    "duration": 6,
    "start_time": "2022-10-28T08:56:47.794Z"
   },
   {
    "duration": 208,
    "start_time": "2022-10-28T08:56:47.801Z"
   },
   {
    "duration": 4,
    "start_time": "2022-10-28T08:56:48.011Z"
   },
   {
    "duration": 5,
    "start_time": "2022-10-28T08:56:48.021Z"
   },
   {
    "duration": 195,
    "start_time": "2022-10-28T08:56:48.028Z"
   },
   {
    "duration": 5,
    "start_time": "2022-10-28T08:56:48.225Z"
   },
   {
    "duration": 184,
    "start_time": "2022-10-28T08:56:48.231Z"
   },
   {
    "duration": 8,
    "start_time": "2022-10-28T08:56:48.416Z"
   },
   {
    "duration": 182,
    "start_time": "2022-10-28T08:56:48.425Z"
   },
   {
    "duration": 5,
    "start_time": "2022-10-28T08:56:48.609Z"
   },
   {
    "duration": 263,
    "start_time": "2022-10-28T08:56:48.622Z"
   },
   {
    "duration": 89,
    "start_time": "2022-10-28T08:57:44.705Z"
   },
   {
    "duration": 6,
    "start_time": "2022-10-28T08:57:51.224Z"
   },
   {
    "duration": 212,
    "start_time": "2022-10-28T08:57:51.517Z"
   },
   {
    "duration": 11,
    "start_time": "2022-10-28T09:18:46.934Z"
   },
   {
    "duration": 3,
    "start_time": "2022-10-28T09:19:18.449Z"
   },
   {
    "duration": 5,
    "start_time": "2022-10-28T09:19:22.244Z"
   },
   {
    "duration": 10,
    "start_time": "2022-10-28T09:24:26.977Z"
   },
   {
    "duration": 83,
    "start_time": "2022-10-28T09:45:56.480Z"
   },
   {
    "duration": 1080,
    "start_time": "2022-10-28T09:47:28.418Z"
   },
   {
    "duration": 50,
    "start_time": "2022-10-28T09:47:29.500Z"
   },
   {
    "duration": 24,
    "start_time": "2022-10-28T09:47:29.551Z"
   },
   {
    "duration": 13,
    "start_time": "2022-10-28T09:47:29.578Z"
   },
   {
    "duration": 3,
    "start_time": "2022-10-28T09:47:29.592Z"
   },
   {
    "duration": 9,
    "start_time": "2022-10-28T09:47:29.596Z"
   },
   {
    "duration": 17,
    "start_time": "2022-10-28T09:47:29.606Z"
   },
   {
    "duration": 13,
    "start_time": "2022-10-28T09:47:29.625Z"
   },
   {
    "duration": 9,
    "start_time": "2022-10-28T09:47:29.639Z"
   },
   {
    "duration": 7,
    "start_time": "2022-10-28T09:47:29.651Z"
   },
   {
    "duration": 7,
    "start_time": "2022-10-28T09:47:29.659Z"
   },
   {
    "duration": 10,
    "start_time": "2022-10-28T09:47:29.667Z"
   },
   {
    "duration": 4,
    "start_time": "2022-10-28T09:47:29.678Z"
   },
   {
    "duration": 12,
    "start_time": "2022-10-28T09:47:29.684Z"
   },
   {
    "duration": 9,
    "start_time": "2022-10-28T09:47:29.697Z"
   },
   {
    "duration": 7,
    "start_time": "2022-10-28T09:47:29.722Z"
   },
   {
    "duration": 15,
    "start_time": "2022-10-28T09:47:29.730Z"
   },
   {
    "duration": 7,
    "start_time": "2022-10-28T09:47:29.746Z"
   },
   {
    "duration": 13,
    "start_time": "2022-10-28T09:47:29.755Z"
   },
   {
    "duration": 8,
    "start_time": "2022-10-28T09:47:29.769Z"
   },
   {
    "duration": 9,
    "start_time": "2022-10-28T09:47:29.778Z"
   },
   {
    "duration": 3,
    "start_time": "2022-10-28T09:47:29.788Z"
   },
   {
    "duration": 32,
    "start_time": "2022-10-28T09:47:29.793Z"
   },
   {
    "duration": 184,
    "start_time": "2022-10-28T09:47:29.826Z"
   },
   {
    "duration": 15,
    "start_time": "2022-10-28T09:47:30.011Z"
   },
   {
    "duration": 16,
    "start_time": "2022-10-28T09:47:30.028Z"
   },
   {
    "duration": 266,
    "start_time": "2022-10-28T09:47:30.046Z"
   },
   {
    "duration": 6,
    "start_time": "2022-10-28T09:47:30.316Z"
   },
   {
    "duration": 18,
    "start_time": "2022-10-28T09:47:30.323Z"
   },
   {
    "duration": 14,
    "start_time": "2022-10-28T09:47:30.342Z"
   },
   {
    "duration": 311,
    "start_time": "2022-10-28T09:47:30.358Z"
   },
   {
    "duration": 5,
    "start_time": "2022-10-28T09:47:30.671Z"
   },
   {
    "duration": 353,
    "start_time": "2022-10-28T09:47:30.678Z"
   },
   {
    "duration": 6,
    "start_time": "2022-10-28T09:47:31.033Z"
   },
   {
    "duration": 169,
    "start_time": "2022-10-28T09:47:31.041Z"
   },
   {
    "duration": 155,
    "start_time": "2022-10-28T09:47:31.213Z"
   },
   {
    "duration": 6,
    "start_time": "2022-10-28T09:47:31.370Z"
   },
   {
    "duration": 26,
    "start_time": "2022-10-28T09:47:31.378Z"
   },
   {
    "duration": 11,
    "start_time": "2022-10-28T09:47:31.405Z"
   },
   {
    "duration": 14,
    "start_time": "2022-10-28T09:47:31.418Z"
   },
   {
    "duration": 17,
    "start_time": "2022-10-28T09:47:31.433Z"
   },
   {
    "duration": 15,
    "start_time": "2022-10-28T09:47:31.451Z"
   },
   {
    "duration": 162,
    "start_time": "2022-10-28T09:47:31.468Z"
   },
   {
    "duration": 4,
    "start_time": "2022-10-28T09:47:31.632Z"
   },
   {
    "duration": 154,
    "start_time": "2022-10-28T09:47:31.637Z"
   },
   {
    "duration": 5,
    "start_time": "2022-10-28T09:47:31.793Z"
   },
   {
    "duration": 276,
    "start_time": "2022-10-28T09:47:31.800Z"
   },
   {
    "duration": 6,
    "start_time": "2022-10-28T09:47:32.078Z"
   },
   {
    "duration": 215,
    "start_time": "2022-10-28T09:47:32.085Z"
   },
   {
    "duration": 6,
    "start_time": "2022-10-28T09:47:32.301Z"
   },
   {
    "duration": 201,
    "start_time": "2022-10-28T09:47:32.308Z"
   },
   {
    "duration": 12,
    "start_time": "2022-10-28T09:47:32.511Z"
   },
   {
    "duration": 213,
    "start_time": "2022-10-28T09:47:32.524Z"
   },
   {
    "duration": 6,
    "start_time": "2022-10-28T09:47:32.739Z"
   },
   {
    "duration": 214,
    "start_time": "2022-10-28T09:47:32.746Z"
   },
   {
    "duration": 6,
    "start_time": "2022-10-28T09:47:32.961Z"
   },
   {
    "duration": 207,
    "start_time": "2022-10-28T09:47:32.969Z"
   },
   {
    "duration": 6,
    "start_time": "2022-10-28T09:47:33.177Z"
   },
   {
    "duration": 238,
    "start_time": "2022-10-28T09:47:33.185Z"
   },
   {
    "duration": 7,
    "start_time": "2022-10-28T09:47:33.425Z"
   },
   {
    "duration": 220,
    "start_time": "2022-10-28T09:47:33.434Z"
   },
   {
    "duration": 6,
    "start_time": "2022-10-28T09:47:33.656Z"
   },
   {
    "duration": 8,
    "start_time": "2022-10-28T09:47:33.663Z"
   },
   {
    "duration": 201,
    "start_time": "2022-10-28T09:47:33.672Z"
   },
   {
    "duration": 6,
    "start_time": "2022-10-28T09:47:33.874Z"
   },
   {
    "duration": 186,
    "start_time": "2022-10-28T09:47:33.882Z"
   },
   {
    "duration": 5,
    "start_time": "2022-10-28T09:47:34.070Z"
   },
   {
    "duration": 196,
    "start_time": "2022-10-28T09:47:34.076Z"
   },
   {
    "duration": 5,
    "start_time": "2022-10-28T09:47:34.273Z"
   },
   {
    "duration": 270,
    "start_time": "2022-10-28T09:47:34.280Z"
   },
   {
    "duration": 5,
    "start_time": "2022-10-28T09:47:34.551Z"
   },
   {
    "duration": 13,
    "start_time": "2022-10-28T09:47:34.557Z"
   },
   {
    "duration": 1031,
    "start_time": "2022-10-28T10:18:34.146Z"
   },
   {
    "duration": 52,
    "start_time": "2022-10-28T10:18:35.179Z"
   },
   {
    "duration": 20,
    "start_time": "2022-10-28T10:18:35.233Z"
   },
   {
    "duration": 12,
    "start_time": "2022-10-28T10:18:35.255Z"
   },
   {
    "duration": 24,
    "start_time": "2022-10-28T10:18:35.269Z"
   },
   {
    "duration": 19,
    "start_time": "2022-10-28T10:18:35.294Z"
   },
   {
    "duration": 29,
    "start_time": "2022-10-28T10:18:35.315Z"
   },
   {
    "duration": 75,
    "start_time": "2022-10-28T10:18:35.345Z"
   },
   {
    "duration": 17,
    "start_time": "2022-10-28T10:18:35.422Z"
   },
   {
    "duration": 32,
    "start_time": "2022-10-28T10:18:35.440Z"
   },
   {
    "duration": 26,
    "start_time": "2022-10-28T10:18:35.474Z"
   },
   {
    "duration": 110,
    "start_time": "2022-10-28T10:18:35.501Z"
   },
   {
    "duration": 46,
    "start_time": "2022-10-28T10:18:35.613Z"
   },
   {
    "duration": 19,
    "start_time": "2022-10-28T10:18:35.662Z"
   },
   {
    "duration": 22,
    "start_time": "2022-10-28T10:18:35.683Z"
   },
   {
    "duration": 29,
    "start_time": "2022-10-28T10:18:35.706Z"
   },
   {
    "duration": 32,
    "start_time": "2022-10-28T10:18:35.736Z"
   },
   {
    "duration": 32,
    "start_time": "2022-10-28T10:18:35.769Z"
   },
   {
    "duration": 25,
    "start_time": "2022-10-28T10:18:35.803Z"
   },
   {
    "duration": 23,
    "start_time": "2022-10-28T10:18:35.829Z"
   },
   {
    "duration": 24,
    "start_time": "2022-10-28T10:18:35.854Z"
   },
   {
    "duration": 18,
    "start_time": "2022-10-28T10:18:35.879Z"
   },
   {
    "duration": 17,
    "start_time": "2022-10-28T10:18:35.899Z"
   },
   {
    "duration": 210,
    "start_time": "2022-10-28T10:18:35.917Z"
   },
   {
    "duration": 9,
    "start_time": "2022-10-28T10:18:36.128Z"
   },
   {
    "duration": 19,
    "start_time": "2022-10-28T10:18:36.139Z"
   },
   {
    "duration": 268,
    "start_time": "2022-10-28T10:18:36.160Z"
   },
   {
    "duration": 6,
    "start_time": "2022-10-28T10:18:36.429Z"
   },
   {
    "duration": 48,
    "start_time": "2022-10-28T10:18:36.436Z"
   },
   {
    "duration": 30,
    "start_time": "2022-10-28T10:18:36.486Z"
   },
   {
    "duration": 302,
    "start_time": "2022-10-28T10:18:36.517Z"
   },
   {
    "duration": 6,
    "start_time": "2022-10-28T10:18:36.820Z"
   },
   {
    "duration": 302,
    "start_time": "2022-10-28T10:18:36.828Z"
   },
   {
    "duration": 4,
    "start_time": "2022-10-28T10:18:37.132Z"
   },
   {
    "duration": 146,
    "start_time": "2022-10-28T10:18:37.138Z"
   },
   {
    "duration": 145,
    "start_time": "2022-10-28T10:18:37.286Z"
   },
   {
    "duration": 5,
    "start_time": "2022-10-28T10:18:37.432Z"
   },
   {
    "duration": 38,
    "start_time": "2022-10-28T10:18:37.438Z"
   },
   {
    "duration": 33,
    "start_time": "2022-10-28T10:18:37.477Z"
   },
   {
    "duration": 21,
    "start_time": "2022-10-28T10:18:37.512Z"
   },
   {
    "duration": 38,
    "start_time": "2022-10-28T10:18:37.536Z"
   },
   {
    "duration": 25,
    "start_time": "2022-10-28T10:18:37.575Z"
   },
   {
    "duration": 175,
    "start_time": "2022-10-28T10:18:37.602Z"
   },
   {
    "duration": 4,
    "start_time": "2022-10-28T10:18:37.778Z"
   },
   {
    "duration": 179,
    "start_time": "2022-10-28T10:18:37.784Z"
   },
   {
    "duration": 5,
    "start_time": "2022-10-28T10:18:37.965Z"
   },
   {
    "duration": 276,
    "start_time": "2022-10-28T10:18:37.972Z"
   },
   {
    "duration": 5,
    "start_time": "2022-10-28T10:18:38.250Z"
   },
   {
    "duration": 209,
    "start_time": "2022-10-28T10:18:38.257Z"
   },
   {
    "duration": 5,
    "start_time": "2022-10-28T10:18:38.468Z"
   },
   {
    "duration": 182,
    "start_time": "2022-10-28T10:18:38.475Z"
   },
   {
    "duration": 6,
    "start_time": "2022-10-28T10:18:38.658Z"
   },
   {
    "duration": 200,
    "start_time": "2022-10-28T10:18:38.665Z"
   },
   {
    "duration": 6,
    "start_time": "2022-10-28T10:18:38.867Z"
   },
   {
    "duration": 196,
    "start_time": "2022-10-28T10:18:38.874Z"
   },
   {
    "duration": 6,
    "start_time": "2022-10-28T10:18:39.072Z"
   },
   {
    "duration": 182,
    "start_time": "2022-10-28T10:18:39.079Z"
   },
   {
    "duration": 6,
    "start_time": "2022-10-28T10:18:39.262Z"
   },
   {
    "duration": 207,
    "start_time": "2022-10-28T10:18:39.269Z"
   },
   {
    "duration": 6,
    "start_time": "2022-10-28T10:18:39.478Z"
   },
   {
    "duration": 214,
    "start_time": "2022-10-28T10:18:39.485Z"
   },
   {
    "duration": 4,
    "start_time": "2022-10-28T10:18:39.701Z"
   },
   {
    "duration": 14,
    "start_time": "2022-10-28T10:18:39.707Z"
   },
   {
    "duration": 212,
    "start_time": "2022-10-28T10:18:39.723Z"
   },
   {
    "duration": 5,
    "start_time": "2022-10-28T10:18:39.936Z"
   },
   {
    "duration": 194,
    "start_time": "2022-10-28T10:18:39.943Z"
   },
   {
    "duration": 5,
    "start_time": "2022-10-28T10:18:40.139Z"
   },
   {
    "duration": 189,
    "start_time": "2022-10-28T10:18:40.145Z"
   },
   {
    "duration": 6,
    "start_time": "2022-10-28T10:18:40.335Z"
   },
   {
    "duration": 286,
    "start_time": "2022-10-28T10:18:40.343Z"
   },
   {
    "duration": 6,
    "start_time": "2022-10-28T10:18:40.631Z"
   },
   {
    "duration": 41,
    "start_time": "2022-10-28T10:18:40.639Z"
   },
   {
    "duration": 1076,
    "start_time": "2022-10-28T10:24:46.214Z"
   },
   {
    "duration": 52,
    "start_time": "2022-10-28T10:24:47.292Z"
   },
   {
    "duration": 26,
    "start_time": "2022-10-28T10:24:47.346Z"
   },
   {
    "duration": 13,
    "start_time": "2022-10-28T10:24:47.374Z"
   },
   {
    "duration": 3,
    "start_time": "2022-10-28T10:24:47.389Z"
   },
   {
    "duration": 12,
    "start_time": "2022-10-28T10:24:47.393Z"
   },
   {
    "duration": 17,
    "start_time": "2022-10-28T10:24:47.406Z"
   },
   {
    "duration": 11,
    "start_time": "2022-10-28T10:24:47.424Z"
   },
   {
    "duration": 7,
    "start_time": "2022-10-28T10:24:47.436Z"
   },
   {
    "duration": 8,
    "start_time": "2022-10-28T10:24:47.446Z"
   },
   {
    "duration": 12,
    "start_time": "2022-10-28T10:24:47.457Z"
   },
   {
    "duration": 7,
    "start_time": "2022-10-28T10:24:47.470Z"
   },
   {
    "duration": 5,
    "start_time": "2022-10-28T10:24:47.479Z"
   },
   {
    "duration": 9,
    "start_time": "2022-10-28T10:24:47.485Z"
   },
   {
    "duration": 6,
    "start_time": "2022-10-28T10:24:47.495Z"
   },
   {
    "duration": 7,
    "start_time": "2022-10-28T10:24:47.522Z"
   },
   {
    "duration": 13,
    "start_time": "2022-10-28T10:24:47.530Z"
   },
   {
    "duration": 7,
    "start_time": "2022-10-28T10:24:47.544Z"
   },
   {
    "duration": 12,
    "start_time": "2022-10-28T10:24:47.552Z"
   },
   {
    "duration": 7,
    "start_time": "2022-10-28T10:24:47.565Z"
   },
   {
    "duration": 7,
    "start_time": "2022-10-28T10:24:47.573Z"
   },
   {
    "duration": 4,
    "start_time": "2022-10-28T10:24:47.581Z"
   },
   {
    "duration": 36,
    "start_time": "2022-10-28T10:24:47.586Z"
   },
   {
    "duration": 165,
    "start_time": "2022-10-28T10:24:47.624Z"
   },
   {
    "duration": 7,
    "start_time": "2022-10-28T10:24:47.791Z"
   },
   {
    "duration": 4,
    "start_time": "2022-10-28T10:24:47.800Z"
   },
   {
    "duration": 262,
    "start_time": "2022-10-28T10:24:47.806Z"
   },
   {
    "duration": 6,
    "start_time": "2022-10-28T10:24:48.071Z"
   },
   {
    "duration": 13,
    "start_time": "2022-10-28T10:24:48.078Z"
   },
   {
    "duration": 5,
    "start_time": "2022-10-28T10:24:48.092Z"
   },
   {
    "duration": 259,
    "start_time": "2022-10-28T10:24:48.099Z"
   },
   {
    "duration": 5,
    "start_time": "2022-10-28T10:24:48.359Z"
   },
   {
    "duration": 296,
    "start_time": "2022-10-28T10:24:48.366Z"
   },
   {
    "duration": 5,
    "start_time": "2022-10-28T10:24:48.663Z"
   },
   {
    "duration": 146,
    "start_time": "2022-10-28T10:24:48.670Z"
   },
   {
    "duration": 138,
    "start_time": "2022-10-28T10:24:48.817Z"
   },
   {
    "duration": 5,
    "start_time": "2022-10-28T10:24:48.956Z"
   },
   {
    "duration": 6,
    "start_time": "2022-10-28T10:24:48.962Z"
   },
   {
    "duration": 10,
    "start_time": "2022-10-28T10:24:48.970Z"
   },
   {
    "duration": 11,
    "start_time": "2022-10-28T10:24:48.981Z"
   },
   {
    "duration": 9,
    "start_time": "2022-10-28T10:24:48.993Z"
   },
   {
    "duration": 8,
    "start_time": "2022-10-28T10:24:49.021Z"
   },
   {
    "duration": 166,
    "start_time": "2022-10-28T10:24:49.031Z"
   },
   {
    "duration": 4,
    "start_time": "2022-10-28T10:24:49.198Z"
   },
   {
    "duration": 145,
    "start_time": "2022-10-28T10:24:49.205Z"
   },
   {
    "duration": 6,
    "start_time": "2022-10-28T10:24:49.352Z"
   },
   {
    "duration": 285,
    "start_time": "2022-10-28T10:24:49.359Z"
   },
   {
    "duration": 5,
    "start_time": "2022-10-28T10:24:49.646Z"
   },
   {
    "duration": 216,
    "start_time": "2022-10-28T10:24:49.653Z"
   },
   {
    "duration": 6,
    "start_time": "2022-10-28T10:24:49.871Z"
   },
   {
    "duration": 206,
    "start_time": "2022-10-28T10:24:49.878Z"
   },
   {
    "duration": 5,
    "start_time": "2022-10-28T10:24:50.086Z"
   },
   {
    "duration": 231,
    "start_time": "2022-10-28T10:24:50.093Z"
   },
   {
    "duration": 6,
    "start_time": "2022-10-28T10:24:50.325Z"
   },
   {
    "duration": 214,
    "start_time": "2022-10-28T10:24:50.332Z"
   },
   {
    "duration": 7,
    "start_time": "2022-10-28T10:24:50.547Z"
   },
   {
    "duration": 221,
    "start_time": "2022-10-28T10:24:50.555Z"
   },
   {
    "duration": 6,
    "start_time": "2022-10-28T10:24:50.778Z"
   },
   {
    "duration": 227,
    "start_time": "2022-10-28T10:24:50.785Z"
   },
   {
    "duration": 11,
    "start_time": "2022-10-28T10:24:51.014Z"
   },
   {
    "duration": 246,
    "start_time": "2022-10-28T10:24:51.026Z"
   },
   {
    "duration": 5,
    "start_time": "2022-10-28T10:24:51.273Z"
   },
   {
    "duration": 15,
    "start_time": "2022-10-28T10:24:51.280Z"
   },
   {
    "duration": 232,
    "start_time": "2022-10-28T10:24:51.297Z"
   },
   {
    "duration": 6,
    "start_time": "2022-10-28T10:24:51.531Z"
   },
   {
    "duration": 221,
    "start_time": "2022-10-28T10:24:51.538Z"
   },
   {
    "duration": 6,
    "start_time": "2022-10-28T10:24:51.760Z"
   },
   {
    "duration": 209,
    "start_time": "2022-10-28T10:24:51.767Z"
   },
   {
    "duration": 5,
    "start_time": "2022-10-28T10:24:51.978Z"
   },
   {
    "duration": 305,
    "start_time": "2022-10-28T10:24:51.985Z"
   },
   {
    "duration": 5,
    "start_time": "2022-10-28T10:24:52.292Z"
   },
   {
    "duration": 25,
    "start_time": "2022-10-28T10:24:52.299Z"
   },
   {
    "duration": 79,
    "start_time": "2022-10-28T10:55:54.456Z"
   },
   {
    "duration": 53,
    "start_time": "2022-10-28T11:30:49.381Z"
   },
   {
    "duration": 50,
    "start_time": "2022-10-28T12:55:44.005Z"
   },
   {
    "duration": 1303,
    "start_time": "2022-10-28T12:55:53.765Z"
   },
   {
    "duration": 533,
    "start_time": "2022-10-28T12:55:55.070Z"
   },
   {
    "duration": 20,
    "start_time": "2022-10-28T12:55:55.604Z"
   },
   {
    "duration": 14,
    "start_time": "2022-10-28T12:55:55.626Z"
   },
   {
    "duration": 3,
    "start_time": "2022-10-28T12:55:55.642Z"
   },
   {
    "duration": 6,
    "start_time": "2022-10-28T12:55:55.647Z"
   },
   {
    "duration": 6,
    "start_time": "2022-10-28T12:55:55.655Z"
   },
   {
    "duration": 12,
    "start_time": "2022-10-28T12:55:55.663Z"
   },
   {
    "duration": 34,
    "start_time": "2022-10-28T12:55:55.678Z"
   },
   {
    "duration": 11,
    "start_time": "2022-10-28T12:55:55.718Z"
   },
   {
    "duration": 6,
    "start_time": "2022-10-28T12:55:55.731Z"
   },
   {
    "duration": 11,
    "start_time": "2022-10-28T12:55:55.739Z"
   },
   {
    "duration": 15,
    "start_time": "2022-10-28T12:55:55.752Z"
   },
   {
    "duration": 20,
    "start_time": "2022-10-28T12:55:55.768Z"
   },
   {
    "duration": 21,
    "start_time": "2022-10-28T12:55:55.790Z"
   },
   {
    "duration": 19,
    "start_time": "2022-10-28T12:55:55.813Z"
   },
   {
    "duration": 19,
    "start_time": "2022-10-28T12:55:55.834Z"
   },
   {
    "duration": 8,
    "start_time": "2022-10-28T12:55:55.855Z"
   },
   {
    "duration": 17,
    "start_time": "2022-10-28T12:55:55.865Z"
   },
   {
    "duration": 7,
    "start_time": "2022-10-28T12:55:55.884Z"
   },
   {
    "duration": 11,
    "start_time": "2022-10-28T12:55:55.911Z"
   },
   {
    "duration": 7,
    "start_time": "2022-10-28T12:55:55.924Z"
   },
   {
    "duration": 6,
    "start_time": "2022-10-28T12:55:55.933Z"
   },
   {
    "duration": 180,
    "start_time": "2022-10-28T12:55:55.941Z"
   },
   {
    "duration": 8,
    "start_time": "2022-10-28T12:55:56.123Z"
   },
   {
    "duration": 9,
    "start_time": "2022-10-28T12:55:56.133Z"
   },
   {
    "duration": 276,
    "start_time": "2022-10-28T12:55:56.143Z"
   },
   {
    "duration": 6,
    "start_time": "2022-10-28T12:55:56.423Z"
   },
   {
    "duration": 26,
    "start_time": "2022-10-28T12:55:56.430Z"
   },
   {
    "duration": 18,
    "start_time": "2022-10-28T12:55:56.457Z"
   },
   {
    "duration": 297,
    "start_time": "2022-10-28T12:55:56.477Z"
   },
   {
    "duration": 7,
    "start_time": "2022-10-28T12:55:56.776Z"
   },
   {
    "duration": 365,
    "start_time": "2022-10-28T12:55:56.784Z"
   },
   {
    "duration": 5,
    "start_time": "2022-10-28T12:55:57.151Z"
   },
   {
    "duration": 179,
    "start_time": "2022-10-28T12:55:57.157Z"
   },
   {
    "duration": 192,
    "start_time": "2022-10-28T12:55:57.337Z"
   },
   {
    "duration": 6,
    "start_time": "2022-10-28T12:55:57.532Z"
   },
   {
    "duration": 23,
    "start_time": "2022-10-28T12:55:57.540Z"
   },
   {
    "duration": 19,
    "start_time": "2022-10-28T12:55:57.565Z"
   },
   {
    "duration": 35,
    "start_time": "2022-10-28T12:55:57.585Z"
   },
   {
    "duration": 18,
    "start_time": "2022-10-28T12:55:57.621Z"
   },
   {
    "duration": 15,
    "start_time": "2022-10-28T12:55:57.641Z"
   },
   {
    "duration": 225,
    "start_time": "2022-10-28T12:55:57.658Z"
   },
   {
    "duration": 5,
    "start_time": "2022-10-28T12:55:57.885Z"
   },
   {
    "duration": 191,
    "start_time": "2022-10-28T12:55:57.892Z"
   },
   {
    "duration": 7,
    "start_time": "2022-10-28T12:55:58.085Z"
   },
   {
    "duration": 329,
    "start_time": "2022-10-28T12:55:58.094Z"
   },
   {
    "duration": 6,
    "start_time": "2022-10-28T12:55:58.425Z"
   },
   {
    "duration": 212,
    "start_time": "2022-10-28T12:55:58.432Z"
   },
   {
    "duration": 6,
    "start_time": "2022-10-28T12:55:58.646Z"
   },
   {
    "duration": 207,
    "start_time": "2022-10-28T12:55:58.653Z"
   },
   {
    "duration": 6,
    "start_time": "2022-10-28T12:55:58.862Z"
   },
   {
    "duration": 226,
    "start_time": "2022-10-28T12:55:58.870Z"
   },
   {
    "duration": 22,
    "start_time": "2022-10-28T12:55:59.098Z"
   },
   {
    "duration": 219,
    "start_time": "2022-10-28T12:55:59.122Z"
   },
   {
    "duration": 6,
    "start_time": "2022-10-28T12:55:59.343Z"
   },
   {
    "duration": 206,
    "start_time": "2022-10-28T12:55:59.351Z"
   },
   {
    "duration": 6,
    "start_time": "2022-10-28T12:55:59.559Z"
   },
   {
    "duration": 218,
    "start_time": "2022-10-28T12:55:59.567Z"
   },
   {
    "duration": 6,
    "start_time": "2022-10-28T12:55:59.787Z"
   },
   {
    "duration": 230,
    "start_time": "2022-10-28T12:55:59.794Z"
   },
   {
    "duration": 5,
    "start_time": "2022-10-28T12:56:00.025Z"
   },
   {
    "duration": 16,
    "start_time": "2022-10-28T12:56:00.031Z"
   },
   {
    "duration": 231,
    "start_time": "2022-10-28T12:56:00.049Z"
   },
   {
    "duration": 6,
    "start_time": "2022-10-28T12:56:00.282Z"
   },
   {
    "duration": 225,
    "start_time": "2022-10-28T12:56:00.290Z"
   },
   {
    "duration": 8,
    "start_time": "2022-10-28T12:56:00.520Z"
   },
   {
    "duration": 233,
    "start_time": "2022-10-28T12:56:00.530Z"
   },
   {
    "duration": 6,
    "start_time": "2022-10-28T12:56:00.766Z"
   },
   {
    "duration": 352,
    "start_time": "2022-10-28T12:56:00.773Z"
   },
   {
    "duration": 5,
    "start_time": "2022-10-28T12:56:01.127Z"
   },
   {
    "duration": 17,
    "start_time": "2022-10-28T12:56:01.134Z"
   },
   {
    "duration": 68,
    "start_time": "2022-10-28T13:10:58.229Z"
   },
   {
    "duration": 124,
    "start_time": "2022-10-28T13:11:04.070Z"
   },
   {
    "duration": 5,
    "start_time": "2022-10-28T13:12:12.229Z"
   },
   {
    "duration": 105,
    "start_time": "2022-10-28T13:12:55.946Z"
   },
   {
    "duration": 22,
    "start_time": "2022-10-28T13:13:18.462Z"
   },
   {
    "duration": 171,
    "start_time": "2022-10-28T13:14:11.370Z"
   },
   {
    "duration": 176,
    "start_time": "2022-10-28T13:14:56.992Z"
   },
   {
    "duration": 7,
    "start_time": "2022-10-28T13:24:03.853Z"
   },
   {
    "duration": 5,
    "start_time": "2022-10-28T13:24:28.878Z"
   },
   {
    "duration": 6,
    "start_time": "2022-10-28T13:26:17.281Z"
   },
   {
    "duration": 6,
    "start_time": "2022-10-28T13:26:35.563Z"
   },
   {
    "duration": 185,
    "start_time": "2022-10-28T13:26:59.392Z"
   },
   {
    "duration": 176,
    "start_time": "2022-10-28T13:29:40.689Z"
   },
   {
    "duration": 160,
    "start_time": "2022-10-28T13:29:44.143Z"
   },
   {
    "duration": 28,
    "start_time": "2022-10-28T13:38:53.356Z"
   },
   {
    "duration": 261,
    "start_time": "2022-10-28T13:38:53.873Z"
   },
   {
    "duration": 5,
    "start_time": "2022-10-28T13:39:10.974Z"
   },
   {
    "duration": 260,
    "start_time": "2022-10-28T13:39:13.180Z"
   },
   {
    "duration": 4,
    "start_time": "2022-10-28T13:39:31.331Z"
   },
   {
    "duration": 51,
    "start_time": "2022-10-28T13:39:31.641Z"
   },
   {
    "duration": 12,
    "start_time": "2022-10-28T13:39:31.809Z"
   },
   {
    "duration": 13,
    "start_time": "2022-10-28T13:39:32.124Z"
   },
   {
    "duration": 4,
    "start_time": "2022-10-28T13:39:32.449Z"
   },
   {
    "duration": 5,
    "start_time": "2022-10-28T13:39:32.631Z"
   },
   {
    "duration": 4,
    "start_time": "2022-10-28T13:39:32.976Z"
   },
   {
    "duration": 9,
    "start_time": "2022-10-28T13:39:33.610Z"
   },
   {
    "duration": 9,
    "start_time": "2022-10-28T13:39:33.952Z"
   },
   {
    "duration": 6,
    "start_time": "2022-10-28T13:39:34.297Z"
   },
   {
    "duration": 6,
    "start_time": "2022-10-28T13:39:34.461Z"
   },
   {
    "duration": 7,
    "start_time": "2022-10-28T13:39:34.802Z"
   },
   {
    "duration": 4,
    "start_time": "2022-10-28T13:39:35.164Z"
   },
   {
    "duration": 5,
    "start_time": "2022-10-28T13:39:35.504Z"
   },
   {
    "duration": 5,
    "start_time": "2022-10-28T13:39:35.699Z"
   },
   {
    "duration": 8,
    "start_time": "2022-10-28T13:39:36.064Z"
   },
   {
    "duration": 15,
    "start_time": "2022-10-28T13:39:36.262Z"
   },
   {
    "duration": 8,
    "start_time": "2022-10-28T13:39:36.429Z"
   },
   {
    "duration": 13,
    "start_time": "2022-10-28T13:39:36.775Z"
   },
   {
    "duration": 12,
    "start_time": "2022-10-28T13:39:37.294Z"
   },
   {
    "duration": 11,
    "start_time": "2022-10-28T13:39:37.467Z"
   },
   {
    "duration": 5,
    "start_time": "2022-10-28T13:39:37.648Z"
   },
   {
    "duration": 6,
    "start_time": "2022-10-28T13:39:38.167Z"
   },
   {
    "duration": 164,
    "start_time": "2022-10-28T13:39:39.009Z"
   },
   {
    "duration": 10,
    "start_time": "2022-10-28T13:39:39.809Z"
   },
   {
    "duration": 6,
    "start_time": "2022-10-28T13:39:40.023Z"
   },
   {
    "duration": 7,
    "start_time": "2022-10-28T13:39:40.232Z"
   },
   {
    "duration": 260,
    "start_time": "2022-10-28T13:39:40.710Z"
   },
   {
    "duration": 6,
    "start_time": "2022-10-28T13:40:04.999Z"
   },
   {
    "duration": 1159,
    "start_time": "2022-10-28T13:44:27.260Z"
   },
   {
    "duration": 53,
    "start_time": "2022-10-28T13:44:28.421Z"
   },
   {
    "duration": 17,
    "start_time": "2022-10-28T13:44:28.476Z"
   },
   {
    "duration": 27,
    "start_time": "2022-10-28T13:44:28.494Z"
   },
   {
    "duration": 3,
    "start_time": "2022-10-28T13:44:28.524Z"
   },
   {
    "duration": 17,
    "start_time": "2022-10-28T13:44:28.529Z"
   },
   {
    "duration": 15,
    "start_time": "2022-10-28T13:44:28.548Z"
   },
   {
    "duration": 16,
    "start_time": "2022-10-28T13:44:28.565Z"
   },
   {
    "duration": 11,
    "start_time": "2022-10-28T13:44:28.583Z"
   },
   {
    "duration": 14,
    "start_time": "2022-10-28T13:44:28.596Z"
   },
   {
    "duration": 26,
    "start_time": "2022-10-28T13:44:28.612Z"
   },
   {
    "duration": 19,
    "start_time": "2022-10-28T13:44:28.640Z"
   },
   {
    "duration": 12,
    "start_time": "2022-10-28T13:44:28.661Z"
   },
   {
    "duration": 11,
    "start_time": "2022-10-28T13:44:28.677Z"
   },
   {
    "duration": 16,
    "start_time": "2022-10-28T13:44:28.690Z"
   },
   {
    "duration": 21,
    "start_time": "2022-10-28T13:44:28.707Z"
   },
   {
    "duration": 18,
    "start_time": "2022-10-28T13:44:28.729Z"
   },
   {
    "duration": 13,
    "start_time": "2022-10-28T13:44:28.749Z"
   },
   {
    "duration": 23,
    "start_time": "2022-10-28T13:44:28.764Z"
   },
   {
    "duration": 11,
    "start_time": "2022-10-28T13:44:28.788Z"
   },
   {
    "duration": 18,
    "start_time": "2022-10-28T13:44:28.801Z"
   },
   {
    "duration": 6,
    "start_time": "2022-10-28T13:44:28.820Z"
   },
   {
    "duration": 30,
    "start_time": "2022-10-28T13:44:28.827Z"
   },
   {
    "duration": 204,
    "start_time": "2022-10-28T13:44:28.859Z"
   },
   {
    "duration": 7,
    "start_time": "2022-10-28T13:44:29.064Z"
   },
   {
    "duration": 18,
    "start_time": "2022-10-28T13:44:29.073Z"
   },
   {
    "duration": 14,
    "start_time": "2022-10-28T13:44:29.093Z"
   },
   {
    "duration": 275,
    "start_time": "2022-10-28T13:44:29.109Z"
   },
   {
    "duration": 6,
    "start_time": "2022-10-28T13:44:29.385Z"
   },
   {
    "duration": 20,
    "start_time": "2022-10-28T13:44:29.392Z"
   },
   {
    "duration": 13,
    "start_time": "2022-10-28T13:44:29.413Z"
   },
   {
    "duration": 282,
    "start_time": "2022-10-28T13:44:29.427Z"
   },
   {
    "duration": 6,
    "start_time": "2022-10-28T13:44:29.710Z"
   },
   {
    "duration": 306,
    "start_time": "2022-10-28T13:44:29.717Z"
   },
   {
    "duration": 159,
    "start_time": "2022-10-28T13:44:30.025Z"
   },
   {
    "duration": 5,
    "start_time": "2022-10-28T13:44:30.186Z"
   },
   {
    "duration": 169,
    "start_time": "2022-10-28T13:44:30.193Z"
   },
   {
    "duration": 160,
    "start_time": "2022-10-28T13:44:30.364Z"
   },
   {
    "duration": 6,
    "start_time": "2022-10-28T13:44:30.526Z"
   },
   {
    "duration": 15,
    "start_time": "2022-10-28T13:44:30.534Z"
   },
   {
    "duration": 24,
    "start_time": "2022-10-28T13:44:30.555Z"
   },
   {
    "duration": 25,
    "start_time": "2022-10-28T13:44:30.581Z"
   },
   {
    "duration": 23,
    "start_time": "2022-10-28T13:44:30.608Z"
   },
   {
    "duration": 25,
    "start_time": "2022-10-28T13:44:30.632Z"
   },
   {
    "duration": 188,
    "start_time": "2022-10-28T13:44:30.660Z"
   },
   {
    "duration": 5,
    "start_time": "2022-10-28T13:44:30.851Z"
   },
   {
    "duration": 233,
    "start_time": "2022-10-28T13:44:30.858Z"
   },
   {
    "duration": 13,
    "start_time": "2022-10-28T13:44:31.093Z"
   },
   {
    "duration": 198,
    "start_time": "2022-10-28T13:44:31.108Z"
   },
   {
    "duration": 7,
    "start_time": "2022-10-28T13:44:31.307Z"
   },
   {
    "duration": 206,
    "start_time": "2022-10-28T13:44:31.315Z"
   },
   {
    "duration": 6,
    "start_time": "2022-10-28T13:44:31.522Z"
   },
   {
    "duration": 203,
    "start_time": "2022-10-28T13:44:31.529Z"
   },
   {
    "duration": 6,
    "start_time": "2022-10-28T13:44:31.733Z"
   },
   {
    "duration": 218,
    "start_time": "2022-10-28T13:44:31.740Z"
   },
   {
    "duration": 6,
    "start_time": "2022-10-28T13:44:31.960Z"
   },
   {
    "duration": 213,
    "start_time": "2022-10-28T13:44:31.968Z"
   },
   {
    "duration": 6,
    "start_time": "2022-10-28T13:44:32.182Z"
   },
   {
    "duration": 204,
    "start_time": "2022-10-28T13:44:32.189Z"
   },
   {
    "duration": 12,
    "start_time": "2022-10-28T13:44:32.394Z"
   },
   {
    "duration": 202,
    "start_time": "2022-10-28T13:44:32.407Z"
   },
   {
    "duration": 6,
    "start_time": "2022-10-28T13:44:32.610Z"
   },
   {
    "duration": 219,
    "start_time": "2022-10-28T13:44:32.617Z"
   },
   {
    "duration": 4,
    "start_time": "2022-10-28T13:44:32.838Z"
   },
   {
    "duration": 11,
    "start_time": "2022-10-28T13:44:32.844Z"
   },
   {
    "duration": 200,
    "start_time": "2022-10-28T13:44:32.857Z"
   },
   {
    "duration": 6,
    "start_time": "2022-10-28T13:44:33.058Z"
   },
   {
    "duration": 190,
    "start_time": "2022-10-28T13:44:33.065Z"
   },
   {
    "duration": 6,
    "start_time": "2022-10-28T13:44:33.256Z"
   },
   {
    "duration": 277,
    "start_time": "2022-10-28T13:44:33.263Z"
   },
   {
    "duration": 6,
    "start_time": "2022-10-28T13:44:33.541Z"
   },
   {
    "duration": 206,
    "start_time": "2022-10-28T13:44:33.549Z"
   },
   {
    "duration": 6,
    "start_time": "2022-10-28T13:44:33.757Z"
   },
   {
    "duration": 13,
    "start_time": "2022-10-28T13:44:33.764Z"
   },
   {
    "duration": 1487,
    "start_time": "2023-04-12T10:08:27.820Z"
   },
   {
    "duration": 217,
    "start_time": "2023-04-12T10:08:29.309Z"
   },
   {
    "duration": 19,
    "start_time": "2023-04-12T10:08:29.529Z"
   },
   {
    "duration": 15,
    "start_time": "2023-04-12T10:08:29.550Z"
   },
   {
    "duration": 52,
    "start_time": "2023-04-12T10:08:29.567Z"
   },
   {
    "duration": 15,
    "start_time": "2023-04-12T10:08:29.621Z"
   },
   {
    "duration": 16,
    "start_time": "2023-04-12T10:08:29.638Z"
   },
   {
    "duration": 20,
    "start_time": "2023-04-12T10:08:29.656Z"
   },
   {
    "duration": 40,
    "start_time": "2023-04-12T10:08:29.678Z"
   },
   {
    "duration": 14,
    "start_time": "2023-04-12T10:08:29.721Z"
   },
   {
    "duration": 18,
    "start_time": "2023-04-12T10:08:29.737Z"
   },
   {
    "duration": 31,
    "start_time": "2023-04-12T10:08:29.756Z"
   },
   {
    "duration": 79,
    "start_time": "2023-04-12T10:08:29.789Z"
   },
   {
    "duration": 43,
    "start_time": "2023-04-12T10:08:29.870Z"
   },
   {
    "duration": 31,
    "start_time": "2023-04-12T10:08:29.917Z"
   },
   {
    "duration": 12,
    "start_time": "2023-04-12T10:08:29.950Z"
   },
   {
    "duration": 15,
    "start_time": "2023-04-12T10:08:29.964Z"
   },
   {
    "duration": 15,
    "start_time": "2023-04-12T10:08:29.980Z"
   },
   {
    "duration": 49,
    "start_time": "2023-04-12T10:08:30.000Z"
   },
   {
    "duration": 68,
    "start_time": "2023-04-12T10:08:30.051Z"
   },
   {
    "duration": 43,
    "start_time": "2023-04-12T10:08:30.120Z"
   },
   {
    "duration": 69,
    "start_time": "2023-04-12T10:08:30.165Z"
   },
   {
    "duration": 39,
    "start_time": "2023-04-12T10:08:30.236Z"
   },
   {
    "duration": 251,
    "start_time": "2023-04-12T10:08:30.277Z"
   },
   {
    "duration": 8,
    "start_time": "2023-04-12T10:08:30.530Z"
   },
   {
    "duration": 99,
    "start_time": "2023-04-12T10:08:30.540Z"
   },
   {
    "duration": 41,
    "start_time": "2023-04-12T10:08:30.640Z"
   },
   {
    "duration": 378,
    "start_time": "2023-04-12T10:08:30.686Z"
   },
   {
    "duration": 6,
    "start_time": "2023-04-12T10:08:31.067Z"
   },
   {
    "duration": 70,
    "start_time": "2023-04-12T10:08:31.074Z"
   },
   {
    "duration": 88,
    "start_time": "2023-04-12T10:08:31.146Z"
   },
   {
    "duration": 391,
    "start_time": "2023-04-12T10:08:31.236Z"
   },
   {
    "duration": 6,
    "start_time": "2023-04-12T10:08:31.629Z"
   },
   {
    "duration": 407,
    "start_time": "2023-04-12T10:08:31.637Z"
   },
   {
    "duration": 196,
    "start_time": "2023-04-12T10:08:32.046Z"
   },
   {
    "duration": 5,
    "start_time": "2023-04-12T10:08:32.244Z"
   },
   {
    "duration": 196,
    "start_time": "2023-04-12T10:08:32.251Z"
   },
   {
    "duration": 195,
    "start_time": "2023-04-12T10:08:32.449Z"
   },
   {
    "duration": 5,
    "start_time": "2023-04-12T10:08:32.645Z"
   },
   {
    "duration": 18,
    "start_time": "2023-04-12T10:08:32.652Z"
   },
   {
    "duration": 49,
    "start_time": "2023-04-12T10:08:32.672Z"
   },
   {
    "duration": 21,
    "start_time": "2023-04-12T10:08:32.722Z"
   },
   {
    "duration": 26,
    "start_time": "2023-04-12T10:08:32.745Z"
   },
   {
    "duration": 53,
    "start_time": "2023-04-12T10:08:32.773Z"
   },
   {
    "duration": 211,
    "start_time": "2023-04-12T10:08:32.828Z"
   },
   {
    "duration": 4,
    "start_time": "2023-04-12T10:08:33.041Z"
   },
   {
    "duration": 282,
    "start_time": "2023-04-12T10:08:33.047Z"
   },
   {
    "duration": 6,
    "start_time": "2023-04-12T10:08:33.331Z"
   },
   {
    "duration": 276,
    "start_time": "2023-04-12T10:08:33.338Z"
   },
   {
    "duration": 7,
    "start_time": "2023-04-12T10:08:33.621Z"
   },
   {
    "duration": 245,
    "start_time": "2023-04-12T10:08:33.629Z"
   },
   {
    "duration": 21,
    "start_time": "2023-04-12T10:08:33.876Z"
   },
   {
    "duration": 269,
    "start_time": "2023-04-12T10:08:33.905Z"
   },
   {
    "duration": 16,
    "start_time": "2023-04-12T10:08:34.176Z"
   },
   {
    "duration": 271,
    "start_time": "2023-04-12T10:08:34.194Z"
   },
   {
    "duration": 6,
    "start_time": "2023-04-12T10:08:34.467Z"
   },
   {
    "duration": 267,
    "start_time": "2023-04-12T10:08:34.485Z"
   },
   {
    "duration": 7,
    "start_time": "2023-04-12T10:08:34.754Z"
   },
   {
    "duration": 255,
    "start_time": "2023-04-12T10:08:34.762Z"
   },
   {
    "duration": 8,
    "start_time": "2023-04-12T10:08:35.019Z"
   },
   {
    "duration": 284,
    "start_time": "2023-04-12T10:08:35.029Z"
   },
   {
    "duration": 7,
    "start_time": "2023-04-12T10:08:35.316Z"
   },
   {
    "duration": 285,
    "start_time": "2023-04-12T10:08:35.325Z"
   },
   {
    "duration": 8,
    "start_time": "2023-04-12T10:08:35.618Z"
   },
   {
    "duration": 132,
    "start_time": "2023-04-12T10:08:35.628Z"
   },
   {
    "duration": 360,
    "start_time": "2023-04-12T10:08:35.762Z"
   },
   {
    "duration": 8,
    "start_time": "2023-04-12T10:08:36.124Z"
   },
   {
    "duration": 244,
    "start_time": "2023-04-12T10:08:36.134Z"
   },
   {
    "duration": 24,
    "start_time": "2023-04-12T10:08:36.380Z"
   },
   {
    "duration": 468,
    "start_time": "2023-04-12T10:08:36.411Z"
   },
   {
    "duration": 7,
    "start_time": "2023-04-12T10:08:36.883Z"
   },
   {
    "duration": 339,
    "start_time": "2023-04-12T10:08:36.892Z"
   },
   {
    "duration": 6,
    "start_time": "2023-04-12T10:08:37.232Z"
   },
   {
    "duration": 27,
    "start_time": "2023-04-12T10:08:37.240Z"
   }
  ],
  "kernelspec": {
   "display_name": "Python 3 (ipykernel)",
   "language": "python",
   "name": "python3"
  },
  "language_info": {
   "codemirror_mode": {
    "name": "ipython",
    "version": 3
   },
   "file_extension": ".py",
   "mimetype": "text/x-python",
   "name": "python",
   "nbconvert_exporter": "python",
   "pygments_lexer": "ipython3",
   "version": "3.9.5"
  },
  "toc": {
   "base_numbering": 1,
   "nav_menu": {},
   "number_sections": true,
   "sideBar": true,
   "skip_h1_title": true,
   "title_cell": "Table of Contents",
   "title_sidebar": "Contents",
   "toc_cell": false,
   "toc_position": {},
   "toc_section_display": true,
   "toc_window_display": false
  }
 },
 "nbformat": 4,
 "nbformat_minor": 2
}
